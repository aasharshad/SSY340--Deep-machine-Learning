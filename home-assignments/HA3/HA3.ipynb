{
 "cells": [
  {
   "cell_type": "markdown",
   "metadata": {
    "deletable": false,
    "editable": false,
    "nbgrader": {
     "cell_type": "markdown",
     "checksum": "5fa9f96d4ca0144b2db877078cf7b2f8",
     "grade": false,
     "grade_id": "cell-5690119ead85e67e",
     "locked": true,
     "schema_version": 3,
     "solution": false,
     "task": false
    }
   },
   "source": [
    "### Checklist for submission\n",
    "\n",
    "It is extremely important to make sure that:\n",
    "\n",
    "1. Everything runs as expected (no bugs when running cells);\n",
    "2. The output from each cell corresponds to its code (don't change any cell's contents without rerunning it afterwards);\n",
    "3. All outputs are present (don't delete any of the outputs);\n",
    "4. Fill in all the places that say `# YOUR CODE HERE`, or \"**Your answer:** (fill in here)\".\n",
    "5. Never copy/paste any notebook cells. Inserting new cells is allowed, but it should not be necessary.\n",
    "6. The notebook contains some hidden metadata which is important during our grading process. **Make sure not to corrupt any of this metadata!** The metadata may for example be corrupted if you copy/paste any notebook cells, or if you perform an unsuccessful git merge / git pull. It may also be pruned completely if using Google Colab, so watch out for this. Searching for \"nbgrader\" when opening the notebook in a text editor should take you to the important metadata entries.\n",
    "7. Although we will try our very best to avoid this, it may happen that bugs are found after an assignment is released, and that we will push an updated version of the assignment to GitHub. If this happens, it is important that you update to the new version, while making sure the notebook metadata is properly updated as well. The safest way to make sure nothing gets messed up is to start from scratch on a clean updated version of the notebook, copy/pasting your code from the cells of the previous version into the cells of the new version.\n",
    "8. If you need to have multiple parallel versions of this notebook, make sure not to move them to another directory.\n",
    "9. Although not forced to work exclusively in the course `conda` environment, you need to make sure that the notebook will run in that environment, i.e. that you have not added any additional dependencies.\n",
    "\n",
    "**FOR HA1, HA2, HA3 ONLY:** Failing to meet any of these requirements might lead to either a subtraction of POEs (at best) or a request for resubmission (at worst).\n",
    "\n",
    "We advise you to perform the following steps before submission to ensure that requirements 1, 2, and 3 are always met: **Restart the kernel** (in the menubar, select Kernel$\\rightarrow$Restart) and then **run all cells** (in the menubar, select Cell$\\rightarrow$Run All). This might require a bit of time, so plan ahead for this (and possibly use Google Cloud's GPU in HA1 and HA2 for this step). Finally press the \"Save and Checkout\" button before handing in, to make sure that all your changes are saved to this .ipynb file."
   ]
  },
  {
   "cell_type": "markdown",
   "metadata": {
    "deletable": false,
    "editable": false,
    "nbgrader": {
     "cell_type": "markdown",
     "checksum": "a6bb874a16c1ff767ac0f37ce0491265",
     "grade": false,
     "grade_id": "cell-774c93bf6433de68",
     "locked": true,
     "schema_version": 3,
     "solution": false,
     "task": false
    }
   },
   "source": [
    "### Fill in name of notebook file\n",
    "This might seem silly, but the version check below needs to know the filename of the current notebook, which is not trivial to find out programmatically.\n",
    "\n",
    "You might want to have several parallel versions of the notebook, and it is fine to rename the notebook as long as it stays in the same directory. **However**, if you do rename it, you also need to update its own filename below:"
   ]
  },
  {
   "cell_type": "code",
   "execution_count": 1,
   "metadata": {},
   "outputs": [],
   "source": [
    " nb_fname = \"HA3.ipynb\""
   ]
  },
  {
   "cell_type": "markdown",
   "metadata": {
    "deletable": false,
    "editable": false,
    "nbgrader": {
     "cell_type": "markdown",
     "checksum": "879883c2ea755808ffd00aeee5c77a00",
     "grade": false,
     "grade_id": "cell-5676bcf768a7f9be",
     "locked": true,
     "schema_version": 3,
     "solution": false,
     "task": false
    }
   },
   "source": [
    "### Fill in group number and member names (use NAME2 and GROUP only for HA1, HA2 and HA3):"
   ]
  },
  {
   "cell_type": "code",
   "execution_count": 2,
   "metadata": {},
   "outputs": [],
   "source": [
    "NAME1 = \"Arshad Nowsath\" \n",
    "NAME2 = \"Fangze Xu\"\n",
    "GROUP = \"60\""
   ]
  },
  {
   "cell_type": "markdown",
   "metadata": {
    "deletable": false,
    "editable": false,
    "nbgrader": {
     "cell_type": "markdown",
     "checksum": "42f960a95815e1aa3ce8132fcec59cd9",
     "grade": false,
     "grade_id": "cell-a15fe781533d9590",
     "locked": true,
     "schema_version": 3,
     "solution": false,
     "task": false
    }
   },
   "source": [
    "### Check Python version"
   ]
  },
  {
   "cell_type": "code",
   "execution_count": 3,
   "metadata": {
    "deletable": false,
    "editable": false,
    "nbgrader": {
     "cell_type": "code",
     "checksum": "4a5517d7993b4b35049f0013dd6a3f55",
     "grade": false,
     "grade_id": "cell-2b9c2390ee464c39",
     "locked": true,
     "schema_version": 3,
     "solution": false,
     "task": false
    }
   },
   "outputs": [],
   "source": [
    "from platform import python_version_tuple\n",
    "assert python_version_tuple()[:2] == ('3','7'), \"You are not running Python 3.7. Make sure to run Python through the course Conda environment.\""
   ]
  },
  {
   "cell_type": "markdown",
   "metadata": {
    "deletable": false,
    "editable": false,
    "nbgrader": {
     "cell_type": "markdown",
     "checksum": "15ec4309f1e85f6e17bda73b9b6f48a2",
     "grade": false,
     "grade_id": "cell-4869b45600ce82f8",
     "locked": true,
     "schema_version": 3,
     "solution": false,
     "task": false
    }
   },
   "source": [
    "### Check that notebook server has access to all required resources, and that notebook has not moved"
   ]
  },
  {
   "cell_type": "code",
   "execution_count": 4,
   "metadata": {
    "deletable": false,
    "editable": false,
    "nbgrader": {
     "cell_type": "code",
     "checksum": "a2d199303c73ec86d25177caf39e385f",
     "grade": false,
     "grade_id": "cell-122ac3d9100b8afb",
     "locked": true,
     "schema_version": 3,
     "solution": false,
     "task": false
    }
   },
   "outputs": [],
   "source": [
    "import os\n",
    "nb_dirname = os.path.abspath('')\n",
    "assignment_name = os.path.basename(nb_dirname)\n",
    "assert assignment_name in ['IHA1', 'IHA2', 'HA1', 'HA2', 'HA3'], \\\n",
    "    '[ERROR] The notebook appears to have been moved from its original directory'"
   ]
  },
  {
   "cell_type": "markdown",
   "metadata": {
    "deletable": false,
    "editable": false,
    "nbgrader": {
     "cell_type": "markdown",
     "checksum": "f09f40b5350db83232189137c550f0a1",
     "grade": false,
     "grade_id": "cell-2455deee513cd39c",
     "locked": true,
     "schema_version": 3,
     "solution": false,
     "task": false
    }
   },
   "source": [
    "### Verify correct nb_fname"
   ]
  },
  {
   "cell_type": "code",
   "execution_count": 5,
   "metadata": {
    "deletable": false,
    "editable": false,
    "nbgrader": {
     "cell_type": "code",
     "checksum": "a78c7227b049bb147e6c363affb6dae8",
     "grade": false,
     "grade_id": "cell-0472e2fd710f1d72",
     "locked": true,
     "schema_version": 3,
     "solution": false,
     "task": false
    }
   },
   "outputs": [
    {
     "data": {
      "text/html": [
       "<script>if(\"HA3.ipynb\" != IPython.notebook.notebook_name) { alert(\"You have filled in nb_fname = \\\"HA3.ipynb\\\", but this does not seem to match the notebook filename \\\"\" + IPython.notebook.notebook_name + \"\\\".\"); }</script>"
      ],
      "text/plain": [
       "<IPython.core.display.HTML object>"
      ]
     },
     "metadata": {},
     "output_type": "display_data"
    }
   ],
   "source": [
    "from IPython.display import display, HTML\n",
    "try:\n",
    "    display(HTML(r'<script>if(\"{nb_fname}\" != IPython.notebook.notebook_name) {{ alert(\"You have filled in nb_fname = \\\"{nb_fname}\\\", but this does not seem to match the notebook filename \\\"\" + IPython.notebook.notebook_name + \"\\\".\"); }}</script>'.format(nb_fname=nb_fname)))\n",
    "except NameError:\n",
    "    assert False, 'Make sure to fill in the nb_fname variable above!'"
   ]
  },
  {
   "cell_type": "markdown",
   "metadata": {
    "deletable": false,
    "editable": false,
    "nbgrader": {
     "cell_type": "markdown",
     "checksum": "98d88d8e8da19693053764f29dcc591d",
     "grade": false,
     "grade_id": "cell-ceacb1adcae4783d",
     "locked": true,
     "schema_version": 3,
     "solution": false,
     "task": false
    }
   },
   "source": [
    "### Verify that your notebook is up-to-date and not corrupted in any way"
   ]
  },
  {
   "cell_type": "code",
   "execution_count": 6,
   "metadata": {
    "deletable": false,
    "editable": false,
    "nbgrader": {
     "cell_type": "code",
     "checksum": "bb700528d4644601c1a8c91ef1d84635",
     "grade": false,
     "grade_id": "cell-f5a59288e11b4aec",
     "locked": true,
     "schema_version": 3,
     "solution": false,
     "task": false
    }
   },
   "outputs": [
    {
     "name": "stdout",
     "output_type": "stream",
     "text": [
      "Matching current notebook against the following URL:\n",
      "http://raw.githubusercontent.com/JulianoLagana/deep-machine-learning/master/home-assignments/HA3/HA3.ipynb\n",
      "[SUCCESS] No major notebook mismatch found when comparing to latest GitHub version. (There might be minor updates, but even that is the case, submitting your work based on this notebook version would be acceptable.)\n"
     ]
    }
   ],
   "source": [
    "import sys\n",
    "sys.path.append('..')\n",
    "from ha_utils import check_notebook_uptodate_and_not_corrupted\n",
    "check_notebook_uptodate_and_not_corrupted(nb_dirname, nb_fname)"
   ]
  },
  {
   "cell_type": "markdown",
   "metadata": {
    "deletable": false,
    "editable": false,
    "nbgrader": {
     "cell_type": "markdown",
     "checksum": "b52f414ceeae87bacca0b836a2bea2f2",
     "grade": false,
     "grade_id": "cell-2f332c3ca731afc6",
     "locked": true,
     "schema_version": 3,
     "solution": false
    }
   },
   "source": [
    "# Home Assignment 3\n",
    "This home assignment will focus on reinforcement learning and deep reinforcement learning. The first part will cover value-table reinforcement learning techniques, and the second part will include neural networks as function approximators, i.e., deep reinforcement learning. \n",
    "\n",
    "When handing in this assignment, make sure that you're handing in the correct version, and more importantly, *that you do no clear any output from your cells*. We'll use these outputs to aid us when grading your assignment."
   ]
  },
  {
   "cell_type": "markdown",
   "metadata": {
    "deletable": false,
    "editable": false,
    "nbgrader": {
     "cell_type": "markdown",
     "checksum": "b0a6e11384d620f14e7f545a9130133c",
     "grade": false,
     "grade_id": "cell-8122dcb8d8ca1c9e",
     "locked": true,
     "schema_version": 3,
     "solution": false
    }
   },
   "source": [
    "## Task 1: Gridworld\n",
    "\n",
    "In this task, you will implement Value Iteration to solve for the optimal policy, $\\pi^*$, and the corresponding state value function, $V^*$.\n",
    "\n",
    "The MDP you will work with in this assignment is illustrated in the figure below.\n",
    "\n",
    "![title](./grid_world.png) "
   ]
  },
  {
   "cell_type": "markdown",
   "metadata": {
    "deletable": false,
    "editable": false,
    "nbgrader": {
     "cell_type": "markdown",
     "checksum": "7ddafb4a3ebc91d6f23acbcdbad9f176",
     "grade": false,
     "grade_id": "cell-b4e5d5337fbaa0e5",
     "locked": true,
     "schema_version": 3,
     "solution": false
    }
   },
   "source": [
    "The agent starts in one of the non-black squares shown in the above figure, and then proceeds to take actions. The available actions at any time step are: **North, West, South,** and **East**. If an action would make the agent bump into a wall, or one of the black (unreachable) states, it instead does nothing, leaving the agent at the same place it was before.\n",
    "\n",
    "The reward $\\mathcal{R}_s^a$ of being in state $s$ and performing actions $a$ is zero for all states, regardless of the action taken, with the exception of the green and the red squares. For the green square, the reward is always 1, and for the red square, always -1, regardless of the action.\n",
    "\n",
    "When the agent is either in the green or the red square, it will be transported to the terminal state in the next time step, regardless of the action taken. The terminal state is shown as the white square with the \"T\" inside.\n",
    "\n",
    "#### State representation\n",
    "The notations used to define the states are illustrated in the table below\n",
    "\n",
    "| $S_0$ | $S_1$ | $S_2$ | $S_3$ | $S_4$ |    |\n",
    "|-------|-------|-------|-------|-------|----|\n",
    "| $S_5$ | $S_6$ | $S_7$ | $S_8$ | $S_9$ |    |\n",
    "| $S_{10}$ | $S_{11}$ | $S_{12}$ | $S_{13}$ | $S_{14}$ | $S_{15}$|\n",
    "\n",
    "where $S_{10}$ corresponds to the initial state of the environment, $S_4$ and $S_9$ to the green and red states of the environment, and $S_{15}$ to the terminal state."
   ]
  },
  {
   "cell_type": "markdown",
   "metadata": {
    "deletable": false,
    "editable": false,
    "nbgrader": {
     "cell_type": "markdown",
     "checksum": "713a1bc6ae8d6053a7f7d48681edad45",
     "grade": false,
     "grade_id": "cell-c54a0f7162b1f260",
     "locked": true,
     "schema_version": 3,
     "solution": false
    }
   },
   "source": [
    "\n",
    "### Task 1.1: Solve for $V^*(s)$ and $Q^*(s,a)$\n",
    "For this task all transition probabilities are assumed to be 1 (that is, trying to move in a certain direction will definitely move the agent in the chosen direction), and a discount factor of 0.9, i.e., $\\gamma=0.9$."
   ]
  },
  {
   "cell_type": "markdown",
   "metadata": {
    "deletable": false,
    "editable": false,
    "nbgrader": {
     "cell_type": "markdown",
     "checksum": "9894346da453882ad420d049511a5b8b",
     "grade": false,
     "grade_id": "cell-c7fa1d00113f314e",
     "locked": true,
     "schema_version": 3,
     "solution": false
    }
   },
   "source": [
    "* Solve for $V^*(S_{10})$ "
   ]
  },
  {
   "cell_type": "markdown",
   "metadata": {
    "deletable": false,
    "nbgrader": {
     "cell_type": "markdown",
     "checksum": "e998cc86ed986eeac11f54b0f6869a67",
     "grade": true,
     "grade_id": "cell-966bc6b1276b31f1",
     "locked": false,
     "points": 0,
     "schema_version": 3,
     "solution": true
    }
   },
   "source": [
    "**Your answer:** $V^*(S_{10})$ = E[$r_{10}$+ $\\gamma r_{5} $ + $\\gamma^2 r_{0} $ + $\\gamma^3 r_{1}$ + $\\gamma^4 r_{2} $ + $\\gamma^5 r_{3} $ + $\\gamma^6 r_{4} $] = $0.9^{6}$ ≈ 0.531441"
   ]
  },
  {
   "cell_type": "markdown",
   "metadata": {
    "deletable": false,
    "editable": false,
    "nbgrader": {
     "cell_type": "markdown",
     "checksum": "c2d30fc8031fa1ff3f06019a9cf1ba27",
     "grade": false,
     "grade_id": "cell-4cc15316add9bd67",
     "locked": true,
     "schema_version": 3,
     "solution": false
    }
   },
   "source": [
    "* Solve $Q^*(S_{10},a)$ for all actions"
   ]
  },
  {
   "cell_type": "markdown",
   "metadata": {
    "deletable": false,
    "nbgrader": {
     "cell_type": "markdown",
     "checksum": "ad5e1409a936a5c1ec6684a1edae79ee",
     "grade": true,
     "grade_id": "cell-0e5efad7ed72fdcb",
     "locked": false,
     "points": 0,
     "schema_version": 3,
     "solution": true
    }
   },
   "source": [
    "**Your answer:** $Q^*(S_{10},a)$ the actions can be in any direction. \n",
    "\n",
    "$Q^*(S_{10},north)= E[r_{10}, north] + \\gamma V*(S_5)=0+0.9 * 0.9^{5}= 0.9{6} ≈ 0.531441 $ \n",
    "\n",
    "$Q^*(S_{10},east)=E[r_{10}, east] + \\gamma V*(S_{11})=0+0.9 * 0.9^{5}= 0.9{6} ≈ 0.531441 $ \n",
    "\n",
    "$Q^*(S_{10},west)=E[r_{10}, west] + \\gamma V*(S_{10})=0+0.9 * 0.9^{6}= 0.9{7} ≈ 0.4782969 $ \n",
    "\n",
    "$Q^*(S_{10},south)=E[r_{10}, south] + \\gamma V*(S_{10})=0+0.9 * 0.9^{6}= 0.9{7} ≈ 0.4782969 $ \n",
    "\n",
    "Anyway the rewards around $S_{10} $ is always zerp so we can neglect them."
   ]
  },
  {
   "cell_type": "markdown",
   "metadata": {
    "deletable": false,
    "editable": false,
    "nbgrader": {
     "cell_type": "markdown",
     "checksum": "b5bf77a9b3969614145135ad2f307a13",
     "grade": false,
     "grade_id": "cell-e426e3815f78930a",
     "locked": true,
     "schema_version": 3,
     "solution": false
    }
   },
   "source": [
    "\n",
    "\n",
    "### Task 1.2 Write a mathematical expression relating $V^\\pi(s)$ to $Q^\\pi(s,a)$ and $\\pi(a|s)$\n"
   ]
  },
  {
   "cell_type": "markdown",
   "metadata": {
    "deletable": false,
    "nbgrader": {
     "cell_type": "markdown",
     "checksum": "61bf64e2c38d41b0f0d024faba554e8f",
     "grade": true,
     "grade_id": "cell-343c3ea4883085e1",
     "locked": false,
     "points": 0,
     "schema_version": 3,
     "solution": true
    }
   },
   "source": [
    "**Your answer:** \n",
    "The expression relating state-value function to active value function is given by bellman expectation equation:\n",
    "$V^\\pi (s) = \\sum_{a}{\\pi(a|s) \\, Q^\\pi(s,a)}$\n"
   ]
  },
  {
   "cell_type": "markdown",
   "metadata": {
    "deletable": false,
    "editable": false,
    "nbgrader": {
     "cell_type": "markdown",
     "checksum": "12a81cd5b1ca7f2b7908d96cea0e6214",
     "grade": false,
     "grade_id": "cell-ab80df325256cf89",
     "locked": true,
     "schema_version": 3,
     "solution": false
    }
   },
   "source": [
    "\n",
    "###  Task 1.3: Value Iteration\n",
    "For this task, the transitions are no longer deterministic. Instead, there is a 0.2 probability that the agent will try to travel in an orthogonal direction of the chosen action (0.1 probability for each of the two orthogonal directions). Note that the Markov decision process is still known and does not have to be learned from experience.\n",
    "\n",
    "Your task is to implement value iteration and solve for the:\n",
    "* optimal greedy policy $\\pi^*(s)$ \n",
    "* $V^*(s)$"
   ]
  },
  {
   "cell_type": "markdown",
   "metadata": {
    "deletable": false,
    "editable": false,
    "nbgrader": {
     "cell_type": "markdown",
     "checksum": "8a57b4664ce69a0c862f1fd6f4e2e614",
     "grade": false,
     "grade_id": "cell-74497ad9b13e8362",
     "locked": true,
     "schema_version": 3,
     "solution": false
    }
   },
   "source": [
    "#### The value iteration algorithm\n",
    "Value iteration is an iterative algorithm used to compute the optimal value function $V^*(s)$. Each iteration starts with a guess of what the value function is and then uses the Bellman equations to improve this guess iteratively. We can describe one iteration of the algorithm as\n",
    "\n",
    "$\n",
    "\\textbf{For} ~ s \\in {\\cal S}:\\qquad  \\\\\n",
    "\\quad V_{k+1}(s) = \\underset{a \\in {\\cal A}}{\\text{max}}~ \\left( \\mathcal{R}_s^a + \\gamma \\underset{{s'\\in \\mathcal{S}}}{\\sum} \\mathcal{P}_{ss'}^a \\cdot V_k(s') \\right)\n",
    "$\n",
    "\n",
    "where $\\mathcal{P}_{ss'}^a={\\mathrm Pr}[S'=s'\\big|S=s,A=a]$ is the probability to transition from state $s$ to $s'$ given action $a$.\n",
    "\n",
    "\n",
    "#### The MDP Python class\n",
    "The Markov Decision Process you will work with is defined in `gridworld_mdp.py`. In the implementation, the actions are represented by integers as, North = 0, West = 1, South = 2, and East = 3.\n",
    "To interact with the MDP, you need to instantiate an object as: \n",
    "\n",
    "\n",
    "```python\n",
    "mdp = GridWorldMDP()\n",
    "```\n",
    "\n",
    "At your disposal there are a number of instance-functions implemented for you, and presented below:"
   ]
  },
  {
   "cell_type": "code",
   "execution_count": 7,
   "metadata": {
    "deletable": false,
    "editable": false,
    "nbgrader": {
     "cell_type": "code",
     "checksum": "636b8c5ea0bb7d3b4798564dfc7d580d",
     "grade": false,
     "grade_id": "cell-21e5d7b3d3083cd6",
     "locked": true,
     "schema_version": 3,
     "solution": false
    }
   },
   "outputs": [
    {
     "name": "stdout",
     "output_type": "stream",
     "text": [
      "Help on function get_states in module gridworld_mdp:\n",
      "\n",
      "get_states(self)\n",
      "    Returns complete set of states for the MDP\n",
      "    :return: numpy array of shape [num states,]\n",
      "\n"
     ]
    }
   ],
   "source": [
    "from gridworld_mdp import *\n",
    "import numpy as np\n",
    "\n",
    "help(GridWorldMDP.get_states)"
   ]
  },
  {
   "cell_type": "code",
   "execution_count": 8,
   "metadata": {
    "deletable": false,
    "editable": false,
    "nbgrader": {
     "cell_type": "code",
     "checksum": "620f4674b0caadf475b4889bd8747b62",
     "grade": false,
     "grade_id": "cell-9706322eb34e16db",
     "locked": true,
     "schema_version": 3,
     "solution": false
    }
   },
   "outputs": [
    {
     "name": "stdout",
     "output_type": "stream",
     "text": [
      "Help on function __init__ in module gridworld_mdp:\n",
      "\n",
      "__init__(self, trans_prob=0.8)\n",
      "    Initializes an instance of the GridWorldMDP class\n",
      "    :param trans_prob: transition probabilities (e.g. =1 for deterministic MDP)\n",
      "\n"
     ]
    }
   ],
   "source": [
    "# The constructor\n",
    "help(GridWorldMDP.__init__)"
   ]
  },
  {
   "cell_type": "code",
   "execution_count": 9,
   "metadata": {
    "deletable": false,
    "editable": false,
    "nbgrader": {
     "cell_type": "code",
     "checksum": "f9b14ba756ee79811ccba63e1e51f14a",
     "grade": false,
     "grade_id": "cell-38d3ab6fb24c1af8",
     "locked": true,
     "schema_version": 3,
     "solution": false
    }
   },
   "outputs": [
    {
     "name": "stdout",
     "output_type": "stream",
     "text": [
      "Help on function get_actions in module gridworld_mdp:\n",
      "\n",
      "get_actions(self)\n",
      "    Returns complete set of actions for the MDP\n",
      "    :return: numpy array of shape [num actions,]\n",
      "\n"
     ]
    }
   ],
   "source": [
    "help(GridWorldMDP.get_actions)"
   ]
  },
  {
   "cell_type": "code",
   "execution_count": 10,
   "metadata": {
    "deletable": false,
    "editable": false,
    "nbgrader": {
     "cell_type": "code",
     "checksum": "e0b98cbe90baa640578ed1991b4e3501",
     "grade": false,
     "grade_id": "cell-ecb00397472a5faa",
     "locked": true,
     "schema_version": 3,
     "solution": false
    }
   },
   "outputs": [
    {
     "name": "stdout",
     "output_type": "stream",
     "text": [
      "Help on function state_transition_func in module gridworld_mdp:\n",
      "\n",
      "state_transition_func(self, s, a)\n",
      "    Returns the transition probabilities to all states given current state and action\n",
      "    :param state: current state as integer\n",
      "    :param action: selected action as integer\n",
      "    :return: state-transition probabilities, i.e.\n",
      "     [P[S_0| S=s, A_t=a], P[S_1| S=s, A=a], ..., P[S_14| S=s, A=a]]\n",
      "\n"
     ]
    }
   ],
   "source": [
    "help(GridWorldMDP.state_transition_func)"
   ]
  },
  {
   "cell_type": "code",
   "execution_count": 11,
   "metadata": {
    "deletable": false,
    "editable": false,
    "nbgrader": {
     "cell_type": "code",
     "checksum": "40120f95b5767060a8ca55455cf5d485",
     "grade": false,
     "grade_id": "cell-aa8e1498649053a5",
     "locked": true,
     "schema_version": 3,
     "solution": false
    }
   },
   "outputs": [
    {
     "name": "stdout",
     "output_type": "stream",
     "text": [
      "Help on function reward_function in module gridworld_mdp:\n",
      "\n",
      "reward_function(self, s, a)\n",
      "    Returns the reward r(s,a)\n",
      "    :param state: current state as integer\n",
      "    :param action: selected action as integer\n",
      "    :return: r(s,a)\n",
      "\n"
     ]
    }
   ],
   "source": [
    "help(GridWorldMDP.reward_function)"
   ]
  },
  {
   "cell_type": "markdown",
   "metadata": {
    "deletable": false,
    "editable": false,
    "nbgrader": {
     "cell_type": "markdown",
     "checksum": "8defb43e783bcb9464571753a5c6e452",
     "grade": false,
     "grade_id": "cell-c1408cc9707dd7f8",
     "locked": true,
     "schema_version": 3,
     "solution": false
    }
   },
   "source": [
    "We also provide two helper functions for visualizing the value function and the policies you obtain:"
   ]
  },
  {
   "cell_type": "code",
   "execution_count": 12,
   "metadata": {
    "deletable": false,
    "editable": false,
    "nbgrader": {
     "cell_type": "code",
     "checksum": "b39ad0b689edcb447e156b888fbc0515",
     "grade": false,
     "grade_id": "cell-b754590784e24eb1",
     "locked": true,
     "schema_version": 3,
     "solution": false
    }
   },
   "outputs": [],
   "source": [
    "# Function for printing a policy pi\n",
    "def print_policy(pi):\n",
    "    print('Policy for non-terminal states: ')\n",
    "    indencies = np.arange(1, 16)\n",
    "    txt = '| '\n",
    "    hor_delimiter = '---------------------'\n",
    "    print(hor_delimiter)\n",
    "    for a, i in zip(pi, indencies):\n",
    "        txt += mdp.act_to_char_dict[a] + ' | '\n",
    "        if i % 5 == 0:\n",
    "            print(txt + '\\n' + hor_delimiter)\n",
    "            txt = '| '\n",
    "    print('                            ---')\n",
    "    print('Policy for terminal state: |', mdp.act_to_char_dict[pi[15]],'|')\n",
    "    print('                            ---')            \n",
    "\n",
    "# Function for printing a table with of the value function\n",
    "def print_value_table(values, num_iterations=None):            \n",
    "    if num_iterations:\n",
    "        print('Values for non-terminal states after: ', num_iterations, 'iterations \\n', np.reshape(values, [3, 5]), '\\n')\n",
    "        print('Value for terminal state:', terminal_value, '\\n')\n",
    "    else: \n",
    "        terminal_value = values[-1]\n",
    "        print('Values for non-terminal states: \\n', np.reshape(values[:-1], [3, 5]))\n",
    "        print('Value for terminal state:', terminal_value, '\\n')"
   ]
  },
  {
   "cell_type": "markdown",
   "metadata": {
    "deletable": false,
    "editable": false,
    "nbgrader": {
     "cell_type": "markdown",
     "checksum": "5ef181cf6fbf6f2b9c2947aba5a8fdb6",
     "grade": false,
     "grade_id": "cell-87e02763b23fe1f8",
     "locked": true,
     "schema_version": 3,
     "solution": false
    }
   },
   "source": [
    "(**1 POE**) Now it's time for you to implement your own version of value iteration to solve for the greedy policy and $V^*(s)$."
   ]
  },
  {
   "cell_type": "code",
   "execution_count": 13,
   "metadata": {
    "deletable": false,
    "nbgrader": {
     "cell_type": "code",
     "checksum": "0dc5e9fa3ab59487087475860c657e2f",
     "grade": true,
     "grade_id": "cell-d473b99fe1825067",
     "locked": false,
     "points": 1,
     "schema_version": 3,
     "solution": true
    }
   },
   "outputs": [],
   "source": [
    "def value_iteration(gamma, mdp):\n",
    "    \"\"\"\n",
    "    Returns:\n",
    "        V - state value table, numpy array of shape (16,)\n",
    "        pi - greedy policy table, numpy array of shape (16,)\n",
    "    \"\"\"\n",
    "    V = np.zeros([16]) # state value table\n",
    "    Q = np.zeros([16, 4]) # state action value table\n",
    "    pi = np.zeros([16]) # greedy policy table\n",
    "\n",
    "    # YOUR CODE HERE\n",
    "    states = mdp.get_states()\n",
    "    actions = mdp.get_actions()\n",
    "    iterations = 1000\n",
    "    \n",
    "    for i in range(iterations):\n",
    "        for s in range(len(states)):\n",
    "            for a in range(len(actions)):\n",
    "                T = mdp.state_transition_func(states[s], actions[a])\n",
    "                R = mdp.reward_function(states[s], actions[a])\n",
    "                Q[s][a]= T@(R+gamma*V)\n",
    "                V[s] = np.max(Q[s])\n",
    "                pi[s]=np.argmax(Q[s])\n",
    "\n",
    "    return V, pi\n"
   ]
  },
  {
   "cell_type": "markdown",
   "metadata": {
    "deletable": false,
    "editable": false,
    "nbgrader": {
     "cell_type": "markdown",
     "checksum": "41ca129edbe5353b31ec35933bf28cdb",
     "grade": false,
     "grade_id": "cell-99c149095318adac",
     "locked": true,
     "schema_version": 3,
     "solution": false
    }
   },
   "source": [
    "Run your implementation for the deterministic version of our MDP. As a sanity check, compare your analytical solutions with the output from your implementation."
   ]
  },
  {
   "cell_type": "code",
   "execution_count": 14,
   "metadata": {
    "deletable": false,
    "editable": false,
    "nbgrader": {
     "cell_type": "code",
     "checksum": "8a8722a6c33a96991f1091e2418def51",
     "grade": false,
     "grade_id": "cell-bd495acfe33d405f",
     "locked": true,
     "schema_version": 3,
     "solution": false
    }
   },
   "outputs": [
    {
     "name": "stdout",
     "output_type": "stream",
     "text": [
      "Values for non-terminal states: \n",
      " [[ 0.6561    0.729     0.81      0.9       1.      ]\n",
      " [ 0.59049   0.        0.        0.81     -1.      ]\n",
      " [ 0.531441  0.59049   0.6561    0.729     0.6561  ]]\n",
      "Value for terminal state: 0.0 \n",
      "\n",
      "Policy for non-terminal states: \n",
      "---------------------\n",
      "| E | E | E | E | N | \n",
      "---------------------\n",
      "| N | N | N | N | N | \n",
      "---------------------\n",
      "| N | E | E | N | W | \n",
      "---------------------\n",
      "                            ---\n",
      "Policy for terminal state: | N |\n",
      "                            ---\n"
     ]
    }
   ],
   "source": [
    "mdp = GridWorldMDP(trans_prob=1.)\n",
    "v, pi = value_iteration(.9, mdp)\n",
    "print_value_table(v)\n",
    "print_policy(pi)"
   ]
  },
  {
   "cell_type": "markdown",
   "metadata": {
    "collapsed": true,
    "deletable": false,
    "editable": false,
    "nbgrader": {
     "cell_type": "markdown",
     "checksum": "172eb8e58e4dbdcca83bb2bb8589032d",
     "grade": false,
     "grade_id": "cell-5a24214a0645d4b4",
     "locked": true,
     "schema_version": 3,
     "solution": false
    }
   },
   "source": [
    "Once your implementation passed the sanity check, run it for the stochastic case, where the probability of an action succeding is 0.8, and 0.2 of moving the agent in an orthogonal direction to the intended. Use $\\gamma = .99$."
   ]
  },
  {
   "cell_type": "code",
   "execution_count": 15,
   "metadata": {
    "deletable": false,
    "editable": false,
    "nbgrader": {
     "cell_type": "code",
     "checksum": "60e210ba654df60fcc54a7d6eda59aae",
     "grade": false,
     "grade_id": "cell-c6d0282ee295bb85",
     "locked": true,
     "schema_version": 3,
     "solution": false
    }
   },
   "outputs": [
    {
     "name": "stdout",
     "output_type": "stream",
     "text": [
      "Values for non-terminal states: \n",
      " [[ 0.93861973  0.95193393  0.9639533   0.97612443  1.        ]\n",
      " [ 0.92691625  0.          0.          0.88371826 -1.        ]\n",
      " [ 0.91395196  0.90255605  0.89130223  0.88057656  0.79978972]]\n",
      "Value for terminal state: 0.0 \n",
      "\n",
      "Policy for non-terminal states: \n",
      "---------------------\n",
      "| E | E | E | E | N | \n",
      "---------------------\n",
      "| N | N | N | W | N | \n",
      "---------------------\n",
      "| N | W | W | W | S | \n",
      "---------------------\n",
      "                            ---\n",
      "Policy for terminal state: | N |\n",
      "                            ---\n"
     ]
    }
   ],
   "source": [
    "# Run for stochastic MDP, gamma = .99\n",
    "mdp = GridWorldMDP()\n",
    "v, pi = value_iteration(.99, mdp)\n",
    "print_value_table(v)\n",
    "print_policy(pi)"
   ]
  },
  {
   "cell_type": "markdown",
   "metadata": {
    "deletable": false,
    "editable": false,
    "nbgrader": {
     "cell_type": "markdown",
     "checksum": "a4765d7cb5812236bf49085b356079d0",
     "grade": false,
     "grade_id": "cell-b80f5f5b9d1398a6",
     "locked": true,
     "schema_version": 3,
     "solution": false
    }
   },
   "source": [
    "**(2 POE)** Does the policy that the algorithm found look reasonable? \n",
    "\n",
    "In particular, what's the policy for state $S_8$? Is that a good idea? Why?"
   ]
  },
  {
   "cell_type": "markdown",
   "metadata": {
    "deletable": false,
    "nbgrader": {
     "cell_type": "markdown",
     "checksum": "12691470ab1f2881c2087ad32395b3a5",
     "grade": true,
     "grade_id": "cell-daff5655fe78f131",
     "locked": false,
     "points": 2,
     "schema_version": 3,
     "solution": true
    }
   },
   "source": [
    "**Your answer:** \n",
    "\n",
    "yeah its look reasonable since the policy for S8 is go to west. so the agent don't get the chance to reach the terminal state, the red box. If it is in S8 wants to move to North or South there is a 20% chance of probability to reach the red box but if you go through north(top row)the agent will reach the green box whereas the bottom row the policy is west. The policy for S8 never end up with -1 reward(S9) same applicable for S14 since the discount factor is 0.99 so the agent wants to end up in the state as it wants, without losing any return. Also that there is a 80% chance for the agent to stuck if it is in same state, so going through west, bottom row is a good idea to avoid stuck in a same place.\n",
    "\n"
   ]
  },
  {
   "cell_type": "markdown",
   "metadata": {
    "deletable": false,
    "editable": false,
    "nbgrader": {
     "cell_type": "markdown",
     "checksum": "5c94489bd5a5a7608e4fa04705176796",
     "grade": false,
     "grade_id": "cell-d4840da19cbbb63a",
     "locked": true,
     "schema_version": 3,
     "solution": false
    }
   },
   "source": [
    "Test your implementation using this function."
   ]
  },
  {
   "cell_type": "code",
   "execution_count": 16,
   "metadata": {
    "deletable": false,
    "editable": false,
    "nbgrader": {
     "cell_type": "code",
     "checksum": "e5071817f08d1145df1c5095dab2e7dc",
     "grade": false,
     "grade_id": "cell-f89a5e7709d41efc",
     "locked": true,
     "schema_version": 3,
     "solution": false
    }
   },
   "outputs": [
    {
     "name": "stdout",
     "output_type": "stream",
     "text": [
      "Passed: state-value test, for gamma=.99\n",
      "Passed: policy test, for gamma=.99\n"
     ]
    }
   ],
   "source": [
    "test_value_iteration(v, pi)"
   ]
  },
  {
   "cell_type": "markdown",
   "metadata": {
    "deletable": false,
    "editable": false,
    "nbgrader": {
     "cell_type": "markdown",
     "checksum": "7a2a2376284478e5ff87e8fc45681df1",
     "grade": false,
     "grade_id": "cell-32b52b966ea12de5",
     "locked": true,
     "schema_version": 3,
     "solution": false
    }
   },
   "source": [
    "Run value iteration for the same scenario as above, but now with $\\gamma=.9$"
   ]
  },
  {
   "cell_type": "code",
   "execution_count": 17,
   "metadata": {
    "deletable": false,
    "editable": false,
    "nbgrader": {
     "cell_type": "code",
     "checksum": "45da583d4680e326a85cde59f0373b3e",
     "grade": false,
     "grade_id": "cell-3f797c0f704c2394",
     "locked": true,
     "schema_version": 3,
     "solution": false
    }
   },
   "outputs": [
    {
     "name": "stdout",
     "output_type": "stream",
     "text": [
      "Values for non-terminal states: \n",
      " [[ 0.56631445  0.65360208  0.74438015  0.84776628  1.        ]\n",
      " [ 0.49725171  0.          0.          0.57185903 -1.        ]\n",
      " [ 0.43084446  0.37830245  0.41624465  0.47405641  0.2761765 ]]\n",
      "Value for terminal state: 0.0 \n",
      "\n",
      "Policy for non-terminal states: \n",
      "---------------------\n",
      "| E | E | E | E | N | \n",
      "---------------------\n",
      "| N | N | N | N | N | \n",
      "---------------------\n",
      "| N | W | E | N | W | \n",
      "---------------------\n",
      "                            ---\n",
      "Policy for terminal state: | N |\n",
      "                            ---\n"
     ]
    }
   ],
   "source": [
    "# Run for stochastic MDP, gamma = .9\n",
    "mdp = GridWorldMDP()\n",
    "v, pi = value_iteration(.9, mdp)\n",
    "print_value_table(v)\n",
    "print_policy(pi)"
   ]
  },
  {
   "cell_type": "markdown",
   "metadata": {
    "deletable": false,
    "editable": false,
    "nbgrader": {
     "cell_type": "markdown",
     "checksum": "7386b2eeb00e002a5fd8dc96f763ebd0",
     "grade": false,
     "grade_id": "cell-9192d61af754d47b",
     "locked": true,
     "schema_version": 3,
     "solution": false
    }
   },
   "source": [
    "**(2 POE)** Do you notice any difference between the greedy policy for the two different discount factors. If so, what's the difference, and why do you think this happened?"
   ]
  },
  {
   "cell_type": "markdown",
   "metadata": {
    "deletable": false,
    "nbgrader": {
     "cell_type": "markdown",
     "checksum": "9826b72c498da4e15a55628fe23d6cdb",
     "grade": true,
     "grade_id": "cell-1a675e7574dce1d5",
     "locked": false,
     "points": 2,
     "schema_version": 3,
     "solution": true
    }
   },
   "source": [
    "**Your answer:** yeah we noticed that there is some difference between two discount factors. This time the agent wants to move in a more significant way i.e., shortest way. \n",
    "\n",
    "The difference is that the agent at state S12 wants to go west through top row which is the longest path in case of discount factor 0.99. But with the discount factor of 0.9 it takes the path through east. This gives the explanation  that the smaller the discount factor the less it cares about the future rewards, ,means that the policy choose shorter distance to reach the destination. "
   ]
  },
  {
   "cell_type": "markdown",
   "metadata": {
    "deletable": false,
    "editable": false,
    "nbgrader": {
     "cell_type": "markdown",
     "checksum": "8d3dd2c8db164f28e15c2ebe5bcb04d9",
     "grade": false,
     "grade_id": "cell-01feb7e04644407c",
     "locked": true,
     "schema_version": 3,
     "solution": false
    }
   },
   "source": [
    "## Task 2: Q-learning\n",
    "\n",
    "In the previous task, you solved for $V^*(s)$ and the greedy policy $\\pi^*(s)$, with the entire model of the MDP being available to you. This is however not very practical since for most problems we are trying to solve, the model is not known, and estimating the model for some applications is a very demanding process which often also requires a lot of simplifications. \n",
    "\n",
    "In this task, you will implement the Q-learning algorithm, an alternative that learns $Q$-values from experience, without the need of a model.\n",
    "\n",
    "#### Q-learning algorithm\n",
    "$\n",
    "\\text{Initialize}~Q(s,a), ~ \\forall~ s \\in {\\cal S},~ a~\\in {\\cal A} \\\\\n",
    "\\textbf{Repeat}~\\text{(for each episode):}\\\\\n",
    "\\quad \\text{Initialize}~s\\\\\n",
    "\\qquad \\textbf{Repeat}~\\text{(for each step in episode):}\\\\\n",
    "\\qquad\\quad \\text{Chose $a$ from $s$ using poliy derived from $Q$ (e.g., $\\epsilon$-greedy)}\\\\\n",
    "\\qquad\\quad \\text{Take action a, observe r, s'}\\\\\n",
    "\\qquad\\quad Q(s,a) \\leftarrow Q(s,a) + \\alpha \\left(r + \\gamma~\\underset{a}{\\text{max}}~Q(s',a) - Q(s,a) \\right) \\\\\n",
    "\\qquad\\quad s \\leftarrow s' \\\\\n",
    "\\qquad \\text{Until s is terminal}\n",
    "$"
   ]
  },
  {
   "cell_type": "markdown",
   "metadata": {
    "deletable": false,
    "editable": false,
    "nbgrader": {
     "cell_type": "markdown",
     "checksum": "70126ebccf30d948724a24815e4f9ce3",
     "grade": false,
     "grade_id": "cell-bbe7f99d1cc4e6af",
     "locked": true,
     "schema_version": 3,
     "solution": false
    }
   },
   "source": [
    "### Task 2.1  Implement an $\\epsilon$-greedy policy\n",
    "\n",
    "**(1 POE)**\n",
    "\n",
    "The goal of the Q-learning algorithm is to find the optimal policy $\\pi^*$, by estimating the state action value function under the optimal policy, i.e., $Q^*(s, a)$. From $Q^*(s,a)$, the agent can follow $\\pi^*$ by choosing the action that yields the largest expected value for each state, i.e., $\\text{argmax}_a~Q^*(s, a)$. However, when training a Q-learning model, the agent typically follows another policy to explore the environment (instead of the one that maximizes the current Q-values). In reinforcement learning this is known as off-policy learning. \n",
    "\n",
    "Your task is to implement a widely popular exploration policy, known as  the $\\epsilon$-greedy policy, in the cell below.\n",
    "\n",
    "An $\\epsilon$-greedy policy should:\n",
    "* with probability $\\epsilon$ take an uniformly-random action.\n",
    "* otherwise choose the best action according to the estimated state action values.\n",
    "\n",
    "*Hint:* The $\\epsilon$-greedy policy can be implemented extra elegantly by calculating the actual resulting sampling distribution."
   ]
  },
  {
   "cell_type": "code",
   "execution_count": 18,
   "metadata": {
    "deletable": false,
    "nbgrader": {
     "cell_type": "code",
     "checksum": "9ea10393af19c22a02e445c765e89a55",
     "grade": true,
     "grade_id": "cell-48c826a87791fb56",
     "locked": false,
     "points": 1,
     "schema_version": 3,
     "solution": true
    }
   },
   "outputs": [],
   "source": [
    "def eps_greedy_policy(q_values, eps):\n",
    "    '''\n",
    "    Creates an epsilon-greedy policy\n",
    "    :param q_values: set of Q-values of shape (num actions,)\n",
    "    :param eps: probability of taking a uniform random action \n",
    "    :return: policy of shape (num actions,)\n",
    "    '''\n",
    "    # YOUR CODE HERE\n",
    "    l=(eps/len(q_values))\n",
    "    policy= np.ones(q_values.shape)*l\n",
    "    policy[np.argmax(q_values)] += (1-eps)\n",
    "    \n",
    "    return policy\n",
    "    "
   ]
  },
  {
   "cell_type": "markdown",
   "metadata": {
    "deletable": false,
    "editable": false,
    "nbgrader": {
     "cell_type": "markdown",
     "checksum": "583492c65cb090c181c66b42c2a51eff",
     "grade": false,
     "grade_id": "cell-6d33489b428b1179",
     "locked": true,
     "schema_version": 3,
     "solution": false
    }
   },
   "source": [
    "Run the cell below to test your implementation"
   ]
  },
  {
   "cell_type": "code",
   "execution_count": 19,
   "metadata": {
    "deletable": false,
    "editable": false,
    "nbgrader": {
     "cell_type": "code",
     "checksum": "a884d531a9dbbfeebaac3af3d5d309e6",
     "grade": false,
     "grade_id": "cell-80bd577e278ec0b0",
     "locked": true,
     "schema_version": 3,
     "solution": false
    }
   },
   "outputs": [
    {
     "name": "stdout",
     "output_type": "stream",
     "text": [
      "Test passed, good job!\n"
     ]
    }
   ],
   "source": [
    "import math\n",
    "mdp = GridWorldMDP()\n",
    "\n",
    "# Test shape of output\n",
    "actions = mdp.get_actions()\n",
    "for eps in (0, 1):\n",
    "    foo = np.zeros([len(actions)])\n",
    "    foo[0] = 1.\n",
    "    eps_greedy = eps_greedy_policy(foo, eps)\n",
    "    assert foo.shape == eps_greedy.shape, \"wrong shape of output\"\n",
    "actions = [i for i in range(10)]\n",
    "for eps in (0, 1):\n",
    "    foo = np.zeros([len(actions)])\n",
    "    foo[0] = 1.\n",
    "    eps_greedy = eps_greedy_policy(foo, eps)\n",
    "    assert foo.shape == eps_greedy.shape, \"wrong shape of output\"\n",
    "\n",
    "# Test for greedy actions\n",
    "for a in actions:\n",
    "    foo = np.zeros([len(actions)])\n",
    "    foo[a] = 1.\n",
    "    eps_greedy = eps_greedy_policy(foo, 0)\n",
    "    assert np.allclose(foo, eps_greedy, rtol=1e-03), \"policy is not greedy\"\n",
    "\n",
    "# Test for uniform distribution, when eps=1\n",
    "eps_greedy = eps_greedy_policy(foo, 1)\n",
    "assert all(math.isclose(p, eps_greedy[0], rel_tol=1e-03) for p in eps_greedy),\\\n",
    "    \"policy does not return a uniform distribution for eps=1\"\n",
    "assert math.isclose(np.sum(eps_greedy), 1.0, rel_tol=1e-03), \"policy distribution is not normalized\"\n",
    "\n",
    "\n",
    "print('Test passed, good job!')"
   ]
  },
  {
   "cell_type": "markdown",
   "metadata": {
    "deletable": false,
    "editable": false,
    "nbgrader": {
     "cell_type": "markdown",
     "checksum": "bd7f0895be1c8a4b8eeb7e4d6a993ad2",
     "grade": false,
     "grade_id": "cell-1dccaeebe5a41325",
     "locked": true,
     "schema_version": 3,
     "solution": false
    }
   },
   "source": [
    "### Task 2.2: Implement the Q-learning algorithm\n",
    "\n",
    "Now it's time to actually implement the Q-learning algorithm. Unlike the Value iteration where there are no direct interactions with the environment, the Q-learning algorithm builds up its estimates by interacting and exploring the environment. \n",
    "\n",
    "To enable the agent to explore the environment a set of helper functions are provided:"
   ]
  },
  {
   "cell_type": "code",
   "execution_count": 20,
   "metadata": {
    "deletable": false,
    "editable": false,
    "nbgrader": {
     "cell_type": "code",
     "checksum": "02bb92b833a3dc4e535cda13a4a1fae4",
     "grade": false,
     "grade_id": "cell-881edd2be439489e",
     "locked": true,
     "schema_version": 3,
     "solution": false
    }
   },
   "outputs": [
    {
     "name": "stdout",
     "output_type": "stream",
     "text": [
      "Help on function reset in module gridworld_mdp:\n",
      "\n",
      "reset(self)\n",
      "    Resets the environment and the agent is positioned in the initial state in the bottom left corner.\n",
      "    :return: state, reward, terminal\n",
      "\n"
     ]
    }
   ],
   "source": [
    "help(GridWorldMDP.reset)"
   ]
  },
  {
   "cell_type": "code",
   "execution_count": 21,
   "metadata": {
    "deletable": false,
    "editable": false,
    "nbgrader": {
     "cell_type": "code",
     "checksum": "589834a8662125b7792560c134990d91",
     "grade": false,
     "grade_id": "cell-061e7670ebd7b35c",
     "locked": true,
     "schema_version": 3,
     "solution": false
    }
   },
   "outputs": [
    {
     "name": "stdout",
     "output_type": "stream",
     "text": [
      "Help on function step in module gridworld_mdp:\n",
      "\n",
      "step(self, action)\n",
      "    Takes one step in the environment using the selected action\n",
      "    :param action: action to execute, integer\n",
      "    :return: state, reward, terminal\n",
      "\n"
     ]
    }
   ],
   "source": [
    "help(GridWorldMDP.step)"
   ]
  },
  {
   "cell_type": "markdown",
   "metadata": {
    "deletable": false,
    "editable": false,
    "nbgrader": {
     "cell_type": "markdown",
     "checksum": "8b92ae99e0b252016ed7040a0f706cec",
     "grade": false,
     "grade_id": "cell-15fa6bbf763cdc6f",
     "locked": true,
     "schema_version": 3,
     "solution": false
    }
   },
   "source": [
    "Implement your version of Q-learning in the cell below. \n",
    "\n",
    "**Hint:** It might be useful to study the pseudocode provided above. "
   ]
  },
  {
   "cell_type": "code",
   "execution_count": 22,
   "metadata": {
    "deletable": false,
    "nbgrader": {
     "cell_type": "code",
     "checksum": "6734d53de1918a438b931e06cefa19c6",
     "grade": true,
     "grade_id": "cell-3912d729d9527acd",
     "locked": false,
     "points": 0,
     "schema_version": 3,
     "solution": true
    }
   },
   "outputs": [],
   "source": [
    "def q_learning(eps, gamma, mdp):\n",
    "    Q = np.zeros([16, 4]) # state action value table\n",
    "    pi = np.zeros([16]) # greedy policy table\n",
    "    alpha = .01\n",
    "\n",
    "    # YOUR CODE HERE\n",
    "    for _ in range(10000):\n",
    "        mdp.reset()\n",
    "        sCurr = 10\n",
    "        while True:\n",
    "            action = np.random.choice(Q.shape[1], p=eps_greedy_policy(Q[sCurr], eps))\n",
    "            sNext, reward, terminal = mdp.step(action)\n",
    "            Q[sCurr, action] += alpha * (reward + gamma * np.max(Q[sNext]) - Q[sCurr, action])\n",
    "            sCurr = sNext\n",
    "            if terminal: break\n",
    "    pi = np.argmax(Q, axis=1)\n",
    "    \n",
    "    return pi, Q"
   ]
  },
  {
   "cell_type": "markdown",
   "metadata": {
    "deletable": false,
    "editable": false,
    "nbgrader": {
     "cell_type": "markdown",
     "checksum": "7826f01b01a42ef8f3bf3df0d1bddf9a",
     "grade": false,
     "grade_id": "cell-b48032d234ecb11d",
     "locked": true,
     "schema_version": 3,
     "solution": false
    }
   },
   "source": [
    "Run Q-learning with for the stochastic MDP with $\\epsilon = 1, \\gamma=0.99$."
   ]
  },
  {
   "cell_type": "code",
   "execution_count": 23,
   "metadata": {
    "deletable": false,
    "editable": false,
    "nbgrader": {
     "cell_type": "code",
     "checksum": "66990ab000df5703e5d940fb7e43e3f6",
     "grade": false,
     "grade_id": "cell-0464324eb2e2bf9c",
     "locked": true,
     "schema_version": 3,
     "solution": false
    }
   },
   "outputs": [
    {
     "name": "stdout",
     "output_type": "stream",
     "text": [
      "Policy for non-terminal states: \n",
      "---------------------\n",
      "| E | E | E | E | E | \n",
      "---------------------\n",
      "| N | N | N | W | W | \n",
      "---------------------\n",
      "| N | W | W | W | S | \n",
      "---------------------\n",
      "                            ---\n",
      "Policy for terminal state: | N |\n",
      "                            ---\n"
     ]
    }
   ],
   "source": [
    "mdp = GridWorldMDP()\n",
    "pi, Q = q_learning(1, .99, mdp)\n",
    "print_policy(pi)"
   ]
  },
  {
   "cell_type": "markdown",
   "metadata": {
    "deletable": false,
    "editable": false,
    "nbgrader": {
     "cell_type": "markdown",
     "checksum": "9bc5026e570acf5162847f04d4b2daf3",
     "grade": false,
     "grade_id": "cell-a424df8abe557f2e",
     "locked": true,
     "schema_version": 3,
     "solution": false
    }
   },
   "source": [
    "Test your implementation by running the cell below"
   ]
  },
  {
   "cell_type": "code",
   "execution_count": 24,
   "metadata": {
    "deletable": false,
    "editable": false,
    "nbgrader": {
     "cell_type": "code",
     "checksum": "fe0420c08764bdf6ddec81e380ccf729",
     "grade": false,
     "grade_id": "cell-e2832d3538099d67",
     "locked": true,
     "schema_version": 3,
     "solution": false
    }
   },
   "outputs": [
    {
     "name": "stdout",
     "output_type": "stream",
     "text": [
      "Passed: policy test, for gamma=.99\n"
     ]
    }
   ],
   "source": [
    "test_q_learning(Q)"
   ]
  },
  {
   "cell_type": "markdown",
   "metadata": {
    "deletable": false,
    "editable": false,
    "nbgrader": {
     "cell_type": "markdown",
     "checksum": "49f7e5d4884836a1c3c968b767d51f40",
     "grade": false,
     "grade_id": "cell-d3623c3f5c170bd4",
     "locked": true,
     "schema_version": 3,
     "solution": false
    }
   },
   "source": [
    "Run Q-learning with $\\epsilon=0$"
   ]
  },
  {
   "cell_type": "code",
   "execution_count": 25,
   "metadata": {
    "deletable": false,
    "editable": false,
    "nbgrader": {
     "cell_type": "code",
     "checksum": "02e5ac1f58ad85d49dc7288ec4761b09",
     "grade": false,
     "grade_id": "cell-1c095409c30320d7",
     "locked": true,
     "schema_version": 3,
     "solution": false
    }
   },
   "outputs": [
    {
     "name": "stdout",
     "output_type": "stream",
     "text": [
      "Policy for non-terminal states: \n",
      "---------------------\n",
      "| N | N | N | N | N | \n",
      "---------------------\n",
      "| N | N | N | N | S | \n",
      "---------------------\n",
      "| N | N | N | N | S | \n",
      "---------------------\n",
      "                            ---\n",
      "Policy for terminal state: | N |\n",
      "                            ---\n"
     ]
    }
   ],
   "source": [
    "mdp = GridWorldMDP()\n",
    "pi, Q = q_learning(0, .99, mdp)\n",
    "print_policy(pi)"
   ]
  },
  {
   "cell_type": "markdown",
   "metadata": {
    "deletable": false,
    "editable": false,
    "nbgrader": {
     "cell_type": "markdown",
     "checksum": "f4ed5b3b1c4eba1dbd9a0e1d02b109fd",
     "grade": false,
     "grade_id": "cell-d3383d13bae73e68",
     "locked": true,
     "schema_version": 3,
     "solution": false
    }
   },
   "source": [
    "**(2 POE)** You ran your implementation with $\\epsilon$ set to both 0 and 1. Did both values yield the same solution? Why?"
   ]
  },
  {
   "cell_type": "markdown",
   "metadata": {
    "deletable": false,
    "nbgrader": {
     "cell_type": "markdown",
     "checksum": "baeb0f64a59a28003b946728ae322959",
     "grade": true,
     "grade_id": "cell-54eb158e84c99275",
     "locked": false,
     "points": 2,
     "schema_version": 3,
     "solution": true
    }
   },
   "source": [
    "**Your answer:** Absolutely No because when $\\epsilon$ = 0 we'll obtain a fully-greedy policy means agent willn't explore but takes greedy action from the start but for specific state highest q values are selected that makes a conflicts in exploration and stuck. If $\\epsilon$ = 1 then it follows uniform-random policy means agent always explore and keeps updating untill the best policy is found. "
   ]
  },
  {
   "cell_type": "markdown",
   "metadata": {
    "deletable": false,
    "editable": false,
    "nbgrader": {
     "cell_type": "markdown",
     "checksum": "36c58de753b998098c72d6a636c15eca",
     "grade": false,
     "grade_id": "cell-ae2a001335118014",
     "locked": true,
     "schema_version": 3,
     "solution": false
    }
   },
   "source": [
    "# Task 3: Deep Double Q-learning (DDQN)\n",
    "For this task, you will implement a DDQN (double deep Q-learning network) to solve one of the problems of the OpenAI gym. Before we get into details about these type of networks, let's first review the simpler, DQN (deep Q-learning network) version.\n",
    "\n",
    "**Again, note that in the end we will implement DDQN, and not DQN.**\n",
    "\n",
    "## Deep Q Networks (DQN)\n",
    "As we saw in the video lectures, using a neural network as a state action value approximator is a great idea. However, if one tries to use this approach with Q-learning, it's very likely that the optimization will be very unstable. To remediate this, two main ideas are used.\n",
    "- First, we use experience replay, in order to decorrelate the experience samples we obtain when exploring the environment.\n",
    "- Second, we use two networks instead of one, in order to fix the optimization targets. Each of these ideas are explained below.\n",
    "\n",
    "#### Experience replay\n",
    "Since Q-learning is an off-policy algorithm, we may collect data by navigating in the environment using some choice of behavioral / exploratory policy $\\mu$ (e.g. $\\epsilon$-greedy), while still learning the $Q$ values for an optimal policy. Experience replay exploits this even further, and re-uses old data, which was collected using whatever exploratory policy we used at that moment (e.g. $\\epsilon$-greedy w.r.t. to those approximate $Q$ values).\n",
    "\n",
    "Except for re-using already collected data, another advantage of experience replay is that it allows us to decorrelate the data, by sampling experience from very different parts of the environment, rather than using the samples for training in the order they were collected when walking around in the environment.\n",
    "\n",
    "Decorrelating the data is essential for training neural networks.\n",
    "\n",
    "#### Fixing the optimization target\n",
    "That is, for a given minibatch sampled from the replay buffer, we'll optimize the weights of only one of the networks (commonly denoted as the \"online\" network), using the gradients w.r.t a loss function. This loss function is computed as the mean squared error between the current action values, computed according to the **online** network, and the Q targets, computed using the other, **offline network** (which we'll also refer to as the fixed network or target network).\n",
    "\n",
    "That is, the loss function is \n",
    "\n",
    "$$ L(\\theta) = \\frac{1}{N}\\sum_{i=1}^N \\left(Q(s_i,a_i; \\theta\\right) - Y_i)^2~,$$\n",
    "\n",
    "where $N$ is the number of samples in your minibatch, $Q(s,a;\\theta)$ is the state action value estimate, according to the online network (with parameters $\\theta$), and $Y_t$ is the Q target, computed as\n",
    "\n",
    "$$ Y_i = r_i +  \\gamma ~\\underset{a}{\\text{max}}~Q(s_i', a; \\theta^-)~, $$\n",
    "\n",
    "where $Q(s', a;\\theta')$ is the action value estimate, according to the offline network (with parameters $\\theta^-$).\n",
    "\n",
    "Finally, so that the offline parameters are also updated, we periodically copy the parameters from the online to the offline network.\n",
    "\n",
    "#### Training loop essentials\n",
    "The following key components are repeated for every time step $t$ in an episode:\n",
    "1. Sample an action $a_t$ from the $\\epsilon$-greedy policy w.r.t. the current estimated $Q$ values (online network), and execute the action in the environment.\n",
    "1. The current transition $(s_t, a_t, r_{t+1}, s_{t+1})$ is stored in the replay buffer.\n",
    "1. An entire mini-batch of transitions is sampled from the replay buffer, and a gradient step is taken to improve the online network.\n",
    "\n",
    "## Double Deep Q Networks (DDQN)\n",
    "\n",
    "The idea explained above works well in practice, but later it was discovered that this approach is very prone to overestimating the state action values. The main reason for this is that the max operator, used to select the greedy action when computing the Q target, uses the same values both to select and to evaluate an action (this tends to prefer overestimated actions). In order to prevent this, we can decouple the selection from the evaluation, which is the idea that created DDQN. More concretely, the Q target for a DDQN is now \n",
    "\n",
    "$$ Y_i = r_i + \\gamma Q(s_i', \\underset{a}{\\text{argmax}}Q(s_i',a;\\theta); \\theta^-)~. $$\n",
    "\n",
    "Hence, we're using the **online** network to select which action is best, but we use the **offline** network to evaluate the state action value for that chosen action in the next state. This is what makes DDQN not overestimate (as much) the state action values, which in turn helps us to train faster and obtain better policies.\n",
    "\n",
    "Note that while the online network is constantly updated (as opposed to the offline network), the Q target (in which both the online and offline network are included for DDQN) should always be regarded as a constant when taking the gradient steps.\n",
    "\n",
    "## Target notation\n",
    "\n",
    "Several different optimization targets which are estimated with some $q$ function are often jointly referred to as \"TD targets\".\n",
    "We strive to be consistent and separate on-policy \"TD(0) targets\" and off-policy \"Q targets\" but in other places this distinction may be less clear."
   ]
  },
  {
   "cell_type": "markdown",
   "metadata": {
    "deletable": false,
    "editable": false,
    "nbgrader": {
     "cell_type": "markdown",
     "checksum": "dfc49ab7f1405c6ecbebfcc1b01d9456",
     "grade": false,
     "grade_id": "cell-b37fc5ebe369b45a",
     "locked": true,
     "schema_version": 3,
     "solution": false
    }
   },
   "source": [
    "#### Environment\n",
    "\n",
    "The problem you will solve for this task is the inverted pendulum problem. \n",
    "On [Open AIs environment documentation](https://gym.openai.com/envs/CartPole-v0) , the following description is provided:\n",
    "\n",
    "*A pole is attached by an un-actuated joint to a cart, which moves along a frictionless track. The system is controlled by applying a force of +1 or -1 to the cart. The pendulum starts upright, and the goal is to prevent it from falling over. A reward of +1 is provided for every time step that the pole remains upright. The episode ends when the pole is more than 15 degrees from vertical, or the cart moves more than 2.4 units from the center.*\n",
    "\n",
    "Furthermore, the episode will automatically end if 200 steps are reached, as explained [here](https://github.com/openai/gym/wiki/CartPole-v0#episode-termination).\n",
    "\n",
    "![title](./cartpole.jpg)"
   ]
  },
  {
   "cell_type": "markdown",
   "metadata": {
    "deletable": false,
    "editable": false,
    "nbgrader": {
     "cell_type": "markdown",
     "checksum": "74de453978cf5a4ced5167cc4bed7cc9",
     "grade": false,
     "grade_id": "cell-920f9802c12678ca",
     "locked": true,
     "schema_version": 3,
     "solution": false,
     "task": false
    }
   },
   "source": [
    "#### Run the cell below to see a video illustration of the environment"
   ]
  },
  {
   "cell_type": "code",
   "execution_count": 26,
   "metadata": {
    "deletable": false,
    "editable": false,
    "nbgrader": {
     "cell_type": "code",
     "checksum": "185ad818161c47503d9eea9d466d890f",
     "grade": false,
     "grade_id": "cell-bc01c34a37f53b30",
     "locked": true,
     "schema_version": 3,
     "solution": false,
     "task": false
    }
   },
   "outputs": [
    {
     "data": {
      "image/jpeg": "[encoded data removed]",
      "text/html": [
       "\n",
       "        <iframe\n",
       "            width=\"400\"\n",
       "            height=\"300\"\n",
       "            src=\"https://www.youtube.com/embed/46wjA6dqxOM\"\n",
       "            frameborder=\"0\"\n",
       "            allowfullscreen\n",
       "        ></iframe>\n",
       "        "
      ],
      "text/plain": [
       "<IPython.lib.display.YouTubeVideo at 0x7fc969ec2590>"
      ]
     },
     "execution_count": 26,
     "metadata": {},
     "output_type": "execute_result"
    }
   ],
   "source": [
    "from IPython.lib.display import YouTubeVideo\n",
    "YouTubeVideo('46wjA6dqxOM')"
   ]
  },
  {
   "cell_type": "markdown",
   "metadata": {
    "deletable": false,
    "editable": false,
    "nbgrader": {
     "cell_type": "markdown",
     "checksum": "4ac323ef2aa16dc7e60404564799578e",
     "grade": false,
     "grade_id": "cell-181515edc2a1f7a2",
     "locked": true,
     "schema_version": 3,
     "solution": false,
     "task": false
    }
   },
   "source": [
    "#### Implementation\n",
    "We'll solve this task using a DDQN. Most of the code is provided for you, in the file **ddqn_model.py**. This file contains the implementation of a neural network, which is described in the table below (feel free to experiment with different architectures).\n",
    "\n",
    "|Layer 1: units, activation | Layer 2: units, activation | Layer 3: units, activation | Cost function |\n",
    "|---------------------------|----------------------------|----------------------------|---------------|\n",
    "| 100, ReLu                 | 60, ReLu                   | number of actions, linear | MSE           |\n",
    "\n",
    "There are however a few key parts missing from the code, that are to be implemented in the following three functions:\n",
    "- `calc_q_and_take_action`\n",
    "- `calculate_q_targets`\n",
    "- `sample_batch_and_calculate_loss`\n",
    "\n",
    "These will then be called from the function `train_loop_ddqn`, which runs the main loop for training the model in the cart-pole environment."
   ]
  },
  {
   "cell_type": "markdown",
   "metadata": {
    "deletable": false,
    "editable": false,
    "nbgrader": {
     "cell_type": "markdown",
     "checksum": "6a3f41b77af244ce39e5b0d67fb70574",
     "grade": false,
     "grade_id": "cell-8ef4581670ad2682",
     "locked": true,
     "schema_version": 3,
     "solution": false,
     "task": false
    }
   },
   "source": [
    "## Task 3.1:  Calculate Q-values & take action\n",
    "Calculate Q-values for the current state, and decide on which action to take. Use an epsilon-greedy behavioral policy, and feel free to re-use the `epsilon_greedy_policy` function that you defined for the Q-learning part.\n",
    "\n",
    "This function will be used to control the agent's behavior in the environment, but the actual training will be done later, for entire mini-batches sampled from the replay buffer."
   ]
  },
  {
   "cell_type": "code",
   "execution_count": 27,
   "metadata": {
    "deletable": false,
    "nbgrader": {
     "cell_type": "code",
     "checksum": "e16c9f245324d9aa2cab62f223fcab6c",
     "grade": true,
     "grade_id": "cell-5ef2ca4ae83dd031",
     "locked": false,
     "points": 0,
     "schema_version": 3,
     "solution": true,
     "task": false
    }
   },
   "outputs": [],
   "source": [
    "def calc_q_and_take_action(ddqn, state, eps):\n",
    "    '''\n",
    "    Calculate Q-values for current state, and take an action according to an epsilon-greedy policy.\n",
    "    Inputs:\n",
    "        ddqn   - DDQN model. An object holding the online / offline Q-networks, and some related methods.\n",
    "        state  - Current state. Numpy array, shape (1, num_states).\n",
    "        eps    - Exploration parameter.\n",
    "    Returns:\n",
    "        q_online_curr   - Q(s,a) for current state s. Numpy array, shape (1, num_actions) or  (num_actions,).\n",
    "        curr_action     - Selected action (0 or 1, i.e., left or right), sampled from epsilon-greedy policy. Integer.\n",
    "    '''\n",
    "    # FYI:\n",
    "    # ddqn.online_model & ddqn.offline_model are Pytorch modules for online / offline Q-networks, which take the state as input, and output the Q-values for all actions.\n",
    "    # Input shape (batch_size, num_states). Output shape (batch_size, num_actions).\n",
    "\n",
    "    # YOUR CODE HERE\n",
    "    \n",
    "    q_online_curr = ddqn.online_model(torch.tensor(state).float()).detach().numpy()[0]\n",
    "    policy = eps_greedy_policy(q_online_curr, eps)\n",
    "    actions = [0,1]\n",
    "    \n",
    "    curr_action = np.random.choice(actions, p=policy)\n",
    "    \n",
    "    return q_online_curr, curr_action"
   ]
  },
  {
   "cell_type": "markdown",
   "metadata": {
    "deletable": false,
    "editable": false,
    "nbgrader": {
     "cell_type": "markdown",
     "checksum": "1cce1e1a968c529d5c6f20832281d92f",
     "grade": false,
     "grade_id": "cell-ae647de789982b2e",
     "locked": true,
     "schema_version": 3,
     "solution": false
    }
   },
   "source": [
    "## Task 3.2:  Calculate Q target\n",
    "\n",
    "**(2 POE)**\n",
    "\n",
    "For this task, you will calculate the temporal difference target used for the loss in the double Q-learning algorithm. Your implementation should follow precisely the equation defined above for the Q target of DDQNs, with one exception: when s' is terminal, the Q target for it should simply be $ Y_i = r_i$. Why is this necessary?"
   ]
  },
  {
   "cell_type": "markdown",
   "metadata": {
    "deletable": false,
    "nbgrader": {
     "cell_type": "markdown",
     "checksum": "3d0922a476a654975d99168051d86bbd",
     "grade": true,
     "grade_id": "cell-d28bf13d3d581368",
     "locked": false,
     "points": 2,
     "schema_version": 3,
     "solution": true
    }
   },
   "source": [
    "**Your answer:** Suppose the q target vales isn't known then its depend on which values(actions) it should going to take once it reach the terminal state. But that make no sense we don't want that q_target to be dependent on future actions because there is no more moves after terminal state."
   ]
  },
  {
   "cell_type": "markdown",
   "metadata": {
    "deletable": false,
    "editable": false,
    "nbgrader": {
     "cell_type": "markdown",
     "checksum": "f6a429aaede47e041414f7fac4093390",
     "grade": false,
     "grade_id": "cell-26a12456d7c70776",
     "locked": true,
     "schema_version": 3,
     "solution": false
    }
   },
   "source": [
    "Implement your function in the following cell."
   ]
  },
  {
   "cell_type": "code",
   "execution_count": 28,
   "metadata": {
    "deletable": false,
    "nbgrader": {
     "cell_type": "code",
     "checksum": "c687cccc16fa05e24be65eb204d4ed01",
     "grade": true,
     "grade_id": "cell-e73bca0bd9d5574a",
     "locked": false,
     "points": 0,
     "schema_version": 3,
     "solution": true
    }
   },
   "outputs": [],
   "source": [
    "def calculate_q_targets(q1_batch, q2_batch, r_batch, nonterminal_batch, gamma=.99):\n",
    "    '''\n",
    "    Calculates the Q target used for the loss\n",
    "    : param q1_batch: Batch of Q(s', a) from online network. FloatTensor, shape (N, num actions)\n",
    "    : param q2_batch: Batch of Q(s', a) from target network. FloatTensor, shape (N, num actions)\n",
    "    : param r_batch: Batch of rewards. FloatTensor, shape (N,)\n",
    "    : param nonterminal_batch: Batch of booleans, with False elements if state s' is terminal and True otherwise. BoolTensor, shape (N,)\n",
    "    : param gamma: Discount factor, float.\n",
    "    : return: Q target. FloatTensor, shape (N,)\n",
    "    '''\n",
    "    # YOUR CODE HERE\n",
    "    N = q1_batch.shape[0]\n",
    "    Y= torch.zeros(N)\n",
    "    \n",
    "    for i in range(N):\n",
    "        a=torch.argmax(q1_batch[i,:])\n",
    "        if nonterminal_batch[i]==True:\n",
    "            Y[i]= r_batch[i] + gamma*q2_batch[i][a]\n",
    "        else:\n",
    "            Y[i] = r_batch[i]\n",
    "\n",
    "    return Y"
   ]
  },
  {
   "cell_type": "markdown",
   "metadata": {
    "deletable": false,
    "editable": false,
    "nbgrader": {
     "cell_type": "markdown",
     "checksum": "198cb1c800b2c103c9fcdfeb9fd45eda",
     "grade": false,
     "grade_id": "cell-b4a77bdb942ce919",
     "locked": true,
     "schema_version": 3,
     "solution": false,
     "task": false
    }
   },
   "source": [
    "Test your implementation by running the cell below"
   ]
  },
  {
   "cell_type": "code",
   "execution_count": 29,
   "metadata": {
    "deletable": false,
    "editable": false,
    "nbgrader": {
     "cell_type": "code",
     "checksum": "d83145c0697d0ac4b58857c62c33798a",
     "grade": false,
     "grade_id": "cell-bd5e9c36540130c0",
     "locked": true,
     "schema_version": 3,
     "solution": false,
     "task": false
    }
   },
   "outputs": [
    {
     "name": "stdout",
     "output_type": "stream",
     "text": [
      "Passed: Calculate Q targets test, for function \"calculate_q_targets\"\n"
     ]
    }
   ],
   "source": [
    "import torch\n",
    "import dqn_model\n",
    "dqn_model.test_calculate_q_targets(calculate_q_targets)"
   ]
  },
  {
   "cell_type": "markdown",
   "metadata": {
    "deletable": false,
    "editable": false,
    "nbgrader": {
     "cell_type": "markdown",
     "checksum": "417be01d6f312fba6f7cb28d49682db8",
     "grade": false,
     "grade_id": "cell-90601693d1f77faf",
     "locked": true,
     "schema_version": 3,
     "solution": false,
     "task": false
    }
   },
   "source": [
    "## Task 3.3: Calculate mini-batch Q-values\n",
    "\n",
    "Use the online & offline Q-networks to calculate the Q-values for a minibatch. These will then be used to calculate the mini-batch loss by the end of the function.\n",
    "\n",
    "You will need to define three tensors:\n",
    "- `q_online_curr`: $Q(s,a; \\theta), \\ \\forall a$\n",
    "- `q_online_next`: $Q(s',a; \\theta), \\ \\forall a$\n",
    "- `q_offline_next`: $Q(s',a; \\theta^-), \\ \\forall a$\n",
    "\n",
    "Take great care to make sure gradient computation is enabled / disabled where it should. `torch.no_grad()` is your friend here (see [Pytorch docs](https://pytorch.org/docs/stable/torch.html#locally-disabling-gradient-computation))."
   ]
  },
  {
   "cell_type": "code",
   "execution_count": 30,
   "metadata": {
    "deletable": false,
    "nbgrader": {
     "cell_type": "code",
     "checksum": "16e46f9a558104abf7dd19ff91d9d028",
     "grade": true,
     "grade_id": "cell-f716681cdc0fca13",
     "locked": false,
     "points": 0,
     "schema_version": 3,
     "solution": true,
     "task": false
    }
   },
   "outputs": [],
   "source": [
    "def sample_batch_and_calculate_loss(ddqn, replay_buffer, batch_size, gamma):\n",
    "    '''\n",
    "    Sample mini-batch from replay buffer, and compute the mini-batch loss\n",
    "    Inputs:\n",
    "        ddqn          - DDQN model. An object holding the online / offline Q-networks, and some related methods.\n",
    "        replay_buffer - Replay buffer object (from which samples will be drawn)\n",
    "        batch_size    - Batch size\n",
    "        gamma         - Discount factor\n",
    "    Returns:\n",
    "        Mini-batch loss, on which .backward() will be called to compute gradient.\n",
    "    '''\n",
    "    # Sample a minibatch of transitions from replay buffer\n",
    "    curr_state, curr_action, reward, next_state, nonterminal = replay_buffer.sample_minibatch(batch_size)\n",
    "\n",
    "    # FYI:\n",
    "    # ddqn.online_model & ddqn.offline_model are Pytorch modules for online / offline Q-networks, which take the state as input, and output the Q-values for all actions.\n",
    "    # Input shape (batch_size, num_states). Output shape (batch_size, num_actions).\n",
    "\n",
    "    # YOUR CODE HERE\n",
    "    \n",
    "    q_online_curr = ddqn.online_model(curr_state)\n",
    "    q_online_next = ddqn.online_model(next_state).detach()\n",
    "    q_offline_next = ddqn.offline_model(next_state).detach()\n",
    "\n",
    "\n",
    "\n",
    "    q_target = calculate_q_targets(q_online_next, q_offline_next, reward, nonterminal, gamma=gamma)\n",
    "    loss = ddqn.calc_loss(q_online_curr, q_target, curr_action)\n",
    "\n",
    "    return loss"
   ]
  },
  {
   "cell_type": "markdown",
   "metadata": {
    "deletable": false,
    "editable": false,
    "nbgrader": {
     "cell_type": "markdown",
     "checksum": "1d2adc8d2e6496636b23a31f36e394ac",
     "grade": false,
     "grade_id": "cell-401656fa71e3f227",
     "locked": true,
     "schema_version": 3,
     "solution": false
    }
   },
   "source": [
    "Test your implementation by trying to solve the reinforcement learning problem for the Cartpole environment. The `train_loop_ddqn` function defined below will be called later."
   ]
  },
  {
   "cell_type": "code",
   "execution_count": 31,
   "metadata": {
    "deletable": false,
    "editable": false,
    "nbgrader": {
     "cell_type": "code",
     "checksum": "fb5047b8217c7e97d2c27e4e51a3f71b",
     "grade": false,
     "grade_id": "cell-f3d381be408141e6",
     "locked": true,
     "schema_version": 3,
     "solution": false,
     "task": false
    }
   },
   "outputs": [],
   "source": [
    "# Import dependencies\n",
    "import torch\n",
    "import numpy as np\n",
    "import gym\n",
    "from collections import namedtuple\n",
    "from dqn_model import DoubleQLearningModel, ExperienceReplay"
   ]
  },
  {
   "cell_type": "code",
   "execution_count": 32,
   "metadata": {},
   "outputs": [],
   "source": [
    "# CPU should be enough, but feel free to play around with this if you want to.\n",
    "device = torch.device(\"cpu\")\n",
    "# device = torch.device(\"cuda\" if torch.cuda.is_available() else \"cpu\")"
   ]
  },
  {
   "cell_type": "code",
   "execution_count": 33,
   "metadata": {
    "deletable": false,
    "editable": false,
    "nbgrader": {
     "cell_type": "code",
     "checksum": "ff585600fcd9c1884e390e14530665b7",
     "grade": false,
     "grade_id": "cell-a9e3d9e027c537be",
     "locked": true,
     "schema_version": 3,
     "solution": false,
     "task": false
    }
   },
   "outputs": [],
   "source": [
    "def train_loop_ddqn(ddqn, env, replay_buffer, num_episodes, enable_visualization=False, batch_size=64, gamma=.94):        \n",
    "    Transition = namedtuple(\"Transition\", [\"s\", \"a\", \"r\", \"next_s\", \"t\"])\n",
    "    eps = 1.\n",
    "    eps_end = .1 \n",
    "    eps_decay = .001\n",
    "    tau = 1000\n",
    "    cnt_updates = 0\n",
    "    R_buffer = []\n",
    "    R_avg = []\n",
    "    for i in range(num_episodes):\n",
    "        state = env.reset() # Initial state\n",
    "        state = state[None,:] # Add singleton dimension, to represent as batch of size 1.\n",
    "        finish_episode = False # Initialize\n",
    "        ep_reward = 0 # Initialize \"Episodic reward\", i.e. the total reward for episode, when disregarding discount factor.\n",
    "        q_buffer = []\n",
    "        steps = 0\n",
    "        while not finish_episode:\n",
    "            if enable_visualization:\n",
    "                env.render() # comment this line out if you don't want to / cannot render the environment on your system\n",
    "            steps += 1\n",
    "\n",
    "            # Take one step in environment. No need to compute gradients,\n",
    "            # we will just store transition to replay buffer, and later sample a whole batch\n",
    "            # from the replay buffer to actually take a gradient step.\n",
    "            q_online_curr, curr_action = calc_q_and_take_action(ddqn, state, eps)\n",
    "            q_buffer.append(q_online_curr)\n",
    "            new_state, reward, finish_episode, _ = env.step(curr_action) # take one step in the evironment\n",
    "            new_state = new_state[None,:]\n",
    "            \n",
    "            # Assess whether terminal state was reached.\n",
    "            # The episode may end due to having reached 200 steps, but we should not regard this as reaching the terminal state, and hence not disregard Q(s',a) from the Q target.\n",
    "            # https://arxiv.org/abs/1712.00378\n",
    "            nonterminal_to_buffer = not finish_episode or steps == 200\n",
    "            \n",
    "            # Store experienced transition to replay buffer\n",
    "            replay_buffer.add(Transition(s=state, a=curr_action, r=reward, next_s=new_state, t=nonterminal_to_buffer))\n",
    "\n",
    "            state = new_state\n",
    "            ep_reward += reward\n",
    "            \n",
    "            # If replay buffer contains more than 1000 samples, perform one training step\n",
    "            if replay_buffer.buffer_length > 1000:\n",
    "                loss = sample_batch_and_calculate_loss(ddqn, replay_buffer, batch_size, gamma)\n",
    "                ddqn.optimizer.zero_grad()\n",
    "                loss.backward()\n",
    "                ddqn.optimizer.step()\n",
    "\n",
    "                cnt_updates += 1\n",
    "                if cnt_updates % tau == 0:\n",
    "                    ddqn.update_target_network()\n",
    "                \n",
    "        eps = max(eps - eps_decay, eps_end) # decrease epsilon        \n",
    "        R_buffer.append(ep_reward)\n",
    "        \n",
    "        # Running average of episodic rewards (total reward, disregarding discount factor)\n",
    "        R_avg.append(.05 * R_buffer[i] + .95 * R_avg[i-1]) if i > 0 else R_avg.append(R_buffer[i])\n",
    "\n",
    "        print('Episode: {:d}, Total Reward (running avg): {:4.0f} ({:.2f}) Epsilon: {:.3f}, Avg Q: {:.4g}'.format(i, ep_reward, R_avg[-1], eps, np.mean(np.array(q_buffer))))\n",
    "        \n",
    "        # If running average > 195 (close to 200), the task is considered solved\n",
    "        if R_avg[-1] > 195:\n",
    "            return R_buffer, R_avg\n",
    "    return R_buffer, R_avg"
   ]
  },
  {
   "cell_type": "markdown",
   "metadata": {
    "deletable": false,
    "editable": false,
    "nbgrader": {
     "cell_type": "markdown",
     "checksum": "9dbdd4e0e629188932bae9d37d05253c",
     "grade": false,
     "grade_id": "cell-75c84628ce999711",
     "locked": true,
     "schema_version": 3,
     "solution": false
    }
   },
   "source": [
    "The following cell performs the actual training. \n",
    "\n",
    "A working implementation should start to improve after 500 episodes. An episodic reward of around 200 is likely to be achieved after 800 episodes for a batchsize of 128, and 1000 episodes for a batchsize of 64.\n",
    "\n",
    "**Note:** The `enable_visualization` flag controls whether a visualization of the cart-pole environment will be plotted. In many environments, this is however not working properly, for which reason it is disabled by default."
   ]
  },
  {
   "cell_type": "code",
   "execution_count": 34,
   "metadata": {},
   "outputs": [
    {
     "name": "stdout",
     "output_type": "stream",
     "text": [
      "Episode: 0, Total Reward (running avg):   14 (14.00) Epsilon: 0.999, Avg Q: 1.631e-07\n",
      "Episode: 1, Total Reward (running avg):   12 (13.90) Epsilon: 0.998, Avg Q: 1.741e-07\n",
      "Episode: 2, Total Reward (running avg):   11 (13.75) Epsilon: 0.997, Avg Q: 1.967e-07\n",
      "Episode: 3, Total Reward (running avg):   27 (14.42) Epsilon: 0.996, Avg Q: -2.06e-07\n",
      "Episode: 4, Total Reward (running avg):   53 (16.35) Epsilon: 0.995, Avg Q: -3.197e-07\n",
      "Episode: 5, Total Reward (running avg):   22 (16.63) Epsilon: 0.994, Avg Q: 1.068e-07\n",
      "Episode: 6, Total Reward (running avg):   20 (16.80) Epsilon: 0.993, Avg Q: 1.071e-07\n",
      "Episode: 7, Total Reward (running avg):   16 (16.76) Epsilon: 0.992, Avg Q: -4.412e-07\n",
      "Episode: 8, Total Reward (running avg):   35 (17.67) Epsilon: 0.991, Avg Q: 2.624e-08\n",
      "Episode: 9, Total Reward (running avg):   23 (17.94) Epsilon: 0.990, Avg Q: -3.001e-07\n",
      "Episode: 10, Total Reward (running avg):   32 (18.64) Epsilon: 0.989, Avg Q: 2.179e-08\n",
      "Episode: 11, Total Reward (running avg):   12 (18.31) Epsilon: 0.988, Avg Q: -5.409e-07\n",
      "Episode: 12, Total Reward (running avg):   22 (18.49) Epsilon: 0.987, Avg Q: -3.857e-07\n",
      "Episode: 13, Total Reward (running avg):   28 (18.97) Epsilon: 0.986, Avg Q: -3.983e-09\n",
      "Episode: 14, Total Reward (running avg):   37 (19.87) Epsilon: 0.985, Avg Q: -2.121e-07\n",
      "Episode: 15, Total Reward (running avg):   17 (19.73) Epsilon: 0.984, Avg Q: -3.283e-07\n",
      "Episode: 16, Total Reward (running avg):   22 (19.84) Epsilon: 0.983, Avg Q: -3.724e-07\n",
      "Episode: 17, Total Reward (running avg):   29 (20.30) Epsilon: 0.982, Avg Q: -4.12e-07\n",
      "Episode: 18, Total Reward (running avg):   24 (20.48) Epsilon: 0.981, Avg Q: -3.826e-07\n",
      "Episode: 19, Total Reward (running avg):   11 (20.01) Epsilon: 0.980, Avg Q: 1.799e-07\n",
      "Episode: 20, Total Reward (running avg):   13 (19.66) Epsilon: 0.979, Avg Q: -5.559e-07\n",
      "Episode: 21, Total Reward (running avg):   14 (19.38) Epsilon: 0.978, Avg Q: 1.867e-07\n",
      "Episode: 22, Total Reward (running avg):   39 (20.36) Epsilon: 0.977, Avg Q: -2.016e-07\n",
      "Episode: 23, Total Reward (running avg):   13 (19.99) Epsilon: 0.976, Avg Q: -7.063e-07\n",
      "Episode: 24, Total Reward (running avg):   14 (19.69) Epsilon: 0.975, Avg Q: 1.926e-07\n",
      "Episode: 25, Total Reward (running avg):   45 (20.95) Epsilon: 0.974, Avg Q: -3.572e-07\n",
      "Episode: 26, Total Reward (running avg):    9 (20.36) Epsilon: 0.973, Avg Q: 2.198e-07\n",
      "Episode: 27, Total Reward (running avg):   47 (21.69) Epsilon: 0.972, Avg Q: -3.009e-07\n",
      "Episode: 28, Total Reward (running avg):   30 (22.10) Epsilon: 0.971, Avg Q: 6.704e-08\n",
      "Episode: 29, Total Reward (running avg):   32 (22.60) Epsilon: 0.970, Avg Q: 2.991e-08\n",
      "Episode: 30, Total Reward (running avg):   13 (22.12) Epsilon: 0.969, Avg Q: -5.784e-07\n",
      "Episode: 31, Total Reward (running avg):   19 (21.96) Epsilon: 0.968, Avg Q: 1.364e-07\n",
      "Episode: 32, Total Reward (running avg):   13 (21.52) Epsilon: 0.967, Avg Q: -7.324e-07\n",
      "Episode: 33, Total Reward (running avg):   23 (21.59) Epsilon: 0.966, Avg Q: -4.008e-07\n",
      "Episode: 34, Total Reward (running avg):   11 (21.06) Epsilon: 0.965, Avg Q: -5.547e-07\n",
      "Episode: 35, Total Reward (running avg):   40 (22.01) Epsilon: 0.964, Avg Q: 4.216e-08\n",
      "Episode: 36, Total Reward (running avg):    9 (21.36) Epsilon: 0.963, Avg Q: 1.924e-07\n",
      "Episode: 37, Total Reward (running avg):   13 (20.94) Epsilon: 0.962, Avg Q: 1.929e-07\n",
      "Episode: 38, Total Reward (running avg):   15 (20.64) Epsilon: 0.961, Avg Q: -4.786e-07\n",
      "Episode: 39, Total Reward (running avg):   19 (20.56) Epsilon: 0.960, Avg Q: 9.324e-08\n",
      "Episode: 40, Total Reward (running avg):   20 (20.53) Epsilon: 0.959, Avg Q: -4.794e-07\n",
      "Episode: 41, Total Reward (running avg):   12 (20.11) Epsilon: 0.958, Avg Q: 2.102e-07\n",
      "Episode: 42, Total Reward (running avg):   18 (20.00) Epsilon: 0.957, Avg Q: -4.013e-07\n",
      "Episode: 43, Total Reward (running avg):   11 (19.55) Epsilon: 0.956, Avg Q: -7.27e-07\n",
      "Episode: 44, Total Reward (running avg):   13 (19.22) Epsilon: 0.955, Avg Q: -6.235e-07\n",
      "Episode: 45, Total Reward (running avg):   19 (19.21) Epsilon: 0.954, Avg Q: 1.457e-07\n",
      "Episode: 46, Total Reward (running avg):   14 (18.95) Epsilon: 0.953, Avg Q: 0.003486\n",
      "Episode: 47, Total Reward (running avg):   11 (18.55) Epsilon: 0.952, Avg Q: 0.05544\n",
      "Episode: 48, Total Reward (running avg):   14 (18.33) Epsilon: 0.951, Avg Q: 0.1187\n",
      "Episode: 49, Total Reward (running avg):   22 (18.51) Epsilon: 0.950, Avg Q: 0.1798\n",
      "Episode: 50, Total Reward (running avg):   25 (18.83) Epsilon: 0.949, Avg Q: 0.2926\n",
      "Episode: 51, Total Reward (running avg):   43 (20.04) Epsilon: 0.948, Avg Q: 0.3611\n",
      "Episode: 52, Total Reward (running avg):   19 (19.99) Epsilon: 0.947, Avg Q: 0.7337\n",
      "Episode: 53, Total Reward (running avg):    8 (19.39) Epsilon: 0.946, Avg Q: 1.044\n",
      "Episode: 54, Total Reward (running avg):   18 (19.32) Epsilon: 0.945, Avg Q: 0.7366\n",
      "Episode: 55, Total Reward (running avg):   23 (19.50) Epsilon: 0.944, Avg Q: 0.7349\n",
      "Episode: 56, Total Reward (running avg):   28 (19.93) Epsilon: 0.943, Avg Q: 0.6237\n",
      "Episode: 57, Total Reward (running avg):   21 (19.98) Epsilon: 0.942, Avg Q: 0.7435\n",
      "Episode: 58, Total Reward (running avg):   18 (19.88) Epsilon: 0.941, Avg Q: 0.6799\n",
      "Episode: 59, Total Reward (running avg):   19 (19.84) Epsilon: 0.940, Avg Q: 0.9221\n",
      "Episode: 60, Total Reward (running avg):   26 (20.15) Epsilon: 0.939, Avg Q: 0.8671\n",
      "Episode: 61, Total Reward (running avg):   16 (19.94) Epsilon: 0.938, Avg Q: 0.9051\n",
      "Episode: 62, Total Reward (running avg):   49 (21.39) Epsilon: 0.937, Avg Q: 0.6474\n",
      "Episode: 63, Total Reward (running avg):   21 (21.37) Epsilon: 0.936, Avg Q: 0.849\n",
      "Episode: 64, Total Reward (running avg):   16 (21.11) Epsilon: 0.935, Avg Q: 0.9921\n",
      "Episode: 65, Total Reward (running avg):   13 (20.70) Epsilon: 0.934, Avg Q: 0.9659\n",
      "Episode: 66, Total Reward (running avg):   34 (21.36) Epsilon: 0.933, Avg Q: 0.7531\n",
      "Episode: 67, Total Reward (running avg):   46 (22.60) Epsilon: 0.932, Avg Q: 0.8063\n",
      "Episode: 68, Total Reward (running avg):   13 (22.12) Epsilon: 0.931, Avg Q: 0.9809\n",
      "Episode: 69, Total Reward (running avg):   19 (21.96) Epsilon: 0.930, Avg Q: 0.8467\n",
      "Episode: 70, Total Reward (running avg):   14 (21.56) Epsilon: 0.929, Avg Q: 1.007\n",
      "Episode: 71, Total Reward (running avg):   15 (21.23) Epsilon: 0.928, Avg Q: 0.9783\n",
      "Episode: 72, Total Reward (running avg):   14 (20.87) Epsilon: 0.927, Avg Q: 0.9125\n",
      "Episode: 73, Total Reward (running avg):   14 (20.53) Epsilon: 0.926, Avg Q: 0.9754\n",
      "Episode: 74, Total Reward (running avg):   30 (21.00) Epsilon: 0.925, Avg Q: 0.8661\n",
      "Episode: 75, Total Reward (running avg):   14 (20.65) Epsilon: 0.924, Avg Q: 0.9634\n",
      "Episode: 76, Total Reward (running avg):   27 (20.97) Epsilon: 0.923, Avg Q: 0.9024\n",
      "Episode: 77, Total Reward (running avg):   12 (20.52) Epsilon: 0.922, Avg Q: 1.041\n",
      "Episode: 78, Total Reward (running avg):   14 (20.20) Epsilon: 0.921, Avg Q: 1.014\n",
      "Episode: 79, Total Reward (running avg):   18 (20.09) Epsilon: 0.920, Avg Q: 0.9954\n",
      "Episode: 80, Total Reward (running avg):   26 (20.38) Epsilon: 0.919, Avg Q: 0.9435\n",
      "Episode: 81, Total Reward (running avg):   16 (20.16) Epsilon: 0.918, Avg Q: 0.9536\n",
      "Episode: 82, Total Reward (running avg):   18 (20.05) Epsilon: 0.917, Avg Q: 0.9869\n",
      "Episode: 83, Total Reward (running avg):   18 (19.95) Epsilon: 0.916, Avg Q: 0.9639\n",
      "Episode: 84, Total Reward (running avg):   34 (20.65) Epsilon: 0.915, Avg Q: 0.9789\n",
      "Episode: 85, Total Reward (running avg):   17 (20.47) Epsilon: 0.914, Avg Q: 0.9845\n",
      "Episode: 86, Total Reward (running avg):   10 (19.95) Epsilon: 0.913, Avg Q: 1.034\n",
      "Episode: 87, Total Reward (running avg):   16 (19.75) Epsilon: 0.912, Avg Q: 1.009\n",
      "Episode: 88, Total Reward (running avg):   38 (20.66) Epsilon: 0.911, Avg Q: 1.055\n",
      "Episode: 89, Total Reward (running avg):   39 (21.58) Epsilon: 0.910, Avg Q: 1.111\n",
      "Episode: 90, Total Reward (running avg):   37 (22.35) Epsilon: 0.909, Avg Q: 0.9984\n",
      "Episode: 91, Total Reward (running avg):   20 (22.23) Epsilon: 0.908, Avg Q: 0.9689\n",
      "Episode: 92, Total Reward (running avg):   20 (22.12) Epsilon: 0.907, Avg Q: 1.102\n",
      "Episode: 93, Total Reward (running avg):   14 (21.72) Epsilon: 0.906, Avg Q: 1.421\n",
      "Episode: 94, Total Reward (running avg):   36 (22.43) Epsilon: 0.905, Avg Q: 1.657\n",
      "Episode: 95, Total Reward (running avg):   40 (23.31) Epsilon: 0.904, Avg Q: 1.756\n",
      "Episode: 96, Total Reward (running avg):   13 (22.79) Epsilon: 0.903, Avg Q: 1.803\n"
     ]
    },
    {
     "name": "stdout",
     "output_type": "stream",
     "text": [
      "Episode: 97, Total Reward (running avg):   18 (22.55) Epsilon: 0.902, Avg Q: 1.771\n",
      "Episode: 98, Total Reward (running avg):   15 (22.18) Epsilon: 0.901, Avg Q: 1.884\n",
      "Episode: 99, Total Reward (running avg):   21 (22.12) Epsilon: 0.900, Avg Q: 1.851\n",
      "Episode: 100, Total Reward (running avg):   23 (22.16) Epsilon: 0.899, Avg Q: 1.814\n",
      "Episode: 101, Total Reward (running avg):   46 (23.35) Epsilon: 0.898, Avg Q: 1.976\n",
      "Episode: 102, Total Reward (running avg):   10 (22.69) Epsilon: 0.897, Avg Q: 1.902\n",
      "Episode: 103, Total Reward (running avg):   14 (22.25) Epsilon: 0.896, Avg Q: 1.824\n",
      "Episode: 104, Total Reward (running avg):   32 (22.74) Epsilon: 0.895, Avg Q: 1.901\n",
      "Episode: 105, Total Reward (running avg):   43 (23.75) Epsilon: 0.894, Avg Q: 1.898\n",
      "Episode: 106, Total Reward (running avg):   16 (23.36) Epsilon: 0.893, Avg Q: 1.845\n",
      "Episode: 107, Total Reward (running avg):   17 (23.05) Epsilon: 0.892, Avg Q: 1.84\n",
      "Episode: 108, Total Reward (running avg):   18 (22.79) Epsilon: 0.891, Avg Q: 1.865\n",
      "Episode: 109, Total Reward (running avg):   20 (22.65) Epsilon: 0.890, Avg Q: 1.874\n",
      "Episode: 110, Total Reward (running avg):   35 (23.27) Epsilon: 0.889, Avg Q: 1.904\n",
      "Episode: 111, Total Reward (running avg):   16 (22.91) Epsilon: 0.888, Avg Q: 1.873\n",
      "Episode: 112, Total Reward (running avg):   12 (22.36) Epsilon: 0.887, Avg Q: 1.832\n",
      "Episode: 113, Total Reward (running avg):   18 (22.14) Epsilon: 0.886, Avg Q: 1.869\n",
      "Episode: 114, Total Reward (running avg):   20 (22.04) Epsilon: 0.885, Avg Q: 1.87\n",
      "Episode: 115, Total Reward (running avg):   25 (22.18) Epsilon: 0.884, Avg Q: 1.903\n",
      "Episode: 116, Total Reward (running avg):   16 (21.88) Epsilon: 0.883, Avg Q: 1.899\n",
      "Episode: 117, Total Reward (running avg):   14 (21.48) Epsilon: 0.882, Avg Q: 1.861\n",
      "Episode: 118, Total Reward (running avg):   14 (21.11) Epsilon: 0.881, Avg Q: 1.85\n",
      "Episode: 119, Total Reward (running avg):   19 (21.00) Epsilon: 0.880, Avg Q: 1.884\n",
      "Episode: 120, Total Reward (running avg):   10 (20.45) Epsilon: 0.879, Avg Q: 1.859\n",
      "Episode: 121, Total Reward (running avg):   25 (20.68) Epsilon: 0.878, Avg Q: 1.919\n",
      "Episode: 122, Total Reward (running avg):   11 (20.20) Epsilon: 0.877, Avg Q: 1.876\n",
      "Episode: 123, Total Reward (running avg):   14 (19.89) Epsilon: 0.876, Avg Q: 1.872\n",
      "Episode: 124, Total Reward (running avg):   12 (19.49) Epsilon: 0.875, Avg Q: 1.823\n",
      "Episode: 125, Total Reward (running avg):   13 (19.17) Epsilon: 0.874, Avg Q: 1.885\n",
      "Episode: 126, Total Reward (running avg):   12 (18.81) Epsilon: 0.873, Avg Q: 1.865\n",
      "Episode: 127, Total Reward (running avg):   10 (18.37) Epsilon: 0.872, Avg Q: 1.836\n",
      "Episode: 128, Total Reward (running avg):   34 (19.15) Epsilon: 0.871, Avg Q: 1.882\n",
      "Episode: 129, Total Reward (running avg):   14 (18.89) Epsilon: 0.870, Avg Q: 1.882\n",
      "Episode: 130, Total Reward (running avg):   21 (19.00) Epsilon: 0.869, Avg Q: 1.896\n",
      "Episode: 131, Total Reward (running avg):   14 (18.75) Epsilon: 0.868, Avg Q: 1.864\n",
      "Episode: 132, Total Reward (running avg):   10 (18.31) Epsilon: 0.867, Avg Q: 1.833\n",
      "Episode: 133, Total Reward (running avg):   28 (18.79) Epsilon: 0.866, Avg Q: 1.966\n",
      "Episode: 134, Total Reward (running avg):   30 (19.36) Epsilon: 0.865, Avg Q: 1.904\n",
      "Episode: 135, Total Reward (running avg):   12 (18.99) Epsilon: 0.864, Avg Q: 1.838\n",
      "Episode: 136, Total Reward (running avg):   54 (20.74) Epsilon: 0.863, Avg Q: 2.156\n",
      "Episode: 137, Total Reward (running avg):   10 (20.20) Epsilon: 0.862, Avg Q: 1.805\n",
      "Episode: 138, Total Reward (running avg):   32 (20.79) Epsilon: 0.861, Avg Q: 1.88\n",
      "Episode: 139, Total Reward (running avg):   13 (20.40) Epsilon: 0.860, Avg Q: 1.84\n",
      "Episode: 140, Total Reward (running avg):   24 (20.58) Epsilon: 0.859, Avg Q: 1.901\n",
      "Episode: 141, Total Reward (running avg):    9 (20.00) Epsilon: 0.858, Avg Q: 1.939\n",
      "Episode: 142, Total Reward (running avg):   19 (19.95) Epsilon: 0.857, Avg Q: 2.389\n",
      "Episode: 143, Total Reward (running avg):   13 (19.60) Epsilon: 0.856, Avg Q: 2.541\n",
      "Episode: 144, Total Reward (running avg):   11 (19.17) Epsilon: 0.855, Avg Q: 2.605\n",
      "Episode: 145, Total Reward (running avg):   39 (20.17) Epsilon: 0.854, Avg Q: 3.035\n",
      "Episode: 146, Total Reward (running avg):   11 (19.71) Epsilon: 0.853, Avg Q: 2.599\n",
      "Episode: 147, Total Reward (running avg):   27 (20.07) Epsilon: 0.852, Avg Q: 2.628\n",
      "Episode: 148, Total Reward (running avg):   15 (19.82) Epsilon: 0.851, Avg Q: 2.593\n",
      "Episode: 149, Total Reward (running avg):   21 (19.88) Epsilon: 0.850, Avg Q: 2.677\n",
      "Episode: 150, Total Reward (running avg):   39 (20.83) Epsilon: 0.849, Avg Q: 2.726\n",
      "Episode: 151, Total Reward (running avg):   10 (20.29) Epsilon: 0.848, Avg Q: 2.58\n",
      "Episode: 152, Total Reward (running avg):   14 (19.98) Epsilon: 0.847, Avg Q: 2.615\n",
      "Episode: 153, Total Reward (running avg):   16 (19.78) Epsilon: 0.846, Avg Q: 2.678\n",
      "Episode: 154, Total Reward (running avg):   15 (19.54) Epsilon: 0.845, Avg Q: 2.656\n",
      "Episode: 155, Total Reward (running avg):   13 (19.21) Epsilon: 0.844, Avg Q: 2.623\n",
      "Episode: 156, Total Reward (running avg):   12 (18.85) Epsilon: 0.843, Avg Q: 2.606\n",
      "Episode: 157, Total Reward (running avg):   11 (18.46) Epsilon: 0.842, Avg Q: 2.594\n",
      "Episode: 158, Total Reward (running avg):   12 (18.14) Epsilon: 0.841, Avg Q: 2.625\n",
      "Episode: 159, Total Reward (running avg):   19 (18.18) Epsilon: 0.840, Avg Q: 2.697\n",
      "Episode: 160, Total Reward (running avg):    8 (17.67) Epsilon: 0.839, Avg Q: 2.529\n",
      "Episode: 161, Total Reward (running avg):   16 (17.59) Epsilon: 0.838, Avg Q: 2.656\n",
      "Episode: 162, Total Reward (running avg):   30 (18.21) Epsilon: 0.837, Avg Q: 2.716\n",
      "Episode: 163, Total Reward (running avg):   13 (17.95) Epsilon: 0.836, Avg Q: 2.652\n",
      "Episode: 164, Total Reward (running avg):   21 (18.10) Epsilon: 0.835, Avg Q: 2.701\n",
      "Episode: 165, Total Reward (running avg):   23 (18.34) Epsilon: 0.834, Avg Q: 2.71\n",
      "Episode: 166, Total Reward (running avg):   16 (18.23) Epsilon: 0.833, Avg Q: 2.659\n",
      "Episode: 167, Total Reward (running avg):   14 (18.02) Epsilon: 0.832, Avg Q: 2.526\n",
      "Episode: 168, Total Reward (running avg):   26 (18.42) Epsilon: 0.831, Avg Q: 2.742\n",
      "Episode: 169, Total Reward (running avg):   11 (18.04) Epsilon: 0.830, Avg Q: 2.54\n",
      "Episode: 170, Total Reward (running avg):   10 (17.64) Epsilon: 0.829, Avg Q: 2.542\n",
      "Episode: 171, Total Reward (running avg):   12 (17.36) Epsilon: 0.828, Avg Q: 2.552\n",
      "Episode: 172, Total Reward (running avg):   14 (17.19) Epsilon: 0.827, Avg Q: 2.626\n",
      "Episode: 173, Total Reward (running avg):   14 (17.03) Epsilon: 0.826, Avg Q: 2.66\n",
      "Episode: 174, Total Reward (running avg):   13 (16.83) Epsilon: 0.825, Avg Q: 2.591\n",
      "Episode: 175, Total Reward (running avg):   11 (16.54) Epsilon: 0.824, Avg Q: 2.595\n",
      "Episode: 176, Total Reward (running avg):   25 (16.96) Epsilon: 0.823, Avg Q: 2.711\n",
      "Episode: 177, Total Reward (running avg):   16 (16.91) Epsilon: 0.822, Avg Q: 2.647\n",
      "Episode: 178, Total Reward (running avg):   10 (16.57) Epsilon: 0.821, Avg Q: 2.534\n",
      "Episode: 179, Total Reward (running avg):   13 (16.39) Epsilon: 0.820, Avg Q: 2.621\n",
      "Episode: 180, Total Reward (running avg):   26 (16.87) Epsilon: 0.819, Avg Q: 2.66\n",
      "Episode: 181, Total Reward (running avg):   23 (17.18) Epsilon: 0.818, Avg Q: 2.707\n",
      "Episode: 182, Total Reward (running avg):   19 (17.27) Epsilon: 0.817, Avg Q: 2.643\n",
      "Episode: 183, Total Reward (running avg):   17 (17.25) Epsilon: 0.816, Avg Q: 2.614\n",
      "Episode: 184, Total Reward (running avg):   52 (18.99) Epsilon: 0.815, Avg Q: 2.779\n",
      "Episode: 185, Total Reward (running avg):   18 (18.94) Epsilon: 0.814, Avg Q: 2.645\n",
      "Episode: 186, Total Reward (running avg):   30 (19.50) Epsilon: 0.813, Avg Q: 2.778\n",
      "Episode: 187, Total Reward (running avg):   21 (19.57) Epsilon: 0.812, Avg Q: 2.701\n",
      "Episode: 188, Total Reward (running avg):   19 (19.54) Epsilon: 0.811, Avg Q: 2.656\n",
      "Episode: 189, Total Reward (running avg):   16 (19.37) Epsilon: 0.810, Avg Q: 2.628\n",
      "Episode: 190, Total Reward (running avg):   16 (19.20) Epsilon: 0.809, Avg Q: 2.678\n",
      "Episode: 191, Total Reward (running avg):   24 (19.44) Epsilon: 0.808, Avg Q: 2.685\n",
      "Episode: 192, Total Reward (running avg):   28 (19.87) Epsilon: 0.807, Avg Q: 2.802\n",
      "Episode: 193, Total Reward (running avg):   23 (20.02) Epsilon: 0.806, Avg Q: 2.727\n",
      "Episode: 194, Total Reward (running avg):   12 (19.62) Epsilon: 0.805, Avg Q: 2.591\n"
     ]
    },
    {
     "name": "stdout",
     "output_type": "stream",
     "text": [
      "Episode: 195, Total Reward (running avg):   14 (19.34) Epsilon: 0.804, Avg Q: 2.661\n",
      "Episode: 196, Total Reward (running avg):   33 (20.02) Epsilon: 0.803, Avg Q: 3.121\n",
      "Episode: 197, Total Reward (running avg):   24 (20.22) Epsilon: 0.802, Avg Q: 3.366\n",
      "Episode: 198, Total Reward (running avg):   18 (20.11) Epsilon: 0.801, Avg Q: 3.29\n",
      "Episode: 199, Total Reward (running avg):   14 (19.80) Epsilon: 0.800, Avg Q: 3.265\n",
      "Episode: 200, Total Reward (running avg):   10 (19.31) Epsilon: 0.799, Avg Q: 3.215\n",
      "Episode: 201, Total Reward (running avg):   10 (18.85) Epsilon: 0.798, Avg Q: 3.145\n",
      "Episode: 202, Total Reward (running avg):   31 (19.46) Epsilon: 0.797, Avg Q: 3.474\n",
      "Episode: 203, Total Reward (running avg):   89 (22.93) Epsilon: 0.796, Avg Q: 4.191\n",
      "Episode: 204, Total Reward (running avg):   23 (22.94) Epsilon: 0.795, Avg Q: 3.472\n",
      "Episode: 205, Total Reward (running avg):   18 (22.69) Epsilon: 0.794, Avg Q: 3.242\n",
      "Episode: 206, Total Reward (running avg):   44 (23.76) Epsilon: 0.793, Avg Q: 3.562\n",
      "Episode: 207, Total Reward (running avg):   11 (23.12) Epsilon: 0.792, Avg Q: 3.116\n",
      "Episode: 208, Total Reward (running avg):   32 (23.56) Epsilon: 0.791, Avg Q: 3.543\n",
      "Episode: 209, Total Reward (running avg):   12 (22.98) Epsilon: 0.790, Avg Q: 3.033\n",
      "Episode: 210, Total Reward (running avg):   30 (23.33) Epsilon: 0.789, Avg Q: 3.347\n",
      "Episode: 211, Total Reward (running avg):   31 (23.72) Epsilon: 0.788, Avg Q: 3.478\n",
      "Episode: 212, Total Reward (running avg):   85 (26.78) Epsilon: 0.787, Avg Q: 3.582\n",
      "Episode: 213, Total Reward (running avg):   20 (26.44) Epsilon: 0.786, Avg Q: 3.434\n",
      "Episode: 214, Total Reward (running avg):   15 (25.87) Epsilon: 0.785, Avg Q: 3.322\n",
      "Episode: 215, Total Reward (running avg):   30 (26.08) Epsilon: 0.784, Avg Q: 3.429\n",
      "Episode: 216, Total Reward (running avg):   47 (27.12) Epsilon: 0.783, Avg Q: 3.537\n",
      "Episode: 217, Total Reward (running avg):   17 (26.62) Epsilon: 0.782, Avg Q: 3.278\n",
      "Episode: 218, Total Reward (running avg):   41 (27.34) Epsilon: 0.781, Avg Q: 3.592\n",
      "Episode: 219, Total Reward (running avg):   98 (30.87) Epsilon: 0.780, Avg Q: 4.217\n",
      "Episode: 220, Total Reward (running avg):   34 (31.03) Epsilon: 0.779, Avg Q: 3.487\n",
      "Episode: 221, Total Reward (running avg):   35 (31.22) Epsilon: 0.778, Avg Q: 3.493\n",
      "Episode: 222, Total Reward (running avg):  149 (37.11) Epsilon: 0.777, Avg Q: 4.634\n",
      "Episode: 223, Total Reward (running avg):   23 (36.41) Epsilon: 0.776, Avg Q: 3.721\n",
      "Episode: 224, Total Reward (running avg):   66 (37.89) Epsilon: 0.775, Avg Q: 4.124\n",
      "Episode: 225, Total Reward (running avg):   31 (37.54) Epsilon: 0.774, Avg Q: 3.99\n",
      "Episode: 226, Total Reward (running avg):   29 (37.12) Epsilon: 0.773, Avg Q: 4.215\n",
      "Episode: 227, Total Reward (running avg):   52 (37.86) Epsilon: 0.772, Avg Q: 4.302\n",
      "Episode: 228, Total Reward (running avg):  130 (42.47) Epsilon: 0.771, Avg Q: 4.642\n",
      "Episode: 229, Total Reward (running avg):   38 (42.24) Epsilon: 0.770, Avg Q: 4.184\n",
      "Episode: 230, Total Reward (running avg):   15 (40.88) Epsilon: 0.769, Avg Q: 3.735\n",
      "Episode: 231, Total Reward (running avg):   27 (40.19) Epsilon: 0.768, Avg Q: 4.2\n",
      "Episode: 232, Total Reward (running avg):   24 (39.38) Epsilon: 0.767, Avg Q: 3.975\n",
      "Episode: 233, Total Reward (running avg):   28 (38.81) Epsilon: 0.766, Avg Q: 4.172\n",
      "Episode: 234, Total Reward (running avg):   20 (37.87) Epsilon: 0.765, Avg Q: 4.012\n",
      "Episode: 235, Total Reward (running avg):   29 (37.43) Epsilon: 0.764, Avg Q: 4.12\n",
      "Episode: 236, Total Reward (running avg):   27 (36.90) Epsilon: 0.763, Avg Q: 4.106\n",
      "Episode: 237, Total Reward (running avg):   16 (35.86) Epsilon: 0.762, Avg Q: 3.849\n",
      "Episode: 238, Total Reward (running avg):   64 (37.27) Epsilon: 0.761, Avg Q: 4.684\n",
      "Episode: 239, Total Reward (running avg):   22 (36.50) Epsilon: 0.760, Avg Q: 4.026\n",
      "Episode: 240, Total Reward (running avg):   36 (36.48) Epsilon: 0.759, Avg Q: 4.362\n",
      "Episode: 241, Total Reward (running avg):   13 (35.30) Epsilon: 0.758, Avg Q: 3.659\n",
      "Episode: 242, Total Reward (running avg):   18 (34.44) Epsilon: 0.757, Avg Q: 3.899\n",
      "Episode: 243, Total Reward (running avg):   14 (33.42) Epsilon: 0.756, Avg Q: 3.867\n",
      "Episode: 244, Total Reward (running avg):   46 (34.05) Epsilon: 0.755, Avg Q: 4.778\n",
      "Episode: 245, Total Reward (running avg):   24 (33.54) Epsilon: 0.754, Avg Q: 4.139\n",
      "Episode: 246, Total Reward (running avg):   42 (33.97) Epsilon: 0.753, Avg Q: 4.43\n",
      "Episode: 247, Total Reward (running avg):   14 (32.97) Epsilon: 0.752, Avg Q: 3.82\n",
      "Episode: 248, Total Reward (running avg):   29 (32.77) Epsilon: 0.751, Avg Q: 4.148\n",
      "Episode: 249, Total Reward (running avg):   23 (32.28) Epsilon: 0.750, Avg Q: 3.983\n",
      "Episode: 250, Total Reward (running avg):   24 (31.87) Epsilon: 0.749, Avg Q: 3.974\n",
      "Episode: 251, Total Reward (running avg):   54 (32.97) Epsilon: 0.748, Avg Q: 4.159\n",
      "Episode: 252, Total Reward (running avg):   40 (33.32) Epsilon: 0.747, Avg Q: 4.524\n",
      "Episode: 253, Total Reward (running avg):   43 (33.81) Epsilon: 0.746, Avg Q: 4.91\n",
      "Episode: 254, Total Reward (running avg):   14 (32.82) Epsilon: 0.745, Avg Q: 4.428\n",
      "Episode: 255, Total Reward (running avg):  122 (37.28) Epsilon: 0.744, Avg Q: 5.164\n",
      "Episode: 256, Total Reward (running avg):   72 (39.01) Epsilon: 0.743, Avg Q: 4.996\n",
      "Episode: 257, Total Reward (running avg):   62 (40.16) Epsilon: 0.742, Avg Q: 5.322\n",
      "Episode: 258, Total Reward (running avg):   75 (41.90) Epsilon: 0.741, Avg Q: 5.193\n",
      "Episode: 259, Total Reward (running avg):   33 (41.46) Epsilon: 0.740, Avg Q: 4.828\n",
      "Episode: 260, Total Reward (running avg):   53 (42.04) Epsilon: 0.739, Avg Q: 5.102\n",
      "Episode: 261, Total Reward (running avg):   60 (42.93) Epsilon: 0.738, Avg Q: 5.018\n",
      "Episode: 262, Total Reward (running avg):   27 (42.14) Epsilon: 0.737, Avg Q: 4.849\n",
      "Episode: 263, Total Reward (running avg):   74 (43.73) Epsilon: 0.736, Avg Q: 5.613\n",
      "Episode: 264, Total Reward (running avg):   27 (42.89) Epsilon: 0.735, Avg Q: 4.768\n",
      "Episode: 265, Total Reward (running avg):   22 (41.85) Epsilon: 0.734, Avg Q: 4.668\n",
      "Episode: 266, Total Reward (running avg):   52 (42.36) Epsilon: 0.733, Avg Q: 5.152\n",
      "Episode: 267, Total Reward (running avg):   69 (43.69) Epsilon: 0.732, Avg Q: 5.048\n",
      "Episode: 268, Total Reward (running avg):   23 (42.65) Epsilon: 0.731, Avg Q: 4.696\n",
      "Episode: 269, Total Reward (running avg):   35 (42.27) Epsilon: 0.730, Avg Q: 4.873\n",
      "Episode: 270, Total Reward (running avg):   12 (40.76) Epsilon: 0.729, Avg Q: 4.513\n",
      "Episode: 271, Total Reward (running avg):   45 (40.97) Epsilon: 0.728, Avg Q: 4.961\n",
      "Episode: 272, Total Reward (running avg):   39 (40.87) Epsilon: 0.727, Avg Q: 5.114\n",
      "Episode: 273, Total Reward (running avg):   70 (42.33) Epsilon: 0.726, Avg Q: 5.575\n",
      "Episode: 274, Total Reward (running avg):   18 (41.11) Epsilon: 0.725, Avg Q: 5.401\n",
      "Episode: 275, Total Reward (running avg):   44 (41.26) Epsilon: 0.724, Avg Q: 5.596\n",
      "Episode: 276, Total Reward (running avg):  100 (44.19) Epsilon: 0.723, Avg Q: 6.653\n",
      "Episode: 277, Total Reward (running avg):   21 (43.03) Epsilon: 0.722, Avg Q: 5.281\n",
      "Episode: 278, Total Reward (running avg):   32 (42.48) Epsilon: 0.721, Avg Q: 5.516\n",
      "Episode: 279, Total Reward (running avg):   83 (44.51) Epsilon: 0.720, Avg Q: 5.705\n",
      "Episode: 280, Total Reward (running avg):   50 (44.78) Epsilon: 0.719, Avg Q: 5.654\n",
      "Episode: 281, Total Reward (running avg):   15 (43.29) Epsilon: 0.718, Avg Q: 5.096\n",
      "Episode: 282, Total Reward (running avg):   55 (43.88) Epsilon: 0.717, Avg Q: 5.943\n",
      "Episode: 283, Total Reward (running avg):   33 (43.33) Epsilon: 0.716, Avg Q: 5.534\n",
      "Episode: 284, Total Reward (running avg):   15 (41.92) Epsilon: 0.715, Avg Q: 4.995\n",
      "Episode: 285, Total Reward (running avg):   42 (41.92) Epsilon: 0.714, Avg Q: 5.477\n",
      "Episode: 286, Total Reward (running avg):   50 (42.33) Epsilon: 0.713, Avg Q: 5.75\n",
      "Episode: 287, Total Reward (running avg):   24 (41.41) Epsilon: 0.712, Avg Q: 5.421\n",
      "Episode: 288, Total Reward (running avg):   55 (42.09) Epsilon: 0.711, Avg Q: 5.684\n",
      "Episode: 289, Total Reward (running avg):   62 (43.08) Epsilon: 0.710, Avg Q: 6.058\n",
      "Episode: 290, Total Reward (running avg):   18 (41.83) Epsilon: 0.709, Avg Q: 5.137\n",
      "Episode: 291, Total Reward (running avg):  119 (45.69) Epsilon: 0.708, Avg Q: 5.598\n",
      "Episode: 292, Total Reward (running avg):   30 (44.90) Epsilon: 0.707, Avg Q: 5.467\n"
     ]
    },
    {
     "name": "stdout",
     "output_type": "stream",
     "text": [
      "Episode: 293, Total Reward (running avg):   47 (45.01) Epsilon: 0.706, Avg Q: 5.585\n",
      "Episode: 294, Total Reward (running avg):   14 (43.46) Epsilon: 0.705, Avg Q: 5.047\n",
      "Episode: 295, Total Reward (running avg):   69 (44.74) Epsilon: 0.704, Avg Q: 5.955\n",
      "Episode: 296, Total Reward (running avg):   25 (43.75) Epsilon: 0.703, Avg Q: 5.877\n",
      "Episode: 297, Total Reward (running avg):   42 (43.66) Epsilon: 0.702, Avg Q: 6.121\n",
      "Episode: 298, Total Reward (running avg):   12 (42.08) Epsilon: 0.701, Avg Q: 5.121\n",
      "Episode: 299, Total Reward (running avg):   90 (44.47) Epsilon: 0.700, Avg Q: 6.735\n",
      "Episode: 300, Total Reward (running avg):   31 (43.80) Epsilon: 0.699, Avg Q: 6.009\n",
      "Episode: 301, Total Reward (running avg):   48 (44.01) Epsilon: 0.698, Avg Q: 6.251\n",
      "Episode: 302, Total Reward (running avg):   28 (43.21) Epsilon: 0.697, Avg Q: 5.987\n",
      "Episode: 303, Total Reward (running avg):   30 (42.55) Epsilon: 0.696, Avg Q: 6.117\n",
      "Episode: 304, Total Reward (running avg):   34 (42.12) Epsilon: 0.695, Avg Q: 6.18\n",
      "Episode: 305, Total Reward (running avg):  132 (46.62) Epsilon: 0.694, Avg Q: 6.519\n",
      "Episode: 306, Total Reward (running avg):   32 (45.89) Epsilon: 0.693, Avg Q: 5.93\n",
      "Episode: 307, Total Reward (running avg):   44 (45.79) Epsilon: 0.692, Avg Q: 6.292\n",
      "Episode: 308, Total Reward (running avg):   19 (44.45) Epsilon: 0.691, Avg Q: 5.818\n",
      "Episode: 309, Total Reward (running avg):   36 (44.03) Epsilon: 0.690, Avg Q: 6.133\n",
      "Episode: 310, Total Reward (running avg):   90 (46.33) Epsilon: 0.689, Avg Q: 6.308\n",
      "Episode: 311, Total Reward (running avg):   77 (47.86) Epsilon: 0.688, Avg Q: 6.579\n",
      "Episode: 312, Total Reward (running avg):   13 (46.12) Epsilon: 0.687, Avg Q: 5.418\n",
      "Episode: 313, Total Reward (running avg):   60 (46.81) Epsilon: 0.686, Avg Q: 6.166\n",
      "Episode: 314, Total Reward (running avg):   50 (46.97) Epsilon: 0.685, Avg Q: 6.674\n",
      "Episode: 315, Total Reward (running avg):   19 (45.57) Epsilon: 0.684, Avg Q: 5.722\n",
      "Episode: 316, Total Reward (running avg):  166 (51.59) Epsilon: 0.683, Avg Q: 6.819\n",
      "Episode: 317, Total Reward (running avg):   55 (51.76) Epsilon: 0.682, Avg Q: 6.881\n",
      "Episode: 318, Total Reward (running avg):   18 (50.08) Epsilon: 0.681, Avg Q: 6.244\n",
      "Episode: 319, Total Reward (running avg):  170 (56.07) Epsilon: 0.680, Avg Q: 7.298\n",
      "Episode: 320, Total Reward (running avg):   11 (53.82) Epsilon: 0.679, Avg Q: 5.776\n",
      "Episode: 321, Total Reward (running avg):   69 (54.58) Epsilon: 0.678, Avg Q: 7.118\n",
      "Episode: 322, Total Reward (running avg):  109 (57.30) Epsilon: 0.677, Avg Q: 7.102\n",
      "Episode: 323, Total Reward (running avg):   36 (56.23) Epsilon: 0.676, Avg Q: 6.726\n",
      "Episode: 324, Total Reward (running avg):   23 (54.57) Epsilon: 0.675, Avg Q: 6.368\n",
      "Episode: 325, Total Reward (running avg):   84 (56.04) Epsilon: 0.674, Avg Q: 7.035\n",
      "Episode: 326, Total Reward (running avg):   25 (54.49) Epsilon: 0.673, Avg Q: 6.593\n",
      "Episode: 327, Total Reward (running avg):   20 (52.77) Epsilon: 0.672, Avg Q: 6.335\n",
      "Episode: 328, Total Reward (running avg):   59 (53.08) Epsilon: 0.671, Avg Q: 7.304\n",
      "Episode: 329, Total Reward (running avg):   60 (53.42) Epsilon: 0.670, Avg Q: 6.809\n",
      "Episode: 330, Total Reward (running avg):   31 (52.30) Epsilon: 0.669, Avg Q: 6.395\n",
      "Episode: 331, Total Reward (running avg):   70 (53.19) Epsilon: 0.668, Avg Q: 7.107\n",
      "Episode: 332, Total Reward (running avg):   60 (53.53) Epsilon: 0.667, Avg Q: 7.053\n",
      "Episode: 333, Total Reward (running avg):  105 (56.10) Epsilon: 0.666, Avg Q: 7.871\n",
      "Episode: 334, Total Reward (running avg):   22 (54.40) Epsilon: 0.665, Avg Q: 6.945\n",
      "Episode: 335, Total Reward (running avg):   45 (53.93) Epsilon: 0.664, Avg Q: 7.315\n",
      "Episode: 336, Total Reward (running avg):   38 (53.13) Epsilon: 0.663, Avg Q: 7.274\n",
      "Episode: 337, Total Reward (running avg):  128 (56.87) Epsilon: 0.662, Avg Q: 7.525\n",
      "Episode: 338, Total Reward (running avg):   85 (58.28) Epsilon: 0.661, Avg Q: 7.57\n",
      "Episode: 339, Total Reward (running avg):   31 (56.92) Epsilon: 0.660, Avg Q: 7.172\n",
      "Episode: 340, Total Reward (running avg):   57 (56.92) Epsilon: 0.659, Avg Q: 7.469\n",
      "Episode: 341, Total Reward (running avg):   60 (57.07) Epsilon: 0.658, Avg Q: 7.427\n",
      "Episode: 342, Total Reward (running avg):   13 (54.87) Epsilon: 0.657, Avg Q: 6.459\n",
      "Episode: 343, Total Reward (running avg):   29 (53.58) Epsilon: 0.656, Avg Q: 6.975\n",
      "Episode: 344, Total Reward (running avg):   75 (54.65) Epsilon: 0.655, Avg Q: 7.497\n",
      "Episode: 345, Total Reward (running avg):   99 (56.87) Epsilon: 0.654, Avg Q: 7.677\n",
      "Episode: 346, Total Reward (running avg):   22 (55.12) Epsilon: 0.653, Avg Q: 6.753\n",
      "Episode: 347, Total Reward (running avg):   23 (53.52) Epsilon: 0.652, Avg Q: 7.036\n",
      "Episode: 348, Total Reward (running avg):   86 (55.14) Epsilon: 0.651, Avg Q: 7.743\n",
      "Episode: 349, Total Reward (running avg):   32 (53.98) Epsilon: 0.650, Avg Q: 7.352\n",
      "Episode: 350, Total Reward (running avg):   42 (53.38) Epsilon: 0.649, Avg Q: 7.376\n",
      "Episode: 351, Total Reward (running avg):   34 (52.42) Epsilon: 0.648, Avg Q: 7.751\n",
      "Episode: 352, Total Reward (running avg):   43 (51.94) Epsilon: 0.647, Avg Q: 7.724\n",
      "Episode: 353, Total Reward (running avg):   22 (50.45) Epsilon: 0.646, Avg Q: 7.476\n",
      "Episode: 354, Total Reward (running avg):   43 (50.08) Epsilon: 0.645, Avg Q: 7.54\n",
      "Episode: 355, Total Reward (running avg):   99 (52.52) Epsilon: 0.644, Avg Q: 8.27\n",
      "Episode: 356, Total Reward (running avg):   27 (51.25) Epsilon: 0.643, Avg Q: 7.516\n",
      "Episode: 357, Total Reward (running avg):   63 (51.83) Epsilon: 0.642, Avg Q: 8.016\n",
      "Episode: 358, Total Reward (running avg):  135 (55.99) Epsilon: 0.641, Avg Q: 8.158\n",
      "Episode: 359, Total Reward (running avg):   99 (58.14) Epsilon: 0.640, Avg Q: 8.218\n",
      "Episode: 360, Total Reward (running avg):   77 (59.08) Epsilon: 0.639, Avg Q: 7.9\n",
      "Episode: 361, Total Reward (running avg):   14 (56.83) Epsilon: 0.638, Avg Q: 6.575\n",
      "Episode: 362, Total Reward (running avg):   60 (56.99) Epsilon: 0.637, Avg Q: 7.981\n",
      "Episode: 363, Total Reward (running avg):  120 (60.14) Epsilon: 0.636, Avg Q: 8.179\n",
      "Episode: 364, Total Reward (running avg):  120 (63.13) Epsilon: 0.635, Avg Q: 8.14\n",
      "Episode: 365, Total Reward (running avg):   30 (61.48) Epsilon: 0.634, Avg Q: 7.643\n",
      "Episode: 366, Total Reward (running avg):  157 (66.25) Epsilon: 0.633, Avg Q: 9.091\n",
      "Episode: 367, Total Reward (running avg):   63 (66.09) Epsilon: 0.632, Avg Q: 8.468\n",
      "Episode: 368, Total Reward (running avg):   27 (64.14) Epsilon: 0.631, Avg Q: 8.067\n",
      "Episode: 369, Total Reward (running avg):   67 (64.28) Epsilon: 0.630, Avg Q: 8.48\n",
      "Episode: 370, Total Reward (running avg):  145 (68.31) Epsilon: 0.629, Avg Q: 8.814\n",
      "Episode: 371, Total Reward (running avg):   49 (67.35) Epsilon: 0.628, Avg Q: 8.54\n",
      "Episode: 372, Total Reward (running avg):   22 (65.08) Epsilon: 0.627, Avg Q: 7.94\n",
      "Episode: 373, Total Reward (running avg):   34 (63.53) Epsilon: 0.626, Avg Q: 8.244\n",
      "Episode: 374, Total Reward (running avg):   61 (63.40) Epsilon: 0.625, Avg Q: 8.568\n",
      "Episode: 375, Total Reward (running avg):   52 (62.83) Epsilon: 0.624, Avg Q: 8.662\n",
      "Episode: 376, Total Reward (running avg):  142 (66.79) Epsilon: 0.623, Avg Q: 8.779\n",
      "Episode: 377, Total Reward (running avg):   77 (67.30) Epsilon: 0.622, Avg Q: 8.752\n",
      "Episode: 378, Total Reward (running avg):   87 (68.28) Epsilon: 0.621, Avg Q: 8.685\n",
      "Episode: 379, Total Reward (running avg):   70 (68.37) Epsilon: 0.620, Avg Q: 8.995\n",
      "Episode: 380, Total Reward (running avg):  126 (71.25) Epsilon: 0.619, Avg Q: 9.222\n",
      "Episode: 381, Total Reward (running avg):  179 (76.64) Epsilon: 0.618, Avg Q: 9.497\n",
      "Episode: 382, Total Reward (running avg):  138 (79.71) Epsilon: 0.617, Avg Q: 9.479\n",
      "Episode: 383, Total Reward (running avg):  182 (84.82) Epsilon: 0.616, Avg Q: 9.396\n",
      "Episode: 384, Total Reward (running avg):   82 (84.68) Epsilon: 0.615, Avg Q: 9.059\n",
      "Episode: 385, Total Reward (running avg):   28 (81.85) Epsilon: 0.614, Avg Q: 8.787\n",
      "Episode: 386, Total Reward (running avg):   58 (80.65) Epsilon: 0.613, Avg Q: 9.163\n",
      "Episode: 387, Total Reward (running avg):   65 (79.87) Epsilon: 0.612, Avg Q: 9.046\n",
      "Episode: 388, Total Reward (running avg):  200 (85.88) Epsilon: 0.611, Avg Q: 9.547\n",
      "Episode: 389, Total Reward (running avg):  200 (91.58) Epsilon: 0.610, Avg Q: 10.02\n",
      "Episode: 390, Total Reward (running avg):   32 (88.61) Epsilon: 0.609, Avg Q: 9.191\n"
     ]
    },
    {
     "name": "stdout",
     "output_type": "stream",
     "text": [
      "Episode: 391, Total Reward (running avg):   90 (88.67) Epsilon: 0.608, Avg Q: 9.737\n",
      "Episode: 392, Total Reward (running avg):  101 (89.29) Epsilon: 0.607, Avg Q: 9.779\n",
      "Episode: 393, Total Reward (running avg):   91 (89.38) Epsilon: 0.606, Avg Q: 9.679\n",
      "Episode: 394, Total Reward (running avg):   38 (86.81) Epsilon: 0.605, Avg Q: 9.41\n",
      "Episode: 395, Total Reward (running avg):   23 (83.62) Epsilon: 0.604, Avg Q: 8.71\n",
      "Episode: 396, Total Reward (running avg):   51 (81.99) Epsilon: 0.603, Avg Q: 9.487\n",
      "Episode: 397, Total Reward (running avg):   73 (81.54) Epsilon: 0.602, Avg Q: 9.701\n",
      "Episode: 398, Total Reward (running avg):   78 (81.36) Epsilon: 0.601, Avg Q: 9.455\n",
      "Episode: 399, Total Reward (running avg):   19 (78.24) Epsilon: 0.600, Avg Q: 8.175\n",
      "Episode: 400, Total Reward (running avg):   35 (76.08) Epsilon: 0.599, Avg Q: 9.004\n",
      "Episode: 401, Total Reward (running avg):   39 (74.23) Epsilon: 0.598, Avg Q: 9.329\n",
      "Episode: 402, Total Reward (running avg):   60 (73.51) Epsilon: 0.597, Avg Q: 9.871\n",
      "Episode: 403, Total Reward (running avg):   18 (70.74) Epsilon: 0.596, Avg Q: 9.246\n",
      "Episode: 404, Total Reward (running avg):  118 (73.10) Epsilon: 0.595, Avg Q: 10.31\n",
      "Episode: 405, Total Reward (running avg):  200 (79.45) Epsilon: 0.594, Avg Q: 10.5\n",
      "Episode: 406, Total Reward (running avg):   20 (76.47) Epsilon: 0.593, Avg Q: 9.286\n",
      "Episode: 407, Total Reward (running avg):   56 (75.45) Epsilon: 0.592, Avg Q: 10.07\n",
      "Episode: 408, Total Reward (running avg):  126 (77.98) Epsilon: 0.591, Avg Q: 10.24\n",
      "Episode: 409, Total Reward (running avg):   65 (77.33) Epsilon: 0.590, Avg Q: 10.07\n",
      "Episode: 410, Total Reward (running avg):   84 (77.66) Epsilon: 0.589, Avg Q: 10.07\n",
      "Episode: 411, Total Reward (running avg):  200 (83.78) Epsilon: 0.588, Avg Q: 10.5\n",
      "Episode: 412, Total Reward (running avg):   22 (80.69) Epsilon: 0.587, Avg Q: 9.156\n",
      "Episode: 413, Total Reward (running avg):  200 (86.66) Epsilon: 0.586, Avg Q: 10.64\n",
      "Episode: 414, Total Reward (running avg):  200 (92.32) Epsilon: 0.585, Avg Q: 11.01\n",
      "Episode: 415, Total Reward (running avg):   48 (90.11) Epsilon: 0.584, Avg Q: 10.28\n",
      "Episode: 416, Total Reward (running avg):   69 (89.05) Epsilon: 0.583, Avg Q: 10.62\n",
      "Episode: 417, Total Reward (running avg):   58 (87.50) Epsilon: 0.582, Avg Q: 10.56\n",
      "Episode: 418, Total Reward (running avg):  128 (89.52) Epsilon: 0.581, Avg Q: 10.35\n",
      "Episode: 419, Total Reward (running avg):   61 (88.10) Epsilon: 0.580, Avg Q: 10.61\n",
      "Episode: 420, Total Reward (running avg):   90 (88.19) Epsilon: 0.579, Avg Q: 10.47\n",
      "Episode: 421, Total Reward (running avg):  127 (90.13) Epsilon: 0.578, Avg Q: 10.72\n",
      "Episode: 422, Total Reward (running avg):   45 (87.88) Epsilon: 0.577, Avg Q: 10.4\n",
      "Episode: 423, Total Reward (running avg):  200 (93.48) Epsilon: 0.576, Avg Q: 11.26\n",
      "Episode: 424, Total Reward (running avg):   29 (90.26) Epsilon: 0.575, Avg Q: 10.42\n",
      "Episode: 425, Total Reward (running avg):  146 (93.05) Epsilon: 0.574, Avg Q: 11.35\n",
      "Episode: 426, Total Reward (running avg):  200 (98.39) Epsilon: 0.573, Avg Q: 11.31\n",
      "Episode: 427, Total Reward (running avg):  136 (100.27) Epsilon: 0.572, Avg Q: 11.05\n",
      "Episode: 428, Total Reward (running avg):  146 (102.56) Epsilon: 0.571, Avg Q: 11.28\n",
      "Episode: 429, Total Reward (running avg):   84 (101.63) Epsilon: 0.570, Avg Q: 11.1\n",
      "Episode: 430, Total Reward (running avg):   33 (98.20) Epsilon: 0.569, Avg Q: 10.53\n",
      "Episode: 431, Total Reward (running avg):   82 (97.39) Epsilon: 0.568, Avg Q: 11.15\n",
      "Episode: 432, Total Reward (running avg):   37 (94.37) Epsilon: 0.567, Avg Q: 11.1\n",
      "Episode: 433, Total Reward (running avg):   83 (93.80) Epsilon: 0.566, Avg Q: 11.67\n",
      "Episode: 434, Total Reward (running avg):  200 (99.11) Epsilon: 0.565, Avg Q: 11.76\n",
      "Episode: 435, Total Reward (running avg):  129 (100.61) Epsilon: 0.564, Avg Q: 11.46\n",
      "Episode: 436, Total Reward (running avg):   53 (98.23) Epsilon: 0.563, Avg Q: 11.43\n",
      "Episode: 437, Total Reward (running avg):   67 (96.67) Epsilon: 0.562, Avg Q: 11.44\n",
      "Episode: 438, Total Reward (running avg):  136 (98.63) Epsilon: 0.561, Avg Q: 11.72\n",
      "Episode: 439, Total Reward (running avg):   17 (94.55) Epsilon: 0.560, Avg Q: 9.827\n",
      "Episode: 440, Total Reward (running avg):  143 (96.97) Epsilon: 0.559, Avg Q: 11.69\n",
      "Episode: 441, Total Reward (running avg):  200 (102.12) Epsilon: 0.558, Avg Q: 11.99\n",
      "Episode: 442, Total Reward (running avg):   59 (99.97) Epsilon: 0.557, Avg Q: 11.76\n",
      "Episode: 443, Total Reward (running avg):   57 (97.82) Epsilon: 0.556, Avg Q: 11.9\n",
      "Episode: 444, Total Reward (running avg):   24 (94.13) Epsilon: 0.555, Avg Q: 11.01\n",
      "Episode: 445, Total Reward (running avg):  160 (97.42) Epsilon: 0.554, Avg Q: 12.08\n",
      "Episode: 446, Total Reward (running avg):  107 (97.90) Epsilon: 0.553, Avg Q: 12.06\n",
      "Episode: 447, Total Reward (running avg):   23 (94.16) Epsilon: 0.552, Avg Q: 11.1\n",
      "Episode: 448, Total Reward (running avg):   31 (91.00) Epsilon: 0.551, Avg Q: 11.21\n",
      "Episode: 449, Total Reward (running avg):  193 (96.10) Epsilon: 0.550, Avg Q: 12.33\n",
      "Episode: 450, Total Reward (running avg):  164 (99.49) Epsilon: 0.549, Avg Q: 12.13\n",
      "Episode: 451, Total Reward (running avg):  107 (99.87) Epsilon: 0.548, Avg Q: 12.26\n",
      "Episode: 452, Total Reward (running avg):   27 (96.23) Epsilon: 0.547, Avg Q: 11.59\n",
      "Episode: 453, Total Reward (running avg):   19 (92.36) Epsilon: 0.546, Avg Q: 11.12\n",
      "Episode: 454, Total Reward (running avg):   75 (91.50) Epsilon: 0.545, Avg Q: 12.31\n",
      "Episode: 455, Total Reward (running avg):  133 (93.57) Epsilon: 0.544, Avg Q: 12.49\n",
      "Episode: 456, Total Reward (running avg):   30 (90.39) Epsilon: 0.543, Avg Q: 11.71\n",
      "Episode: 457, Total Reward (running avg):   33 (87.52) Epsilon: 0.542, Avg Q: 11.67\n",
      "Episode: 458, Total Reward (running avg):  142 (90.25) Epsilon: 0.541, Avg Q: 12.25\n",
      "Episode: 459, Total Reward (running avg):   43 (87.88) Epsilon: 0.540, Avg Q: 11.75\n",
      "Episode: 460, Total Reward (running avg):  177 (92.34) Epsilon: 0.539, Avg Q: 12.74\n",
      "Episode: 461, Total Reward (running avg):   15 (88.47) Epsilon: 0.538, Avg Q: 10.22\n",
      "Episode: 462, Total Reward (running avg):  200 (94.05) Epsilon: 0.537, Avg Q: 12.84\n",
      "Episode: 463, Total Reward (running avg):   49 (91.80) Epsilon: 0.536, Avg Q: 12.1\n",
      "Episode: 464, Total Reward (running avg):   75 (90.96) Epsilon: 0.535, Avg Q: 12.45\n",
      "Episode: 465, Total Reward (running avg):  146 (93.71) Epsilon: 0.534, Avg Q: 12.93\n",
      "Episode: 466, Total Reward (running avg):   66 (92.32) Epsilon: 0.533, Avg Q: 12.76\n",
      "Episode: 467, Total Reward (running avg):   89 (92.16) Epsilon: 0.532, Avg Q: 12.14\n",
      "Episode: 468, Total Reward (running avg):   54 (90.25) Epsilon: 0.531, Avg Q: 12.68\n",
      "Episode: 469, Total Reward (running avg):  200 (95.74) Epsilon: 0.530, Avg Q: 12.93\n",
      "Episode: 470, Total Reward (running avg):  200 (100.95) Epsilon: 0.529, Avg Q: 12.98\n",
      "Episode: 471, Total Reward (running avg):   69 (99.35) Epsilon: 0.528, Avg Q: 12.53\n",
      "Episode: 472, Total Reward (running avg):  200 (104.39) Epsilon: 0.527, Avg Q: 13.02\n",
      "Episode: 473, Total Reward (running avg):  183 (108.32) Epsilon: 0.526, Avg Q: 13.26\n",
      "Episode: 474, Total Reward (running avg):  116 (108.70) Epsilon: 0.525, Avg Q: 13.13\n",
      "Episode: 475, Total Reward (running avg):  200 (113.27) Epsilon: 0.524, Avg Q: 13.1\n",
      "Episode: 476, Total Reward (running avg):  118 (113.50) Epsilon: 0.523, Avg Q: 12.8\n",
      "Episode: 477, Total Reward (running avg):  200 (117.83) Epsilon: 0.522, Avg Q: 13.23\n",
      "Episode: 478, Total Reward (running avg):  200 (121.94) Epsilon: 0.521, Avg Q: 13.3\n",
      "Episode: 479, Total Reward (running avg):  184 (125.04) Epsilon: 0.520, Avg Q: 13.57\n",
      "Episode: 480, Total Reward (running avg):   28 (120.19) Epsilon: 0.519, Avg Q: 12.59\n",
      "Episode: 481, Total Reward (running avg):   88 (118.58) Epsilon: 0.518, Avg Q: 13.58\n",
      "Episode: 482, Total Reward (running avg):  200 (122.65) Epsilon: 0.517, Avg Q: 13.6\n",
      "Episode: 483, Total Reward (running avg):   62 (119.62) Epsilon: 0.516, Avg Q: 13.39\n",
      "Episode: 484, Total Reward (running avg):   37 (115.49) Epsilon: 0.515, Avg Q: 13.12\n",
      "Episode: 485, Total Reward (running avg):   79 (113.66) Epsilon: 0.514, Avg Q: 13.29\n",
      "Episode: 486, Total Reward (running avg):  108 (113.38) Epsilon: 0.513, Avg Q: 13.5\n",
      "Episode: 487, Total Reward (running avg):  170 (116.21) Epsilon: 0.512, Avg Q: 13.58\n",
      "Episode: 488, Total Reward (running avg):  137 (117.25) Epsilon: 0.511, Avg Q: 13.53\n"
     ]
    },
    {
     "name": "stdout",
     "output_type": "stream",
     "text": [
      "Episode: 489, Total Reward (running avg):   42 (113.49) Epsilon: 0.510, Avg Q: 12.91\n",
      "Episode: 490, Total Reward (running avg):  139 (114.76) Epsilon: 0.509, Avg Q: 13.33\n",
      "Episode: 491, Total Reward (running avg):  155 (116.77) Epsilon: 0.508, Avg Q: 13.41\n",
      "Episode: 492, Total Reward (running avg):  200 (120.94) Epsilon: 0.507, Avg Q: 13.81\n",
      "Episode: 493, Total Reward (running avg):  153 (122.54) Epsilon: 0.506, Avg Q: 13.69\n",
      "Episode: 494, Total Reward (running avg):  200 (126.41) Epsilon: 0.505, Avg Q: 14.01\n",
      "Episode: 495, Total Reward (running avg):  162 (128.19) Epsilon: 0.504, Avg Q: 14.42\n",
      "Episode: 496, Total Reward (running avg):   49 (124.23) Epsilon: 0.503, Avg Q: 13.9\n",
      "Episode: 497, Total Reward (running avg):  116 (123.82) Epsilon: 0.502, Avg Q: 14.1\n",
      "Episode: 498, Total Reward (running avg):   99 (122.58) Epsilon: 0.501, Avg Q: 13.86\n",
      "Episode: 499, Total Reward (running avg):  102 (121.55) Epsilon: 0.500, Avg Q: 14.29\n",
      "Episode: 500, Total Reward (running avg):  200 (125.47) Epsilon: 0.499, Avg Q: 14.06\n",
      "Episode: 501, Total Reward (running avg):  200 (129.20) Epsilon: 0.498, Avg Q: 13.63\n",
      "Episode: 502, Total Reward (running avg):   22 (123.84) Epsilon: 0.497, Avg Q: 12.77\n",
      "Episode: 503, Total Reward (running avg):  114 (123.35) Epsilon: 0.496, Avg Q: 14.61\n",
      "Episode: 504, Total Reward (running avg):  200 (127.18) Epsilon: 0.495, Avg Q: 14.69\n",
      "Episode: 505, Total Reward (running avg):  159 (128.77) Epsilon: 0.494, Avg Q: 14.62\n",
      "Episode: 506, Total Reward (running avg):   13 (122.98) Epsilon: 0.493, Avg Q: 10.97\n",
      "Episode: 507, Total Reward (running avg):   61 (119.88) Epsilon: 0.492, Avg Q: 14.26\n",
      "Episode: 508, Total Reward (running avg):  200 (123.89) Epsilon: 0.491, Avg Q: 14.91\n",
      "Episode: 509, Total Reward (running avg):  163 (125.84) Epsilon: 0.490, Avg Q: 14.67\n",
      "Episode: 510, Total Reward (running avg):  100 (124.55) Epsilon: 0.489, Avg Q: 14.17\n",
      "Episode: 511, Total Reward (running avg):  200 (128.32) Epsilon: 0.488, Avg Q: 14.66\n",
      "Episode: 512, Total Reward (running avg):  200 (131.91) Epsilon: 0.487, Avg Q: 14.39\n",
      "Episode: 513, Total Reward (running avg):   68 (128.71) Epsilon: 0.486, Avg Q: 14.31\n",
      "Episode: 514, Total Reward (running avg):  172 (130.88) Epsilon: 0.485, Avg Q: 14.47\n",
      "Episode: 515, Total Reward (running avg):  200 (134.33) Epsilon: 0.484, Avg Q: 14.64\n",
      "Episode: 516, Total Reward (running avg):  200 (137.62) Epsilon: 0.483, Avg Q: 14.73\n",
      "Episode: 517, Total Reward (running avg):  160 (138.74) Epsilon: 0.482, Avg Q: 14.98\n",
      "Episode: 518, Total Reward (running avg):  200 (141.80) Epsilon: 0.481, Avg Q: 15.12\n",
      "Episode: 519, Total Reward (running avg):   36 (136.51) Epsilon: 0.480, Avg Q: 13.72\n",
      "Episode: 520, Total Reward (running avg):   46 (131.98) Epsilon: 0.479, Avg Q: 14.34\n",
      "Episode: 521, Total Reward (running avg):  200 (135.38) Epsilon: 0.478, Avg Q: 14.82\n",
      "Episode: 522, Total Reward (running avg):  162 (136.72) Epsilon: 0.477, Avg Q: 14.38\n",
      "Episode: 523, Total Reward (running avg):  140 (136.88) Epsilon: 0.476, Avg Q: 15.2\n",
      "Episode: 524, Total Reward (running avg):  200 (140.04) Epsilon: 0.475, Avg Q: 14.78\n",
      "Episode: 525, Total Reward (running avg):  200 (143.03) Epsilon: 0.474, Avg Q: 15.62\n",
      "Episode: 526, Total Reward (running avg):   58 (138.78) Epsilon: 0.473, Avg Q: 14.87\n",
      "Episode: 527, Total Reward (running avg):   15 (132.59) Epsilon: 0.472, Avg Q: 12.03\n",
      "Episode: 528, Total Reward (running avg):  200 (135.96) Epsilon: 0.471, Avg Q: 15.35\n",
      "Episode: 529, Total Reward (running avg):  200 (139.17) Epsilon: 0.470, Avg Q: 15.22\n",
      "Episode: 530, Total Reward (running avg):  200 (142.21) Epsilon: 0.469, Avg Q: 15.64\n",
      "Episode: 531, Total Reward (running avg):   69 (138.55) Epsilon: 0.468, Avg Q: 14.51\n",
      "Episode: 532, Total Reward (running avg):  200 (141.62) Epsilon: 0.467, Avg Q: 15.24\n",
      "Episode: 533, Total Reward (running avg):  200 (144.54) Epsilon: 0.466, Avg Q: 15.63\n",
      "Episode: 534, Total Reward (running avg):  161 (145.36) Epsilon: 0.465, Avg Q: 15\n",
      "Episode: 535, Total Reward (running avg):   52 (140.69) Epsilon: 0.464, Avg Q: 14.65\n",
      "Episode: 536, Total Reward (running avg):  200 (143.66) Epsilon: 0.463, Avg Q: 15.28\n",
      "Episode: 537, Total Reward (running avg):  200 (146.48) Epsilon: 0.462, Avg Q: 15.92\n",
      "Episode: 538, Total Reward (running avg):  182 (148.25) Epsilon: 0.461, Avg Q: 15.16\n",
      "Episode: 539, Total Reward (running avg):  200 (150.84) Epsilon: 0.460, Avg Q: 15.94\n",
      "Episode: 540, Total Reward (running avg):  124 (149.50) Epsilon: 0.459, Avg Q: 15.54\n",
      "Episode: 541, Total Reward (running avg):   79 (145.97) Epsilon: 0.458, Avg Q: 14.75\n",
      "Episode: 542, Total Reward (running avg):  200 (148.67) Epsilon: 0.457, Avg Q: 14.96\n",
      "Episode: 543, Total Reward (running avg):  200 (151.24) Epsilon: 0.456, Avg Q: 15.65\n",
      "Episode: 544, Total Reward (running avg):   42 (145.78) Epsilon: 0.455, Avg Q: 14.51\n",
      "Episode: 545, Total Reward (running avg):  200 (148.49) Epsilon: 0.454, Avg Q: 15.73\n",
      "Episode: 546, Total Reward (running avg):  137 (147.91) Epsilon: 0.453, Avg Q: 15.56\n",
      "Episode: 547, Total Reward (running avg):  187 (149.87) Epsilon: 0.452, Avg Q: 15.86\n",
      "Episode: 548, Total Reward (running avg):  200 (152.38) Epsilon: 0.451, Avg Q: 15.87\n",
      "Episode: 549, Total Reward (running avg):   47 (147.11) Epsilon: 0.450, Avg Q: 14.99\n",
      "Episode: 550, Total Reward (running avg):  200 (149.75) Epsilon: 0.449, Avg Q: 16.24\n",
      "Episode: 551, Total Reward (running avg):  200 (152.26) Epsilon: 0.448, Avg Q: 16.38\n",
      "Episode: 552, Total Reward (running avg):   62 (147.75) Epsilon: 0.447, Avg Q: 15.53\n",
      "Episode: 553, Total Reward (running avg):  200 (150.36) Epsilon: 0.446, Avg Q: 16.28\n",
      "Episode: 554, Total Reward (running avg):  200 (152.85) Epsilon: 0.445, Avg Q: 16.36\n",
      "Episode: 555, Total Reward (running avg):   22 (146.30) Epsilon: 0.444, Avg Q: 13.87\n",
      "Episode: 556, Total Reward (running avg):  200 (148.99) Epsilon: 0.443, Avg Q: 16.23\n",
      "Episode: 557, Total Reward (running avg):  200 (151.54) Epsilon: 0.442, Avg Q: 16.34\n",
      "Episode: 558, Total Reward (running avg):  175 (152.71) Epsilon: 0.441, Avg Q: 16.24\n",
      "Episode: 559, Total Reward (running avg):   73 (148.73) Epsilon: 0.440, Avg Q: 15.95\n",
      "Episode: 560, Total Reward (running avg):  200 (151.29) Epsilon: 0.439, Avg Q: 15.81\n",
      "Episode: 561, Total Reward (running avg):   96 (148.52) Epsilon: 0.438, Avg Q: 16.19\n",
      "Episode: 562, Total Reward (running avg):  181 (150.15) Epsilon: 0.437, Avg Q: 15.63\n",
      "Episode: 563, Total Reward (running avg):  200 (152.64) Epsilon: 0.436, Avg Q: 16.48\n",
      "Episode: 564, Total Reward (running avg):  192 (154.61) Epsilon: 0.435, Avg Q: 16.3\n",
      "Episode: 565, Total Reward (running avg):  200 (156.88) Epsilon: 0.434, Avg Q: 16.71\n",
      "Episode: 566, Total Reward (running avg):  157 (156.88) Epsilon: 0.433, Avg Q: 16.03\n",
      "Episode: 567, Total Reward (running avg):   74 (152.74) Epsilon: 0.432, Avg Q: 15.85\n",
      "Episode: 568, Total Reward (running avg):  197 (154.95) Epsilon: 0.431, Avg Q: 15.34\n",
      "Episode: 569, Total Reward (running avg):  200 (157.21) Epsilon: 0.430, Avg Q: 16.6\n",
      "Episode: 570, Total Reward (running avg):   25 (150.60) Epsilon: 0.429, Avg Q: 14.96\n",
      "Episode: 571, Total Reward (running avg):  200 (153.07) Epsilon: 0.428, Avg Q: 16.93\n",
      "Episode: 572, Total Reward (running avg):  200 (155.41) Epsilon: 0.427, Avg Q: 16.45\n",
      "Episode: 573, Total Reward (running avg):  200 (157.64) Epsilon: 0.426, Avg Q: 16.65\n",
      "Episode: 574, Total Reward (running avg):  112 (155.36) Epsilon: 0.425, Avg Q: 16.02\n",
      "Episode: 575, Total Reward (running avg):  188 (156.99) Epsilon: 0.424, Avg Q: 15.91\n",
      "Episode: 576, Total Reward (running avg):  132 (155.74) Epsilon: 0.423, Avg Q: 16.75\n",
      "Episode: 577, Total Reward (running avg):  200 (157.96) Epsilon: 0.422, Avg Q: 16.09\n",
      "Episode: 578, Total Reward (running avg):   47 (152.41) Epsilon: 0.421, Avg Q: 16.07\n",
      "Episode: 579, Total Reward (running avg):  200 (154.79) Epsilon: 0.420, Avg Q: 16.93\n",
      "Episode: 580, Total Reward (running avg):   19 (148.00) Epsilon: 0.419, Avg Q: 13.75\n",
      "Episode: 581, Total Reward (running avg):  200 (150.60) Epsilon: 0.418, Avg Q: 17.05\n",
      "Episode: 582, Total Reward (running avg):  200 (153.07) Epsilon: 0.417, Avg Q: 16.96\n",
      "Episode: 583, Total Reward (running avg):  103 (150.56) Epsilon: 0.416, Avg Q: 16.44\n",
      "Episode: 584, Total Reward (running avg):  200 (153.04) Epsilon: 0.415, Avg Q: 17.2\n",
      "Episode: 585, Total Reward (running avg):  200 (155.38) Epsilon: 0.414, Avg Q: 16.97\n"
     ]
    },
    {
     "name": "stdout",
     "output_type": "stream",
     "text": [
      "Episode: 586, Total Reward (running avg):  200 (157.62) Epsilon: 0.413, Avg Q: 16.44\n",
      "Episode: 587, Total Reward (running avg):  190 (159.23) Epsilon: 0.412, Avg Q: 15.26\n",
      "Episode: 588, Total Reward (running avg):  200 (161.27) Epsilon: 0.411, Avg Q: 17.02\n",
      "Episode: 589, Total Reward (running avg):   64 (156.41) Epsilon: 0.410, Avg Q: 16.37\n",
      "Episode: 590, Total Reward (running avg):  200 (158.59) Epsilon: 0.409, Avg Q: 17.24\n",
      "Episode: 591, Total Reward (running avg):  200 (160.66) Epsilon: 0.408, Avg Q: 17.23\n",
      "Episode: 592, Total Reward (running avg):  200 (162.63) Epsilon: 0.407, Avg Q: 17.11\n",
      "Episode: 593, Total Reward (running avg):   48 (156.89) Epsilon: 0.406, Avg Q: 16.11\n",
      "Episode: 594, Total Reward (running avg):  200 (159.05) Epsilon: 0.405, Avg Q: 17.22\n",
      "Episode: 595, Total Reward (running avg):  200 (161.10) Epsilon: 0.404, Avg Q: 17.32\n",
      "Episode: 596, Total Reward (running avg):  200 (163.04) Epsilon: 0.403, Avg Q: 17.23\n",
      "Episode: 597, Total Reward (running avg):  200 (164.89) Epsilon: 0.402, Avg Q: 17.18\n",
      "Episode: 598, Total Reward (running avg):  200 (166.65) Epsilon: 0.401, Avg Q: 16.93\n",
      "Episode: 599, Total Reward (running avg):   59 (161.26) Epsilon: 0.400, Avg Q: 16.3\n",
      "Episode: 600, Total Reward (running avg):   19 (154.15) Epsilon: 0.399, Avg Q: 14.43\n",
      "Episode: 601, Total Reward (running avg):   50 (148.94) Epsilon: 0.398, Avg Q: 16.23\n",
      "Episode: 602, Total Reward (running avg):   69 (144.95) Epsilon: 0.397, Avg Q: 16.58\n",
      "Episode: 603, Total Reward (running avg):  200 (147.70) Epsilon: 0.396, Avg Q: 17.35\n",
      "Episode: 604, Total Reward (running avg):  200 (150.31) Epsilon: 0.395, Avg Q: 16.88\n",
      "Episode: 605, Total Reward (running avg):  200 (152.80) Epsilon: 0.394, Avg Q: 17.35\n",
      "Episode: 606, Total Reward (running avg):  200 (155.16) Epsilon: 0.393, Avg Q: 16.7\n",
      "Episode: 607, Total Reward (running avg):  116 (153.20) Epsilon: 0.392, Avg Q: 17.08\n",
      "Episode: 608, Total Reward (running avg):   10 (146.04) Epsilon: 0.391, Avg Q: 11.78\n",
      "Episode: 609, Total Reward (running avg):   84 (142.94) Epsilon: 0.390, Avg Q: 17.01\n",
      "Episode: 610, Total Reward (running avg):  200 (145.79) Epsilon: 0.389, Avg Q: 17.62\n",
      "Episode: 611, Total Reward (running avg):   82 (142.60) Epsilon: 0.388, Avg Q: 16.98\n",
      "Episode: 612, Total Reward (running avg):   99 (140.42) Epsilon: 0.387, Avg Q: 16.8\n",
      "Episode: 613, Total Reward (running avg):  200 (143.40) Epsilon: 0.386, Avg Q: 17.52\n",
      "Episode: 614, Total Reward (running avg):  117 (142.08) Epsilon: 0.385, Avg Q: 17\n",
      "Episode: 615, Total Reward (running avg):  200 (144.98) Epsilon: 0.384, Avg Q: 17.64\n",
      "Episode: 616, Total Reward (running avg):  200 (147.73) Epsilon: 0.383, Avg Q: 17.66\n",
      "Episode: 617, Total Reward (running avg):  200 (150.34) Epsilon: 0.382, Avg Q: 17.48\n",
      "Episode: 618, Total Reward (running avg):  200 (152.82) Epsilon: 0.381, Avg Q: 16.69\n",
      "Episode: 619, Total Reward (running avg):  200 (155.18) Epsilon: 0.380, Avg Q: 17.54\n",
      "Episode: 620, Total Reward (running avg):  200 (157.42) Epsilon: 0.379, Avg Q: 17.68\n",
      "Episode: 621, Total Reward (running avg):  200 (159.55) Epsilon: 0.378, Avg Q: 17.82\n",
      "Episode: 622, Total Reward (running avg):  200 (161.58) Epsilon: 0.377, Avg Q: 17.68\n",
      "Episode: 623, Total Reward (running avg):  200 (163.50) Epsilon: 0.376, Avg Q: 17\n",
      "Episode: 624, Total Reward (running avg):  181 (164.37) Epsilon: 0.375, Avg Q: 17.52\n",
      "Episode: 625, Total Reward (running avg):  173 (164.80) Epsilon: 0.374, Avg Q: 17.43\n",
      "Episode: 626, Total Reward (running avg):  200 (166.56) Epsilon: 0.373, Avg Q: 17.92\n",
      "Episode: 627, Total Reward (running avg):  200 (168.23) Epsilon: 0.372, Avg Q: 17.84\n",
      "Episode: 628, Total Reward (running avg):  200 (169.82) Epsilon: 0.371, Avg Q: 17.84\n",
      "Episode: 629, Total Reward (running avg):  200 (171.33) Epsilon: 0.370, Avg Q: 17.77\n",
      "Episode: 630, Total Reward (running avg):   90 (167.27) Epsilon: 0.369, Avg Q: 17.19\n",
      "Episode: 631, Total Reward (running avg):  169 (167.35) Epsilon: 0.368, Avg Q: 17.59\n",
      "Episode: 632, Total Reward (running avg):  200 (168.98) Epsilon: 0.367, Avg Q: 17.54\n",
      "Episode: 633, Total Reward (running avg):  200 (170.54) Epsilon: 0.366, Avg Q: 17.5\n",
      "Episode: 634, Total Reward (running avg):  169 (170.46) Epsilon: 0.365, Avg Q: 17.62\n",
      "Episode: 635, Total Reward (running avg):  200 (171.94) Epsilon: 0.364, Avg Q: 17.68\n",
      "Episode: 636, Total Reward (running avg):   84 (167.54) Epsilon: 0.363, Avg Q: 17.29\n",
      "Episode: 637, Total Reward (running avg):  200 (169.16) Epsilon: 0.362, Avg Q: 17.82\n",
      "Episode: 638, Total Reward (running avg):  200 (170.70) Epsilon: 0.361, Avg Q: 17.11\n",
      "Episode: 639, Total Reward (running avg):  200 (172.17) Epsilon: 0.360, Avg Q: 17.74\n",
      "Episode: 640, Total Reward (running avg):  200 (173.56) Epsilon: 0.359, Avg Q: 17.87\n",
      "Episode: 641, Total Reward (running avg):  200 (174.88) Epsilon: 0.358, Avg Q: 17.67\n",
      "Episode: 642, Total Reward (running avg):  200 (176.14) Epsilon: 0.357, Avg Q: 17.74\n",
      "Episode: 643, Total Reward (running avg):  200 (177.33) Epsilon: 0.356, Avg Q: 18.03\n",
      "Episode: 644, Total Reward (running avg):  200 (178.46) Epsilon: 0.355, Avg Q: 17.07\n",
      "Episode: 645, Total Reward (running avg):  200 (179.54) Epsilon: 0.354, Avg Q: 17.56\n",
      "Episode: 646, Total Reward (running avg):  200 (180.56) Epsilon: 0.353, Avg Q: 17.8\n",
      "Episode: 647, Total Reward (running avg):  200 (181.54) Epsilon: 0.352, Avg Q: 17.89\n",
      "Episode: 648, Total Reward (running avg):  200 (182.46) Epsilon: 0.351, Avg Q: 17.67\n",
      "Episode: 649, Total Reward (running avg):  200 (183.34) Epsilon: 0.350, Avg Q: 17.29\n",
      "Episode: 650, Total Reward (running avg):   60 (177.17) Epsilon: 0.349, Avg Q: 17.23\n",
      "Episode: 651, Total Reward (running avg):  200 (178.31) Epsilon: 0.348, Avg Q: 18.25\n",
      "Episode: 652, Total Reward (running avg):  200 (179.40) Epsilon: 0.347, Avg Q: 18.25\n",
      "Episode: 653, Total Reward (running avg):  200 (180.43) Epsilon: 0.346, Avg Q: 18.08\n",
      "Episode: 654, Total Reward (running avg):   23 (172.55) Epsilon: 0.345, Avg Q: 16.01\n",
      "Episode: 655, Total Reward (running avg):  200 (173.93) Epsilon: 0.344, Avg Q: 17.55\n",
      "Episode: 656, Total Reward (running avg):  200 (175.23) Epsilon: 0.343, Avg Q: 16.72\n",
      "Episode: 657, Total Reward (running avg):   43 (168.62) Epsilon: 0.342, Avg Q: 16.89\n",
      "Episode: 658, Total Reward (running avg):  200 (170.19) Epsilon: 0.341, Avg Q: 18.01\n",
      "Episode: 659, Total Reward (running avg):  200 (171.68) Epsilon: 0.340, Avg Q: 18.22\n",
      "Episode: 660, Total Reward (running avg):   21 (164.14) Epsilon: 0.339, Avg Q: 15.52\n",
      "Episode: 661, Total Reward (running avg):  200 (165.94) Epsilon: 0.338, Avg Q: 18.23\n",
      "Episode: 662, Total Reward (running avg):  200 (167.64) Epsilon: 0.337, Avg Q: 18.08\n",
      "Episode: 663, Total Reward (running avg):  200 (169.26) Epsilon: 0.336, Avg Q: 17.94\n",
      "Episode: 664, Total Reward (running avg):  200 (170.80) Epsilon: 0.335, Avg Q: 18.17\n",
      "Episode: 665, Total Reward (running avg):  200 (172.26) Epsilon: 0.334, Avg Q: 18.2\n",
      "Episode: 666, Total Reward (running avg):  200 (173.64) Epsilon: 0.333, Avg Q: 18.03\n",
      "Episode: 667, Total Reward (running avg):  200 (174.96) Epsilon: 0.332, Avg Q: 18.02\n",
      "Episode: 668, Total Reward (running avg):  200 (176.21) Epsilon: 0.331, Avg Q: 17.69\n",
      "Episode: 669, Total Reward (running avg):  200 (177.40) Epsilon: 0.330, Avg Q: 17.76\n",
      "Episode: 670, Total Reward (running avg):  200 (178.53) Epsilon: 0.329, Avg Q: 18.23\n",
      "Episode: 671, Total Reward (running avg):  200 (179.61) Epsilon: 0.328, Avg Q: 18.11\n",
      "Episode: 672, Total Reward (running avg):  200 (180.63) Epsilon: 0.327, Avg Q: 18.01\n",
      "Episode: 673, Total Reward (running avg):  200 (181.59) Epsilon: 0.326, Avg Q: 18\n",
      "Episode: 674, Total Reward (running avg):  110 (178.01) Epsilon: 0.325, Avg Q: 17.58\n",
      "Episode: 675, Total Reward (running avg):  200 (179.11) Epsilon: 0.324, Avg Q: 18.16\n",
      "Episode: 676, Total Reward (running avg):  200 (180.16) Epsilon: 0.323, Avg Q: 18.18\n",
      "Episode: 677, Total Reward (running avg):  200 (181.15) Epsilon: 0.322, Avg Q: 17.57\n",
      "Episode: 678, Total Reward (running avg):  200 (182.09) Epsilon: 0.321, Avg Q: 17.8\n",
      "Episode: 679, Total Reward (running avg):  200 (182.99) Epsilon: 0.320, Avg Q: 18.18\n",
      "Episode: 680, Total Reward (running avg):  200 (183.84) Epsilon: 0.319, Avg Q: 18.26\n",
      "Episode: 681, Total Reward (running avg):  200 (184.65) Epsilon: 0.318, Avg Q: 18.26\n",
      "Episode: 682, Total Reward (running avg):   16 (176.21) Epsilon: 0.317, Avg Q: 14.6\n"
     ]
    },
    {
     "name": "stdout",
     "output_type": "stream",
     "text": [
      "Episode: 683, Total Reward (running avg):  200 (177.40) Epsilon: 0.316, Avg Q: 18.24\n",
      "Episode: 684, Total Reward (running avg):  200 (178.53) Epsilon: 0.315, Avg Q: 18.23\n",
      "Episode: 685, Total Reward (running avg):  200 (179.61) Epsilon: 0.314, Avg Q: 18.21\n",
      "Episode: 686, Total Reward (running avg):  189 (180.08) Epsilon: 0.313, Avg Q: 17.78\n",
      "Episode: 687, Total Reward (running avg):  200 (181.07) Epsilon: 0.312, Avg Q: 18.13\n",
      "Episode: 688, Total Reward (running avg):  200 (182.02) Epsilon: 0.311, Avg Q: 18.36\n",
      "Episode: 689, Total Reward (running avg):  200 (182.92) Epsilon: 0.310, Avg Q: 18.04\n",
      "Episode: 690, Total Reward (running avg):  200 (183.77) Epsilon: 0.309, Avg Q: 18.28\n",
      "Episode: 691, Total Reward (running avg):  200 (184.58) Epsilon: 0.308, Avg Q: 18.16\n",
      "Episode: 692, Total Reward (running avg):  200 (185.35) Epsilon: 0.307, Avg Q: 17.87\n",
      "Episode: 693, Total Reward (running avg):  200 (186.09) Epsilon: 0.306, Avg Q: 18.29\n",
      "Episode: 694, Total Reward (running avg):  200 (186.78) Epsilon: 0.305, Avg Q: 18.26\n",
      "Episode: 695, Total Reward (running avg):  200 (187.44) Epsilon: 0.304, Avg Q: 18.11\n",
      "Episode: 696, Total Reward (running avg):  200 (188.07) Epsilon: 0.303, Avg Q: 18.18\n",
      "Episode: 697, Total Reward (running avg):  200 (188.67) Epsilon: 0.302, Avg Q: 18.34\n",
      "Episode: 698, Total Reward (running avg):  200 (189.23) Epsilon: 0.301, Avg Q: 17.68\n",
      "Episode: 699, Total Reward (running avg):  200 (189.77) Epsilon: 0.300, Avg Q: 18\n",
      "Episode: 700, Total Reward (running avg):  200 (190.28) Epsilon: 0.299, Avg Q: 18.42\n",
      "Episode: 701, Total Reward (running avg):  200 (190.77) Epsilon: 0.298, Avg Q: 18.32\n",
      "Episode: 702, Total Reward (running avg):  187 (190.58) Epsilon: 0.297, Avg Q: 18.07\n",
      "Episode: 703, Total Reward (running avg):   23 (182.20) Epsilon: 0.296, Avg Q: 15.66\n",
      "Episode: 704, Total Reward (running avg):  200 (183.09) Epsilon: 0.295, Avg Q: 18.34\n",
      "Episode: 705, Total Reward (running avg):  200 (183.94) Epsilon: 0.294, Avg Q: 18.15\n",
      "Episode: 706, Total Reward (running avg):  200 (184.74) Epsilon: 0.293, Avg Q: 18.38\n",
      "Episode: 707, Total Reward (running avg):  200 (185.50) Epsilon: 0.292, Avg Q: 18.31\n",
      "Episode: 708, Total Reward (running avg):  200 (186.23) Epsilon: 0.291, Avg Q: 18.4\n",
      "Episode: 709, Total Reward (running avg):  200 (186.92) Epsilon: 0.290, Avg Q: 18.27\n",
      "Episode: 710, Total Reward (running avg):  200 (187.57) Epsilon: 0.289, Avg Q: 17.5\n",
      "Episode: 711, Total Reward (running avg):  200 (188.19) Epsilon: 0.288, Avg Q: 18.43\n",
      "Episode: 712, Total Reward (running avg):  200 (188.78) Epsilon: 0.287, Avg Q: 18.23\n",
      "Episode: 713, Total Reward (running avg):   15 (180.09) Epsilon: 0.286, Avg Q: 14.87\n",
      "Episode: 714, Total Reward (running avg):  200 (181.09) Epsilon: 0.285, Avg Q: 18.29\n",
      "Episode: 715, Total Reward (running avg):  200 (182.03) Epsilon: 0.284, Avg Q: 18.53\n",
      "Episode: 716, Total Reward (running avg):  200 (182.93) Epsilon: 0.283, Avg Q: 18.53\n",
      "Episode: 717, Total Reward (running avg):  103 (178.94) Epsilon: 0.282, Avg Q: 17.9\n",
      "Episode: 718, Total Reward (running avg):  200 (179.99) Epsilon: 0.281, Avg Q: 18.55\n",
      "Episode: 719, Total Reward (running avg):  200 (180.99) Epsilon: 0.280, Avg Q: 18.45\n",
      "Episode: 720, Total Reward (running avg):  200 (181.94) Epsilon: 0.279, Avg Q: 18.51\n",
      "Episode: 721, Total Reward (running avg):  200 (182.84) Epsilon: 0.278, Avg Q: 18.07\n",
      "Episode: 722, Total Reward (running avg):  200 (183.70) Epsilon: 0.277, Avg Q: 18.56\n",
      "Episode: 723, Total Reward (running avg):  200 (184.52) Epsilon: 0.276, Avg Q: 18.58\n",
      "Episode: 724, Total Reward (running avg):  200 (185.29) Epsilon: 0.275, Avg Q: 18.02\n",
      "Episode: 725, Total Reward (running avg):  200 (186.03) Epsilon: 0.274, Avg Q: 18.51\n",
      "Episode: 726, Total Reward (running avg):  200 (186.72) Epsilon: 0.273, Avg Q: 18.56\n",
      "Episode: 727, Total Reward (running avg):  200 (187.39) Epsilon: 0.272, Avg Q: 18.41\n",
      "Episode: 728, Total Reward (running avg):  200 (188.02) Epsilon: 0.271, Avg Q: 18.53\n",
      "Episode: 729, Total Reward (running avg):  200 (188.62) Epsilon: 0.270, Avg Q: 18.56\n",
      "Episode: 730, Total Reward (running avg):  200 (189.19) Epsilon: 0.269, Avg Q: 18.61\n",
      "Episode: 731, Total Reward (running avg):  200 (189.73) Epsilon: 0.268, Avg Q: 18.55\n",
      "Episode: 732, Total Reward (running avg):  200 (190.24) Epsilon: 0.267, Avg Q: 18.54\n",
      "Episode: 733, Total Reward (running avg):  200 (190.73) Epsilon: 0.266, Avg Q: 18.61\n",
      "Episode: 734, Total Reward (running avg):  200 (191.19) Epsilon: 0.265, Avg Q: 18.6\n",
      "Episode: 735, Total Reward (running avg):  200 (191.63) Epsilon: 0.264, Avg Q: 18.67\n",
      "Episode: 736, Total Reward (running avg):  200 (192.05) Epsilon: 0.263, Avg Q: 18.68\n",
      "Episode: 737, Total Reward (running avg):   53 (185.10) Epsilon: 0.262, Avg Q: 17.31\n",
      "Episode: 738, Total Reward (running avg):  200 (185.84) Epsilon: 0.261, Avg Q: 18.31\n",
      "Episode: 739, Total Reward (running avg):  200 (186.55) Epsilon: 0.260, Avg Q: 18.23\n",
      "Episode: 740, Total Reward (running avg):  200 (187.22) Epsilon: 0.259, Avg Q: 18.73\n",
      "Episode: 741, Total Reward (running avg):  200 (187.86) Epsilon: 0.258, Avg Q: 18.73\n",
      "Episode: 742, Total Reward (running avg):  200 (188.47) Epsilon: 0.257, Avg Q: 18.72\n",
      "Episode: 743, Total Reward (running avg):  200 (189.05) Epsilon: 0.256, Avg Q: 18.69\n",
      "Episode: 744, Total Reward (running avg):  200 (189.59) Epsilon: 0.255, Avg Q: 18.68\n",
      "Episode: 745, Total Reward (running avg):  200 (190.11) Epsilon: 0.254, Avg Q: 18.79\n",
      "Episode: 746, Total Reward (running avg):  200 (190.61) Epsilon: 0.253, Avg Q: 18.56\n",
      "Episode: 747, Total Reward (running avg):  200 (191.08) Epsilon: 0.252, Avg Q: 18.78\n",
      "Episode: 748, Total Reward (running avg):  200 (191.52) Epsilon: 0.251, Avg Q: 18.67\n",
      "Episode: 749, Total Reward (running avg):  200 (191.95) Epsilon: 0.250, Avg Q: 18.66\n",
      "Episode: 750, Total Reward (running avg):   32 (183.95) Epsilon: 0.249, Avg Q: 16.85\n",
      "Episode: 751, Total Reward (running avg):  200 (184.75) Epsilon: 0.248, Avg Q: 18.41\n",
      "Episode: 752, Total Reward (running avg):  200 (185.52) Epsilon: 0.247, Avg Q: 18.62\n",
      "Episode: 753, Total Reward (running avg):  200 (186.24) Epsilon: 0.246, Avg Q: 18.77\n",
      "Episode: 754, Total Reward (running avg):  200 (186.93) Epsilon: 0.245, Avg Q: 18.68\n",
      "Episode: 755, Total Reward (running avg):  200 (187.58) Epsilon: 0.244, Avg Q: 18.74\n",
      "Episode: 756, Total Reward (running avg):  200 (188.20) Epsilon: 0.243, Avg Q: 18.72\n",
      "Episode: 757, Total Reward (running avg):  200 (188.79) Epsilon: 0.242, Avg Q: 18.72\n",
      "Episode: 758, Total Reward (running avg):  200 (189.35) Epsilon: 0.241, Avg Q: 18.83\n",
      "Episode: 759, Total Reward (running avg):  200 (189.88) Epsilon: 0.240, Avg Q: 18.77\n",
      "Episode: 760, Total Reward (running avg):  200 (190.39) Epsilon: 0.239, Avg Q: 18.81\n",
      "Episode: 761, Total Reward (running avg):  200 (190.87) Epsilon: 0.238, Avg Q: 18.79\n",
      "Episode: 762, Total Reward (running avg):  200 (191.33) Epsilon: 0.237, Avg Q: 18.79\n",
      "Episode: 763, Total Reward (running avg):  200 (191.76) Epsilon: 0.236, Avg Q: 18.79\n",
      "Episode: 764, Total Reward (running avg):  200 (192.17) Epsilon: 0.235, Avg Q: 18.8\n",
      "Episode: 765, Total Reward (running avg):  200 (192.56) Epsilon: 0.234, Avg Q: 18.63\n",
      "Episode: 766, Total Reward (running avg):  200 (192.94) Epsilon: 0.233, Avg Q: 18.78\n",
      "Episode: 767, Total Reward (running avg):  200 (193.29) Epsilon: 0.232, Avg Q: 18.77\n",
      "Episode: 768, Total Reward (running avg):  200 (193.62) Epsilon: 0.231, Avg Q: 18.72\n",
      "Episode: 769, Total Reward (running avg):  200 (193.94) Epsilon: 0.230, Avg Q: 18.82\n",
      "Episode: 770, Total Reward (running avg):  200 (194.25) Epsilon: 0.229, Avg Q: 18.72\n",
      "Episode: 771, Total Reward (running avg):  200 (194.53) Epsilon: 0.228, Avg Q: 18.7\n",
      "Episode: 772, Total Reward (running avg):  200 (194.81) Epsilon: 0.227, Avg Q: 18.6\n",
      "Episode: 773, Total Reward (running avg):  200 (195.07) Epsilon: 0.226, Avg Q: 18.73\n"
     ]
    }
   ],
   "source": [
    "# Create the environment\n",
    "env = gym.make(\"CartPole-v0\")\n",
    "\n",
    "# Enable visualization? Does not work in all environments.\n",
    "enable_visualization = False\n",
    "\n",
    "# Initializations\n",
    "num_actions = env.action_space.n\n",
    "num_states = env.observation_space.shape[0]\n",
    "num_episodes = 1200 \n",
    "batch_size = 128\n",
    "gamma = .94\n",
    "learning_rate = 1e-4\n",
    "\n",
    "# Object holding our online / offline Q-Networks\n",
    "ddqn = DoubleQLearningModel(device, num_states, num_actions, learning_rate)\n",
    "\n",
    "# Create replay buffer, where experience in form of tuples <s,a,r,s',t>, gathered from the environment is stored \n",
    "# for training\n",
    "replay_buffer = ExperienceReplay(device, num_states)\n",
    "\n",
    "# Train\n",
    "R, R_avg = train_loop_ddqn(ddqn, env, replay_buffer, num_episodes, enable_visualization=enable_visualization, batch_size=batch_size, gamma=gamma)"
   ]
  },
  {
   "cell_type": "code",
   "execution_count": 35,
   "metadata": {
    "deletable": false,
    "editable": false,
    "nbgrader": {
     "cell_type": "code",
     "checksum": "52dee2317f03bced29c85c28462d4ad5",
     "grade": false,
     "grade_id": "cell-4757be1a3ec18b56",
     "locked": true,
     "schema_version": 3,
     "solution": false
    }
   },
   "outputs": [],
   "source": [
    "# close window\n",
    "if enable_visualization:\n",
    "    env.close()"
   ]
  },
  {
   "cell_type": "markdown",
   "metadata": {
    "deletable": false,
    "editable": false,
    "nbgrader": {
     "cell_type": "markdown",
     "checksum": "cb3f82e40e11a139f40e181799b40a93",
     "grade": false,
     "grade_id": "cell-8f1ad36de733ed92",
     "locked": true,
     "schema_version": 3,
     "solution": false
    }
   },
   "source": [
    "According to the code above, the code in the provided .py file, and the documentation of the environment, answer the following questions:\n",
    "    \n",
    "What is the state for this problem?"
   ]
  },
  {
   "cell_type": "markdown",
   "metadata": {
    "deletable": false,
    "nbgrader": {
     "cell_type": "markdown",
     "checksum": "2f28740b9ccf7bf2fa7f166c9fbde003",
     "grade": true,
     "grade_id": "cell-0a780f1afdcd6b1a",
     "locked": false,
     "points": 0,
     "schema_version": 3,
     "solution": true
    }
   },
   "source": [
    "**Your answer:**  The state for this problem is cart position, cart velocity, pole angle and pole velocity"
   ]
  },
  {
   "cell_type": "markdown",
   "metadata": {
    "deletable": false,
    "editable": false,
    "nbgrader": {
     "cell_type": "markdown",
     "checksum": "b5c4c4717846aa74e9713f9e67c5c7e8",
     "grade": false,
     "grade_id": "cell-50a080269bf6f296",
     "locked": true,
     "schema_version": 3,
     "solution": false
    }
   },
   "source": [
    "**(2 POE)** How often is the offline network updated to match the online one? Why do we need to do this?"
   ]
  },
  {
   "cell_type": "markdown",
   "metadata": {
    "deletable": false,
    "nbgrader": {
     "cell_type": "markdown",
     "checksum": "5dba2847e8894bd0aa6d6fddbe84cf22",
     "grade": true,
     "grade_id": "cell-099530ded38d7038",
     "locked": false,
     "points": 2,
     "schema_version": 3,
     "solution": true
    }
   },
   "source": [
    "**Your answer:** The network updated every 1000 samples since we have fifty percentage change of switching the networks. We know that in Q-learning method, the agent doesn't know anything about the environment in the beginning stage then it needs to estimate the Q and update in each and every iteration. The Q values that we have now contains lot of noise which is not optimal for the actions also this noise could make large biases in feedback loop and ruin the training process. The reason why we use offline and online network is to reduce the large positive biases and make the actions and training more stable. "
   ]
  },
  {
   "cell_type": "markdown",
   "metadata": {
    "deletable": false,
    "editable": false,
    "nbgrader": {
     "cell_type": "markdown",
     "checksum": "cf22be529ec727e123d981715c493c09",
     "grade": false,
     "grade_id": "cell-db1ad2492dd6680a",
     "locked": true,
     "schema_version": 3,
     "solution": false,
     "task": false
    }
   },
   "source": [
    "**(4 POE) Optional**\n",
    "\n",
    "There may be three reasons for the episode to end:\n",
    "\n",
    "1. The cart slides too far away\n",
    "1. The pendulum falls too low\n",
    "1. 200 time steps have passed\n",
    "\n",
    "As mentioned before, we replace the Q target with the immediate reward only in case 1 and 2. In the third case however, the Q target remains untouched.\n",
    "\n",
    "Please answer the following questions:\n",
    "\n",
    "1. How we treat this matter will have an influence on the Q-values being learned, and how they may be interpreted. Assuming we treat it as explained, and that we have managed to converge successfully, describe (in words and/or with mathematical expressions) what the Q-values we have learnt represent.\n",
    "\n",
    "1. If we would treat case 3 the same as case 1 and 2, we would actually end up with a Partially Observable Markov Decision Process (POMDP). What would we need to add to our observations, in order to obtain an observable MDP again?"
   ]
  },
  {
   "cell_type": "markdown",
   "metadata": {
    "deletable": false,
    "nbgrader": {
     "cell_type": "markdown",
     "checksum": "a9072e9591cd5b0d65e20e660eadcf6f",
     "grade": true,
     "grade_id": "cell-629034eb3ae20711",
     "locked": false,
     "points": 4,
     "schema_version": 3,
     "solution": true,
     "task": false
    }
   },
   "source": [
    "**Your answer:** (fill in here)"
   ]
  },
  {
   "cell_type": "markdown",
   "metadata": {
    "deletable": false,
    "editable": false,
    "nbgrader": {
     "cell_type": "markdown",
     "checksum": "3a6271028b977453e6a9c87ee6f23130",
     "grade": false,
     "grade_id": "cell-0836fc1b783d1158",
     "locked": true,
     "schema_version": 3,
     "solution": false
    }
   },
   "source": [
    "Run the cell below to visualize your final policy (the greedy rather than epsilon-greedy one) in an episode from this environment.\n",
    "\n",
    "**Note:** In order to visualize, the env.render() command needs to work out on your system (see comment a few cells above)."
   ]
  },
  {
   "cell_type": "code",
   "execution_count": 36,
   "metadata": {
    "deletable": false,
    "editable": false,
    "nbgrader": {
     "cell_type": "code",
     "checksum": "63b264cd696948f8294236bb5c4e4fa5",
     "grade": false,
     "grade_id": "cell-1e8a9b49909882ac",
     "locked": true,
     "schema_version": 3,
     "solution": false
    }
   },
   "outputs": [],
   "source": [
    "import time\n",
    "num_episodes = 10\n",
    "env = gym.make(\"CartPole-v0\")\n",
    "\n",
    "if enable_visualization:\n",
    "    for i in range(num_episodes):\n",
    "            state = env.reset() #reset to initial state\n",
    "            state = state[None,:]\n",
    "            terminal = False # reset terminal flag\n",
    "            while not terminal:\n",
    "                #env.render()\n",
    "                time.sleep(.05)\n",
    "                with torch.no_grad():\n",
    "                    q_values = ddqn.online_model(torch.tensor(state, dtype=torch.float, device=device)).cpu().numpy()\n",
    "                policy = eps_greedy_policy(q_values.squeeze(), .1) # greedy policy\n",
    "                action = np.random.choice(num_actions, p=policy)\n",
    "                state, reward, terminal, _ = env.step(action) # take one step in the evironment\n",
    "                state = state[None,:]\n",
    "    # close window\n",
    "    env.close();"
   ]
  },
  {
   "cell_type": "markdown",
   "metadata": {
    "deletable": false,
    "editable": false,
    "nbgrader": {
     "cell_type": "markdown",
     "checksum": "91c95cdee8f1715e789b8bdf2a4e2ff8",
     "grade": false,
     "grade_id": "cell-0bb5d237ca6839d6",
     "locked": true,
     "schema_version": 3,
     "solution": false
    }
   },
   "source": [
    "Plot the episodic rewards obtained throughout the optimization, together with a moving average of it (since the episodic reward is usually very noisy)."
   ]
  },
  {
   "cell_type": "code",
   "execution_count": 37,
   "metadata": {
    "deletable": false,
    "editable": false,
    "nbgrader": {
     "cell_type": "code",
     "checksum": "a49cda53e12c1b8a976338c0f8bff7b9",
     "grade": false,
     "grade_id": "cell-a3c72b1dbffd2db4",
     "locked": true,
     "schema_version": 3,
     "solution": false
    }
   },
   "outputs": [
    {
     "data": {
      "image/png": "[encoded data removed]",
      "text/plain": [
       "<Figure size 432x288 with 1 Axes>"
      ]
     },
     "metadata": {
      "needs_background": "light"
     },
     "output_type": "display_data"
    }
   ],
   "source": [
    "%matplotlib inline\n",
    "import matplotlib.pyplot as plt\n",
    "\n",
    "rewards = plt.plot(R, alpha=.4, label='R')\n",
    "avg_rewards = plt.plot(R_avg,label='avg R')\n",
    "plt.legend(bbox_to_anchor=(1.01, 1), loc=2, borderaxespad=0.)\n",
    "plt.xlabel('Episode')\n",
    "plt.ylim(0, 210)\n",
    "plt.show()"
   ]
  },
  {
   "cell_type": "markdown",
   "metadata": {
    "deletable": false,
    "editable": false,
    "nbgrader": {
     "cell_type": "markdown",
     "checksum": "99ff38a2a4ff5f958140c9ee6019db87",
     "grade": false,
     "grade_id": "cell-293ec5dfa636ff48",
     "locked": true,
     "schema_version": 3,
     "solution": false
    }
   },
   "source": [
    "Congratulations, you have now successfully implemented the DDQN algorithm. You are encouraged to explore different problems. There are a lot of different environments ready for you to implement your algorithms in. A few of these resources are:\n",
    "* [OpenAI gym](https://github.com/openai/gym)\n",
    "* [OpenAI Universe](https://github.com/openai/universe)\n",
    "* [DeepMind Lab](https://deepmind.com/blog/open-sourcing-deepmind-lab/)\n",
    "\n",
    "The model you implemented in this lab can be extended to solve harder problems. A good starting-point is to try to solve the Acrobot-problem, by loading the environment as \n",
    "\n",
    "**gym.make(\"Acrobot-v1\")**.\n",
    "\n",
    "The problem might require some modifications to how you decay $\\epsilon$, but otherwise, the code you have written within this lab should be sufficient. "
   ]
  },
  {
   "cell_type": "markdown",
   "metadata": {
    "deletable": false,
    "editable": false,
    "nbgrader": {
     "cell_type": "markdown",
     "checksum": "3fee8dd2891cacaa333ee01729bfe581",
     "grade": false,
     "grade_id": "cell-671cfb5a590863e9",
     "locked": true,
     "schema_version": 3,
     "solution": false
    }
   },
   "source": [
    "### Task 3.4 Atari games\n",
    "\n",
    "**(4 POE Optional)**\n",
    "\n",
    "A common benchmark for reinforcement learning algorithms is the old Atari games. Each timestep for the Atari games, the agent observes a screenshot as its current state.\n",
    "\n",
    "There is an issue with this definition of the agent state, what?\n",
    "\n",
    "Name at least two solutions to the problem, and why it wouldn't work well without these changes. \n",
    "\n",
    "Hint:\n",
    "- Imagine the game of pong. What is important for the algorithm to predict? What is the state of the agent? Is it possible to play the game optimally with this state formulation?"
   ]
  },
  {
   "cell_type": "markdown",
   "metadata": {
    "deletable": false,
    "nbgrader": {
     "cell_type": "markdown",
     "checksum": "28edaae5be0f298d97eff3247b7a5700",
     "grade": true,
     "grade_id": "cell-55e109dd6169612b",
     "locked": false,
     "points": 4,
     "schema_version": 3,
     "solution": true
    }
   },
   "source": [
    "**Your answer:** (fill in here)"
   ]
  }
 ],
 "metadata": {
  "kernelspec": {
   "display_name": "Python 3",
   "language": "python",
   "name": "python3"
  },
  "language_info": {
   "codemirror_mode": {
    "name": "ipython",
    "version": 3
   },
   "file_extension": ".py",
   "mimetype": "text/x-python",
   "name": "python",
   "nbconvert_exporter": "python",
   "pygments_lexer": "ipython3",
   "version": "3.7.9"
  }
 },
 "nbformat": 4,
 "nbformat_minor": 1
}
