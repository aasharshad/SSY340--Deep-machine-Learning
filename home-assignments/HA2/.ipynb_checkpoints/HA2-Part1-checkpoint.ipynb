{
 "cells": [
  {
   "cell_type": "markdown",
   "metadata": {
    "deletable": false,
    "editable": false,
    "nbgrader": {
     "cell_type": "markdown",
     "checksum": "5fa9f96d4ca0144b2db877078cf7b2f8",
     "grade": false,
     "grade_id": "cell-5690119ead85e67e",
     "locked": true,
     "schema_version": 3,
     "solution": false,
     "task": false
    }
   },
   "source": [
    "### Checklist for submission\n",
    "\n",
    "It is extremely important to make sure that:\n",
    "\n",
    "1. Everything runs as expected (no bugs when running cells);\n",
    "2. The output from each cell corresponds to its code (don't change any cell's contents without rerunning it afterwards);\n",
    "3. All outputs are present (don't delete any of the outputs);\n",
    "4. Fill in all the places that say `# YOUR CODE HERE`, or \"**Your answer:** (fill in here)\".\n",
    "5. Never copy/paste any notebook cells. Inserting new cells is allowed, but it should not be necessary.\n",
    "6. The notebook contains some hidden metadata which is important during our grading process. **Make sure not to corrupt any of this metadata!** The metadata may for example be corrupted if you copy/paste any notebook cells, or if you perform an unsuccessful git merge / git pull. It may also be pruned completely if using Google Colab, so watch out for this. Searching for \"nbgrader\" when opening the notebook in a text editor should take you to the important metadata entries.\n",
    "7. Although we will try our very best to avoid this, it may happen that bugs are found after an assignment is released, and that we will push an updated version of the assignment to GitHub. If this happens, it is important that you update to the new version, while making sure the notebook metadata is properly updated as well. The safest way to make sure nothing gets messed up is to start from scratch on a clean updated version of the notebook, copy/pasting your code from the cells of the previous version into the cells of the new version.\n",
    "8. If you need to have multiple parallel versions of this notebook, make sure not to move them to another directory.\n",
    "9. Although not forced to work exclusively in the course `conda` environment, you need to make sure that the notebook will run in that environment, i.e. that you have not added any additional dependencies.\n",
    "\n",
    "**FOR HA1, HA2, HA3 ONLY:** Failing to meet any of these requirements might lead to either a subtraction of POEs (at best) or a request for resubmission (at worst).\n",
    "\n",
    "We advise you to perform the following steps before submission to ensure that requirements 1, 2, and 3 are always met: **Restart the kernel** (in the menubar, select Kernel$\\rightarrow$Restart) and then **run all cells** (in the menubar, select Cell$\\rightarrow$Run All). This might require a bit of time, so plan ahead for this (and possibly use Google Cloud's GPU in HA1 and HA2 for this step). Finally press the \"Save and Checkout\" button before handing in, to make sure that all your changes are saved to this .ipynb file."
   ]
  },
  {
   "cell_type": "markdown",
   "metadata": {
    "deletable": false,
    "editable": false,
    "nbgrader": {
     "cell_type": "markdown",
     "checksum": "a6bb874a16c1ff767ac0f37ce0491265",
     "grade": false,
     "grade_id": "cell-774c93bf6433de68",
     "locked": true,
     "schema_version": 3,
     "solution": false,
     "task": false
    }
   },
   "source": [
    "### Fill in name of notebook file\n",
    "This might seem silly, but the version check below needs to know the filename of the current notebook, which is not trivial to find out programmatically.\n",
    "\n",
    "You might want to have several parallel versions of the notebook, and it is fine to rename the notebook as long as it stays in the same directory. **However**, if you do rename it, you also need to update its own filename below:"
   ]
  },
  {
   "cell_type": "code",
   "execution_count": 3,
   "metadata": {},
   "outputs": [],
   "source": [
    "nb_fname = \"HA2-Part1.ipynb\""
   ]
  },
  {
   "cell_type": "markdown",
   "metadata": {
    "deletable": false,
    "editable": false,
    "nbgrader": {
     "cell_type": "markdown",
     "checksum": "879883c2ea755808ffd00aeee5c77a00",
     "grade": false,
     "grade_id": "cell-5676bcf768a7f9be",
     "locked": true,
     "schema_version": 3,
     "solution": false,
     "task": false
    }
   },
   "source": [
    "### Fill in group number and member names (use NAME2 and GROUP only for HA1, HA2 and HA3):"
   ]
  },
  {
   "cell_type": "code",
   "execution_count": 4,
   "metadata": {},
   "outputs": [],
   "source": [
    "NAME1 = \"Fangze Xu\" \n",
    "NAME2 = \"Arshad Nowsath\"\n",
    "GROUP = \"60\""
   ]
  },
  {
   "cell_type": "markdown",
   "metadata": {
    "deletable": false,
    "editable": false,
    "nbgrader": {
     "cell_type": "markdown",
     "checksum": "42f960a95815e1aa3ce8132fcec59cd9",
     "grade": false,
     "grade_id": "cell-a15fe781533d9590",
     "locked": true,
     "schema_version": 3,
     "solution": false,
     "task": false
    }
   },
   "source": [
    "### Check Python version"
   ]
  },
  {
   "cell_type": "code",
   "execution_count": 5,
   "metadata": {
    "deletable": false,
    "editable": false,
    "nbgrader": {
     "cell_type": "code",
     "checksum": "4a5517d7993b4b35049f0013dd6a3f55",
     "grade": false,
     "grade_id": "cell-2b9c2390ee464c39",
     "locked": true,
     "schema_version": 3,
     "solution": false,
     "task": false
    }
   },
   "outputs": [],
   "source": [
    "from platform import python_version_tuple\n",
    "assert python_version_tuple()[:2] == ('3','7'), \"You are not running Python 3.7. Make sure to run Python through the course Conda environment.\""
   ]
  },
  {
   "cell_type": "markdown",
   "metadata": {
    "deletable": false,
    "editable": false,
    "nbgrader": {
     "cell_type": "markdown",
     "checksum": "15ec4309f1e85f6e17bda73b9b6f48a2",
     "grade": false,
     "grade_id": "cell-4869b45600ce82f8",
     "locked": true,
     "schema_version": 3,
     "solution": false,
     "task": false
    }
   },
   "source": [
    "### Check that notebook server has access to all required resources, and that notebook has not moved"
   ]
  },
  {
   "cell_type": "code",
   "execution_count": 6,
   "metadata": {
    "deletable": false,
    "editable": false,
    "nbgrader": {
     "cell_type": "code",
     "checksum": "a2d199303c73ec86d25177caf39e385f",
     "grade": false,
     "grade_id": "cell-122ac3d9100b8afb",
     "locked": true,
     "schema_version": 3,
     "solution": false,
     "task": false
    }
   },
   "outputs": [],
   "source": [
    "import os\n",
    "nb_dirname = os.path.abspath('')\n",
    "assignment_name = os.path.basename(nb_dirname)\n",
    "assert assignment_name in ['IHA1', 'IHA2', 'HA1', 'HA2', 'HA3'], \\\n",
    "    '[ERROR] The notebook appears to have been moved from its original directory'"
   ]
  },
  {
   "cell_type": "markdown",
   "metadata": {
    "deletable": false,
    "editable": false,
    "nbgrader": {
     "cell_type": "markdown",
     "checksum": "f09f40b5350db83232189137c550f0a1",
     "grade": false,
     "grade_id": "cell-2455deee513cd39c",
     "locked": true,
     "schema_version": 3,
     "solution": false,
     "task": false
    }
   },
   "source": [
    "### Verify correct nb_fname"
   ]
  },
  {
   "cell_type": "code",
   "execution_count": 7,
   "metadata": {
    "deletable": false,
    "editable": false,
    "nbgrader": {
     "cell_type": "code",
     "checksum": "a78c7227b049bb147e6c363affb6dae8",
     "grade": false,
     "grade_id": "cell-0472e2fd710f1d72",
     "locked": true,
     "schema_version": 3,
     "solution": false,
     "task": false
    }
   },
   "outputs": [
    {
     "data": {
      "text/html": [
       "<script>if(\"HA2-Part1.ipynb\" != IPython.notebook.notebook_name) { alert(\"You have filled in nb_fname = \\\"HA2-Part1.ipynb\\\", but this does not seem to match the notebook filename \\\"\" + IPython.notebook.notebook_name + \"\\\".\"); }</script>"
      ],
      "text/plain": [
       "<IPython.core.display.HTML object>"
      ]
     },
     "metadata": {},
     "output_type": "display_data"
    }
   ],
   "source": [
    "from IPython.display import display, HTML\n",
    "try:\n",
    "    display(HTML(r'<script>if(\"{nb_fname}\" != IPython.notebook.notebook_name) {{ alert(\"You have filled in nb_fname = \\\"{nb_fname}\\\", but this does not seem to match the notebook filename \\\"\" + IPython.notebook.notebook_name + \"\\\".\"); }}</script>'.format(nb_fname=nb_fname)))\n",
    "except NameError:\n",
    "    assert False, 'Make sure to fill in the nb_fname variable above!'"
   ]
  },
  {
   "cell_type": "markdown",
   "metadata": {
    "deletable": false,
    "editable": false,
    "nbgrader": {
     "cell_type": "markdown",
     "checksum": "98d88d8e8da19693053764f29dcc591d",
     "grade": false,
     "grade_id": "cell-ceacb1adcae4783d",
     "locked": true,
     "schema_version": 3,
     "solution": false,
     "task": false
    }
   },
   "source": [
    "### Verify that your notebook is up-to-date and not corrupted in any way"
   ]
  },
  {
   "cell_type": "code",
   "execution_count": 8,
   "metadata": {
    "deletable": false,
    "editable": false,
    "nbgrader": {
     "cell_type": "code",
     "checksum": "bb700528d4644601c1a8c91ef1d84635",
     "grade": false,
     "grade_id": "cell-f5a59288e11b4aec",
     "locked": true,
     "schema_version": 3,
     "solution": false,
     "task": false
    }
   },
   "outputs": [
    {
     "name": "stdout",
     "output_type": "stream",
     "text": [
      "Matching current notebook against the following URL:\n",
      "http://raw.githubusercontent.com/JulianoLagana/deep-machine-learning/master/home-assignments/HA2/HA2-Part1.ipynb\n",
      "[SUCCESS] No major notebook mismatch found when comparing to latest GitHub version. (There might be minor updates, but even that is the case, submitting your work based on this notebook version would be acceptable.)\n"
     ]
    }
   ],
   "source": [
    "import sys\n",
    "sys.path.append('..')\n",
    "from ha_utils import check_notebook_uptodate_and_not_corrupted\n",
    "check_notebook_uptodate_and_not_corrupted(nb_dirname, nb_fname)"
   ]
  },
  {
   "cell_type": "markdown",
   "metadata": {
    "deletable": false,
    "editable": false,
    "nbgrader": {
     "cell_type": "markdown",
     "checksum": "1a3d4c3586543ada9e989a70ca0b714f",
     "grade": false,
     "grade_id": "cell-64e1db7b9018bb3c",
     "locked": true,
     "schema_version": 3,
     "solution": false
    }
   },
   "source": [
    "# HA2 - Recurrent Neural Networks"
   ]
  },
  {
   "cell_type": "markdown",
   "metadata": {
    "deletable": false,
    "editable": false,
    "nbgrader": {
     "cell_type": "markdown",
     "checksum": "5a39003439bd02a0cc13a87a7916a36f",
     "grade": false,
     "grade_id": "cell-2a56acd8b54adbc7",
     "locked": true,
     "schema_version": 3,
     "solution": false
    }
   },
   "source": [
    "This assignment is divided into two parts. In the first one, you will implement a vanilla RNN module from scratch using PyTorch to perform the task of predicting the nationality of a given name. In the second, you will use one of PyTorch's efficient implementations of recurrent networks to perform machine translation."
   ]
  },
  {
   "cell_type": "markdown",
   "metadata": {
    "deletable": false,
    "editable": false,
    "nbgrader": {
     "cell_type": "markdown",
     "checksum": "b230b916db79763c4ae31f10fb3834ed",
     "grade": false,
     "grade_id": "cell-a7a1fe5598d08eae",
     "locked": true,
     "schema_version": 3,
     "solution": false
    }
   },
   "source": [
    "## Task 1 - Predicting Nationalities"
   ]
  },
  {
   "cell_type": "markdown",
   "metadata": {
    "deletable": false,
    "editable": false,
    "nbgrader": {
     "cell_type": "markdown",
     "checksum": "f6d2792c8867f0fd983839444067a2e1",
     "grade": false,
     "grade_id": "cell-aad0c935c03346c9",
     "locked": true,
     "schema_version": 3,
     "solution": false
    }
   },
   "source": [
    "In this task, you will create an RNN module using PyTorch, and train it to predict the nationality of a given input name. Your RNN will process each character of an input name at a time, and at the last character output a probability mass function over the possible countries.\n",
    "\n",
    "The data for this task is present in the file `data/nam_dict.txt`. After parsing it we will have around 44k names from 41 different countries."
   ]
  },
  {
   "cell_type": "markdown",
   "metadata": {
    "deletable": false,
    "editable": false,
    "nbgrader": {
     "cell_type": "markdown",
     "checksum": "88e94a32152c5c6447c42352b00c56f6",
     "grade": false,
     "grade_id": "cell-781c35fef278ad47",
     "locked": true,
     "schema_version": 3,
     "solution": false
    }
   },
   "source": [
    "### 1.1 Loading the data"
   ]
  },
  {
   "cell_type": "markdown",
   "metadata": {
    "deletable": false,
    "editable": false,
    "nbgrader": {
     "cell_type": "markdown",
     "checksum": "ef4e3f8191d07d16c7129210867e1cc4",
     "grade": false,
     "grade_id": "cell-12c085211bc03428",
     "locked": true,
     "schema_version": 3,
     "solution": false
    }
   },
   "source": [
    "We'll start by loading the data from the `nam_dict.txt` file, using the provided method `get_data_from_file`."
   ]
  },
  {
   "cell_type": "code",
   "execution_count": 9,
   "metadata": {
    "deletable": false,
    "editable": false,
    "nbgrader": {
     "cell_type": "code",
     "checksum": "578b8dc7fef786bb9d0eb9bfd9804796",
     "grade": false,
     "grade_id": "cell-7c9a70be36d77bde",
     "locked": true,
     "schema_version": 3,
     "solution": false
    }
   },
   "outputs": [],
   "source": [
    "from utils.load_names import get_data_from_file\n",
    "names_dict = get_data_from_file('data/nam_dict.txt')"
   ]
  },
  {
   "cell_type": "markdown",
   "metadata": {
    "deletable": false,
    "editable": false,
    "nbgrader": {
     "cell_type": "markdown",
     "checksum": "e4396ec5026f36d2d897eb28273fa47c",
     "grade": false,
     "grade_id": "cell-3d6450ecfff464cf",
     "locked": true,
     "schema_version": 3,
     "solution": false
    }
   },
   "source": [
    "The newly-created variable `names_dict` is a dictionary where each country is a key, and the value is the corresponding list of names from that country."
   ]
  },
  {
   "cell_type": "code",
   "execution_count": 10,
   "metadata": {
    "deletable": false,
    "editable": false,
    "nbgrader": {
     "cell_type": "code",
     "checksum": "0a3c16d045a6e3ea16cae84c8f4039b8",
     "grade": false,
     "grade_id": "cell-2979a922e5fd9032",
     "locked": true,
     "schema_version": 3,
     "solution": false
    }
   },
   "outputs": [
    {
     "data": {
      "text/plain": [
       "dict_keys(['Great Britain', 'Ireland', 'U.S.A.', 'Italy', 'Portugal', 'Spain', 'France', 'the Netherlands', 'East Frisia', 'Germany', 'Swiss', 'Iceland', 'Denmark', 'Norway', 'Sweden', 'Finland', 'Estonia', 'Latvia', 'Lithuania', 'Hungary', 'Romania', 'Bulgaria', 'Bosnia and Herzegovina', 'Croatia', 'Kosovo', 'Serbia', 'Albania', 'Greece', 'Russia', 'Ukraine', 'Armenia', 'Azerbaijan', 'Kazakhstan/Uzbekistan,etc.', 'Turkey', 'Arabia/Persia', 'Israel', 'China', 'India/Sri Lanka', 'Japan', 'Korea', 'Vietnam'])"
      ]
     },
     "execution_count": 10,
     "metadata": {},
     "output_type": "execute_result"
    }
   ],
   "source": [
    "names_dict.keys()"
   ]
  },
  {
   "cell_type": "code",
   "execution_count": 11,
   "metadata": {
    "deletable": false,
    "editable": false,
    "nbgrader": {
     "cell_type": "code",
     "checksum": "fabffeb8a60ded472b3ab0996e6acd34",
     "grade": false,
     "grade_id": "cell-b9578aa61d75938e",
     "locked": true,
     "schema_version": 3,
     "solution": false
    }
   },
   "outputs": [
    {
     "data": {
      "text/plain": [
       "['Achilleas',\n",
       " 'Achillefs',\n",
       " 'Adamantia',\n",
       " 'Adamantini',\n",
       " 'Adamantios',\n",
       " 'Aeneas',\n",
       " 'Afroditi',\n",
       " 'Agapi',\n",
       " 'Agapios',\n",
       " 'Agathi']"
      ]
     },
     "execution_count": 11,
     "metadata": {},
     "output_type": "execute_result"
    }
   ],
   "source": [
    "names_dict['Greece'][:10]"
   ]
  },
  {
   "cell_type": "markdown",
   "metadata": {
    "deletable": false,
    "editable": false,
    "nbgrader": {
     "cell_type": "markdown",
     "checksum": "298f96dbddf1b6528aba07514a1442de",
     "grade": false,
     "grade_id": "cell-172dd5d6a5c41971",
     "locked": true,
     "schema_version": 3,
     "solution": false
    }
   },
   "source": [
    "Let's look at the dataset in more detail. Plot the number of names in each country using a [bar plot](https://matplotlib.org/3.1.1/api/_as_gen/matplotlib.pyplot.bar.html).\n",
    "\n",
    "*Hints*:\n",
    "\n",
    "- You can put labels in the x-axis using the method [`xticks`](https://matplotlib.org/3.1.1/api/_as_gen/matplotlib.pyplot.xticks.html).\n",
    "- The `xticks` method accepts a keyword argument named `rotation`."
   ]
  },
  {
   "cell_type": "code",
   "execution_count": 12,
   "metadata": {
    "deletable": false,
    "nbgrader": {
     "cell_type": "code",
     "checksum": "239562267cb4dc6cbc5bdd6e1fa817be",
     "grade": true,
     "grade_id": "cell-ff582e8e844bfb50",
     "locked": false,
     "points": 0,
     "schema_version": 3,
     "solution": true
    }
   },
   "outputs": [
    {
     "data": {
      "image/png": "[encoded data removed]",
      "text/plain": [
       "<Figure size 432x288 with 1 Axes>"
      ]
     },
     "metadata": {
      "needs_background": "light"
     },
     "output_type": "display_data"
    }
   ],
   "source": [
    "%matplotlib inline\n",
    "import matplotlib.pyplot as plt\n",
    "\n",
    "# YOUR CODE HERE\n",
    "# fig, ax = plt.subplots()\n",
    "# ax.bar('')\n",
    "# for i in range(len(names_dict)):\n",
    "#     len(names_dict['China'])\n",
    "#     ax.bar('')\n",
    "n = len(names_dict)\n",
    "fig, ax = plt.subplots()\n",
    "\n",
    "for key, value in names_dict.items():\n",
    "\n",
    "    plt.bar(key,len(names_dict[key]))\n",
    "#     x = len(names_dict[key])\n",
    "#     print(key)\n",
    "    plt.xticks(rotation='vertical')\n",
    "    \n",
    "    \n",
    "    "
   ]
  },
  {
   "cell_type": "code",
   "execution_count": 13,
   "metadata": {},
   "outputs": [
    {
     "data": {
      "text/plain": [
       "['An',\n",
       " 'Anh',\n",
       " 'Ba',\n",
       " 'Bac',\n",
       " 'Bach',\n",
       " 'Ban',\n",
       " 'Bang',\n",
       " 'Bao',\n",
       " 'Bay',\n",
       " 'Be',\n",
       " 'Bich',\n",
       " 'Bien',\n",
       " 'Binh',\n",
       " 'Cam',\n",
       " 'Canh',\n",
       " 'Cao',\n",
       " 'Caong',\n",
       " 'Cat',\n",
       " 'Chanh',\n",
       " 'Chau',\n",
       " 'Chay',\n",
       " 'Chi',\n",
       " 'Chiem',\n",
       " 'Chien',\n",
       " 'Chieu',\n",
       " 'Chinh',\n",
       " 'Chung',\n",
       " 'Chuong',\n",
       " 'Chuyen',\n",
       " 'Co',\n",
       " 'Cong',\n",
       " 'Cu',\n",
       " 'Cuc',\n",
       " 'Cuong',\n",
       " 'Dac',\n",
       " 'Dai',\n",
       " 'Dan',\n",
       " 'Dang',\n",
       " 'Danh',\n",
       " 'Dao',\n",
       " 'Dat',\n",
       " 'Dau',\n",
       " 'De',\n",
       " 'Diem',\n",
       " 'Dien',\n",
       " 'Diep',\n",
       " 'Diet',\n",
       " 'Dieu',\n",
       " 'Dinh',\n",
       " 'Do',\n",
       " 'Doan',\n",
       " 'Doanh',\n",
       " 'Doc',\n",
       " 'Du',\n",
       " 'Duc',\n",
       " 'Due',\n",
       " 'Dung',\n",
       " 'Duoc',\n",
       " 'Duong',\n",
       " 'Duy',\n",
       " 'Duyen',\n",
       " 'Gai',\n",
       " 'Gia',\n",
       " 'Giac',\n",
       " 'Giang',\n",
       " 'Giao',\n",
       " 'Ha',\n",
       " 'Haa',\n",
       " 'Hai',\n",
       " 'Hang',\n",
       " 'Hanh',\n",
       " 'Hat',\n",
       " 'Hau',\n",
       " 'Hien',\n",
       " 'Hiep',\n",
       " 'Hieu',\n",
       " 'Hoa',\n",
       " 'Hoai',\n",
       " 'Hoan',\n",
       " 'Hoang',\n",
       " 'Hoc',\n",
       " 'Hoe',\n",
       " 'Hoi',\n",
       " 'Hue',\n",
       " 'Hung',\n",
       " 'Huong',\n",
       " 'Huu',\n",
       " 'Huy',\n",
       " 'Huyen',\n",
       " 'Huynh',\n",
       " 'Hy',\n",
       " 'Kha',\n",
       " 'Khac',\n",
       " 'Khai',\n",
       " 'Khanh',\n",
       " 'Khoa',\n",
       " 'Khoat',\n",
       " 'Khoi',\n",
       " 'Khuong',\n",
       " 'Khuyen',\n",
       " 'Kien',\n",
       " 'Kiet',\n",
       " 'Kieu',\n",
       " 'Kim',\n",
       " 'Kinh',\n",
       " 'Ky',\n",
       " 'Lac',\n",
       " 'Lam',\n",
       " 'Lan',\n",
       " 'Lanh',\n",
       " 'Lap',\n",
       " 'Lau',\n",
       " 'Le',\n",
       " 'Liem',\n",
       " 'Lien',\n",
       " 'Lieu',\n",
       " 'Linh',\n",
       " 'Lo',\n",
       " 'Loan',\n",
       " 'Loc',\n",
       " 'Loi',\n",
       " 'Long',\n",
       " 'Luan',\n",
       " 'Luat',\n",
       " 'Luc',\n",
       " 'Luong',\n",
       " 'Luu',\n",
       " 'Ly',\n",
       " 'Mai',\n",
       " 'Manh',\n",
       " 'Mao',\n",
       " 'Men',\n",
       " 'Mien',\n",
       " 'Minh',\n",
       " 'Mong',\n",
       " 'Mui',\n",
       " 'My',\n",
       " 'Nam',\n",
       " 'Nang',\n",
       " 'Nga',\n",
       " 'Ngan',\n",
       " 'Nghi',\n",
       " 'Nghia',\n",
       " 'Nghiem',\n",
       " 'Ngoc',\n",
       " 'Nguyet',\n",
       " 'Nha',\n",
       " 'Nham',\n",
       " 'Nhan',\n",
       " 'Nhat',\n",
       " 'Nhi',\n",
       " 'Nhieu',\n",
       " 'Nhu',\n",
       " 'Nhuan',\n",
       " 'Nhung',\n",
       " 'Nhuong',\n",
       " 'Oanh',\n",
       " 'Phan',\n",
       " 'Phaong',\n",
       " 'Phat',\n",
       " 'Phi',\n",
       " 'Phong',\n",
       " 'Phu',\n",
       " 'Phuc',\n",
       " 'Phung',\n",
       " 'Phuoc',\n",
       " 'Phuong',\n",
       " 'Quan',\n",
       " 'Quang',\n",
       " 'Que',\n",
       " 'Qui',\n",
       " 'Quoc',\n",
       " 'Quy',\n",
       " 'Quyen',\n",
       " 'Quyet',\n",
       " 'Quynh',\n",
       " 'Ri',\n",
       " 'Sang',\n",
       " 'Sau',\n",
       " 'Si',\n",
       " 'Sinh',\n",
       " 'Soan',\n",
       " 'Som',\n",
       " 'Son',\n",
       " 'Suu',\n",
       " 'Suy',\n",
       " 'Sy',\n",
       " 'Tai',\n",
       " 'Tam',\n",
       " 'Tan',\n",
       " 'Tat',\n",
       " 'Teo',\n",
       " 'Tha',\n",
       " 'Thac',\n",
       " 'Thach',\n",
       " 'Thai',\n",
       " 'Than',\n",
       " 'Thang',\n",
       " 'Thanh',\n",
       " 'Thao',\n",
       " 'The',\n",
       " 'Thi',\n",
       " 'Thien',\n",
       " 'Thiet',\n",
       " 'Thieu',\n",
       " 'Thin',\n",
       " 'Thinh',\n",
       " 'Thiong',\n",
       " 'Tho',\n",
       " 'Thoa',\n",
       " 'Thom',\n",
       " 'Thong',\n",
       " 'Thu',\n",
       " 'Thuan',\n",
       " 'Thuc',\n",
       " 'Thung',\n",
       " 'Thuong',\n",
       " 'Thuy',\n",
       " 'Thuyen',\n",
       " 'Tien',\n",
       " 'Tiet',\n",
       " 'Tin',\n",
       " 'Tinh',\n",
       " 'To',\n",
       " 'Toan',\n",
       " 'Ton',\n",
       " 'Tram',\n",
       " 'Tran',\n",
       " 'Trang',\n",
       " 'Tri',\n",
       " 'Trien',\n",
       " 'Trieu',\n",
       " 'Trinh',\n",
       " 'Trong',\n",
       " 'Tru',\n",
       " 'Truc',\n",
       " 'Trung',\n",
       " 'Truong',\n",
       " 'Tu',\n",
       " 'Tuan',\n",
       " 'Tue',\n",
       " 'Tung',\n",
       " 'Tuong',\n",
       " 'Tuy',\n",
       " 'Tuyen',\n",
       " 'Tuyet',\n",
       " 'Ty',\n",
       " 'Uyen',\n",
       " 'Van',\n",
       " 'Vien',\n",
       " 'Viet',\n",
       " 'Vinh',\n",
       " 'Vu',\n",
       " 'Vui',\n",
       " 'Vung',\n",
       " 'Vuong',\n",
       " 'Xoan',\n",
       " 'Xuan',\n",
       " 'Xuong',\n",
       " 'Yen']"
      ]
     },
     "execution_count": 13,
     "metadata": {},
     "output_type": "execute_result"
    }
   ],
   "source": [
    "value"
   ]
  },
  {
   "cell_type": "markdown",
   "metadata": {
    "deletable": false,
    "editable": false,
    "nbgrader": {
     "cell_type": "markdown",
     "checksum": "e3f020d7988081d75ac09b50eebb91f3",
     "grade": false,
     "grade_id": "cell-390475b6777ce344",
     "locked": true,
     "schema_version": 3,
     "solution": false
    }
   },
   "source": [
    "Is this dataset balanced? If not, which are the top-3 countries with most names?"
   ]
  },
  {
   "cell_type": "markdown",
   "metadata": {
    "deletable": false,
    "nbgrader": {
     "cell_type": "markdown",
     "checksum": "94306b4cb0e033dcaf119982200607ad",
     "grade": true,
     "grade_id": "cell-e70912fa2bf69d84",
     "locked": false,
     "points": 0,
     "schema_version": 3,
     "solution": true
    }
   },
   "source": [
    "**Your answer:** (fill in here)From the plot it looks that the dataset is not balanced each country contains different amount of names where China, U.S.A, Italy ranked top-3 countries with most names."
   ]
  },
  {
   "cell_type": "markdown",
   "metadata": {
    "deletable": false,
    "editable": false,
    "nbgrader": {
     "cell_type": "markdown",
     "checksum": "1db6be82caa3a09c812b3158187adcf8",
     "grade": false,
     "grade_id": "cell-b332445688db5846",
     "locked": true,
     "schema_version": 3,
     "solution": false
    }
   },
   "source": [
    "### 1.2 Pre-processing"
   ]
  },
  {
   "cell_type": "markdown",
   "metadata": {
    "deletable": false,
    "editable": false,
    "nbgrader": {
     "cell_type": "markdown",
     "checksum": "8e9d2c3be16a91407c9403684b28ddfe",
     "grade": false,
     "grade_id": "cell-0248575eadc7e93e",
     "locked": true,
     "schema_version": 3,
     "solution": false
    }
   },
   "source": [
    "We will train an RNN which takes as input one character at each time-step. In order to do so, we will encode every character in the input names into a one-hot representation that is more suited to be fed to neural networks. \n",
    "\n",
    "The first thing we need to do is to decide the size of the alphabet used for the one-hot encoding. To do so, let's take a look at all the characters used in the dataset. A simple way to do so is putting all names in the same string and then using a `set` to get the unique values. We'll treat upper-case and lower-case characters as being the same."
   ]
  },
  {
   "cell_type": "code",
   "execution_count": 14,
   "metadata": {
    "deletable": false,
    "editable": false,
    "nbgrader": {
     "cell_type": "code",
     "checksum": "94cec9e9df68c821353d453cafaa5f8b",
     "grade": false,
     "grade_id": "cell-6b58e326e17e53f5",
     "locked": true,
     "schema_version": 3,
     "solution": false
    }
   },
   "outputs": [
    {
     "data": {
      "text/plain": [
       "[' ',\n",
       " \"'\",\n",
       " '-',\n",
       " 'a',\n",
       " 'b',\n",
       " 'c',\n",
       " 'd',\n",
       " 'e',\n",
       " 'f',\n",
       " 'g',\n",
       " 'h',\n",
       " 'i',\n",
       " 'j',\n",
       " 'k',\n",
       " 'l',\n",
       " 'm',\n",
       " 'n',\n",
       " 'o',\n",
       " 'p',\n",
       " 'q',\n",
       " 'r',\n",
       " 's',\n",
       " 't',\n",
       " 'u',\n",
       " 'v',\n",
       " 'w',\n",
       " 'x',\n",
       " 'y',\n",
       " 'z',\n",
       " 'ß',\n",
       " 'à',\n",
       " 'á',\n",
       " 'â',\n",
       " 'ã',\n",
       " 'ä',\n",
       " 'å',\n",
       " 'æ',\n",
       " 'ç',\n",
       " 'è',\n",
       " 'é',\n",
       " 'ê',\n",
       " 'ë',\n",
       " 'í',\n",
       " 'î',\n",
       " 'ï',\n",
       " 'ð',\n",
       " 'ñ',\n",
       " 'ò',\n",
       " 'ó',\n",
       " 'ô',\n",
       " 'õ',\n",
       " 'ö',\n",
       " 'ø',\n",
       " 'ú',\n",
       " 'ü',\n",
       " 'ý',\n",
       " 'þ']"
      ]
     },
     "execution_count": 14,
     "metadata": {},
     "output_type": "execute_result"
    }
   ],
   "source": [
    "temp = \"\"\n",
    "for name_list in names_dict.values():\n",
    "    for name in name_list:\n",
    "        temp += name.lower()\n",
    "charset = sorted(set(temp))\n",
    "charset"
   ]
  },
  {
   "cell_type": "markdown",
   "metadata": {
    "deletable": false,
    "editable": false,
    "nbgrader": {
     "cell_type": "markdown",
     "checksum": "aa26ef5d12faceb8d330856b41769a40",
     "grade": false,
     "grade_id": "cell-c28ba53b5126e2f5",
     "locked": true,
     "schema_version": 3,
     "solution": false
    }
   },
   "source": [
    "Now we can create a function that takes as input a name, and outputs a `(name length) x (charset length)` tensor."
   ]
  },
  {
   "cell_type": "code",
   "execution_count": 15,
   "metadata": {},
   "outputs": [
    {
     "data": {
      "text/plain": [
       "' '"
      ]
     },
     "execution_count": 15,
     "metadata": {},
     "output_type": "execute_result"
    }
   ],
   "source": [
    "charset[0]"
   ]
  },
  {
   "cell_type": "code",
   "execution_count": 16,
   "metadata": {
    "deletable": false,
    "editable": false,
    "nbgrader": {
     "cell_type": "code",
     "checksum": "14585ce3bdfe1f68870f92fa78e537ad",
     "grade": false,
     "grade_id": "cell-e078bcfbef92ef2d",
     "locked": true,
     "schema_version": 3,
     "solution": false
    }
   },
   "outputs": [],
   "source": [
    "import torch"
   ]
  },
  {
   "cell_type": "code",
   "execution_count": 17,
   "metadata": {
    "deletable": false,
    "editable": false,
    "nbgrader": {
     "cell_type": "code",
     "checksum": "1f3a2f737754dd7e7735d97ab0a7b1a8",
     "grade": false,
     "grade_id": "cell-28b1f4faf5fe75a3",
     "locked": true,
     "schema_version": 3,
     "solution": false
    }
   },
   "outputs": [],
   "source": [
    "def name2tensor(name):\n",
    "    name = name.lower()\n",
    "    \n",
    "    # Create tensor of correct size filled with zeros\n",
    "    tensor = torch.zeros(len(name), len(charset))\n",
    "    \n",
    "    # For each letter, fill in the tensor with a 1 in the position corresponding to the character index in the charset\n",
    "    for i, letter in enumerate(name):\n",
    "        char_index = charset.index(letter)\n",
    "        tensor[i][char_index] = 1\n",
    "        \n",
    "    return tensor"
   ]
  },
  {
   "cell_type": "code",
   "execution_count": 18,
   "metadata": {
    "deletable": false,
    "editable": false,
    "nbgrader": {
     "cell_type": "code",
     "checksum": "8a9bbbdc34b5d27a2f3187bda44fa59f",
     "grade": false,
     "grade_id": "cell-5d8cbbfaa7917f2c",
     "locked": true,
     "schema_version": 3,
     "solution": false
    }
   },
   "outputs": [
    {
     "data": {
      "text/plain": [
       "tensor([[0., 0., 0., 1., 0., 0., 0., 0., 0., 0., 0., 0., 0., 0., 0., 0., 0., 0.,\n",
       "         0., 0., 0., 0., 0., 0., 0., 0., 0., 0., 0., 0., 0., 0., 0., 0., 0., 0.,\n",
       "         0., 0., 0., 0., 0., 0., 0., 0., 0., 0., 0., 0., 0., 0., 0., 0., 0., 0.,\n",
       "         0., 0., 0.],\n",
       "        [0., 0., 0., 0., 0., 0., 0., 0., 0., 0., 0., 0., 0., 0., 1., 0., 0., 0.,\n",
       "         0., 0., 0., 0., 0., 0., 0., 0., 0., 0., 0., 0., 0., 0., 0., 0., 0., 0.,\n",
       "         0., 0., 0., 0., 0., 0., 0., 0., 0., 0., 0., 0., 0., 0., 0., 0., 0., 0.,\n",
       "         0., 0., 0.],\n",
       "        [0., 0., 0., 0., 0., 0., 0., 0., 0., 0., 0., 1., 0., 0., 0., 0., 0., 0.,\n",
       "         0., 0., 0., 0., 0., 0., 0., 0., 0., 0., 0., 0., 0., 0., 0., 0., 0., 0.,\n",
       "         0., 0., 0., 0., 0., 0., 0., 0., 0., 0., 0., 0., 0., 0., 0., 0., 0., 0.,\n",
       "         0., 0., 0.]])"
      ]
     },
     "execution_count": 18,
     "metadata": {},
     "output_type": "execute_result"
    }
   ],
   "source": [
    "name2tensor('Ali')"
   ]
  },
  {
   "cell_type": "code",
   "execution_count": 19,
   "metadata": {},
   "outputs": [
    {
     "data": {
      "text/plain": [
       "torch.Size([3, 57])"
      ]
     },
     "execution_count": 19,
     "metadata": {},
     "output_type": "execute_result"
    }
   ],
   "source": [
    "x = name2tensor('Ali')\n",
    "x.size()"
   ]
  },
  {
   "cell_type": "markdown",
   "metadata": {
    "deletable": false,
    "editable": false,
    "nbgrader": {
     "cell_type": "markdown",
     "checksum": "20d3d8b2de876fd7d1160298362838a2",
     "grade": false,
     "grade_id": "cell-21a59eb745d70bfd",
     "locked": true,
     "schema_version": 3,
     "solution": false,
     "task": false
    }
   },
   "source": [
    "Why does the above output tensor contain a 1 at position (0,3)?"
   ]
  },
  {
   "cell_type": "markdown",
   "metadata": {
    "deletable": false,
    "nbgrader": {
     "cell_type": "markdown",
     "checksum": "49c4292927f944a5edca1db964fcd7f3",
     "grade": true,
     "grade_id": "cell-39860df3e01f0204",
     "locked": false,
     "points": 0,
     "schema_version": 3,
     "solution": true,
     "task": false
    }
   },
   "source": [
    "**Your answer:** (fill in here)  Because the first dimension of this output tensor corresponds to the letter 'A' or 'a', which is located in the forth element of the charset we created previously."
   ]
  },
  {
   "cell_type": "markdown",
   "metadata": {
    "deletable": false,
    "editable": false,
    "nbgrader": {
     "cell_type": "markdown",
     "checksum": "c30bca60979c477df51fc0312000ec91",
     "grade": false,
     "grade_id": "cell-5beb6efb1f504ce2",
     "locked": true,
     "schema_version": 3,
     "solution": false
    }
   },
   "source": [
    "**(0.5 POE)**\n",
    "What happens if you try encoding the string `Lol@` using this function? Why?"
   ]
  },
  {
   "cell_type": "markdown",
   "metadata": {
    "deletable": false,
    "nbgrader": {
     "cell_type": "markdown",
     "checksum": "98035c11450ee7e36e86ef5f2c11b0f2",
     "grade": true,
     "grade_id": "cell-613a1d700434e11a",
     "locked": false,
     "points": 0.5,
     "schema_version": 3,
     "solution": true
    }
   },
   "source": [
    "**Your answer:** (fill in here) We will get an error, because our function used previously created charset, and @ is not in this charset, thus it can not be encoded into a one-hot representation."
   ]
  },
  {
   "cell_type": "markdown",
   "metadata": {
    "deletable": false,
    "editable": false,
    "nbgrader": {
     "cell_type": "markdown",
     "checksum": "ef09d5be7d022f669a1580dc75732134",
     "grade": false,
     "grade_id": "cell-fdfe2093caad0c9d",
     "locked": true,
     "schema_version": 3,
     "solution": false
    }
   },
   "source": [
    "It's definitely possible to use the tensors created with `name2tensor` to train our RNN, but in that case we would only be able to conveniently perform forward-propagation using one sample at a time.\n",
    "\n",
    "Instead, we want to batch samples together and parallelize the forward-propagation step. To do so, all samples must have the same dimensions (right now every sample has dimension `(name length) x (charset length)`, and the length of the names varies). Modify the function `name2padded_tensor` to achieve this by padding the start of the tensor with zeros, so that the output tensor always has length `target_len x (charset length)`.\n",
    "\n",
    "*Hint*:\n",
    "\n",
    "- To make it easier to catch bugs in the next parts of the assignment, make sure to raise an exception if the `target_len` is smaller than the length of the input word."
   ]
  },
  {
   "cell_type": "code",
   "execution_count": 20,
   "metadata": {
    "deletable": false,
    "nbgrader": {
     "cell_type": "code",
     "checksum": "00bfec2441b0ed4cce214efbd27292cb",
     "grade": true,
     "grade_id": "cell-fbe880f01de97439",
     "locked": false,
     "points": 0,
     "schema_version": 3,
     "solution": true
    }
   },
   "outputs": [],
   "source": [
    "def name2padded_tensor(name, target_len):\n",
    "\n",
    "    tensor = name2tensor(name) # this tensor will have (name length) x (charset length) dimension\n",
    "        \n",
    "    # YOUR CODE HERE\n",
    "    tensor2 = torch.zeros(target_len-len(tensor),len(charset))\n",
    "    \n",
    "    # For each letter, fill in the tensor with a 1 in the position corresponding to the character index in the charset\n",
    "\n",
    "    tensor = torch.cat((tensor2,tensor), 0)\n",
    "    return tensor\n",
    "    \n",
    " \n",
    "    return tensor"
   ]
  },
  {
   "cell_type": "code",
   "execution_count": 21,
   "metadata": {
    "deletable": false,
    "editable": false,
    "nbgrader": {
     "cell_type": "code",
     "checksum": "5de1745a961b0184d422af8c705cf392",
     "grade": false,
     "grade_id": "cell-22bb8ede1d7a7da2",
     "locked": true,
     "schema_version": 3,
     "solution": false
    }
   },
   "outputs": [
    {
     "name": "stdout",
     "output_type": "stream",
     "text": [
      "Test passed.\n"
     ]
    }
   ],
   "source": [
    "def test_name2padded_tensor():\n",
    "    test_case(case_id=\"1\", name=\"Ali\", target_len=5)\n",
    "    test_case(case_id=\"2\", name=\"Ali Baba\", target_len=10)\n",
    "    print(\"Test passed.\")\n",
    "    \n",
    "    \n",
    "def test_case(case_id, name, target_len):\n",
    "    padded_tensor = name2padded_tensor(\"Ali\", target_len)\n",
    "    new_target_len, new_charset_len = padded_tensor.shape\n",
    "    err_string = \"Case {} failed: {}\"\n",
    "    \n",
    "    assert new_target_len == target_len, err_string.format(case_id,\n",
    "        \"`target_len` not preserved, expected: {}, got: {}\".format(target_len, new_target_len))\n",
    "    \n",
    "    assert new_charset_len == 57, err_string.format(\n",
    "        \"`charset_len` not preserved, expected: 57, got: {}\".format(new_charset_len))\n",
    "    \n",
    "    assert padded_tensor[:2, :].sum() == 0, err_string.format(\n",
    "        \"The first two rows of the tensor should be all zeros.\")\n",
    "    \n",
    "    assert (padded_tensor.sum(1) <= torch.ones((target_len, 1))).all(), err_string.format(\n",
    "        \"Every row in the tensor should sum to at most 1.\")\n",
    "    \n",
    "    assert padded_tensor.sum() <= len(name), err_string.format(\n",
    "        \"The sum of all elements (i.e. the number of ones) should equal the number of characters in the name.\")\n",
    "    \n",
    "test_name2padded_tensor()"
   ]
  },
  {
   "cell_type": "markdown",
   "metadata": {
    "deletable": false,
    "editable": false,
    "nbgrader": {
     "cell_type": "markdown",
     "checksum": "867b73c2ba68fcc9c1798c49969dac8c",
     "grade": false,
     "grade_id": "cell-c9657b653aeb1c93",
     "locked": true,
     "schema_version": 3,
     "solution": false
    }
   },
   "source": [
    "What should be the target length for our case in this dataset? Compute it (i.e. don't hardcode it) in the cell below and save it in a variable named `target_len`, which will be used from here on."
   ]
  },
  {
   "cell_type": "code",
   "execution_count": 22,
   "metadata": {
    "deletable": false,
    "nbgrader": {
     "cell_type": "code",
     "checksum": "648616943150dba84fbf4c675deb0421",
     "grade": true,
     "grade_id": "cell-ceb412223ee3e6dd",
     "locked": false,
     "points": 0,
     "schema_version": 3,
     "solution": true
    }
   },
   "outputs": [
    {
     "data": {
      "text/plain": [
       "22"
      ]
     },
     "execution_count": 22,
     "metadata": {},
     "output_type": "execute_result"
    }
   ],
   "source": [
    "# YOUR CODE HERE\n",
    "import numpy as np\n",
    "def longest(item_list):\n",
    "    len_list=map(len,item_list) # calculate the length of each element in list\n",
    "\n",
    "    li=list(len_list) \n",
    "    return item_list[np.argmax(li)] #return the longest element\n",
    "\n",
    "\n",
    "names = []\n",
    "for key, value in names_dict.items():\n",
    "#     print(key)       # we can print each country\n",
    "    x = longest(names_dict[key])    # we can get longest name for each country\n",
    "    names.append(x)   # put all longest names from each country to a new list\n",
    "\n",
    "\n",
    "Longest_name = longest(names)\n",
    "Longest_name\n",
    "target_len = len(Longest_name)\n",
    "target_len"
   ]
  },
  {
   "cell_type": "markdown",
   "metadata": {
    "deletable": false,
    "editable": false,
    "nbgrader": {
     "cell_type": "markdown",
     "checksum": "901b6c3ed25c85d2cec741ad2e575ade",
     "grade": false,
     "grade_id": "cell-0bd908b10b33e7e2",
     "locked": true,
     "schema_version": 3,
     "solution": false
    }
   },
   "source": [
    "Now we can go through the entire dataset, encode each of the names, and save all of it in a tensor. We'll do the same with the ground-truth labels for the countries of each name."
   ]
  },
  {
   "cell_type": "code",
   "execution_count": 23,
   "metadata": {
    "deletable": false,
    "editable": false,
    "nbgrader": {
     "cell_type": "code",
     "checksum": "2b0c5193152b51305c0a1aef0900f7c9",
     "grade": false,
     "grade_id": "cell-c41ca1beab4900d1",
     "locked": true,
     "schema_version": 3,
     "solution": false
    }
   },
   "outputs": [],
   "source": [
    "# Create the tensors that will hold the names and labels \n",
    "# (note that the first dimension has 0 elements, this is a way to initialize an empty tensor for concatenating later)\n",
    "xs = torch.zeros(0, target_len, len(charset))\n",
    "ys = torch.zeros(0, dtype=torch.long)\n",
    "\n",
    "for i, country in enumerate(names_dict.keys()):\n",
    "    \n",
    "    # Apply the name2padded_tensor function to each name in this country\n",
    "    temp = map(\n",
    "        lambda n: name2padded_tensor(n, target_len), \n",
    "        names_dict[country])\n",
    "    \n",
    "    # Add a new dimension to the resulting tensors\n",
    "    temp = [name_tensor[None, :, :] for name_tensor in temp]\n",
    "    \n",
    "    # Concatenate all of them along this new dimension\n",
    "    names_tensor = torch.cat(temp, dim=0)\n",
    "    \n",
    "    # Add these tensors to `xs`\n",
    "    # Note that we have 44504 data pairs (x,y) where a single input x has the shape (target_len, 57),\n",
    "    # where 57 is the length of the one-hot-encoded vectors.\n",
    "    xs = torch.cat([xs, names_tensor], dim=0)\n",
    "    \n",
    "    # Create tensor filled with i`s and add that to the ground-truth tensor\n",
    "    ys_for_this_country = torch.zeros(names_tensor.shape[0], dtype=torch.long) + i\n",
    "    ys = torch.cat([ys, ys_for_this_country])    "
   ]
  },
  {
   "cell_type": "code",
   "execution_count": 24,
   "metadata": {
    "deletable": false,
    "editable": false,
    "nbgrader": {
     "cell_type": "code",
     "checksum": "59844c38d7efe88476c8c7299e4e0eb4",
     "grade": false,
     "grade_id": "cell-52dbbea6ddcef37d",
     "locked": true,
     "schema_version": 3,
     "solution": false
    }
   },
   "outputs": [
    {
     "data": {
      "text/plain": [
       "torch.Size([44504, 22, 57])"
      ]
     },
     "execution_count": 24,
     "metadata": {},
     "output_type": "execute_result"
    }
   ],
   "source": [
    "xs.shape"
   ]
  },
  {
   "cell_type": "code",
   "execution_count": 25,
   "metadata": {
    "deletable": false,
    "editable": false,
    "nbgrader": {
     "cell_type": "code",
     "checksum": "84f30aec4ebb491a7b47bc37f3c4428d",
     "grade": false,
     "grade_id": "cell-7e884148f06eed5d",
     "locked": true,
     "schema_version": 3,
     "solution": false
    }
   },
   "outputs": [
    {
     "data": {
      "text/plain": [
       "torch.Size([44504])"
      ]
     },
     "execution_count": 25,
     "metadata": {},
     "output_type": "execute_result"
    }
   ],
   "source": [
    "ys.shape"
   ]
  },
  {
   "cell_type": "markdown",
   "metadata": {
    "deletable": false,
    "editable": false,
    "nbgrader": {
     "cell_type": "markdown",
     "checksum": "d0ad8b82a67e3dae17a9dcf05d4886e3",
     "grade": false,
     "grade_id": "cell-0aa1483447535d5e",
     "locked": true,
     "schema_version": 3,
     "solution": false
    }
   },
   "source": [
    "Now we can create a dataset with these tensors."
   ]
  },
  {
   "cell_type": "code",
   "execution_count": 26,
   "metadata": {
    "deletable": false,
    "editable": false,
    "nbgrader": {
     "cell_type": "code",
     "checksum": "bfe3df0f9d0e144e99d070814a493a6f",
     "grade": false,
     "grade_id": "cell-6b352207c061f029",
     "locked": true,
     "schema_version": 3,
     "solution": false
    }
   },
   "outputs": [],
   "source": [
    "from torch.utils.data import TensorDataset\n",
    "\n",
    "device = torch.device(\"cuda\" if torch.cuda.is_available() else \"cpu\")\n",
    "dataset = TensorDataset(xs.to(device), ys.to(device))"
   ]
  },
  {
   "cell_type": "code",
   "execution_count": 27,
   "metadata": {},
   "outputs": [
    {
     "data": {
      "text/plain": [
       "device(type='cpu')"
      ]
     },
     "execution_count": 27,
     "metadata": {},
     "output_type": "execute_result"
    }
   ],
   "source": [
    "device"
   ]
  },
  {
   "cell_type": "markdown",
   "metadata": {
    "deletable": false,
    "editable": false,
    "nbgrader": {
     "cell_type": "markdown",
     "checksum": "86cdcef7c72b84485a13de4cf47e3dde",
     "grade": false,
     "grade_id": "cell-c20e8ae6ac70f92f",
     "locked": true,
     "schema_version": 3,
     "solution": false
    }
   },
   "source": [
    "And split it in training, validation, and test sets."
   ]
  },
  {
   "cell_type": "code",
   "execution_count": 28,
   "metadata": {
    "deletable": false,
    "editable": false,
    "nbgrader": {
     "cell_type": "code",
     "checksum": "db198d7a02c0fae8959ccb3ebcbb62f8",
     "grade": false,
     "grade_id": "cell-57448454a3d5dc19",
     "locked": true,
     "schema_version": 3,
     "solution": false
    }
   },
   "outputs": [],
   "source": [
    "from torch.utils.data import random_split\n",
    "\n",
    "val_ratio = 0.15\n",
    "test_ratio = 0.15\n",
    "\n",
    "n_samples = len(dataset)\n",
    "n_val_samples = int(n_samples*val_ratio)\n",
    "n_test_samples = int(n_samples*test_ratio)\n",
    "n_train_samples = n_samples-n_val_samples-n_test_samples\n",
    "\n",
    "train_dataset, val_dataset, test_dataset = random_split(dataset, [n_train_samples, n_val_samples, n_test_samples])"
   ]
  },
  {
   "cell_type": "markdown",
   "metadata": {
    "deletable": false,
    "editable": false,
    "nbgrader": {
     "cell_type": "markdown",
     "checksum": "da53c7a8fffae55f48861e3dd82bfb1f",
     "grade": false,
     "grade_id": "cell-485c36faf4913176",
     "locked": true,
     "schema_version": 3,
     "solution": false
    }
   },
   "source": [
    "### 1.3 Defining the optimization"
   ]
  },
  {
   "cell_type": "markdown",
   "metadata": {
    "deletable": false,
    "editable": false,
    "nbgrader": {
     "cell_type": "markdown",
     "checksum": "c01ec8621522587812922448fb267278",
     "grade": false,
     "grade_id": "cell-b2ed39f361f618c2",
     "locked": true,
     "schema_version": 3,
     "solution": false
    }
   },
   "source": [
    "Now we will define the model to be trained, that is, a single layer RNN. As usual, we will create a class for the model and inherit from `nn.Module`. Define in the next cell a class for an RNN that follows the equations:\n",
    "\n",
    "$$ h_t = \\text{tanh}(W_h x_t + U_h h_{t-1} + b_h) $$\n",
    "$$ y_t = \\log \\Big(\\text{Softmax}(W_y h_t + b_y)\\Big)~,$$\n",
    "\n",
    "where $h_t$ is the current hidden-state, $h_{t-1}$ is the previous hidden state, $x_t$ is the input, $y_t$ is the output, and $W_h, U_h, b_h, W_y, b_y$ are the trainable parts of the RNN. As explained before, we will use this RNN to classify names, inputting one character at each step and using the last output as the prediction for a distribution over probable countries for the name.\n",
    "\n",
    "*Hints:*\n",
    "\n",
    "- As you're probably aware by now, PyTorch [has a layer](https://pytorch.org/docs/stable/nn.html#logsoftmax) that already applies the log and the softmax in one pass.\n",
    "- If you get errors related to size mismatches when computing the forward-propagation in your model, try reading the documentation for the specific module where the problem is occurring (e.g. [`nn.Linear`](https://pytorch.org/docs/stable/nn.html#linear)), specially the part about the expected shape of inputs and outputs."
   ]
  },
  {
   "cell_type": "code",
   "execution_count": 29,
   "metadata": {
    "deletable": false,
    "nbgrader": {
     "cell_type": "code",
     "checksum": "779f945b274e152fdb2d16a0f0c59719",
     "grade": true,
     "grade_id": "cell-63759a1c550cd7e1",
     "locked": false,
     "points": 0,
     "schema_version": 3,
     "solution": true
    }
   },
   "outputs": [],
   "source": [
    "\n",
    "import torch\n",
    "import torch.nn as nn\n",
    "from torch.autograd import Variable\n",
    "     \n",
    "\n",
    "class RNN(nn.Module):\n",
    "    def __init__(self, input_size, hidden_size, output_size):\n",
    "        \"\"\"\n",
    "        Inputs:\n",
    "            input_size     - Dimensionality of the input of this RNN.\n",
    "            hidden_size    - Dimensionality of the hidden state.\n",
    "            output_size    - Dimensionality of the output of this RNN.\n",
    "        \"\"\"\n",
    "        \n",
    "        super(RNN, self).__init__()\n",
    "        \n",
    "        # YOUR CODE HERE        \n",
    "        \n",
    "        #self.Wx = torch.randn(hidden_size, input_size) # input weights\n",
    "        #self.Wh = torch.randn(hidden_size, hidden_size) # hidden weights\n",
    "        #self.Wy = torch.randn(output_size, hidden_size) # output weights\n",
    "        \n",
    "        #self.h = torch.zeros(hidden_size,1) # initial hidden state\n",
    "        #self.bh = torch.zeros(hidden_size,1) # hidden state bias\n",
    "        #self.by = torch.zeros(output_size,1) # output bias\n",
    "        \n",
    "        \n",
    "        #print('input_size',input_size)\n",
    "        #print('output_size',output_size)\n",
    "        #print('hidden_size',hidden_size)\n",
    "        \n",
    "        self.hidden_size = hidden_size\n",
    "        self.output_size = output_size\n",
    "        self.input_size = input_size\n",
    "        \n",
    "        self.h2h = nn.RNNCell(input_size + hidden_size, hidden_size, 'tanh')\n",
    "        self.h2y = nn.Linear(hidden_size, output_size)\n",
    "        \n",
    "    def forward(self, x, h):      \n",
    "        \"\"\"\n",
    "        Runs the RNN module for one time-step.\n",
    "        Inputs:\n",
    "            x              - Batch of one-hot encoded characters. \n",
    "                             Tensor of size (BATCH SIZE x CHARSET LENGTH).\n",
    "            h              - Batch of hidden states at previous time-step.\n",
    "                             Tensor of size (BATCH SIZE x `hidden_size`).       \n",
    "        Returns:\n",
    "            y              - Batch of outputs.\n",
    "                             Tensor of size (BATCH SIZE x NUMBER OF COUNTRIES).\n",
    "            new_h          - Batch of hidden states at current time-step.\n",
    "                             Tensor of size (BATCH SIZE x `hidden_size`).\n",
    "        \"\"\"\n",
    "        \n",
    "        # YOUR CODE HERE\n",
    "        \n",
    "        temp_h = torch.cat((x,h),1)\n",
    "        new_h = self.h2h(temp_h)\n",
    "        \n",
    "        soft = self.h2y(new_h)\n",
    "        m = nn.LogSoftmax(dim=1)\n",
    "        y= m(soft)\n",
    "   \n",
    "        \n",
    "        return y, new_h\n",
    "    \n",
    "    def init_h(self, b_size):\n",
    "        \n",
    "        return torch.zeros(b_size, self.hidden_size)\n"
   ]
  },
  {
   "cell_type": "markdown",
   "metadata": {
    "deletable": false,
    "editable": false,
    "nbgrader": {
     "cell_type": "markdown",
     "checksum": "ef6f13ee64c864145910c8c572c69619",
     "grade": false,
     "grade_id": "cell-41a6ab734e65e9e2",
     "locked": true,
     "schema_version": 3,
     "solution": false
    }
   },
   "source": [
    "Run the following cell to test whether the shape of your outputs are correct. Note that this *only* checks the shapes, not the content (one way you can check the actual computations of your network is to `print` the tensors as they pass through the layers, in order to check that the computations do what you expected)."
   ]
  },
  {
   "cell_type": "code",
   "execution_count": 30,
   "metadata": {
    "deletable": false,
    "editable": false,
    "nbgrader": {
     "cell_type": "code",
     "checksum": "4315757096090786eee6690c324ba75c",
     "grade": false,
     "grade_id": "cell-0895e453938dcd22",
     "locked": true,
     "schema_version": 3,
     "solution": false
    }
   },
   "outputs": [
    {
     "name": "stdout",
     "output_type": "stream",
     "text": [
      "Test passed.\n"
     ]
    }
   ],
   "source": [
    "# Create a test tensor of size (1 x CHARSET LENGTH)\n",
    "t = torch.ones((1,len(charset))).to(device)\n",
    "\n",
    "# Forward-prop through the RNN\n",
    "rnn = RNN(len(charset), 3, len(names_dict)).to(device)\n",
    "h = torch.ones((1, 3)).to(device)\n",
    "y, new_h = rnn(t, h)\n",
    "\n",
    "# Test dimensions of the outputs\n",
    "err_str = 'The {} has incorrect dimension. Dimension is {}, but should\\'ve been {}'\n",
    "assert list(y.shape) == [1, len(names_dict)], err_str.format('output', list(y.shape), [1, len(names_dict)])\n",
    "assert list(new_h.shape) == [1, 3], err_str.format('new hidden state', list(new_h.shape), [1, 3])\n",
    "\n",
    "print('Test passed.')"
   ]
  },
  {
   "cell_type": "markdown",
   "metadata": {
    "deletable": false,
    "editable": false,
    "nbgrader": {
     "cell_type": "markdown",
     "checksum": "3a95bb58240597c971bb9181a605563e",
     "grade": false,
     "grade_id": "cell-f879b658d2fe97d5",
     "locked": true,
     "schema_version": 3,
     "solution": false
    }
   },
   "source": [
    "**(2 POE)**\n",
    "Suppose we now create an RNN using the following call: `RNN(x, y, z)`. How many parameters would this model have in total?"
   ]
  },
  {
   "cell_type": "markdown",
   "metadata": {
    "deletable": false,
    "nbgrader": {
     "cell_type": "markdown",
     "checksum": "3a75752559679046eec4403fbd11df95",
     "grade": true,
     "grade_id": "cell-d359daf8f96289bc",
     "locked": false,
     "points": 2,
     "schema_version": 3,
     "solution": true
    }
   },
   "source": [
    "**Your answer:** (fill in here)The number of parameters we need to tain is hiddensize^2+ inputsize*hiddensize+ outputsize*hiddensize, thus We will have  y^2+x*y+z*y parameters"
   ]
  },
  {
   "cell_type": "markdown",
   "metadata": {
    "deletable": false,
    "editable": false,
    "nbgrader": {
     "cell_type": "markdown",
     "checksum": "0d5dc81f8efd4a09172a3480777b3273",
     "grade": false,
     "grade_id": "cell-e3ae784b6fd462cb",
     "locked": true,
     "schema_version": 3,
     "solution": false
    }
   },
   "source": [
    "We will use the Adam optimizer:"
   ]
  },
  {
   "cell_type": "code",
   "execution_count": 31,
   "metadata": {
    "deletable": false,
    "editable": false,
    "nbgrader": {
     "cell_type": "code",
     "checksum": "32abb30aecff746e6f8450bd2585ccd9",
     "grade": false,
     "grade_id": "cell-c8087333699def0c",
     "locked": true,
     "schema_version": 3,
     "solution": false
    }
   },
   "outputs": [],
   "source": [
    "from torch.optim import Adam"
   ]
  },
  {
   "cell_type": "markdown",
   "metadata": {
    "deletable": false,
    "editable": false,
    "nbgrader": {
     "cell_type": "markdown",
     "checksum": "bce7d6662ece2790aea9b9559ba42655",
     "grade": false,
     "grade_id": "cell-6411a391a74a5e36",
     "locked": true,
     "schema_version": 3,
     "solution": false
    }
   },
   "source": [
    "and since this is a classification problem we will use the negative log-likelihood loss ([`NLLLoss`](https://pytorch.org/docs/stable/nn.html#nllloss)) to train the model. We should account for the fact that our dataset is imbalanced, and one way of dealing with this problem is to assign different weights to each class in our problem. "
   ]
  },
  {
   "cell_type": "code",
   "execution_count": 32,
   "metadata": {
    "deletable": false,
    "editable": false,
    "nbgrader": {
     "cell_type": "code",
     "checksum": "03b88a4c73ebe26c0dba9ef4e33de623",
     "grade": false,
     "grade_id": "cell-934166eac20acb50",
     "locked": true,
     "schema_version": 3,
     "solution": false
    }
   },
   "outputs": [],
   "source": [
    "# Compute weights for each class\n",
    "n_names_for_each_country = [len(v) for v in names_dict.values()]\n",
    "ns = torch.tensor(n_names_for_each_country, dtype=torch.float)\n",
    "w = 1.0 / ns\n",
    "w = w / w.sum()\n",
    "\n",
    "# Define loss\n",
    "criterion = nn.NLLLoss(weight=w.to(device))"
   ]
  },
  {
   "cell_type": "markdown",
   "metadata": {
    "deletable": false,
    "editable": false,
    "nbgrader": {
     "cell_type": "markdown",
     "checksum": "79c6e7c250cee58a49186aa590044e90",
     "grade": false,
     "grade_id": "cell-b333a7e050fbe007",
     "locked": true,
     "schema_version": 3,
     "solution": false
    }
   },
   "source": [
    "**(1 POE)**\n",
    "Why is it a problem that the dataset is imbalanced? What would be the consequence of not dealing with this problem?"
   ]
  },
  {
   "cell_type": "markdown",
   "metadata": {
    "deletable": false,
    "nbgrader": {
     "cell_type": "markdown",
     "checksum": "7e3b31f0c623204a864969abc9aa7041",
     "grade": true,
     "grade_id": "cell-a044d5b4e3bcf29b",
     "locked": false,
     "points": 1,
     "schema_version": 3,
     "solution": true
    }
   },
   "source": [
    "**Your answer:** Imbalanced dataset pose a challenge for predictive modeling where most of the ML algorithms used, thus results in poor predictive performance. This imbalanced dataset also leads to poor classification accuracy or sometimes even misclassification."
   ]
  },
  {
   "cell_type": "markdown",
   "metadata": {
    "deletable": false,
    "editable": false,
    "nbgrader": {
     "cell_type": "markdown",
     "checksum": "9b0d76d5afa72c2d445f090a5ecbf20e",
     "grade": false,
     "grade_id": "cell-0611001189dd369a",
     "locked": true,
     "schema_version": 3,
     "solution": false
    }
   },
   "source": [
    "**(2 POE)**\n",
    "Why does assigning different weights to each class solve this problem? How should the weights be chosen?"
   ]
  },
  {
   "cell_type": "markdown",
   "metadata": {
    "deletable": false,
    "nbgrader": {
     "cell_type": "markdown",
     "checksum": "1908cf73b523fb7c22c7b7b0bf2221c6",
     "grade": true,
     "grade_id": "cell-f19ff5370ea1e86d",
     "locked": false,
     "points": 2,
     "schema_version": 3,
     "solution": true
    }
   },
   "source": [
    "**Your answer:** Assigning different weights to each class will effectively increase the accuracy and place more emphasis on the minority classes. The weights should be more on minor class if they are more important so that they can learn easily from each class.\n",
    "\n"
   ]
  },
  {
   "cell_type": "markdown",
   "metadata": {
    "deletable": false,
    "editable": false,
    "nbgrader": {
     "cell_type": "markdown",
     "checksum": "bc3ac401b23e46dea5a68ad5f0a6123e",
     "grade": false,
     "grade_id": "cell-ced0796bf818f493",
     "locked": true,
     "schema_version": 3,
     "solution": false
    }
   },
   "source": [
    "**(2 POE)**\n",
    "Is there any situation where *we would want* class imbalances? How could we create such a class imbalance in a balanced dataset (without changing the dataset itself)? "
   ]
  },
  {
   "cell_type": "markdown",
   "metadata": {
    "deletable": false,
    "nbgrader": {
     "cell_type": "markdown",
     "checksum": "36c4aa6f2c2895828bda0b8e99b0d11a",
     "grade": true,
     "grade_id": "cell-821c6a2fb462d2f9",
     "locked": false,
     "points": 2,
     "schema_version": 3,
     "solution": true
    }
   },
   "source": [
    "**Your answer:** yeah there are some situation where we need class imbalance in order to **focus more on particular class**. For Eg, In a country we have both rich and poor people the poverty can be find by number of poor people so in this situation we need to focus more on poor peoples. This class imbalance can be created by **overfitting** the required class which is poor people by adding more weights on that class. "
   ]
  },
  {
   "cell_type": "markdown",
   "metadata": {
    "deletable": false,
    "editable": false,
    "nbgrader": {
     "cell_type": "markdown",
     "checksum": "cbc3cc703eb376f0ad0be049bef4e506",
     "grade": false,
     "grade_id": "cell-95508ad6a5c542b5",
     "locked": true,
     "schema_version": 3,
     "solution": false
    }
   },
   "source": [
    "### 1.4 Helper functions for training"
   ]
  },
  {
   "cell_type": "markdown",
   "metadata": {
    "deletable": false,
    "editable": false,
    "nbgrader": {
     "cell_type": "markdown",
     "checksum": "3872100fbac2567ded7728124e72bd8d",
     "grade": false,
     "grade_id": "cell-ccbb270d5fe1c30c",
     "locked": true,
     "schema_version": 3,
     "solution": false
    }
   },
   "source": [
    "**(1.5 POE)** Now that we defined the optimization problem, we can start creating the code to actually solve it. The first thing that we need is a function that, given a batch of samples, computes the output of the model for every sample and the average loss across all samples. \n",
    "\n",
    "Complete the function `batch_forward_prop` to produce this behavior.\n",
    "\n",
    "*Hints*:\n",
    "\n",
    "- Initialize the hidden state to a zero Tensor for the first forward-propagation.\n",
    "- If you get errors related to size mismatches when computing the forward-propagation in your model, try reading the documentation for the specific module where the problem is occurring (e.g. [`nn.Linear`](https://pytorch.org/docs/stable/nn.html#linear)), especially the part about the expected shape of inputs and outputs.\n",
    "- If you get errors related to size mismatches when computing the loss, try reading the [documentation for it](https://pytorch.org/docs/stable/nn.html#nllloss), especially the part about the expected shape of inputs and outputs."
   ]
  },
  {
   "cell_type": "code",
   "execution_count": 33,
   "metadata": {
    "deletable": false,
    "nbgrader": {
     "cell_type": "code",
     "checksum": "a43acc034ca0c7356e97f2f5bd1514cb",
     "grade": true,
     "grade_id": "cell-080aad948708672d",
     "locked": false,
     "points": 1.5,
     "schema_version": 3,
     "solution": true
    }
   },
   "outputs": [],
   "source": [
    "def batch_forward_prop(rnn, xs, ys):  \n",
    "    \"\"\"\n",
    "    Inputs:\n",
    "        rnn            - The RNN model, instance of the RNN class.\n",
    "        xs             - Batch of input words.\n",
    "                         Tensor of shape (BATCH SIZE x `target_len` x CHARSET LENGTH).\n",
    "        ys             - Batch of ground-truth labels.\n",
    "                         Tensor of  shape (BATCH_SIZE).\n",
    "    \n",
    "    Returns:\n",
    "        output         - Output computed at the last character position in the batch.\n",
    "                         Tensor of shape (BATCH_SIZE x NUMBER OF COUNTRIES).\n",
    "        loss           - Value of the average loss across the predictions for this batch, later used for back-propagation.\n",
    "                         Tensor with a single element inside.\n",
    "    \"\"\"\n",
    "    \n",
    "    # YOUR CODE HERE\n",
    "    \n",
    "    batchsize_xs, target_length_xs, charset_length_xs = xs.shape\n",
    "    \n",
    "    hs = rnn.init_h(batchsize_xs) \n",
    "    \n",
    "    for character in range(target_length_xs):\n",
    "        output, hs = rnn(xs[:,character,:], hs)\n",
    "    \n",
    "    loss = criterion(output,ys)\n",
    "    \n",
    "    return output, loss\n"
   ]
  },
  {
   "cell_type": "markdown",
   "metadata": {
    "deletable": false,
    "editable": false,
    "nbgrader": {
     "cell_type": "markdown",
     "checksum": "99ee062817c7b56e5180058437d2f26d",
     "grade": false,
     "grade_id": "cell-644f9d6aaa50e21c",
     "locked": true,
     "schema_version": 3,
     "solution": false
    }
   },
   "source": [
    "Run the following cell to test whether the shape of your outputs are correct. Note that this *only* checks the shapes, not the content."
   ]
  },
  {
   "cell_type": "code",
   "execution_count": 34,
   "metadata": {
    "deletable": false,
    "editable": false,
    "nbgrader": {
     "cell_type": "code",
     "checksum": "a3dbd376c434b09e3945c9d1ac43b803",
     "grade": false,
     "grade_id": "cell-02f7744a186b2ebe",
     "locked": true,
     "schema_version": 3,
     "solution": false
    },
    "scrolled": true
   },
   "outputs": [
    {
     "name": "stdout",
     "output_type": "stream",
     "text": [
      "Test passed.\n"
     ]
    }
   ],
   "source": [
    "def test_rnn():\n",
    "    # Create two tensors\n",
    "    t1 = name2tensor('Unit')\n",
    "    t2 = name2tensor('Test')\n",
    "\n",
    "    # Add the batch dimension to them and concatenate\n",
    "    t = torch.cat([t1[None, :], t2[None, :]], dim=0)\n",
    "\n",
    "    # Create label tensor\n",
    "    l = torch.ones((2), dtype=torch.long)\n",
    "\n",
    "    # Create RNN\n",
    "    rnn = RNN(len(charset), 10, len(names_dict))\n",
    "\n",
    "    # Put everything in the correct device\n",
    "    t = t.to(device)\n",
    "    l = l.to(device)\n",
    "    rnn.to(device)\n",
    "\n",
    "    # Perform the forward-prop\n",
    "    y, loss = batch_forward_prop(rnn, t, l)\n",
    "\n",
    "    # Test dimensions of the outputs\n",
    "    err_str = 'The {} has incorrect dimension. Dimension is {}, but should\\'ve been {}'\n",
    "    assert list(y.shape) == [2, len(names_dict)], err_str.format('output', list(y.shape), [2, len(names_dict)])\n",
    "    assert list(loss.shape) == [], err_str.format('loss', list(loss.shape), [])\n",
    "\n",
    "    print('Test passed.')\n",
    "    \n",
    "test_rnn()"
   ]
  },
  {
   "cell_type": "markdown",
   "metadata": {
    "deletable": false,
    "editable": false,
    "nbgrader": {
     "cell_type": "markdown",
     "checksum": "d0829fc6b5254f539a66a81a3024bdfc",
     "grade": false,
     "grade_id": "cell-4010f6bcbc1e6245",
     "locked": true,
     "schema_version": 3,
     "solution": false
    }
   },
   "source": [
    "Using this function, it's straightforward to train on a single batch of data:"
   ]
  },
  {
   "cell_type": "code",
   "execution_count": 36,
   "metadata": {
    "deletable": false,
    "editable": false,
    "nbgrader": {
     "cell_type": "code",
     "checksum": "d31d4ef7500c06aea4ecdcf27d399fa8",
     "grade": false,
     "grade_id": "cell-78972c6d342b4da9",
     "locked": true,
     "schema_version": 3,
     "solution": false
    }
   },
   "outputs": [],
   "source": [
    "from torch.nn.utils import clip_grad_norm\n",
    "\n",
    "def train_batch(rnn, xs, ys, optimizer):\n",
    "    \n",
    "    # Compute the output for all samples in the batch and the average loss\n",
    "    output, loss = batch_forward_prop(rnn, xs, ys)\n",
    "    \n",
    "    # Zero gradients before computing backward-propagation\n",
    "    optimizer.zero_grad()\n",
    "\n",
    "    # Backward-propagation\n",
    "    loss.backward()\n",
    "    \n",
    "    # Clip the gradient norm (optional, helps to stabilize training)\n",
    "    nn.utils.clip_grad_norm_(rnn.parameters(), 2)\n",
    "    \n",
    "    # Perform one step of optimization\n",
    "    optimizer.step()\n",
    "    \n",
    "    return output, loss"
   ]
  },
  {
   "cell_type": "markdown",
   "metadata": {
    "deletable": false,
    "editable": false,
    "nbgrader": {
     "cell_type": "markdown",
     "checksum": "576143bb6960f21f2b68bd6bb977a9f0",
     "grade": false,
     "grade_id": "cell-f2b194756febe3f1",
     "locked": true,
     "schema_version": 3,
     "solution": false
    }
   },
   "source": [
    "We will also need a function for computing metrics of interest in the validation set. In this case, we will plot both the loss and the F1-score in the validation set. The F1-score of a classifier is the [harmonic mean](https://en.wikipedia.org/wiki/Harmonic_mean) of its [precision and recall](https://en.wikipedia.org/wiki/Precision_and_recall), two metrics that are more useful than accuracy for imbalanced datasets. [This blog post](https://towardsdatascience.com/accuracy-precision-recall-or-f1-331fb37c5cb9) can help you to familiarize yourself with these new metrics."
   ]
  },
  {
   "cell_type": "code",
   "execution_count": 37,
   "metadata": {
    "deletable": false,
    "editable": false,
    "nbgrader": {
     "cell_type": "code",
     "checksum": "8e3455a07c3f54b5b32d0b11eae460d5",
     "grade": false,
     "grade_id": "cell-94021e46113ec8cb",
     "locked": true,
     "schema_version": 3,
     "solution": false
    }
   },
   "outputs": [],
   "source": [
    "from sklearn.metrics import precision_recall_fscore_support\n",
    "\n",
    "def compute_metrics_on_validation_set(rnn, val_dataset):\n",
    "    # Get all the input and labels in the training set.\n",
    "    x_val, y_val = val_dataset[:]\n",
    "    \n",
    "    # Perform forward-prop in the entire validation set, with autograd disabled\n",
    "    with torch.no_grad():\n",
    "        val_output, val_loss = batch_forward_prop(rnn, x_val, y_val)\n",
    "    \n",
    "    # Get numpy arrays for the true labels and the predictions\n",
    "    y_true = y_val.cpu().numpy()\n",
    "    y_pred = val_output.argmax(dim=1).cpu().numpy()\n",
    "    \n",
    "    # Compute precision, recall, and F-score\n",
    "    precision, recall, fscore, _ = precision_recall_fscore_support(y_true, y_pred, average='macro')\n",
    "    \n",
    "    return val_loss, precision, recall, fscore"
   ]
  },
  {
   "cell_type": "markdown",
   "metadata": {
    "deletable": false,
    "editable": false,
    "nbgrader": {
     "cell_type": "markdown",
     "checksum": "06672da367df025e50d1fc66d1a14015",
     "grade": false,
     "grade_id": "cell-2e37e571600c2220",
     "locked": true,
     "schema_version": 3,
     "solution": false
    }
   },
   "source": [
    "Lastly, we define a function for plotting the metrics in real-time."
   ]
  },
  {
   "cell_type": "code",
   "execution_count": 38,
   "metadata": {
    "deletable": false,
    "editable": false,
    "nbgrader": {
     "cell_type": "code",
     "checksum": "859fef7a4f5ff12b633c79a3fb2e3201",
     "grade": false,
     "grade_id": "cell-2807fe4cfa2d8b29",
     "locked": true,
     "schema_version": 3,
     "solution": false
    }
   },
   "outputs": [],
   "source": [
    "def plot_metrics(fig, ax, ns, train_losses, train_fscores, val_losses, val_fscores):\n",
    "\n",
    "    # Plot losses\n",
    "    ax[0].clear()\n",
    "    ax[0].plot(ns, train_losses)\n",
    "    ax[0].plot(ns, val_losses)\n",
    "    ax[0].set_title('Loss')\n",
    "    ax[0].legend(['Train','Validation'])\n",
    "    ax[0].set_xlabel('Number of trained batches')\n",
    "    ax[0].grid()\n",
    "\n",
    "    # Plot F1-scores\n",
    "    ax[1].clear()\n",
    "    ax[1].plot(ns, train_fscores)\n",
    "    ax[1].plot(ns, val_fscores)\n",
    "    ax[1].plot(ns, [0.3]*len(ns), 'k--')\n",
    "    ax[1].set_title('Macro F1-score')\n",
    "    ax[1].legend(['Train','Validation', 'F1-score threshold'])\n",
    "    ax[1].set_xlabel('Number of trained batches')\n",
    "    ax[1].grid()\n",
    "    \n",
    "    \n",
    "    fig.canvas.draw()"
   ]
  },
  {
   "cell_type": "markdown",
   "metadata": {
    "deletable": false,
    "editable": false,
    "nbgrader": {
     "cell_type": "markdown",
     "checksum": "520a4c1ba775bfc75e1ed71009bcf6b9",
     "grade": false,
     "grade_id": "cell-2a8edc5c0c4d13d6",
     "locked": true,
     "schema_version": 3,
     "solution": false
    }
   },
   "source": [
    "With these helper functions, the `train` function becomes:"
   ]
  },
  {
   "cell_type": "code",
   "execution_count": 39,
   "metadata": {
    "deletable": false,
    "editable": false,
    "nbgrader": {
     "cell_type": "code",
     "checksum": "813b06b76f53b705f6d47981651c673c",
     "grade": false,
     "grade_id": "cell-61029512380ba880",
     "locked": true,
     "schema_version": 3,
     "solution": false
    }
   },
   "outputs": [],
   "source": [
    "from torch.utils.data import DataLoader\n",
    "\n",
    "def train(rnn, n_epochs, learning_rate, batch_size, train_dataset, val_dataset):\n",
    "    \n",
    "    # Setup the figure for plotting progress during training\n",
    "    %matplotlib notebook\n",
    "    fig, ax = plt.subplots(ncols=2, figsize=(12,4))\n",
    "    plt.ion()\n",
    "    plot_interval = 100\n",
    "    \n",
    "    # Create arrays to average training metrics across batches\n",
    "    preds = []\n",
    "    labels = []\n",
    "    losses = []\n",
    "    \n",
    "    # Create dictionaries to hold the computed metrics in\n",
    "    train_data = {'losses': [], 'fscores': []}\n",
    "    val_data = {'losses': [], 'fscores': []}\n",
    "    \n",
    "    optimizer = Adam(rnn.parameters(), lr=learning_rate)\n",
    "    train_data_loader = DataLoader(train_dataset, batch_size=batch_size, shuffle=True, drop_last=True)\n",
    "    batch_idxs = []\n",
    "    \n",
    "    # Training loop\n",
    "    i_batch = 0\n",
    "    for n in range(n_epochs):\n",
    "        for i, (x_batch, y_batch) in enumerate(train_data_loader):\n",
    "            i_batch += 1\n",
    "            \n",
    "            # Compute loss and outputs\n",
    "            output, loss = train_batch(rnn, x_batch, y_batch, optimizer)\n",
    "            \n",
    "            # Aggregate for later averaging\n",
    "            preds += output.argmax(dim=1).cpu().tolist()\n",
    "            labels += y_batch.cpu().tolist()\n",
    "            losses.append(loss)\n",
    "            \n",
    "            # Compute metrics and plot after every `plot_interval` batches\n",
    "            if i % plot_interval == 0:\n",
    "              \n",
    "                val_loss, _, _, val_fscore = compute_metrics_on_validation_set(rnn, val_dataset)\n",
    "                train_fscore = precision_recall_fscore_support(labels, preds, average='macro')[2]\n",
    "                \n",
    "                val_data['losses'].append(val_loss)\n",
    "                val_data['fscores'].append(val_fscore)\n",
    "                train_data['losses'].append(sum(losses)/len(losses))\n",
    "                train_data['fscores'].append(train_fscore)\n",
    "                batch_idxs.append(i_batch)\n",
    "\n",
    "                preds = []\n",
    "                labels = []\n",
    "                losses = []\n",
    "\n",
    "                plot_metrics(fig, ax, batch_idxs, train_data['losses'], train_data['fscores'], val_data['losses'], val_data['fscores'])"
   ]
  },
  {
   "cell_type": "markdown",
   "metadata": {
    "deletable": false,
    "editable": false,
    "nbgrader": {
     "cell_type": "markdown",
     "checksum": "0f89bbf2c0e1f3ab9e64a937f8e24863",
     "grade": false,
     "grade_id": "cell-f92f1fd576a8a7cb",
     "locked": true,
     "schema_version": 3,
     "solution": false
    }
   },
   "source": [
    "Make sure that you completely understand the `train` function before proceeding (e.g. that we aggregate predictions from different batches and compute metrics only at a certain interval, etc)."
   ]
  },
  {
   "cell_type": "markdown",
   "metadata": {
    "deletable": false,
    "editable": false,
    "nbgrader": {
     "cell_type": "markdown",
     "checksum": "7a05af24ebd66b8c1d816a07e33bb730",
     "grade": false,
     "grade_id": "cell-18f5c7620b914ebd",
     "locked": true,
     "schema_version": 3,
     "solution": false
    }
   },
   "source": [
    "### 1.5 Training!\n",
    "\n",
    "Now we're ready to train the network! Create an RNN and use the `train` function to train it.\n",
    "\n",
    "*Hints*:\n",
    "\n",
    "- Tuning the hyper-parameters (number of hidden units, learning rate, batch size, etc) will take some trial-and-error. Try simple things first, and then once you manage to train them, start scaling up. Also, have in mind the bias-variance tradeoff mentioned in the lectures.\n",
    "- When tuning the learning rate, focus first on being able to decrease the training loss. Keep decreasing the learning rate until that starts happening."
   ]
  },
  {
   "cell_type": "code",
   "execution_count": 40,
   "metadata": {
    "deletable": false,
    "nbgrader": {
     "cell_type": "code",
     "checksum": "0e3d64e9c5c79168399628331405b8ed",
     "grade": true,
     "grade_id": "cell-937381af9dcaf490",
     "locked": false,
     "points": 0,
     "schema_version": 3,
     "solution": true
    }
   },
   "outputs": [
    {
     "data": {
      "application/javascript": [
       "/* Put everything inside the global mpl namespace */\n",
       "/* global mpl */\n",
       "window.mpl = {};\n",
       "\n",
       "mpl.get_websocket_type = function () {\n",
       "    if (typeof WebSocket !== 'undefined') {\n",
       "        return WebSocket;\n",
       "    } else if (typeof MozWebSocket !== 'undefined') {\n",
       "        return MozWebSocket;\n",
       "    } else {\n",
       "        alert(\n",
       "            'Your browser does not have WebSocket support. ' +\n",
       "                'Please try Chrome, Safari or Firefox ≥ 6. ' +\n",
       "                'Firefox 4 and 5 are also supported but you ' +\n",
       "                'have to enable WebSockets in about:config.'\n",
       "        );\n",
       "    }\n",
       "};\n",
       "\n",
       "mpl.figure = function (figure_id, websocket, ondownload, parent_element) {\n",
       "    this.id = figure_id;\n",
       "\n",
       "    this.ws = websocket;\n",
       "\n",
       "    this.supports_binary = this.ws.binaryType !== undefined;\n",
       "\n",
       "    if (!this.supports_binary) {\n",
       "        var warnings = document.getElementById('mpl-warnings');\n",
       "        if (warnings) {\n",
       "            warnings.style.display = 'block';\n",
       "            warnings.textContent =\n",
       "                'This browser does not support binary websocket messages. ' +\n",
       "                'Performance may be slow.';\n",
       "        }\n",
       "    }\n",
       "\n",
       "    this.imageObj = new Image();\n",
       "\n",
       "    this.context = undefined;\n",
       "    this.message = undefined;\n",
       "    this.canvas = undefined;\n",
       "    this.rubberband_canvas = undefined;\n",
       "    this.rubberband_context = undefined;\n",
       "    this.format_dropdown = undefined;\n",
       "\n",
       "    this.image_mode = 'full';\n",
       "\n",
       "    this.root = document.createElement('div');\n",
       "    this.root.setAttribute('style', 'display: inline-block');\n",
       "    this._root_extra_style(this.root);\n",
       "\n",
       "    parent_element.appendChild(this.root);\n",
       "\n",
       "    this._init_header(this);\n",
       "    this._init_canvas(this);\n",
       "    this._init_toolbar(this);\n",
       "\n",
       "    var fig = this;\n",
       "\n",
       "    this.waiting = false;\n",
       "\n",
       "    this.ws.onopen = function () {\n",
       "        fig.send_message('supports_binary', { value: fig.supports_binary });\n",
       "        fig.send_message('send_image_mode', {});\n",
       "        if (mpl.ratio !== 1) {\n",
       "            fig.send_message('set_dpi_ratio', { dpi_ratio: mpl.ratio });\n",
       "        }\n",
       "        fig.send_message('refresh', {});\n",
       "    };\n",
       "\n",
       "    this.imageObj.onload = function () {\n",
       "        if (fig.image_mode === 'full') {\n",
       "            // Full images could contain transparency (where diff images\n",
       "            // almost always do), so we need to clear the canvas so that\n",
       "            // there is no ghosting.\n",
       "            fig.context.clearRect(0, 0, fig.canvas.width, fig.canvas.height);\n",
       "        }\n",
       "        fig.context.drawImage(fig.imageObj, 0, 0);\n",
       "    };\n",
       "\n",
       "    this.imageObj.onunload = function () {\n",
       "        fig.ws.close();\n",
       "    };\n",
       "\n",
       "    this.ws.onmessage = this._make_on_message_function(this);\n",
       "\n",
       "    this.ondownload = ondownload;\n",
       "};\n",
       "\n",
       "mpl.figure.prototype._init_header = function () {\n",
       "    var titlebar = document.createElement('div');\n",
       "    titlebar.classList =\n",
       "        'ui-dialog-titlebar ui-widget-header ui-corner-all ui-helper-clearfix';\n",
       "    var titletext = document.createElement('div');\n",
       "    titletext.classList = 'ui-dialog-title';\n",
       "    titletext.setAttribute(\n",
       "        'style',\n",
       "        'width: 100%; text-align: center; padding: 3px;'\n",
       "    );\n",
       "    titlebar.appendChild(titletext);\n",
       "    this.root.appendChild(titlebar);\n",
       "    this.header = titletext;\n",
       "};\n",
       "\n",
       "mpl.figure.prototype._canvas_extra_style = function (_canvas_div) {};\n",
       "\n",
       "mpl.figure.prototype._root_extra_style = function (_canvas_div) {};\n",
       "\n",
       "mpl.figure.prototype._init_canvas = function () {\n",
       "    var fig = this;\n",
       "\n",
       "    var canvas_div = (this.canvas_div = document.createElement('div'));\n",
       "    canvas_div.setAttribute(\n",
       "        'style',\n",
       "        'border: 1px solid #ddd;' +\n",
       "            'box-sizing: content-box;' +\n",
       "            'clear: both;' +\n",
       "            'min-height: 1px;' +\n",
       "            'min-width: 1px;' +\n",
       "            'outline: 0;' +\n",
       "            'overflow: hidden;' +\n",
       "            'position: relative;' +\n",
       "            'resize: both;'\n",
       "    );\n",
       "\n",
       "    function on_keyboard_event_closure(name) {\n",
       "        return function (event) {\n",
       "            return fig.key_event(event, name);\n",
       "        };\n",
       "    }\n",
       "\n",
       "    canvas_div.addEventListener(\n",
       "        'keydown',\n",
       "        on_keyboard_event_closure('key_press')\n",
       "    );\n",
       "    canvas_div.addEventListener(\n",
       "        'keyup',\n",
       "        on_keyboard_event_closure('key_release')\n",
       "    );\n",
       "\n",
       "    this._canvas_extra_style(canvas_div);\n",
       "    this.root.appendChild(canvas_div);\n",
       "\n",
       "    var canvas = (this.canvas = document.createElement('canvas'));\n",
       "    canvas.classList.add('mpl-canvas');\n",
       "    canvas.setAttribute('style', 'box-sizing: content-box;');\n",
       "\n",
       "    this.context = canvas.getContext('2d');\n",
       "\n",
       "    var backingStore =\n",
       "        this.context.backingStorePixelRatio ||\n",
       "        this.context.webkitBackingStorePixelRatio ||\n",
       "        this.context.mozBackingStorePixelRatio ||\n",
       "        this.context.msBackingStorePixelRatio ||\n",
       "        this.context.oBackingStorePixelRatio ||\n",
       "        this.context.backingStorePixelRatio ||\n",
       "        1;\n",
       "\n",
       "    mpl.ratio = (window.devicePixelRatio || 1) / backingStore;\n",
       "\n",
       "    var rubberband_canvas = (this.rubberband_canvas = document.createElement(\n",
       "        'canvas'\n",
       "    ));\n",
       "    rubberband_canvas.setAttribute(\n",
       "        'style',\n",
       "        'box-sizing: content-box; position: absolute; left: 0; top: 0; z-index: 1;'\n",
       "    );\n",
       "\n",
       "    var resizeObserver = new ResizeObserver(function (entries) {\n",
       "        var nentries = entries.length;\n",
       "        for (var i = 0; i < nentries; i++) {\n",
       "            var entry = entries[i];\n",
       "            var width, height;\n",
       "            if (entry.contentBoxSize) {\n",
       "                if (entry.contentBoxSize instanceof Array) {\n",
       "                    // Chrome 84 implements new version of spec.\n",
       "                    width = entry.contentBoxSize[0].inlineSize;\n",
       "                    height = entry.contentBoxSize[0].blockSize;\n",
       "                } else {\n",
       "                    // Firefox implements old version of spec.\n",
       "                    width = entry.contentBoxSize.inlineSize;\n",
       "                    height = entry.contentBoxSize.blockSize;\n",
       "                }\n",
       "            } else {\n",
       "                // Chrome <84 implements even older version of spec.\n",
       "                width = entry.contentRect.width;\n",
       "                height = entry.contentRect.height;\n",
       "            }\n",
       "\n",
       "            // Keep the size of the canvas and rubber band canvas in sync with\n",
       "            // the canvas container.\n",
       "            if (entry.devicePixelContentBoxSize) {\n",
       "                // Chrome 84 implements new version of spec.\n",
       "                canvas.setAttribute(\n",
       "                    'width',\n",
       "                    entry.devicePixelContentBoxSize[0].inlineSize\n",
       "                );\n",
       "                canvas.setAttribute(\n",
       "                    'height',\n",
       "                    entry.devicePixelContentBoxSize[0].blockSize\n",
       "                );\n",
       "            } else {\n",
       "                canvas.setAttribute('width', width * mpl.ratio);\n",
       "                canvas.setAttribute('height', height * mpl.ratio);\n",
       "            }\n",
       "            canvas.setAttribute(\n",
       "                'style',\n",
       "                'width: ' + width + 'px; height: ' + height + 'px;'\n",
       "            );\n",
       "\n",
       "            rubberband_canvas.setAttribute('width', width);\n",
       "            rubberband_canvas.setAttribute('height', height);\n",
       "\n",
       "            // And update the size in Python. We ignore the initial 0/0 size\n",
       "            // that occurs as the element is placed into the DOM, which should\n",
       "            // otherwise not happen due to the minimum size styling.\n",
       "            if (width != 0 && height != 0) {\n",
       "                fig.request_resize(width, height);\n",
       "            }\n",
       "        }\n",
       "    });\n",
       "    resizeObserver.observe(canvas_div);\n",
       "\n",
       "    function on_mouse_event_closure(name) {\n",
       "        return function (event) {\n",
       "            return fig.mouse_event(event, name);\n",
       "        };\n",
       "    }\n",
       "\n",
       "    rubberband_canvas.addEventListener(\n",
       "        'mousedown',\n",
       "        on_mouse_event_closure('button_press')\n",
       "    );\n",
       "    rubberband_canvas.addEventListener(\n",
       "        'mouseup',\n",
       "        on_mouse_event_closure('button_release')\n",
       "    );\n",
       "    // Throttle sequential mouse events to 1 every 20ms.\n",
       "    rubberband_canvas.addEventListener(\n",
       "        'mousemove',\n",
       "        on_mouse_event_closure('motion_notify')\n",
       "    );\n",
       "\n",
       "    rubberband_canvas.addEventListener(\n",
       "        'mouseenter',\n",
       "        on_mouse_event_closure('figure_enter')\n",
       "    );\n",
       "    rubberband_canvas.addEventListener(\n",
       "        'mouseleave',\n",
       "        on_mouse_event_closure('figure_leave')\n",
       "    );\n",
       "\n",
       "    canvas_div.addEventListener('wheel', function (event) {\n",
       "        if (event.deltaY < 0) {\n",
       "            event.step = 1;\n",
       "        } else {\n",
       "            event.step = -1;\n",
       "        }\n",
       "        on_mouse_event_closure('scroll')(event);\n",
       "    });\n",
       "\n",
       "    canvas_div.appendChild(canvas);\n",
       "    canvas_div.appendChild(rubberband_canvas);\n",
       "\n",
       "    this.rubberband_context = rubberband_canvas.getContext('2d');\n",
       "    this.rubberband_context.strokeStyle = '#000000';\n",
       "\n",
       "    this._resize_canvas = function (width, height, forward) {\n",
       "        if (forward) {\n",
       "            canvas_div.style.width = width + 'px';\n",
       "            canvas_div.style.height = height + 'px';\n",
       "        }\n",
       "    };\n",
       "\n",
       "    // Disable right mouse context menu.\n",
       "    this.rubberband_canvas.addEventListener('contextmenu', function (_e) {\n",
       "        event.preventDefault();\n",
       "        return false;\n",
       "    });\n",
       "\n",
       "    function set_focus() {\n",
       "        canvas.focus();\n",
       "        canvas_div.focus();\n",
       "    }\n",
       "\n",
       "    window.setTimeout(set_focus, 100);\n",
       "};\n",
       "\n",
       "mpl.figure.prototype._init_toolbar = function () {\n",
       "    var fig = this;\n",
       "\n",
       "    var toolbar = document.createElement('div');\n",
       "    toolbar.classList = 'mpl-toolbar';\n",
       "    this.root.appendChild(toolbar);\n",
       "\n",
       "    function on_click_closure(name) {\n",
       "        return function (_event) {\n",
       "            return fig.toolbar_button_onclick(name);\n",
       "        };\n",
       "    }\n",
       "\n",
       "    function on_mouseover_closure(tooltip) {\n",
       "        return function (event) {\n",
       "            if (!event.currentTarget.disabled) {\n",
       "                return fig.toolbar_button_onmouseover(tooltip);\n",
       "            }\n",
       "        };\n",
       "    }\n",
       "\n",
       "    fig.buttons = {};\n",
       "    var buttonGroup = document.createElement('div');\n",
       "    buttonGroup.classList = 'mpl-button-group';\n",
       "    for (var toolbar_ind in mpl.toolbar_items) {\n",
       "        var name = mpl.toolbar_items[toolbar_ind][0];\n",
       "        var tooltip = mpl.toolbar_items[toolbar_ind][1];\n",
       "        var image = mpl.toolbar_items[toolbar_ind][2];\n",
       "        var method_name = mpl.toolbar_items[toolbar_ind][3];\n",
       "\n",
       "        if (!name) {\n",
       "            /* Instead of a spacer, we start a new button group. */\n",
       "            if (buttonGroup.hasChildNodes()) {\n",
       "                toolbar.appendChild(buttonGroup);\n",
       "            }\n",
       "            buttonGroup = document.createElement('div');\n",
       "            buttonGroup.classList = 'mpl-button-group';\n",
       "            continue;\n",
       "        }\n",
       "\n",
       "        var button = (fig.buttons[name] = document.createElement('button'));\n",
       "        button.classList = 'mpl-widget';\n",
       "        button.setAttribute('role', 'button');\n",
       "        button.setAttribute('aria-disabled', 'false');\n",
       "        button.addEventListener('click', on_click_closure(method_name));\n",
       "        button.addEventListener('mouseover', on_mouseover_closure(tooltip));\n",
       "\n",
       "        var icon_img = document.createElement('img');\n",
       "        icon_img.src = '_images/' + image + '.png';\n",
       "        icon_img.srcset = '_images/' + image + '_large.png 2x';\n",
       "        icon_img.alt = tooltip;\n",
       "        button.appendChild(icon_img);\n",
       "\n",
       "        buttonGroup.appendChild(button);\n",
       "    }\n",
       "\n",
       "    if (buttonGroup.hasChildNodes()) {\n",
       "        toolbar.appendChild(buttonGroup);\n",
       "    }\n",
       "\n",
       "    var fmt_picker = document.createElement('select');\n",
       "    fmt_picker.classList = 'mpl-widget';\n",
       "    toolbar.appendChild(fmt_picker);\n",
       "    this.format_dropdown = fmt_picker;\n",
       "\n",
       "    for (var ind in mpl.extensions) {\n",
       "        var fmt = mpl.extensions[ind];\n",
       "        var option = document.createElement('option');\n",
       "        option.selected = fmt === mpl.default_extension;\n",
       "        option.innerHTML = fmt;\n",
       "        fmt_picker.appendChild(option);\n",
       "    }\n",
       "\n",
       "    var status_bar = document.createElement('span');\n",
       "    status_bar.classList = 'mpl-message';\n",
       "    toolbar.appendChild(status_bar);\n",
       "    this.message = status_bar;\n",
       "};\n",
       "\n",
       "mpl.figure.prototype.request_resize = function (x_pixels, y_pixels) {\n",
       "    // Request matplotlib to resize the figure. Matplotlib will then trigger a resize in the client,\n",
       "    // which will in turn request a refresh of the image.\n",
       "    this.send_message('resize', { width: x_pixels, height: y_pixels });\n",
       "};\n",
       "\n",
       "mpl.figure.prototype.send_message = function (type, properties) {\n",
       "    properties['type'] = type;\n",
       "    properties['figure_id'] = this.id;\n",
       "    this.ws.send(JSON.stringify(properties));\n",
       "};\n",
       "\n",
       "mpl.figure.prototype.send_draw_message = function () {\n",
       "    if (!this.waiting) {\n",
       "        this.waiting = true;\n",
       "        this.ws.send(JSON.stringify({ type: 'draw', figure_id: this.id }));\n",
       "    }\n",
       "};\n",
       "\n",
       "mpl.figure.prototype.handle_save = function (fig, _msg) {\n",
       "    var format_dropdown = fig.format_dropdown;\n",
       "    var format = format_dropdown.options[format_dropdown.selectedIndex].value;\n",
       "    fig.ondownload(fig, format);\n",
       "};\n",
       "\n",
       "mpl.figure.prototype.handle_resize = function (fig, msg) {\n",
       "    var size = msg['size'];\n",
       "    if (size[0] !== fig.canvas.width || size[1] !== fig.canvas.height) {\n",
       "        fig._resize_canvas(size[0], size[1], msg['forward']);\n",
       "        fig.send_message('refresh', {});\n",
       "    }\n",
       "};\n",
       "\n",
       "mpl.figure.prototype.handle_rubberband = function (fig, msg) {\n",
       "    var x0 = msg['x0'] / mpl.ratio;\n",
       "    var y0 = (fig.canvas.height - msg['y0']) / mpl.ratio;\n",
       "    var x1 = msg['x1'] / mpl.ratio;\n",
       "    var y1 = (fig.canvas.height - msg['y1']) / mpl.ratio;\n",
       "    x0 = Math.floor(x0) + 0.5;\n",
       "    y0 = Math.floor(y0) + 0.5;\n",
       "    x1 = Math.floor(x1) + 0.5;\n",
       "    y1 = Math.floor(y1) + 0.5;\n",
       "    var min_x = Math.min(x0, x1);\n",
       "    var min_y = Math.min(y0, y1);\n",
       "    var width = Math.abs(x1 - x0);\n",
       "    var height = Math.abs(y1 - y0);\n",
       "\n",
       "    fig.rubberband_context.clearRect(\n",
       "        0,\n",
       "        0,\n",
       "        fig.canvas.width / mpl.ratio,\n",
       "        fig.canvas.height / mpl.ratio\n",
       "    );\n",
       "\n",
       "    fig.rubberband_context.strokeRect(min_x, min_y, width, height);\n",
       "};\n",
       "\n",
       "mpl.figure.prototype.handle_figure_label = function (fig, msg) {\n",
       "    // Updates the figure title.\n",
       "    fig.header.textContent = msg['label'];\n",
       "};\n",
       "\n",
       "mpl.figure.prototype.handle_cursor = function (fig, msg) {\n",
       "    var cursor = msg['cursor'];\n",
       "    switch (cursor) {\n",
       "        case 0:\n",
       "            cursor = 'pointer';\n",
       "            break;\n",
       "        case 1:\n",
       "            cursor = 'default';\n",
       "            break;\n",
       "        case 2:\n",
       "            cursor = 'crosshair';\n",
       "            break;\n",
       "        case 3:\n",
       "            cursor = 'move';\n",
       "            break;\n",
       "    }\n",
       "    fig.rubberband_canvas.style.cursor = cursor;\n",
       "};\n",
       "\n",
       "mpl.figure.prototype.handle_message = function (fig, msg) {\n",
       "    fig.message.textContent = msg['message'];\n",
       "};\n",
       "\n",
       "mpl.figure.prototype.handle_draw = function (fig, _msg) {\n",
       "    // Request the server to send over a new figure.\n",
       "    fig.send_draw_message();\n",
       "};\n",
       "\n",
       "mpl.figure.prototype.handle_image_mode = function (fig, msg) {\n",
       "    fig.image_mode = msg['mode'];\n",
       "};\n",
       "\n",
       "mpl.figure.prototype.handle_history_buttons = function (fig, msg) {\n",
       "    for (var key in msg) {\n",
       "        if (!(key in fig.buttons)) {\n",
       "            continue;\n",
       "        }\n",
       "        fig.buttons[key].disabled = !msg[key];\n",
       "        fig.buttons[key].setAttribute('aria-disabled', !msg[key]);\n",
       "    }\n",
       "};\n",
       "\n",
       "mpl.figure.prototype.handle_navigate_mode = function (fig, msg) {\n",
       "    if (msg['mode'] === 'PAN') {\n",
       "        fig.buttons['Pan'].classList.add('active');\n",
       "        fig.buttons['Zoom'].classList.remove('active');\n",
       "    } else if (msg['mode'] === 'ZOOM') {\n",
       "        fig.buttons['Pan'].classList.remove('active');\n",
       "        fig.buttons['Zoom'].classList.add('active');\n",
       "    } else {\n",
       "        fig.buttons['Pan'].classList.remove('active');\n",
       "        fig.buttons['Zoom'].classList.remove('active');\n",
       "    }\n",
       "};\n",
       "\n",
       "mpl.figure.prototype.updated_canvas_event = function () {\n",
       "    // Called whenever the canvas gets updated.\n",
       "    this.send_message('ack', {});\n",
       "};\n",
       "\n",
       "// A function to construct a web socket function for onmessage handling.\n",
       "// Called in the figure constructor.\n",
       "mpl.figure.prototype._make_on_message_function = function (fig) {\n",
       "    return function socket_on_message(evt) {\n",
       "        if (evt.data instanceof Blob) {\n",
       "            /* FIXME: We get \"Resource interpreted as Image but\n",
       "             * transferred with MIME type text/plain:\" errors on\n",
       "             * Chrome.  But how to set the MIME type?  It doesn't seem\n",
       "             * to be part of the websocket stream */\n",
       "            evt.data.type = 'image/png';\n",
       "\n",
       "            /* Free the memory for the previous frames */\n",
       "            if (fig.imageObj.src) {\n",
       "                (window.URL || window.webkitURL).revokeObjectURL(\n",
       "                    fig.imageObj.src\n",
       "                );\n",
       "            }\n",
       "\n",
       "            fig.imageObj.src = (window.URL || window.webkitURL).createObjectURL(\n",
       "                evt.data\n",
       "            );\n",
       "            fig.updated_canvas_event();\n",
       "            fig.waiting = false;\n",
       "            return;\n",
       "        } else if (\n",
       "            typeof evt.data === 'string' &&\n",
       "            evt.data.slice(0, 21) === 'data:image/png;base64'\n",
       "        ) {\n",
       "            fig.imageObj.src = evt.data;\n",
       "            fig.updated_canvas_event();\n",
       "            fig.waiting = false;\n",
       "            return;\n",
       "        }\n",
       "\n",
       "        var msg = JSON.parse(evt.data);\n",
       "        var msg_type = msg['type'];\n",
       "\n",
       "        // Call the  \"handle_{type}\" callback, which takes\n",
       "        // the figure and JSON message as its only arguments.\n",
       "        try {\n",
       "            var callback = fig['handle_' + msg_type];\n",
       "        } catch (e) {\n",
       "            console.log(\n",
       "                \"No handler for the '\" + msg_type + \"' message type: \",\n",
       "                msg\n",
       "            );\n",
       "            return;\n",
       "        }\n",
       "\n",
       "        if (callback) {\n",
       "            try {\n",
       "                // console.log(\"Handling '\" + msg_type + \"' message: \", msg);\n",
       "                callback(fig, msg);\n",
       "            } catch (e) {\n",
       "                console.log(\n",
       "                    \"Exception inside the 'handler_\" + msg_type + \"' callback:\",\n",
       "                    e,\n",
       "                    e.stack,\n",
       "                    msg\n",
       "                );\n",
       "            }\n",
       "        }\n",
       "    };\n",
       "};\n",
       "\n",
       "// from http://stackoverflow.com/questions/1114465/getting-mouse-location-in-canvas\n",
       "mpl.findpos = function (e) {\n",
       "    //this section is from http://www.quirksmode.org/js/events_properties.html\n",
       "    var targ;\n",
       "    if (!e) {\n",
       "        e = window.event;\n",
       "    }\n",
       "    if (e.target) {\n",
       "        targ = e.target;\n",
       "    } else if (e.srcElement) {\n",
       "        targ = e.srcElement;\n",
       "    }\n",
       "    if (targ.nodeType === 3) {\n",
       "        // defeat Safari bug\n",
       "        targ = targ.parentNode;\n",
       "    }\n",
       "\n",
       "    // pageX,Y are the mouse positions relative to the document\n",
       "    var boundingRect = targ.getBoundingClientRect();\n",
       "    var x = e.pageX - (boundingRect.left + document.body.scrollLeft);\n",
       "    var y = e.pageY - (boundingRect.top + document.body.scrollTop);\n",
       "\n",
       "    return { x: x, y: y };\n",
       "};\n",
       "\n",
       "/*\n",
       " * return a copy of an object with only non-object keys\n",
       " * we need this to avoid circular references\n",
       " * http://stackoverflow.com/a/24161582/3208463\n",
       " */\n",
       "function simpleKeys(original) {\n",
       "    return Object.keys(original).reduce(function (obj, key) {\n",
       "        if (typeof original[key] !== 'object') {\n",
       "            obj[key] = original[key];\n",
       "        }\n",
       "        return obj;\n",
       "    }, {});\n",
       "}\n",
       "\n",
       "mpl.figure.prototype.mouse_event = function (event, name) {\n",
       "    var canvas_pos = mpl.findpos(event);\n",
       "\n",
       "    if (name === 'button_press') {\n",
       "        this.canvas.focus();\n",
       "        this.canvas_div.focus();\n",
       "    }\n",
       "\n",
       "    var x = canvas_pos.x * mpl.ratio;\n",
       "    var y = canvas_pos.y * mpl.ratio;\n",
       "\n",
       "    this.send_message(name, {\n",
       "        x: x,\n",
       "        y: y,\n",
       "        button: event.button,\n",
       "        step: event.step,\n",
       "        guiEvent: simpleKeys(event),\n",
       "    });\n",
       "\n",
       "    /* This prevents the web browser from automatically changing to\n",
       "     * the text insertion cursor when the button is pressed.  We want\n",
       "     * to control all of the cursor setting manually through the\n",
       "     * 'cursor' event from matplotlib */\n",
       "    event.preventDefault();\n",
       "    return false;\n",
       "};\n",
       "\n",
       "mpl.figure.prototype._key_event_extra = function (_event, _name) {\n",
       "    // Handle any extra behaviour associated with a key event\n",
       "};\n",
       "\n",
       "mpl.figure.prototype.key_event = function (event, name) {\n",
       "    // Prevent repeat events\n",
       "    if (name === 'key_press') {\n",
       "        if (event.which === this._key) {\n",
       "            return;\n",
       "        } else {\n",
       "            this._key = event.which;\n",
       "        }\n",
       "    }\n",
       "    if (name === 'key_release') {\n",
       "        this._key = null;\n",
       "    }\n",
       "\n",
       "    var value = '';\n",
       "    if (event.ctrlKey && event.which !== 17) {\n",
       "        value += 'ctrl+';\n",
       "    }\n",
       "    if (event.altKey && event.which !== 18) {\n",
       "        value += 'alt+';\n",
       "    }\n",
       "    if (event.shiftKey && event.which !== 16) {\n",
       "        value += 'shift+';\n",
       "    }\n",
       "\n",
       "    value += 'k';\n",
       "    value += event.which.toString();\n",
       "\n",
       "    this._key_event_extra(event, name);\n",
       "\n",
       "    this.send_message(name, { key: value, guiEvent: simpleKeys(event) });\n",
       "    return false;\n",
       "};\n",
       "\n",
       "mpl.figure.prototype.toolbar_button_onclick = function (name) {\n",
       "    if (name === 'download') {\n",
       "        this.handle_save(this, null);\n",
       "    } else {\n",
       "        this.send_message('toolbar_button', { name: name });\n",
       "    }\n",
       "};\n",
       "\n",
       "mpl.figure.prototype.toolbar_button_onmouseover = function (tooltip) {\n",
       "    this.message.textContent = tooltip;\n",
       "};\n",
       "mpl.toolbar_items = [[\"Home\", \"Reset original view\", \"fa fa-home icon-home\", \"home\"], [\"Back\", \"Back to previous view\", \"fa fa-arrow-left icon-arrow-left\", \"back\"], [\"Forward\", \"Forward to next view\", \"fa fa-arrow-right icon-arrow-right\", \"forward\"], [\"\", \"\", \"\", \"\"], [\"Pan\", \"Left button pans, Right button zooms\\nx/y fixes axis, CTRL fixes aspect\", \"fa fa-arrows icon-move\", \"pan\"], [\"Zoom\", \"Zoom to rectangle\\nx/y fixes axis, CTRL fixes aspect\", \"fa fa-square-o icon-check-empty\", \"zoom\"], [\"\", \"\", \"\", \"\"], [\"Download\", \"Download plot\", \"fa fa-floppy-o icon-save\", \"download\"]];\n",
       "\n",
       "mpl.extensions = [\"eps\", \"jpeg\", \"pdf\", \"png\", \"ps\", \"raw\", \"svg\", \"tif\"];\n",
       "\n",
       "mpl.default_extension = \"png\";/* global mpl */\n",
       "\n",
       "var comm_websocket_adapter = function (comm) {\n",
       "    // Create a \"websocket\"-like object which calls the given IPython comm\n",
       "    // object with the appropriate methods. Currently this is a non binary\n",
       "    // socket, so there is still some room for performance tuning.\n",
       "    var ws = {};\n",
       "\n",
       "    ws.close = function () {\n",
       "        comm.close();\n",
       "    };\n",
       "    ws.send = function (m) {\n",
       "        //console.log('sending', m);\n",
       "        comm.send(m);\n",
       "    };\n",
       "    // Register the callback with on_msg.\n",
       "    comm.on_msg(function (msg) {\n",
       "        //console.log('receiving', msg['content']['data'], msg);\n",
       "        // Pass the mpl event to the overridden (by mpl) onmessage function.\n",
       "        ws.onmessage(msg['content']['data']);\n",
       "    });\n",
       "    return ws;\n",
       "};\n",
       "\n",
       "mpl.mpl_figure_comm = function (comm, msg) {\n",
       "    // This is the function which gets called when the mpl process\n",
       "    // starts-up an IPython Comm through the \"matplotlib\" channel.\n",
       "\n",
       "    var id = msg.content.data.id;\n",
       "    // Get hold of the div created by the display call when the Comm\n",
       "    // socket was opened in Python.\n",
       "    var element = document.getElementById(id);\n",
       "    var ws_proxy = comm_websocket_adapter(comm);\n",
       "\n",
       "    function ondownload(figure, _format) {\n",
       "        window.open(figure.canvas.toDataURL());\n",
       "    }\n",
       "\n",
       "    var fig = new mpl.figure(id, ws_proxy, ondownload, element);\n",
       "\n",
       "    // Call onopen now - mpl needs it, as it is assuming we've passed it a real\n",
       "    // web socket which is closed, not our websocket->open comm proxy.\n",
       "    ws_proxy.onopen();\n",
       "\n",
       "    fig.parent_element = element;\n",
       "    fig.cell_info = mpl.find_output_cell(\"<div id='\" + id + \"'></div>\");\n",
       "    if (!fig.cell_info) {\n",
       "        console.error('Failed to find cell for figure', id, fig);\n",
       "        return;\n",
       "    }\n",
       "};\n",
       "\n",
       "mpl.figure.prototype.handle_close = function (fig, msg) {\n",
       "    var width = fig.canvas.width / mpl.ratio;\n",
       "    fig.root.removeEventListener('remove', this._remove_fig_handler);\n",
       "\n",
       "    // Update the output cell to use the data from the current canvas.\n",
       "    fig.push_to_output();\n",
       "    var dataURL = fig.canvas.toDataURL();\n",
       "    // Re-enable the keyboard manager in IPython - without this line, in FF,\n",
       "    // the notebook keyboard shortcuts fail.\n",
       "    IPython.keyboard_manager.enable();\n",
       "    fig.parent_element.innerHTML =\n",
       "        '<img src=\"' + dataURL + '\" width=\"' + width + '\">';\n",
       "    fig.close_ws(fig, msg);\n",
       "};\n",
       "\n",
       "mpl.figure.prototype.close_ws = function (fig, msg) {\n",
       "    fig.send_message('closing', msg);\n",
       "    // fig.ws.close()\n",
       "};\n",
       "\n",
       "mpl.figure.prototype.push_to_output = function (_remove_interactive) {\n",
       "    // Turn the data on the canvas into data in the output cell.\n",
       "    var width = this.canvas.width / mpl.ratio;\n",
       "    var dataURL = this.canvas.toDataURL();\n",
       "    this.cell_info[1]['text/html'] =\n",
       "        '<img src=\"' + dataURL + '\" width=\"' + width + '\">';\n",
       "};\n",
       "\n",
       "mpl.figure.prototype.updated_canvas_event = function () {\n",
       "    // Tell IPython that the notebook contents must change.\n",
       "    IPython.notebook.set_dirty(true);\n",
       "    this.send_message('ack', {});\n",
       "    var fig = this;\n",
       "    // Wait a second, then push the new image to the DOM so\n",
       "    // that it is saved nicely (might be nice to debounce this).\n",
       "    setTimeout(function () {\n",
       "        fig.push_to_output();\n",
       "    }, 1000);\n",
       "};\n",
       "\n",
       "mpl.figure.prototype._init_toolbar = function () {\n",
       "    var fig = this;\n",
       "\n",
       "    var toolbar = document.createElement('div');\n",
       "    toolbar.classList = 'btn-toolbar';\n",
       "    this.root.appendChild(toolbar);\n",
       "\n",
       "    function on_click_closure(name) {\n",
       "        return function (_event) {\n",
       "            return fig.toolbar_button_onclick(name);\n",
       "        };\n",
       "    }\n",
       "\n",
       "    function on_mouseover_closure(tooltip) {\n",
       "        return function (event) {\n",
       "            if (!event.currentTarget.disabled) {\n",
       "                return fig.toolbar_button_onmouseover(tooltip);\n",
       "            }\n",
       "        };\n",
       "    }\n",
       "\n",
       "    fig.buttons = {};\n",
       "    var buttonGroup = document.createElement('div');\n",
       "    buttonGroup.classList = 'btn-group';\n",
       "    var button;\n",
       "    for (var toolbar_ind in mpl.toolbar_items) {\n",
       "        var name = mpl.toolbar_items[toolbar_ind][0];\n",
       "        var tooltip = mpl.toolbar_items[toolbar_ind][1];\n",
       "        var image = mpl.toolbar_items[toolbar_ind][2];\n",
       "        var method_name = mpl.toolbar_items[toolbar_ind][3];\n",
       "\n",
       "        if (!name) {\n",
       "            /* Instead of a spacer, we start a new button group. */\n",
       "            if (buttonGroup.hasChildNodes()) {\n",
       "                toolbar.appendChild(buttonGroup);\n",
       "            }\n",
       "            buttonGroup = document.createElement('div');\n",
       "            buttonGroup.classList = 'btn-group';\n",
       "            continue;\n",
       "        }\n",
       "\n",
       "        button = fig.buttons[name] = document.createElement('button');\n",
       "        button.classList = 'btn btn-default';\n",
       "        button.href = '#';\n",
       "        button.title = name;\n",
       "        button.innerHTML = '<i class=\"fa ' + image + ' fa-lg\"></i>';\n",
       "        button.addEventListener('click', on_click_closure(method_name));\n",
       "        button.addEventListener('mouseover', on_mouseover_closure(tooltip));\n",
       "        buttonGroup.appendChild(button);\n",
       "    }\n",
       "\n",
       "    if (buttonGroup.hasChildNodes()) {\n",
       "        toolbar.appendChild(buttonGroup);\n",
       "    }\n",
       "\n",
       "    // Add the status bar.\n",
       "    var status_bar = document.createElement('span');\n",
       "    status_bar.classList = 'mpl-message pull-right';\n",
       "    toolbar.appendChild(status_bar);\n",
       "    this.message = status_bar;\n",
       "\n",
       "    // Add the close button to the window.\n",
       "    var buttongrp = document.createElement('div');\n",
       "    buttongrp.classList = 'btn-group inline pull-right';\n",
       "    button = document.createElement('button');\n",
       "    button.classList = 'btn btn-mini btn-primary';\n",
       "    button.href = '#';\n",
       "    button.title = 'Stop Interaction';\n",
       "    button.innerHTML = '<i class=\"fa fa-power-off icon-remove icon-large\"></i>';\n",
       "    button.addEventListener('click', function (_evt) {\n",
       "        fig.handle_close(fig, {});\n",
       "    });\n",
       "    button.addEventListener(\n",
       "        'mouseover',\n",
       "        on_mouseover_closure('Stop Interaction')\n",
       "    );\n",
       "    buttongrp.appendChild(button);\n",
       "    var titlebar = this.root.querySelector('.ui-dialog-titlebar');\n",
       "    titlebar.insertBefore(buttongrp, titlebar.firstChild);\n",
       "};\n",
       "\n",
       "mpl.figure.prototype._remove_fig_handler = function () {\n",
       "    this.close_ws(this, {});\n",
       "};\n",
       "\n",
       "mpl.figure.prototype._root_extra_style = function (el) {\n",
       "    el.style.boxSizing = 'content-box'; // override notebook setting of border-box.\n",
       "    el.addEventListener('remove', this._remove_fig_handler);\n",
       "};\n",
       "\n",
       "mpl.figure.prototype._canvas_extra_style = function (el) {\n",
       "    // this is important to make the div 'focusable\n",
       "    el.setAttribute('tabindex', 0);\n",
       "    // reach out to IPython and tell the keyboard manager to turn it's self\n",
       "    // off when our div gets focus\n",
       "\n",
       "    // location in version 3\n",
       "    if (IPython.notebook.keyboard_manager) {\n",
       "        IPython.notebook.keyboard_manager.register_events(el);\n",
       "    } else {\n",
       "        // location in version 2\n",
       "        IPython.keyboard_manager.register_events(el);\n",
       "    }\n",
       "};\n",
       "\n",
       "mpl.figure.prototype._key_event_extra = function (event, _name) {\n",
       "    var manager = IPython.notebook.keyboard_manager;\n",
       "    if (!manager) {\n",
       "        manager = IPython.keyboard_manager;\n",
       "    }\n",
       "\n",
       "    // Check for shift+enter\n",
       "    if (event.shiftKey && event.which === 13) {\n",
       "        this.canvas_div.blur();\n",
       "        // select the cell after this one\n",
       "        var index = IPython.notebook.find_cell_index(this.cell_info[0]);\n",
       "        IPython.notebook.select(index + 1);\n",
       "    }\n",
       "};\n",
       "\n",
       "mpl.figure.prototype.handle_save = function (fig, _msg) {\n",
       "    fig.ondownload(fig, null);\n",
       "};\n",
       "\n",
       "mpl.find_output_cell = function (html_output) {\n",
       "    // Return the cell and output element which can be found *uniquely* in the notebook.\n",
       "    // Note - this is a bit hacky, but it is done because the \"notebook_saving.Notebook\"\n",
       "    // IPython event is triggered only after the cells have been serialised, which for\n",
       "    // our purposes (turning an active figure into a static one), is too late.\n",
       "    var cells = IPython.notebook.get_cells();\n",
       "    var ncells = cells.length;\n",
       "    for (var i = 0; i < ncells; i++) {\n",
       "        var cell = cells[i];\n",
       "        if (cell.cell_type === 'code') {\n",
       "            for (var j = 0; j < cell.output_area.outputs.length; j++) {\n",
       "                var data = cell.output_area.outputs[j];\n",
       "                if (data.data) {\n",
       "                    // IPython >= 3 moved mimebundle to data attribute of output\n",
       "                    data = data.data;\n",
       "                }\n",
       "                if (data['text/html'] === html_output) {\n",
       "                    return [cell, data, j];\n",
       "                }\n",
       "            }\n",
       "        }\n",
       "    }\n",
       "};\n",
       "\n",
       "// Register the function which deals with the matplotlib target/channel.\n",
       "// The kernel may be null if the page has been refreshed.\n",
       "if (IPython.notebook.kernel !== null) {\n",
       "    IPython.notebook.kernel.comm_manager.register_target(\n",
       "        'matplotlib',\n",
       "        mpl.mpl_figure_comm\n",
       "    );\n",
       "}\n"
      ],
      "text/plain": [
       "<IPython.core.display.Javascript object>"
      ]
     },
     "metadata": {},
     "output_type": "display_data"
    },
    {
     "data": {
      "text/html": [
       "<img src=\"data:image/png;base64,iVBORw0KGgoAAAANSUhEUgAAB8MAAAKWCAYAAADdmDhEAAAAAXNSR0IArs4c6QAAAERlWElmTU0AKgAAAAgAAYdpAAQAAAABAAAAGgAAAAAAA6ABAAMAAAABAAEAAKACAAQAAAABAAAHw6ADAAQAAAABAAAClgAAAAAFFPNKAABAAElEQVR4AezdB3xV5f3H8V8WCSTMsAlTBMQByHSj4saqVeuqVqt1VG1ta1vrv8OKbe1f21r/rVWr1bqq1lXFrQVxIqCIbFlC2CuQQcj8f3/n5sZLcgMJGdzkfp6Xv5x9znPe53LjK7/zPI8ZBQEEEEAAAQQQQAABBBBAAAEEEEAAAQQQQAABBBBAAAEEEEAAAQQQQAABBBBAAAEEEEAAAQQQQAABBBBAAAEEEEAAAQQQQAABBBBAAAEEEEAAAQQQQAABBBBAAAEEEEAAAQQQQAABBBBAAAEEEEAAAQQQQAABBBBAAAEEEEAAAQQQQAABBBBAAAEEEEAAAQQQQAABBBBAAAEEEEAAAQQQQAABBBBAAAEEEEAAAQQQQAABBBBAAAEEEEAAAQQQQAABBBBAAAEEEEAAAQQQQAABBBBAAAEEEEAAAQQQQAABBBBAAAEEEEAAAQQQQAABBBBAAAEEEEAAAQQQQAABBBBAAAEEEEAAAQQQQAABBBBAAAEEEEAAAQQQQAABBBBAAAEEEEAAAQQQQAABBBBAAAEEEEAAAQQQQAABBBBAAAEEEEAAAQQQQAABBBBAAAEEEEAAAQQQQAABBBBAAAEEEEAAAQQQQAABBBBAAAEEEEAAAQQQQAABBBBAAAEEEEAAAQQQQAABBBBAAAEEEEAAAQQQQAABBBBAAAEEEEAAAQQQQAABBBBAAAEEEEAAAQQQQAABBBBAAAEEEEAAAQQQQAABBBBAAAEEEEAAAQQQQAABBBBAAAEEEEAAAQQQQAABBBBAAAEEEEAAAQQQQAABBBBAAAEEEEAAAQQQQAABBBBAAAEEEEAAAQQQQAABBBBAAAEEEEAAAQQQQAABBBBAAAEEEEAAAQQQQAABBBBAAAEEEEAAAQQQQAABBBBAAAEEEEAAAQQQQAABBBBAAAEEEEAAAQQQQAABBBBAAAEEEEAAAQQQQAABBBBAAAEEEEAAAQQQQAABBBBAAAEEEEAAAQQQQAABBBBAAAEEEEAAAQQQQAABBBBAAAEEEEAAAQQQQAABBBBAAAEEEEAAAQQQQAABBBBAAAEEEEAAAQQQQAABBBBAAAEEEEAAAQQQQAABBBBAAAEEEEAAAQQQQAABBBBAAAEEEEAAAQQQQAABBBBAAAEEEEAAAQQQQAABBBBAAAEEEEAAAQQQ2FVghRYn7LqKJQQQQACBGgRWaH2RonOV7bO1XK7oV2V9Uy9O1QULFXkRcZjmvUxSfK4oUdyioCCAAAIIIIAAAggggAACCCCAAAIIIIAAAnEvkBj3AgAggAACCCCAAAJfCSzX7AVfLdrBmm8dsdyQs0l7cbLrdExGRHxYcY4lmv5E8XLF8r6cJO/Li3NtBBBAAAEEEEAAAQQQQAABBBBAAAEEEEAgLEAyPCzBFIH4EUjVrd6lWFMRPu/rvHhryMmKHMUWxbuK8PfETzW/WpGrWKQ4XkFBAAEEWprAo7qhSyJu6luafyRi2WdPU3yq2K5YpbhFEVmO1MIHCv8u9e2XKrw8rPib4hVFvuJYxQGKqQrfd57ia4q9Kf/UQa8q/Dt6TyVBO/xJsUGxTTFHcZDCiyf+/6D4UuHb3lOEXwbwunkdva5TFV73cFmhGf894efye/OE+DhF2OEzzY9XUBBAAAEEEEAAAQQQQAABBBBAAAEEEEAAAQQQQACBBhFYobNMqHKmW7X8kaKroovCExWTFF5+p7hXkVIRR2nqSZPBCk/o9FR46afYz2coCCCAQAsSWKF78e9Mf+HHE71JCv/u66uI7CZ9vJa9xbi/LHSIYr3iTIWXPgpPSHvrcv8uzVQMV3h5WOEJ5iMUfmxbhbfovlnRSnGcwo/179xoZapWXhFtQ8S6xzR/S8RytNmTtHKWooPCv+P9XnsovPxVMVXRS+H3f7giVTFI4UnuExR+X94K3evu9fayQjFb0VvRWuHHb1acqvB79eN82X/vUBBAAAEEEEAAAQQQQAABBBBAAAEEEEAAAQQQQACBegus0Bk8sRNZlmrBkxPh4kmRFRULt2r6H8XAiuXwxJe9BaGfy5MgFAQQQKAlCqzQTfn33M8Vv1OcrHhTkayITIZrcZdyl5a8pbWXnymeD+aq/3hYqx6JWO0vHK1TeLI4XP6lmVvCC1WmU7VcoMipiE80rVoe04pbqq6ssnyclhcrvOV25LV9fodimKJq+YVWPB2x0vddrRhfsW6Fpt+umPeJtxJ/NGLZZ19XeEt7CgIIIIAAAggggAACCCCAAAIIIIAAAggg0CQC/odMCgIIxJeAt+727m/Dxed9nZc7FN7S7w3FMsVNCi++7gbFLQpPij+pCB+jWQoCCCDQogQ8iXuh4lLFI4qqZaxWTFFsVHhL76sVPsyEF28Z7S8d1VRWRWzw71FfLotY59/J3qq6pvI9behQEYfWtFOV9fO0nFcRnoD/r+IvCm8F7q3a71e0U/g9pCmi1d/rGvm7w+vsdY+sa+S99dW2cxXhxL1Pj1SEW6BrloIAAggggAACCCCAAAIIIIAAAggggAACCDSuAMnwxvXl7AjEosAaVcqTFOHSRzO+zot3z/sjxQDF6YofKo5XeHlC4YkMP7Zc8XsFBQEEEGiJAp70Xa7wXjSei3KD/n34osIT3+0VPrxEgsKLJ4T3C+ai//Dvz3Dx714/R+T/j/l3sre4bshyoE6WURHvVpz4bk1HKnzbIMWPFZsUhYpo9fe6+vd/uPj9et0j6xp5b+7wqCKcuPdpuuJ2BQUBBBBAAAEEEEAAAQQQQAABBBBAAAEEEGgSgcg/vjbJBbkIAgg0uYB3a+4t/cLhXfD+XNFF4a0Af6nwbnW9TFQMVHiSY7uitCIGa3qcIlXhiRLvRte3URBAAIGWKnC5bsy/9/Kj3GBbrdui8O/DMQpvRR4uj2tmguIbimRFpmK4IlqZrpV+fh9/27+rxyv8RaQnFXUt4e96/387v65/5yfVcJLRWu+t2/0Yv77fh3+ne2vvfyj+qPCW4H78YQr/7vcu0k9THK/w4/zFqZ2KDxTRymNa6fdyksLP4/UZr8hSUBBAAAEEEEAAAQQQQAABBBBAAAEEEEAAAQQQQACBegus0Bm8pV5k3KllbxG4tiJ83pMUXn6gWKHw5Ei24hcKL4coPlbkKjwBNFnhiRIKAggg0JIEVuhmJkS5IU8u+/dov4pt52j6pcK/E/378C8KT/6Gy1Ga8US3v1S0SvEthZeHFbf5TETxltnvKLy79fmKsxQ1lanacEUNGx/W+sjvep+/VBGteEJ7jiJP4a3BH1dkKLy0VtylWK3wOk1T+DovXjevo6/3Onvdw2WFZiaEFyqmnnD3/fz3xkbFywpv+U5BAAEEEEAAAQQQQAABBBBAAAEEEEAAAQQQQAABBBBAAAEEEEAAAQQQQAABBBBAAAEEEEAAAQQQQAABBBBAAAEEEEAAAQQQQAABBBBAAAEEEEAAAQQQQAABBBBAAAEEEEAAAQQQQAABBBBAAAEEEEAAAQQQQAABBBBAAAEEEEAAAQQQQAABBBBAAAEEEEAAAQQQQAABBBBAAAEEEEAAAQQQQAABBBBAAAEEEEAAAQQQQAABBBBAAAEEEEAAAQQQQAABBBBAAAEEEEAAAQQQQAABBBBAAAEEEEAAAQQQQAABBBBAAAEEEEAAAQQQQAABBBBAAAEEEEAAAQQQQAABBBCot0BCvc/ACZpUIDMzs7xfv351vmZ+fr6lp6fX+biGPiBW6uH3FSt1iZV6YBL90x4rzydW6lGfz8msWbM26fgu0aVb5lq+sxvuucbKv4FYqYfLxkpdYqUemET/91af5xOP39vRFVmLAAIIIIAAAggggAACCCCAAAIIIIAAAk0iMHLkyPK9KVOmTNmbwxr8mFiph99YrNQlVuqBSfSPe6w8n1ipR30+J/qSnNkkX5QxdBG+s6P/u9qbtbHybyBW6lGff4t747+7YzCprtNSTOLxezuGfoVQFQQQQAABBBBAAAEEEEAAAQQQQACBBhBIbIBzcAoEEEAAAQQQQAABBBBAAAEEEEAAAQQQQAABBBBAAAEEEEAAAQRiSiA5pmrT/CqTpipPU6Qq3PIZxa8UkeXHWrioYoXvc4DCuwneolihyFWUKkoUoxQUBBBAAAEEEEAAAQQQQAABBBBAAAEEEEAAAQQQQAABBBBAAIF6CpAMrx/gTh1+nCJPkaJ4T/Gq4iNFuNyhGQ8vpyt+oPBEeLgcqxkfR5eCAAIIIIAAAggggAACCCCAAAIIIIAAAggggAACCCCAAAIIINBAAiTD6wdZrsM9Ee7Fk+Eevq6mcoE2/KumjaxHAIF9I1BcXGzZ2dlWWFhYrQLt27e3BQsWVFvf1CtipR5+33uqS1pammVlZVlKin8lUhBAAAEEEEAAAQQQQAABBBBAAAEEEEAAAQQQQACBfSNAMrz+7kk6xSzFQMVfFdMV0UobrTxZcV3ERk+cv6Hw6X2K+xUUBBBoYgFPhLdt29b69etnCQkJu1w9Nzc32LbLyn2wECv18FvfXV3Ky8tt8+bNwcsF/fv33wdSXBIBBBBAAAEEEEAAAQQQQAABBBBAAAEEEEAAAQQQCAmQDK//J8HH+x6u6KB4XnGQYq6iavEu0t9XRHaRfoSW1yi6Kt5ULFT4GORVy5Va4REkmKZOneqzdSp5eXm2N8fV6SK12DlW6uFVjZW6xEo94tnEWzpnZmYGn4mqH+PS0tIg+Vt1fVMvx0o9/L73VJdWrVpZTk5OTHznNPVz4noIIIAAAggggAACCCCAAAIIIIAAAggggAACCCAQOwIkwxvuWeToVFMV3vo7WjL8fK2v2kX6Gq3zskHhifQximjJcG8xHrQaV9fD5ePHj9di7cu0xRtt88I5NrGOx9X+CrXf0xPyda1/7c9etz1jpS6xUg/Xi5W6NHU9vBv0du3aRf0A7a4VdNQDGmllrNTDb682dfGu0keMGNFIGpwWAQQQQKC2AnM3ldp+WwqsdyfvpIiCAAIIIIAAAggggAACCCCAAAIIIIBAfAkkxtftNvjddtEZvUW4l9aKCQpv3V21tNeKYxT/idiQrvm2Fcs+f6IiWhK9Ype9n9zw1GybsrJk70/AkQgg0KgC3q348OHDg+jevbv16tWrcrmoqGi31545c6Z973vf2+0+bNxFwF9YWqRYorhply27LozWovf8cU7E6toeG3EIswgggMC+Efg8e5t984HpdufMQnvg3WX7phJcFQEEEEAAAQQQQAABBBBAAAEEEEAAgX0sQMvw+j2AHjr8nwofN9xfLHhaMVlxtcLLvaGJnaXpG4r8imWfdFN4a3Av/hyeULzmCw1djsrIth0Fu46D3NDX4HwIILD3At5F++zZs4MT3HLLLZaRkWE33nhj5QlLSmp+mWXUqFHmQamVgH9X/1VxgiJbMUPxomK+IrL4fr9XvB6xsrbHRhzCLAIIIND0Ais3F9idbyyyFz9bYx3bpNgFQ1rZzacd0PQV4YoIIIAAAggggAACCCCAAAIIIIAAAgjEgADJ8Po9hDk6PFo/wOEkePjsD2vGI7J4E51hkSsaa/43ub+018vH6vSXNtYlOC8CCDSwwKWXXmqdOnWyTz/91A499FCbOHGi/c///I/t2LHDWrdubQ899JANHjw46Nr+zjvvtMmTJ5sn0leuXGnLli0LpjfccAOtxnd9Lj4UhbcIDzeRfFLzZyiqJsOv17pnFd46PFxqe2x4f6YIIBDnAp+u3Go/f2GubdtRbEfs19kOH5hpRwzsbJ0zUussU15ebrNX5dj2whJLSkiwRL2C6dNSrV+3rdDW5Oyw1TmFlr21wD5attmSEhPsumMH2pXHDLBPPnrfUpP9fR4KAggggAACCCCAAAIIIIAAAggggAAC8SdAMjwOnvnOlPaWtiPP/A+pCfrDKQUBBGoW+PVL82z+mu2VO5SWllpSUv2SCEN7trNfnX5g5TlrO7N48WJ76623guuvXr3apk2bZsnJycG6m2++2Z591vO1u5aFCxfalClTgnG9PVl+zTXXWEpKyq47xe9SL936qojb99bh/qZQZPF9vDeP4xSRyfDaHBt5HuYRQKAFCBQWl9ob89fbS2pl3So50cYNyLRx/TvZwK4ZNf4/lR/z5MKd9sbrH1i3dml2SFZ7e3XuWntqZujrZ0j3tnbSgd3t9GE9dJ7wiDnRsfxcz3+62h56f7ktXp8XfaeKtZ0zWlnPDq3tgjF97Folwv3aFAQQQAABBBBAAAEEEEAAAQQQQAABBOJdgGR4HHwCSlM7WNuCvKBlUoc2reLgjrlFBFqGwLnnnluZiN++fbtdd9119sUXXwQJmOLi4qg3edppp1lqamoQXbt2tfXr11tWVlbUfeNwZbS3gcqrONyl5Z8qfLzwyFKbY8P7X6kZD8vOzg5a74c31Haal5e3V8fV9vy13S9W6uH1jZW6xEo9MIn+Ka7r8yktK7eNO8r1wqBaWgetrb3Ftdna/HL7YE2JzVhXYoX6NuiUlhDs8/KctcGF2+l/pwZ1TLLebROte3qi9UhPsG6artxeZg9+vtPWFZTb+KxkO29IorVOzrPzslrZiu3JNn9TqX2+Kd/ufvsL+7MiKyPBxvZItoM7JwWtub0++s9KFHM2ltrUVcWWp6/7PrrO5Qe1Cq7l2z30n/kXU0fVzevXyituPqzGJlvwiUJzXupqEjqKnwgggAACCCCAAAIIIIAAAggggAACCLQMAZLhLeM57v4uWne09jnZ6j5zh5EM3z0VWxGo2oI7NzfX2rbdfcu9xlJLT0+vPPVtt91mxx57rD3//PO2YsUKGz9+fOW2yBlPhIeLt2jf3Xjj4f3iaOotwXtH3K+/JbAmYtlnfQB27z7dS2fFqQrPLtXmWO0WlPv108NfRCiv6VkFe9bwY+rUqTU+4xoOaZTVsVIPv7lYqUus1KOlmnjX4m+qJXafTm1skFpQD+rW1jJSa/+/q/58jjnmGFujrsMXr8u1nB1F1r51irVLSwmmbTVdtjHPZqzYajO/3GKffLnV8ouqvvsS+ueU3irJJg7Psq8f2kutwTP1IpLZyi0FNn3ZFvto+WabqXPMWloQJMn9CN/uSfWsjq3tJweW23fPPj50oig/N2wvtFc+X2svKbn+7BdbFdVfcPLznTi0m337iP42Rq3R97Z3n1j6zEahYBUCCCCAAAIIIIAAAggggAACCCCAAAKNKlD7vy42ajU4eWMKpGR0sg620BZrLMkDe7ZvzEtxbgQQaCQBbxneq5f31G328MMPB1N+1Flgho7YX9FfsVpxvuJCRWTxbeHysGYmK15Q+O/LPR2rXSgIILA3Aj7m9f++ttBemF31/RS9wdKptY3q28nOGN7TjtSY28nehDuieFfi0xZvtGlfbLTpC3fY9VPfsFyNrb274onmId3b2dkjs9SNeQdLUavq4tJyKykts2I1u+6knnSOG9LVWishHln6ZqabxzdGh96r8WsvV0vvpUqwL92QH7Quv0zJ6xkfvhd5WLX5rurC/FLt5+EvK85emWMa5ju4t2TN+JjfA7qkK7HeptqxrEAAAQQQQAABBBBAAAEEEEAAAQQQQACB2guQDK+9VbPdM7VdZ+uQkGertxY023ug4gjEu8D3v/99++53v2t//OMf7bjjfDhryl4IeHbsOsXrCs9w/UMxT3G1wsu9oUnUnzUdG3VnViKAQEhgvVpAv/fFJnt/iWLppqDl9Oh+nWxk347m036d29gD7y63+6YtDbr+vk5jXV91zADbml9sC9dtt0Vq3b1Q8faC9cHY2V3aptoZw3pqvO2eQSvt1+ausymLNliBWnd7C/Keyh170nywEt2D1ao8U+Noe2J8247iILZr2ksttw/to15z1GK8viUtJckO6NEuiL09Vy+N8+1BQQABBBBAAAEEEEAAAQQQQAABBBBAAIGGFyAZ3vCmMXfG1m0zrU1Cga3NyY+5ulEhBBDYVeCWW27ZdUXF0tixY23x4sWV2yZNmhTMexfc4W64qx47d+7cyv2ZqRR4RXMekaWmJPilkTtpPtqxVXZhEQEE8neW2BPTV9rTM1fZFxvyApDM9FZ2uFp1+7DW3kX5y+oiPLJMPKSH/fTkIWoFHmoJ7d2Z98lsYyce2D3YbWdJqf13wQZ77tPV9s8PV9gD7y0P1ndWsvvMEb3slIO627gBmfb+u9P0nXhw5KmZRwABBBBAAAEEEEAAAQQQQAABBBBAAIE4FiAZHgcPP6FNp+Aut27ZGAd3yy0igAACCCCAwJ4EyjW49UPvr7C5a7bZzpIy26nuvn1aoq7C+3VOt6E92toQtXgerHG7fbzt2pTthcX2yAcr7EElqrcWFAfjXN986hA7QknwA9RSO9H7Aa8o3i36TI3XvWDt9qA7cm8lvruSmpxkpxzcI4gt+UX234UbgnHFvYW5dylOQQABBBBAAAEEEEAAAQQQQAABBBBAAAEEogmQDI+m0tLWte4Y3FHeVpLhLe3Rcj8IIIAAAgjUVcAT4ZMmL7B/vL/cerRPszYaF9uTzWkpobG4X1Gr7X99vLLytD5m9zCNqz28dygO6tVeY2wn2sbcnRrvusA+WltiH766IGgN7l2SH6+xtq89bmDQFXnlSarM9FS34F/zUHfndS2d1Mr8HI31TUEAAQQQQAABBBBAAAEEEEAAAQQQQAABBPYkQDJ8T0ItYXtFMnzHtk0t4W64BwQQQAABBBDYjYAnu1duKQhaTick7Npq2rf97+uLgkT4pYf3s1+dPtSi7bNOY30vXJtrCzRu99zV2+wTteKePCfUtXlyRUvskrLyylokJCyzk9Wl+bUa89uT5RQEEEAAAQQQQAABBBBAAAEEEEAAAQQQQCAWBEiGx8JTaOw6VCTDy3dsVReopUHrr8a+JOdHAAEEEEAAgX0jcPtrC+2+d5bZKHUh/uOTBttYjaUdLne/vcT+NnWpXTi2T9REuO/nyfEe7VsHcaxaeYfLBiXIP12VY58pPA3eSy27PdZ8MdfOPPFoS0/lfyvDVkwRQAABBBBAAAEEEEAAAQQQQAABBBBAIDYE+KtlbDyHxq1FRTK8neXb+m07rU9mm8a9HmdHAAEEEEAAgX0i8Pdpy4JE+HFKYs/TeODn3f+RHTOoS5AUf2/JJvvTW4uDLsZvO+Ogai3C91Thru3S7CS1/vaILFPXJZIIjwRhHgEEEEAAAQQQQAABBBBAAAEEEEAAAQRiRoBkeMw8ikasSOsOwck7JORZtsb2JBneiNacGgEEEEAAgUYSWLm5wKYs2hCM1332yF7VrvLsrGz7zSsL7LSDe9jdF4yw4tIye+TDFXaPWoJP/L/3gv1P1xjdvz/7EEus6Oq82klYgQACCCCAAAIIIIAAAggggAACCCCAAAIItCABkuEt6GHWeCtpFclwtQxfk1NY425sQACBfSMwfvx4+9nPfmYnnXRSZQXuuusuW7x4sd1zzz2V68Izvv+dd95po0aNslNPPdWeeOIJ69Ah9O88vM8tt9xiGRkZduONN4ZXVZu+8MILNmjQIBs6dGiw7Ze//KUdffTRNmHChGr7sgIBBBpXoKikzJZvyrfC4lJLVDflPtS3R05Bsb2zeKO9vWC9Ld2YX1mJv05ZYidnldpRGrc7SYntKQs32E+enWNHDMy0P543LFiXlJhkVx69n50/po/9473ltm1Hsd186gHBtsoTMYMAAggggAACCCCAAAIIIIAAAggggAACCLRgAZLhLfjhVt5aUrIVJ7WxDiV5SobvqFzNDAIIxIbABRdcYE8++eQuyXBfvuOOO/ZYwVdeeWWP+9S0gyfDJ06cWJkMv/XWW2valfUIIFAPgf/MXm3/+niltW+dYl3bplmXtqlB5BWW2IK1222+YunGPLXk9pG4q5dWSYka97uTXTS2r3n359lbd9jvNS74g3O32bS7ptl5o3vbnW8ssqE92tl9F4+y1OSkXU7SLi3FbpgwaJd1LCCAAAIIIIAAAggggAACCCCAAAIIIIAAAvEgQDI8Hp6y7rEkJcO6le2wxSTD4+SJc5vNSeCcc86xn//857Zz505LTU21FStW2Jo1a4IW3z/4wQ9sx44ddvrpp9vtt99e7bb69etnM2fOtM6dO9tvfvMbe+SRR6x3797WpUsXGzlyZLD/3//+d7v//vutqKjIBg4caI8++qjNnj3bXnzxRXvnnXfstttus2effdYmTZoUJMe9Pm+//XbQqrykpMRGjx5tf/vb34K6+fXOP/98e+ONN6y4uNj+/e9/25AhQ6rVixUIIGC2s6TUbpu8wB796Esb0DndtuQX2cfLt9hWtfYOl27tUu0AJbGPVZJ7SPe2lpGabOXKiZfph6fGU5MTbVS/TsH68DH9dK4jBh5hdz71tr26utxue3mB9de6hy4bvct+4f2ZIoAAAggggAACCCCAAAIIIIAAAggggAAC8SpAMjxOnnxJclvrWlpgq0mGx8kT5zb3WuDVm8zWfV55eOvSEjP1rlCv0v1gs1OqJ7LD58zMzLQxY8bYa6+9ZmeccUbQSvy8884Luk7v1KmTlZaWmneNPmfOHDvkkEPCh+0ynTVrVnDcp59+ap7APvTQQyuT4V//+tftO9/5TrC/J90ffPBBu/766+1rX/taZfI78mSFhYV26aWXBglx70b9kksuCZLhN9xwQ7Cb1/eTTz4JunD37tofeOCByMOZRwABCXhPLN99/BObvSpHXZUPsJ+cNNiS1cLbiyfJN+UVWZoS3ZkZqcG6uv5IUB/qo7sn2w/OPdreUhfqI/p0tM57ea66Xpv9EUAAAQQQQAABBBBAAAEEEEAAAQQQQACB5iIQ+qtsc6lt7NUzTVX6WPGZYp7i14qqZbxWbFPMrohfahouJ2tmkWKJQhm4xivFahmemZRPMrzxiDkzAvUSCHeV7ifxLtJ9+emnnw6S2iNGjLAFCxbY/Pnza7zGu+++a2eddZa1adPG2rVrFyS6wzvPnTvXjjrqKDv44IPt8ccft3nz/Ouq5rJo0SLr379/MJ647/Wtb33Lpk2bVnmAJ9G9eMtzb8VOQQCBrwTK1aLbx/ie+H/v2Rfrc+2eiw4NxukOJ8J9T+/GvFeH1nudCP/qahYk2E8+qId1a+f/S0JBAAEEEEAAAQQQQAABBBBAAAEEEEAAAQQQiBSoZ3PHyFPF5fxO3fVxijxFiuI9xauKjxSR5V0tTIxcoXkf0POvihMU2YoZihcVNWe7tHFvS0lyhrWzVUFLNf9DvbcooyCAQBSBKi24d+TmWtu2baPs2LCrzjzzTPvhD38YtLj2btE7duxo3up6xowZwfxFF11k3mJ7d6Wmf9feytvHBx82bJg9/PDDNnXq1N2dRl00Rx+3OHyQd+XuJSkpKWiFHl7PFIGWJPC2Wlvf/d8llqWk9Zj+nYIY3G3X74KCohLbmLvTFq/PsznZOUEr8M9Xb7McdYO+f9cMu/fikbZfl4yWxMK9IIAAAggggAACCCCAAAIIIIAAAggggAACzUqAZHj9HpdnjDwR7sWT4R67zyL5nqEyRhNvEb6sYvlJTc9QNEoyvDilrXUqzbXC4rJgrNJO6a0qLssEAQRiQSAjIyPoCv3b3/520Cp8+/btlp6ebu3bt7f169fbm2++aSec4O/ORC9HH3100LX5TTfdFCSoX3rpJbvqqquCnXOV0O/Ro0cwxre3DO/Vq1ew3pP8vq1q8THAvcX3kiVLKscYP+aYY6ruxjICzUKguLTM3lm00Q4fmGltWu35f3s8wf0bjcH9+PSV1i+zjW3cXmgvf742uNd2acnWJbXMbpkxJUiC5xeVVhokJSbYICXLTz6wuw3r3cG+NqynpWv8bwoCCCCAAAIIIIAAAggggAACCCCAAAIIIIDAvhPgr7T1t/cW3rMUAxXe0nu6omo5TCu8K/U1ihsV3kexZ6NWKcIlWzNjwwsNPfWW4akl23Xaclu9dYeRDG9oYc6HQP0FvGt0H9/bu0n3hLR3j37ggQfagAEDbNy4cbu9gI8R7uOMDx8+3Pr27Rt0ix4+YNKkSTZ27NhgvXeVHk6An3/++cFY4nfffbc988wz4d0tLS3NHnroITv33HODxPro0aPt6quvrtzODALNSeC2yfPtnx9+aV3bptoNEwbZN0ZlVY7dXfU+vHX3DU/OtuWb8+0qjfP9wxMHBV2aZ28tsI+Xbwnis6WrbWBWB+ui8bk7t20VjNM9oHO6HdizvbVu5f9LQEEAAQQQQAABBBBAAAEEEEAAAQQQQAABBBCIFQH6ym64J9FBp3pecb1ibsRp22m+TOEtyE9V/Fmxv+JcxUmKKxReLlZ4a3E/vmq5Uis8rFu3biM9UVbX0nXJUzY0+wk7qPABu2xERxvZbd+8B5GXl2feAjYWSqzUJVbq4c8kVurS1PXw1tcDB/r7LNVLaWlp0B149S1NuyZW6uF3XZu6eKvybdu27YJ07LHH+otDo3ZZ2cIXNK56+cyZM+t8l96V/fjx4+t8XEMfECv18Pvam7r8Z/Zq+76S22cO72nZehFs5pdb1W15uv3k5CF24tBulruzxJZtzLelG/LMuzd/7KNQ0vzObwyzw/frHJVzb+oR9UQNsDJW6hIr9XDSWKlLrNSjviYafiPuvrcb4J8mp0AAAQQQQAABBBBAAAEEEEAAAQQQiCGBfZMRjSGABqxKjs41VXGyIjIZ7s2xw+UVzdyj8L+wZyt6K8IlSzNrwgtVpvdr2cOysrLK9yZBsnDtW8Ep21u+dew1ysYf2T9YbuofLeWPww3phkl1zaY2WbBgQY3jgnsr6qYYM7y6wq5rYqUeXqva1MVbl3vL9hgs/h3tLyV5E94HFLcrIosPVzFJ4S8xlShuULyn8LJC4f3Ke9/Yvi2uEvu632ZVFq3LtZue/dzG9Otkd5w7zJLVjfmb89fb7a8ttKsenWXe5fn2Qn+MoeLbT1fX5recfqC1b+OjnlAQQAABBBBAAAEEEEAAAQQQQAABBBBAAAEEmrsAyfD6PcEuOrxY4Ynw1ooJit8rIkt3LaxX+Fji3vI7UbFZ4cd4C3HPSq9WnK+4UNEoxbtJ99I1pcBW5+xolGtwUgQQQCDGBTwB7sNZnKDwF5JmKF5UzFeEy9ua8XX+nX2I4mnFEEW4HKuZTeEFprEpkFtYbNc8NssylPD+y4UjLCXJf/WanajxvI8b0tX+PSvbPluVY/3Uvfl+XTJsgFqL9+nUpnK/2LwraoUAAggggAACCCCAAAIIIIAAAggggAACCCBQVwGS4XUV23X/Hlr8p8ITLP6Xdk+aTFZcrfByr+IcxTUKb37mWWhPenuSxZevU7yu8OP/ofCxxBulFKe0Dc67X0axrSEZ3ijGnBQBBGJewF9IWqJYVlHTJzX1luCRyfC8im0+SVf49zWlGQmUl5fbj/89x77cUmBPXDHWurZL26X2yUqMXzCmTxC7bGABAQQQQAABBBBAAAEEEEAAAQQQQAABBBBAoMUJkAyv3yOdo8Oj9QPsSfBw+YtmPKKVV7TSo9FLuGV43zZF9hbJ8Eb35gLNT8ATaBobtflVPAZr7JYxWnqpXqsi6uatw8dGLIdnz9LM7xRdFaeFV2rqN/ZGxfQ+TYPhKzSlxIhAUUmZ/W3qUntt3jr7n1MPsLEDMmOkZlQDAQQQQAABBBBAAAEEEEAAAQQQQAABBBBAYF8IkAzfF+r74JrFKaFu0nulFtrqDYX7oAZcEoHYFfDxrTdv3myZmZkkxOv5mDwR7pZuGoMl2tsO0TL3z6vuHkcrJikmKLwcoVij8CT5m4qFimmKquVKrfCw7Oxsmzp1qs/WqeTl5e3VcXW6SC12jpV6eFVrqktJWbkt3FJq09eW2icbSixfg5eM7p5kA0u/lOHKWtxl3XapqR51O0vD7B0rdYmVerhqrNQlVuoRSyYN86nnLAgggAACCCCAAAIIIIAAAggggAACCNRNgGR43bya7d7hluHdW+2wTXk7rbC41NJSvHd2CgIIZGVlBUnLjRs3VsMoLCyMicRurNTDgfZUF0+Eu2kMFm8J3juiXl5JT27XVDzRvZ+is8LHCQ/vu0Hzniwfo4iWDPcW40GrcTmUjx8/Xot1K55A35vj6naVPe8dK/XwFt93PPW2rdyaYTs1X6oEeDgWr8+1rQXFlpGabCce1MsmHtLDjhnUxbw79MYosWLi9xYrdYmVemAS/RMfS88neg1ZiwACCCCAAAIIIIAAAggggAACCCCAQOMJkAxvPNuYOnNZUqpZcmvrnFQQ1GvttkLr39mHw6UggEBKSor1798/KoQnEUaMiDYaQtTdG21lrNTDbzCW6lJH8Bnaf3+FP+zVivMVFyoiy0AtLFV4i/FDFa0UmxX+henZ1dyK+RM1vVVBaUSBnIIie3z6SvvnBytsQ26RZXXcbpnprSwxMcGSNKyBT49W4vuUg3rY+MFdeMmrEZ8Fp0YAAQQQQAABBBBAAAEEEEAAAQQQQAABBJqjAMnw5vjU9rbOrTtaB8sLjl6jccNJhu8tJMchgEAzFShRva9TvK7wrjH+oZinuFrh5V7F2YpLFOps23YozlN4YrybwluDe/HfnU8oXvMFSsMKlKnV98wvt9rzn65WZKsnkzI7av/O9s1BZtefcyxDGTQsN2drDIGyUmtdkG02/z9mGxeZ9T3crN+RjXElzokAAggggAACCCCAAAIIIIAAAggggAACexAgGb4HoBa1WcnwjHJv1KgmkVs9x0NBAAEE4k7gFd2xR2TxJHi4/F4zHlXLMq0YVnUlyw0j4GPNz8neZi99tsYmz1lr67ZreIKURPvasJ52+ZEDbHD3tkGPBAlqDU6JQQE9P1v1sVkP/RNJVk80+6LkqwOHz5+2hLKBTXv1PA2vsX6uQu/VbJgfmlcCfGxJoZlIgpKkDiYuesZswDF7X7eSnWbv/K/Gqcgxa6ORG9IVbTJD07T2ZqntzMLTJP73fu+hORIBBBBAAAEEEEAAAQQQQAABBBBAoKUJ8NeylvZEd3c/SoanlWxXqzolw9UynIIAAggggMC+Fli1pcBueGq2zVJr8JSkBI333dV+duoQm3BAN0vXOODNrpSqU4Hper9i6BlmHfo0u+rXucJKhA9Y9ogStc+Z9dSQEuf+06xj3zqfpvKAdUosv/dHsy5DQufrMdwso0vl5hpnXrspSIb32u9y7XJCjbtV27ByutmMv5vtd5zZQecoma/EdW3KvBfUx8T/mG3P/mrvDHUg0XWo2egrbOGWRBtyzNdVd617VNMnLzK7TO/h9Djkq/1rO+cvG/znWt3fv830/3K2Y+vuj8zobtZnrOIws95j9YJA6e73ZysCCCCAAAIIIIAAAggggAACCCCAAAItWKAZ/pW5BT+Nxr611h0sccsy69o21bybdAoCCCCAAAL7UsBbgt/83OdBFSadcaBagvey9m1S9mWV6n/tTx8ze+PnZrOUFL7izVDysv5nbbozeDI/qZbPwJO0b99qfVYpET74VLMV75ndr9bPX/+72f51SEiH766owOzfl5rlrDSb+2x4rVn73maHavSCY37y1brIOW+Vrlbhltza+qxUC+ydt6qldEbkHtXnPUH83p/MpvzWLFH/O+yJ5rd+bTb2SrNR3675uRVu1wAJSrzPfjyUrD9MSepuB4bCW2tXlHVTp9oQfznAyzdVpwdPNHtcyfbL39DLAv2C1cGPwm1m799ttvIjs1PUKUX3g77aFp7776RQ/Y7/pdlRPzIr1YgPO7aY5W8yK1B4nXYqfOrn27wkdD7vpl3lyMQ0edxsdsT3w2dkigACCCCAAAIIIIAAAggggAACCCCAQNwIkAyPm0etGw1aE+VYzw6tbc02kuHx9Oi5VwQQQCCWBAqKSuzXL863p2aushF9Otjd54+w3p3aNE4VPbE6+QehltrDLqh9ondvalNcaDbtDrNO+ymh+6XZUxcrEapEcW1bG+/NNetzjHfxvXqm2do5is/M1mm6Ldts4PFmY5QUHjhBieKkmq8w9XdBK+41PU60nucpObx1udnTSlo/fq7Z0T82G6+kcfh4T7Ln63rpauVdU7L9rV8pkfuF2SVK4noiOajXbLMlbytp/Ru5DjA7WAnlyFJWZvbqT9UCW62hv36ftXpELfKn/y10/cj9Iudz15s99x2z5e+YHfh1s4lKirvDB38Jkvs27U61Ej9bY30foZbVY0LX9W51vBW5H7dtlc6vxLwn52u6l8jrtc8KfQ7+cVKolbgnxFulqxt1vTTgreC9pXdqe7MH5H6qrn2oPjfhMvMhs3f/YDbyUmW1fxha692gZ3QNRXi/aNNtq9V9/Ue29sNnLStz/2h7sA4BBBBAAAEEEEAAAQQQQAABBBBAAIEWL0AyvMU/4ogbVMtw/4Nrrx6tbe7qbREbmEUAAQQQQKBpBGavyrEfPj3blm/Kt2uP3c9umDBI3aMnNt7F3/+zkqlvheJdJR49QXuwkrXhJG1NV87bYPamWuJmDtRYz8cqOTt8z8fMUuJyuxKQl7xolrvO7HkllCffYHbGXy0Yo6Sma4XXe0tff3FtT3UL7783U29V7B6f/NNs8etm5WohbUr0+n2qS2074GuhVtlPfEPdvPdVl9+Xm/lLBJ7EjhyzfapaMb+jGPFNW9zubOuZqGeYuZ9aw+vcL9+olwL+12yBHBK0Pk/J5wKN6e3Fr/NNtfru2C9YrPzhdfr4frNx18p7fGh1/6PMPMZeY/bwaWYvfT+UJPfrhMucJ83WfGJ21n3BcZsyx1jn9/8v6Ko8sAzvF556Yv35q9SSOs/sa9pvxMWh+/LEv4d30/6hnpe3qv700dBRPja3t/72lu+e2L7sVXVBPi58xtpNuw4xu1Ct1x+R7z9P1/+P5egzsiZ0TW/x3ban2bOyfvE6Jd0/DCXF/XovKwG+v1qVn6qEeKR/ba7avpfqe7Yt2ZRpWUPG1+YI9kEAAQQQQAABBBBAAAEEEEAAAQQQQKDFCSS3uDvihmoW8D+wl+ywvu0S7I35hVZWVm6JifoDOAUBBBBAAIFGFtheWGx3vLbIHpv+pXVrm2aPXz7WDh/YuXGvWrBF3Vk/YTb8IrMhE0NdYnsi1FvaTrhF65RgjVa8hfeTF6q1sJKsniz2bqrT1HK331HWNcFb2I6vflRRfui82scGHBPa7i2lvfV0p/67b6nse6/5NNSVdpfBZqf9SYnp0dWv4QncWQ+bFReEkr3V96h5jbeG9rGxP308lIRNV8viw683G3SyuuY+eNduxU/4tdnCyaGWy/5CgEdKuhKrSq62UySnKZGuhPAwGZ2uhPK0aV9dN6W12ZlKJvc9LGTv/+/hY1d7S+ZWGaGW8w+cYHbRv0MvGPiR/pxeuDY0TrgnhqsWbwl9zoNm9x6pbtS/pa7GlThPUR125oa6Nu81Si84KHmvsrz/RdZ5pl5A8K7HJ/xq1zPNe97sGSWc3fhbuj9PUFct3k35WWpZXvYXs42L1LJ6uln2jNBnQYl/O/E3+iy0q3pU7ZZ9HO9zHlLreSXgveX715X892R/uFys+vkLBu/oRYLVs9S7wKrQs/Fj3ICCAAIIIIAAAggggAACCCCAAAIIIIAAAnUW4C9rdSZrxgf4H6RV+rYptqKSMtucX2RdNH44BQEEEEAAgcYSKNe40pPnrLVbJ8+3zXk77VuH9bMfnTjI2qalNNYlvzqvt372xPG474bGYvbE78KXlBRXgtqT3ccrWXrkD3ZtcevjYP9HiVlPgH7jUf3SPDzUnfayqWZLp9rQbUqiTlNS9+gbv7qOz3mrZu8G3LsLD5djfmq2ZZmS6bepJbQS4lW7+A7v52NlP/sdtQrvFEoMPzghNEb2BCWl22idJ339/N6Nt48V7UXJ3n49TlGr6eE6rkNoXU0/V7wfSiJ7y3Nv/Xyqkq1uUVMX377+wLNC4S2ll01Ri3e1YvYu1L3luyeJfVxt79LbW4RHK5449qhafCzxx84OtfT+xiNm+x0Xaj3vLccvejqU5K56jC97i+wz7zX713lKzv9C175DLx/8Ua3O15md/3hlPfIz+oW6OJ+ufcdd81VX4t7S2xPh3u35Rc/smvyPdj1vnd9taChGXRZtj71bN+RUsx8vDb1cUbWlt1/z2JtDLfS9O3Z/9t6afE/jn+9dTTgKAQQQQAABBBBAAAEEEEAAAQQQQACBuBBIjou75CZDAhXJ8N6tdwbLq3N2kAzns4EAAggg0OACJaVlNn/tdpu5Yqu9OX+9fbhssx3cq73941uj7eCs9g1+vagn9DGqpyuB3P/oUCLcd/LE7dAzlAhWEvkFJUrfVrLZk7AnTKpMpgZjfs9VsvQ4JVyHfi10ah8/2kPjU6+/90zr5i3FvZXzuKtD2wu3aeznu0LdWXvr33DxZKd3xe0tfP16qWpRPEhdXlctntwNj5XtrZy9dfBH96ib8cmhBPrn/w6NKz1QiWTv5t3Hm1aL837zlSj98+tmh10f6s7ck6eRxRP7nhR+/X9CrdO9+3ZP8NaleEtpj4Yq3ir78jdD44p7V+zeotsT1f5iQo9hu7/KYCXwD7tO3ZjrpYD2vUPTQ843y5JZZPGEsrcC92T5Kbfr/LrvZ76t/dTa3luk7+vk8p5eXvAx26//JHRHe9o38r6ZRwABBBBAAAEEEEAAAQQQQAABBBBAAIFqAiTDq5G04BUVyfBuKTuCm1y/vbAF3yy3hgACCCDQlALeAvypGavsxc/W2Kcrc2xHcWlw+V4dWtuvTh9qlxzWz5IaemiOLctDLamzRla/VU+w+pjME/9UfVtyK3VR/Xe1vM0MJVQ9Ie5J6wUvqdX4b8w8wXrUj6ofp2T6wiHft26d2pq9plbfnpQ+9GKdQ4nrwhy16lXSuWpJVg8s3nL50TPNnroo1Nrck7rhsvgNdV/+QCjJO2B8aO2JSrb7ON0+XrS3CN//JDNvZR55n2pVPfOlf9ioPCWWp9wWSqB7q2tvfe7Jfi8vfc/ME+mDTwt1/e1dvcdCaddD426/LA+1HP/sCbWEHmd2xPdrVzNPmvuY2v4CQUqb6l2h+1l8TPHhF5rNfFAvAQzQywA/M+s1UmOVP6NEuJ5dcygkwZvDU6KOCCCAAAIIIIAAAggggAACCCCAAALNQIBkeDN4SA1WxYpkeIeEPJ0yVd3VFjXYqTkRAggggED8CuRqPPCbnv3cXv58rQ3u1tbOG93bRvbtaKP6dbQe7VvvGaZkp8bmLlNysxb7hs/m43k/epZZkX6neVfS3po2XLxF9IcatzpzYKi1dnh95NRbiZ+iFtjpXULJZG+9vXpmqIvqr929a9fpEceVe1fW5/xD3XUrYe7J5lL9LvVrHfC1r8bAjtg/mPUW25coOe/19QSwdw/u3WV7t+XeJXvXA0Mt0SOP8xbcl70aSrJX/P6O3OzzeW2V6D39X2brPldS+Umzuc+aLXpFjum6r8xQi3Rv4X6kkuo1dWde9aRNteyJ+YtUX+/K3sdzd9faFH+RwcfQfkgJf28l3q5n9KP85YE5T5m9+uOKFuHPNJ9EePQ7Yi0CCCCAAAIIIIAAAggggAACCCCAAAII7IUAyfC9QGu2h1T8Mb1deTgZruQDBQEEEEAAgXoILFqXa9c8NstWbM63m04ZYlcdPcASqo6FvLvz+1jUj6jVtI/9PE6JYe96fE8tmFfN0LjTXw+Nle1jST+l1tmXTlbr30NDV1o13WyNkuW7G9Pa9/R6HqNkqSeOJyth3KF3aMxvb829u+LbfWxwr4O33jadx7vm3l3x38EXvxA65ulLzM59WAlsJbK9RfnFz0cfK9vrV0MifJdLdT9YXZkrTrjV7MsPQq3B188NtYr3McJjtXhie8x36l67jn3NbtD97S7B789yvFqEr/zI7Gz1ApDWru7X4QgEEEAAAQQQQAABBBBAAAEEEEAAAQQQaPYCJMOb/SOsww1U/EE9eWeOtUvrZpvzaRleBz12RQABBBCoIvD8p9l283NzLT012Z74zjgbN0BJ5bqUzUtD3YcXbDXre5jGwf6txspWK2tPio+9KpTsrno+T/Y+fq5ZRlezb72khKj+V+YBdQ/u6y5/I9RFtrfUTusQ6iq76vHRlkd9OzReddseOm+XaHtUX9dKXXRfqJbHnojvqlbcXQ+ovk/VNd71tSe+Hzs71ELc1IL9xNsabkxub13d/6hQVL12S1veXSI8fK9H+YsKFAQQQAABBBBAAAEEEEAAAQQQQAABBBCIZwGS4fV7+mk6fJrCm5C5pfrgtF8pIosGCDX11RkUb5J9jeKz0KKt0DRXUaooUYxSNF5plRFKGuzYap0zUm1jHi3DGw+bMyOAAAItV6CsrNx+9+oC+/u7y21M/072lwtGWNd2/iuxDmX9vFC34aXFatWtpHbPEWZr9evxnf8NJcU9ob3/hND6HsMtqaTAbNlUdU9+gZm3Br/kRXWRreS1l4ufM3vwxFCS+ewHzBZONjv8e6ExvUN77Pmnjyld1+It2L+letSl+DHfVH2fVhLdx7z2xD8FAQQQQAABBBBAAAEEEEAAAQQQQAABBBBAoFEESIbXj9WzyccpPMmdonhPoQE+TX1yVpblmjtGoWZvdorifsVYRbgcq5lN4YVGnYa7W1UyPDOjlcYMJxneqN6cHAEEEGiBAsWlZfbTZ+fYc5+stovH9bVfnT7UkpMS63an2TNDiWsfI9zHxe46JHR8j2Fm56v78bVzzD74v1AX1z4OtoraO5u9r5bPXQaHxt/2luHh0nn/0Ljh/zw9NJZ0guoz5srw1tibepfdPoa4j21ely7lY+9OqBECCCCAAAIIIIAAAggggAACCCCAAAIIIBDTAiTD6/d49FfsIBHuZ/FkuIeviyzqz7WyeJJczdn2YfGu0jU+qbcMX7LBc/gUBBBAAAEEaiewo6jUrnviE3t74Qb74QmD7PrjBiqXq3Gtd1dy1+uVr0V6JexLsxyFTxe+HOrm/JIXzDr2q350j0NC4zz7lny9L7Zmti1//znr313djB/1o9AY31WP6j06NA73kxeaHXS2Wo/3qrpH7C3vyS72akyNEEAAAQQQQAABBBBAAAEEEEAAAQQQQACBZiVAMrz+j0vN1GyWYqBCfbradEVN5XJt8Jbj4eKJcw1wGiTQ79PUW403bvFkuLcMb9fKpi8vatxrcXYEEEAAgRYjsK2g2C7/5wybtXKr3XbmQfZNtQrfbfEk9pTf6Dfkw/otVxba1Vtst9M7YQOOMZv4J7O23Xd7imBjeuegu/QvVydb//Hjd7//4JPNvqv3zrwbdQoCCCCAAAIIIIAAAggggAACCCCAAAIIIIBA3AuQDK//R8DH+x6uUHM1e15xkGKuomo5Vis8GX5kxIYjNL9G4X29vqlYqJimqFq8r9egv9fs7GybOnVq1e17XM7LywuOOzi/1FoVrbLcnWtta36xvf3fKZaUmLDH4xtqh3A9Gup89TlPrNQlVurhlrFSl1ipBybR/4XF0vOJXkPWNrTA8k35dvWjs8ynf73wUDv14B41X6JEL1p9rHe7fOzvIvVAMvo7ZkNO1W9JJc89SZ3knag0YukyqBFPzqkRQAABBBBAAAEEEEAAAQQQQAABBBBAAAEEmpMAyfCGe1o5OtVUhZqlVUuGq79Xe0DhY4ZvVoTLmoqZDZp6In2MIloy3FuMe1hWVlb5+D21jPMdqxRPoAfHbfmXxmD9wEYdNMj+s3SeHTz6MOvaNq3K3o23WFmPxrtErc8cK3WJlXo4XKzUJVbqgUn0f06x9Hyi13C3a/07+s8K79XDv5dvV0SWM7QwSeFNmUsUNyjeU3jZ07GhvVrQz3KNaf3E9JU2afJ8a5WcaA9dNtqOGKiW2uGybbW6Md+oHke2mBUofH6GWDcvUX8pE8xO+m1ojO/w/kwR0Qz2PwAAQABJREFUQAABBBBAAAEEEEAAAQQQQAABBBBAAAEEEGhCAZLh9cPuosOLFZ4Ib63QX/7t94rI0kcLzykuViyO2JCu+URFrsLnT1TcqmjcEnSTHhoz3C+0Oa+oSZPhjXtznB0BBBDYrYAnwH04ixMU2YoZihcV8xXh8rZmfJ0PY+EvMj2tGKKozbHareWUzXk77e5Pd9qnGz63I5UAv/PcYda9fdpXN/jWLXpNQF2dVy2dB5ld9Iy6NndmCgIIIIAAAggggAACCCCAAAIIIIAAAggggAAC+06AZHj97L2f2H8qPEniiW1PmkxWXK3wcq/il4pMxT0KL97ScJSim8Jbg3vx5/CE4jVfaNTiyfCd261zG69uKBneqNfj5AgggEDsCHjvG2qybMsqqvSkpt4SPDIZrn69K4u/qORJcS+1OTa0Zwv4OW3xRvvh059ZTkGp/WLiULvs8H6WGDmkxsKXQ4nwg79hduCZeh2sk0K/X9po2kYtxxNDv2NaAAW3gAACCCCAAAIIIIAAAggggAACCCCAAAIIINCMBUiG1+/hzdHhI6KcwpPg4XKFZjyqFk/GDKu6stGXPVmh0jmlMJhuUss/CgIIIBAnAr10n6si7jVb82MjlsOzZ2nmd4quitMqVtb22Ird6ze54YYbrEOHDruc5Bvf+IZ997vftYKCAjv1VI3BXaVceuml5rFp0yY755xzqmw1u+aaa+y8886zVatW2cUXe2clu5Yf/ehHdvrpp9uz/51uF1/2HUtLSbJurcvt0Q862KPa9ec//7lNmDDBZk97xW649GyzFLUSn7LILOGO4ES//e1v7fDDh9gHH3xgN998864n19Jdd91lw4cPt7feestuu+22atvvu+8+Gzx4sL300kv2hz/8odp2v3cvTz31lP3tb3+rtv2ZZ56xzp0728MPPxxE1R1eeeUVa9Omjd1zzz329NP+7tquxbv/93LnnXfa5MmTg/nwj9atW9urr74aLD7yyCN2yy23hDcF08zMTHv22WeD+Z/97Gf24Ycf7rJdQ5zYY489FqzzZzt79uxdtg8aNMjuvz8YDcWuvPJKW7w4siMZC9zcz8s3v/lNy872j666pcnJCT4nhx12mP3ud/6RNTv77LNt8+bIEVnMjj/+ePvFL34RbD/llFNsx44dwXz4x8SJE+3GG28MFqMNxbKnz964ceOCoVjq+9lbtGiRXXXVVeFqVU4rP3tyc7+qJfTZOzz47EX7t1Pfz96jjz5qvXv3rtNnL/xsvK4N9dmbNGmSvf22d17xVanNZ++KK6746gDmEEAAAQQQQAABBBBAAAEEEEAAAQQQiDOB5Di7X243nAxPyA8sSIbzkUAAgTgSSIhyr+GW35GbvNcOj6MVkxQTFLU9VrvalRURJC3DSVbfUNtSWloaJDoj9/cEqZ+rsLCw2jbfb+HChcH2bdu2Rd0+b968YPuGDRuibv/888+tKDndbn7pC9Pw4NYrXTRlX9Xjs88+s5TEckua/CPzscRzU3ta2bbtlVX85JNPrKioyObOnRv1/DNnzgzW+3k8UVi1TJ8+3dauXWtej2jb8/Pzg/r7fUTb/v7771v79u0Dh2jbp02bZmlpaUGiOdp2t/WydOnSauf35HF4u99j1ePLysoqt69cubLa9pSUlMrtnsiuevyaNWsqt/t81e1+zNSK+q1fv75ye/hz4tcMb9+4caNt3/7Vc/F7Wr58eeX2LVu22M6du74I5/ccPr7qtf34PX32/DPpx9fns9e2bVuLZufX989McnKyLVmypPLefX24RH72wibhbT6t72fPX25wo7p89iLr0VCfPX+OVZ9PbT57eXl5lc830oV5BBBAAAEEEEAAAQQQQAABBBBAAAEEEEAg5gRGjhypHETdy5QpU0IHLX6zvPxX7crLvvyofODNL5ff/uqCup+sHkdU1qMe52ioQ2OlLrFSD3eNlbrESj0wif6vbW+fj75QZ+7jL9XDdP3XI+rwM8177K4s10b1+217c6zV+zs7+iNolLV5hcXlJ981rfygX71W/sX63OAa1Z71yz8OfoeUz3+xUeqwu5NWq8vudm7EbbFSD7/FWKlLrNQDk+gf/Po8H3337evv7d19P7MNAQQQQAABBBBAAAEEEEAAAQQQQACBPQowqOceiVrYDhUtwxMKcywzPdU20016C3vA3A4CCOxGYIa27a/or2ilOF/xoiKyDNRCuBX4oZr3/bzP6docq92aZykrK7cfaYzwReu22/9dMMIGZhSZrfvcUgs3mRUVhG5q3gtmH99nNk7dlR9wevO8UWqNAAIIIIAAAggggAACCCCAAAIIIIAAAgggEFcCdJMeV49bN9u6Q+iOd2y1zIxetilPCQ8KAgggEB8CJbrN6xSvK5IU/1DMU1yt8HKvQoNh2yWKYoUPrHyewrtSr+lYbWr+5a63Fttr89bZLyYOtfHt15vdraHSC7cFzeHtI91fssYHLxNBr5HqNP7Xzf+GuQMEEEAAAQQQQAABBBBAAAEEEEAAAQQQQACBuBAgGR4XjzniJitahtsOtQzPGEDL8AgaZhFAIC4EXtFdekQWT4KHy+814xGtRDs22n7Nat1/Zq+2u/+7xM4b1du+PWin2cNnqj18htlpf7RFn39ig3url3i9QOXjh9vhepcg2RvLUxBAAAEEEEAAAQQQQAABBBBAAAEEEEAAAQQQiH0BkuGx/4watoZp7XU+9QCsxEbnjFa2dENew56fsyGAAAIINBuBd7/YaDf++zMb27+TTTo63RIeVYvwBI2gcol6j+880NZu7myDjxrfbO6HiiKAAAIIIIAAAggggAACCCCAAAIIIIAAAgggEClAMjxSIx7mE9UzcFq7imS4xgzP32nl5eWWkBAeIjceELhHBBBAAIE52Tl29aOzbL8uGfb3M3tYq8c1DnhJodmlagCvRDgFAQQQQAABBBBAAAEEEEAAAQQQQAABBBBAAIHmLqDmX5S4E/Cu0n3M8PRWVlhcZvlF6vqWggACCCAQNwLLN+XbZQ/NsI76PfDoef2s3VNf1xjhOWYXP2/WbWjcOHCjCCCAAAIIIIAAAggggAACCCCAAAIIIIAAAi1bgGR4y36+0e8unAzPSA22b87TGLEUBBBAAIG4ENiwvdAufnC6letuH7lstHV583tmuWvNLvq3Wc8RcWHATSKAAAIIIIAAAggggAACCCCAAAIIIIAAAgjEhwDJ8Ph4zrveZUUy3McM97Ipr2jX7SwhgAACCLRIgYKiEvuWWoRvyS+yhy4dbQNWa2zwZVPMTrjVrM+4FnnP3BQCCCCAAAIIIIAAAggggAACCCCAAAIIIIBA/AqQDI/HZ1+ZDKdleDw+fu4ZAQTiV+A/s9fYgrXb7e7zR9iwjnoR6vWblQQ/zGzU5fGLwp0jgAACCCCAAAIIIIAAAggggAACCCCAAAIItFiB5BZ7Z9xYzQKV3aTTMrxmJLYggAACLU/g+U9X24Au6Xb8AV3NnrnMrLjA7PS7zRJ5N67lPW3uCAEEEEAAAQQQQAABBBBAAAEEEEAAAQQQQIC/fsfjZ8CT4YU51qlN6F0IxgyPxw8B94wAAvEmsDpnh328fIudNbyXJSx61Wze82ZH/8Ssy6B4o+B+EUAAAQQQQAABBBBAAAEEEEAAAQQQQAABBOJEgGR4nDzoXW7Tk+HlZZZakm/t0pJts8aOpSCAAAIItGyB/8xeHdzgmQe0NXv5h2ZdDzQ74vst+6a5OwQQQAABBBBAAAEEEEAAAQQQQAABBBBAAIG4FqCb9Hh8/J4M97Jjq3XOSLVNeTtDy/xEAAEEEGiRAuXl5fb8J6ttVN+O1nvW7WZ5683Of9wsOTRcRou8aW4KAQQQQAABBBBAAAEEEEAAAQQQQAABBBBAIO4FaBkejx+BcDJcXaVnZrQiGR6PnwHuGQEE4kpg/trt9sWGPPv2gByzWQ+ZjfuuWa+RcWXAzSKAAAIIIIAAAggggAACCCCAAAIIIIAAAgjEnwDJ8Ph75matO4XuOn+zZaan2uY8ukmPx48B94wAAvEj8MKnqy0lKcEmbH3arJW6ST/mp/Fz89wpAggggAACCCCAAAIIIIAAAggggAACCCCAQNwKkAyv36NP0+EfKz5TzFP8WlG1JGjF3YolijmKQxXhcrJmFil8203hlY0+7dA7dImcFda5bSvGDG90cC6AAAII7DuB0rJy+8/sNXbWfsqDL3pRv4UuMUtrt+8qxJURQAABBBBAAAEEEEAAAQQQQAABBBBAAAEEEGgiAZLh9YP2wbaPUwxTDFd4cnucIrKcooX9K+JKTf9WsTFJ078qfPtQxQUVU00auWR01zixyuNvWR60DN9aUGQlpWWNfFFOjwACCCCwLwQ+XLrZNuTutKvS/qvLl5uNvWpfVINrIoAAAggggAACCCCAAAIIIIAAAggggAACCCDQ5AIkw+tHrqyC5VWcIkVTD18XWc7QwiMKX/+RooOih2KMwluEL1N4P+VPKnzfxi+Jeuwd+5ltVctwjRlerpptUUKcggACCCDQ8gSeVxfpXVNLbMDKf5sNmajv/74t7ya5IwQQQAABBBBAAAEEEEAAAQQQQAABBBBAAAEEogiQDI+CUsdV3sJ7tmKD4k3FdEVk6aWFVRErsjXv62paH7FrI85WJMMzM1KDizBueCNac2oEEEBgHwnsKCq11+autZ/1nG0JhTlmh127j2rCZRFAAAEEEEAAAQQQQAABBBBAAAEEEEAAAQQQaHqB5Ka/ZIu7YqnuaLiig+J5xUGKuYpw8THDqxZvJV7T+qr7+rJ3r+5h2dnZNnXqVJ+tU8nLy9vluIH5KdZj4xJbtdiHOjf77/szbH1nz+s3bqlaj8a92u7PHit1iZV6uFas1CVW6oFJ9H9DsfR8otdwt2tP1tY/K/wL7wHF7YrIcpEWflqxwnv+uEbxWcXyCk1zFf69X6IYpYjp8uaC9VZQVGwn5z1n1vNQs95jY7q+VA4BBBBAAAEEEEAAAQQQQAABBBBAAAEEEEAAgYYUIBnecJpqcmdTFZ5oiUyGe0vw3opwydLMGkUrRbT14f0ip/drwcOysrLKx48f77N1Kp5A3+W41ovMVr9kJ43az343Y75lDRxi44d7Y/XGLdXq0biX2+3ZY6UusVIPx4qVusRKPTCJ/k8olp5P9BrWuNYT4H9VnKDw7+YZihcV8xXhslwzxyi2Kk5R+HdvZAb5WC1vUjSL8oK6SD87Y761zl1hduIv9BpWtPewmsWtUEkEEEAAAQQQQAABBBBAAAEEEEAAAQQQQAABBOosQDfpdSbb5YAuWvIW4V5aKyYoFvpCRPFEyyUKz0CMU2xTrFV4EmZ/RX+FJ8bPV/i+TVM69guu07nIq2K2MXdnMOUHAggg0IIFxujeliiWKYoUTyrOUESWD7TgiXAvHyn8BaZmWT7P3mZTFm2w69PfMGunl52GVr3VZnlbVBoBBBBAAAEEEEAAAQQQQAABBBBAAAEEEEAAgVoLkAyvNVXUHXto7RTFHIUnt99UTFZcXRGa2CsKT7x4Aubviu8qvJQorlO8rligeFoR6rNcM41eOnoO3iy9YKWlJCXY5nzPC1EQQACBFi3g3V+sirhDbx3u62oql2vDqxEbfYgLZZZtluLKiPWxMVuu6pUWB3Up1/yvX5pn49qssb7bZpqN+Y46hk+JjXpSCwQQQAABBBBAAAEEEEAAAQQQQAABBBBAAAEEmkgguYmu01Iv40nwEVFu7t6IdZ48uTZiOXLWE+UeTV869NE1Eyxh6wrLTB9tm/NoGd70D4ErIoBAEwtE6yPcv6OjlWO10pPhR0ZsPELzaxRdFW8qvCeQaYqqxRPlQbI8Ozs7GH6g6g57Wt6bcdkHfnG/9Vr9iu1M7WzrErvb13O72BEZ66y0PNU+3LG/lUyduqfLVtu+N/WodpIGWhErdYmVejhrrNQlVuqBSfR/bLH0fKLXkLUIIIAAAggggAACCCCAAAIIIIAAAgg0ngDJ8Mazje0zp6Sp29ye6gxYyfCMI5QMp2V4bD8waocAAg0g4C3Be0ecx7tA9+R21XKIVjyg8DHDN0dsDO+7QeueV4xRREuG36/1HpaVlVU+fvx4n61TqfO47Fu/VE3U0Ui/Iy05o7vlzvvMTkuZae0Lt2uAjmvtyBMm1un64Z3rXI/wgY0wjZW6xEo9nDhW6hIr9cAk+j+8WHo+0WvIWgQQQAABBBBAAAEEEEAAAQQQQAABBBpPgGR449nG/pm9q/Qty5UMT7VNtAyP/edFDRFAoL4CPpzF/gp9+dlqxfmKCxWRxbvNeE5xsWJxxIZ0zfvQIrkKnz9RcasiNsq7f1BnH6reWffZXR/l2V92LLFnrznMRnZX1+gpXl0KAggggAACCCCAAAIIIIAAAggggAACCCCAAALxJ0AyPP6e+Vd33Kmf2RdvWuferWzphryv1jOHAAIItEyBEt3WdQo1obYkxT8U8xRXK7z4EBe/VGQq7lF48WNGKbopvDW4F//d+YTiNV/Y5yVnpdnsx81GXmYrSzra/e/OsTOH97SRfTvt86pRAQQQQAABBBBAAAEEEEAAAQQQQAABBBBAAAEE9qUAyfB9qb+vr92xnwYcXW/d25Tb5vydVl5ebgkJCfu6VlwfAQQQaEyBV3Ryj8jiSfBwuUIzHlXLMq0YVnVlTCy/+8dQq/Ajf2C/eXG+Jel7/KZTDoiJqlEJBBBAAAEEEEAAAQQQQAABBBBAAAEEEEAAAQT2pYB3+UqJVwHvJl2lX+IGKywus4Ki0niV4L4RQACB5imQs8rs08fMRlxs729Mtdfnrbdrj93PurdPa573Q60RQAABBBBAAAEEEEAAAQQQQAABBBBAAAEEEGhAAZLhDYjZ7E7VKZQM72Xrg6ozbnize4JUGAEE4l3gPbUK96JW4Q9/sMK6tUu1K44aEFrHTwQQQAABBBBAAAEEEEAAAQQQQAABBBBAAAEE4lyAZHg8fwAqWoZ3LVkbKGzKK4pnDe4dAQQQaF4C27LNPnlUrcK/acVte9mHSzfbcUO6WVqKD4dOQQABBBBAAAEEEEAAAQQQQAABBBBAAAEEEEAAAZLh8fwZaN3RLLW9ddq5OlDYnLcznjW4dwQQQKB5CfhY4V6O+qF9tirH8naW2FH7dw6t4ycCCCCAAAIIIIAAAggggAACCCCAAAIIIIAAAggYyfB4/hAkJJh16mfpBSsDhc35tAyP548D944AAs1IYPsajRXurcIvMuvQx979YpMl6iv98P0ym9FNUFUEEEAAAQQQQAABBBBAAAEEEEAAAQQQQAABBBpXgGR44/rG/tk79rNW21cF9aRleOw/LmqIAAIIBAIr3jMr1QtMo68IFt9bsskOzupgHdq0AggBBBBAAAEEEEAAAQQQQAABBBBAAAEEEEAAAQQqBEiGx/tHQeOGJ+Z8ae3TEo0xw+P9w8D9I4BAsxHY+mWoqpkDbXthsc1WN+lHDaSL9Gbz/KgoAggggAACCCCAAAIIIIAAAggggAACCCCAQJMIkAxvEuYYvkin/mZlxTa0Ta6S4YwZHsNPiqohgAACXwnkrDDL6GaW0to+XLrZSsvK7UjGC//KhzkEEEAAAQQQQAABBBBAAAEEEEAAAQQQQAABBCRAMjzePwbqJt3L4NTNtjmPMcMDDH4ggAACsS7gLcM79A1q+Z7GC2/TKskO7dMx1mtN/RBAAAEEEEAAAQQQQAABBBBAAAEEEEAAAQQQaFIBkuFNyh2DF1M36V72S95om/NpGR6DT4gqIYAAAtUFNLyFdaxIhmu88HEDMq1VMr/Sq0OxBgEEEEAAAQQQQAABBBBAAAEEEEAAAQQQQCCeBfjLeTw/fb/39lnqHyDZ+iSsZ8zweP8scP8IINA8BEpLzLatDlqGZ28tsOWb8u1IxgtvHs+OWiKAAAIIIIAAAggggAACCCCAAAIIIIAAAgg0qQDJ8CbljsGLJSYpodLHsmy9bckvsg25hTFYSaqEAAIIIFApsD3brLw0aBnuXaR7OYrxwit5mEEAAQQQQAABBBBAAAEEEEAAAQQQQAABBBBAICxAMjwssXfT3jpsimKBYp7i+4qq5cdaMbsi5mqqDIZ1UnhZofhc4dtnKvZNUVfp3UvXBdeeuWLrvqkDV0UAAQQQqJ2AjxfuRS8yvatkeLd2qTawa0ZoHT8RQAABBBBAAAEEEEAAAQQQQAABBBBAAAEEEECgUoBkeCXFXs2or1r7keIAxTjFtYqhishyhxaGV8TPNH1HsUURLsdqxrePCq9o8mmn/tYmf6WlpSTax8sjq9bkNeGCCCCAAAJ7EvDxwlVK2/e195duUhfpXSwhIWFPR7EdAQQQQAABBBBAAAEEEEAAAQQQQAABBBBAAIG4EyAZXr9HvlaHf1JxilxNvYV4r4rlaJMLtPJf0Tbs03VqGZ5QuM2O7JVsM1aQDN+nz4KLI4AAAnsSyFlplpBo8/IzLKegmC7S9+TFdgQQQAABBBBAAAEEEEAAAQQQQAABBBBAAIG4FSAZ3nCPvp9ONUIxvYZTttH6kxXPRmwv1/wbilmKKyPWN+1sx37B9Y7tmm8L1m633MLipr0+V0MAAQSaTsC/hxcplihuinLZi7RuTkV8oOmwiH32dGzEro04692kt8uyd5duCy5yxMDOjXgxTo0AAggggAACCCCAAAIIIIAAAggggAACCCCAQPMVSG6+VY+pmvtgrZ7kvkGxvYaana717ysim14foeU1iq6KNxULFdMUVYsnyoNkeXZ2tk2dOrXq9j0u5+Xl1Xhcet4mG60zdN76mZWVj7KHXnrHDunSOB+N3dVjjzfRwDvESl1ipR7OGyt1iZV6YBL9H10sPZ/oNaxxbZK2/FVxgiJbMUPxomK+IlyWa+YYxVbFKYr7FWMVtTlWuzVB8W7SO/a19zRe+AE92lmXtqlNcFEugQACCCCAAAIIIIAAAggggAACCCCAAAIIIIBA8xNonIxn83OoT41TdLAnwh9XPLebE52vbVW7SPdEuJcNiucVYxTRkuGejPGwrKys8vHjx/tsnYon0Gs8rijfbOb37dgBbSxpaYLtVIvD8eOH1On8td15t/Wo7UkaaL9YqUus1MNZY6UusVIPTKL/Y4ul5xO9hjWu9e9YbxG+rGKPJzU94//Zuw/4qKrsgeMnPaQQktAJEBAUEKUIKNICqNjLqruia1nXupZVV3dddV1c3aau69rbInb923sXZO0UkS41aOgtlYSQ8j/nzUwcwqRMkkleMr/7+Zy8Mq/c931vnn44c+/V8E+Gf+H9zCZfaWR4l+uzr3fTEE+0ZXhZ30kyb95OOW9MZohPxuERQAABBBBAAAEEEEAAAQQQQAABBBBAAAEEEGi9AnST3rh7F6G7/1fDxgq/q5ZDpehn1tLwdb9tEnU+2bts80dpLPYuN+8kVk+f2Fli89fJ4O7tZc5aaxBJQQABBNqcQA+9oh/9rspah9u6msqv9YN3vR8Gu29Nx2zc+j3F2oXDJlmvHYqUllcIXaQ3jpO9EUAAAQQQQAABBBBAAAEEEEAAAQQQQAABBNq2AC3DG3d/x+juZ2ss0ljgPdQNOu3lnX/IOz1Fpx9oaBPsqtJF56w1uBW7D89qvGcLLVLS+minwNkyMjNNnvxqnewuK5e4aOsVmIIAAgi0GQH7AVP1Ull9hXd5ok4tGT7WuxzMvhfpPhbS1ENbJBTlOF2IzNlY4VRrx5pFMmtD6H7X5qYu8d1SF7fUwx4At9TFLfXAxHkt7PPHTfdnn8qxAgEEEEAAAQQQQAABBBBAAAEEEEAAgRALkAxvHPBnunugBEn1o87QFRb+xbrpHeK/okXnU/uIZH8mI0emyWOfrZWFOXlOYrxF68TJEUAAgaYVyNHD9fQ7pHWBvsFv2Td7sM48pmFjhm/3rqzvvra5DWth0fRDW6z80BnpvLjTYInVJPhJR02UyMj6/GfIahN8cVOX+G6pi1vqYXfTLXVxSz0wCfwdd9P9CVxD1iKAAAIIIIAAAggggAACCCCAAAIIIBA6gdA1JwtdnTlyKAQyRojk58jhFfOco3+zdkcozsIxEUAAgZYUmKMn76+hv/6RWI0zNN7Q8C/Ws8crGtbrxwq/D+qzr9/mIZrVHjysLC9Jle4d4kOaCHdOxB8EEEAAAQQQQAABBBBAAAEEEEAAAQQQQAABBFqxAMnwVnzzmrTqw88VSe8vyZ/cKIM6xcqcbJLhTerLwRBAwA0CZVqJyzXe11im8X8aSzQu8YZO5GaNdI0HNGz4i7kaVmra1/Npc/3NXScSFSfLCtpJj9R2zXVWzoMAAggggAACCCCAAAIIIIAAAggggAACCCCAQKsUoJv0VnnbQlDpaG0keewdIk+dLFd3fU+uyT5KyisqJSqE3e+G4Co4JAIIIFCXwDu6gYV/echv4QKdtwhUAu0baLvQrcv9QaRDT/kxd7dMOiAldOfhyAgggAACCCCAAAIIIIAAAggggAACCCCAAAIItAEBWoa3gZvYZJew30SRQSfJxK1PS0rpRlm+Kb/JDs2BEEAAAQSaQGDnOilP6SVbC3bTMrwJODkEAggggAACCCCAAAIIIIAAAggggAACCCCAQNsWIBnetu9v8Fc35W8SGREhf4p+SuYwbnjwfuyBAAIIhFJAu0kvatfDOUMG3aSHUppjI4AAAggggAACCCCAAAIIIIAAAggggAACCLQBAZLhbeAmNuklpGRI5ITrZErUXClaYsPqUhBAAAEEXCFQor11FO+U7THdnOr06MCY4a64L1QCAQQQQAABBBBAAAEEEEAAAQQQQAABBBBAwLUCJMNde2tasGKjL5ctsT3lhA3/lso9JS1YEU6NAAIIIFAloK3CrayP6OxMM9ISnCl/EEAAAQQQQAABBBBAAAEEEEAAAQQQQAABBBBAILAAyfDALuG9NjpOFh18o/SSTZL70b/C24KrRwABBNwioOOFW1lb1lGiIiOkS3KcW2pGPRBAAAEEEEAAAQQQQAABBBBAAAEEEEAAAQQQcKUAyXBX3paWr1SvkcfLW+WHSfs5/xbZvLTlK0QNEEAAgXAX8LYMX1aSKt1S4iU6iv+Eh/sjwfUjgAACCCCAAAIIIIAAAggggAACCCCAAAII1C7Av6TX7hO2n/brnCR3RV8gxRHaDe9rl4qU7wlbCy4cAQQQcIWAtQyPTZaV+THCeOGuuCNUAgEEEEAAAQQQQAABBBBAAAEEEEAAAQQQQMDlAiTDXX6DWqp6ERERMm7oQPnj7vNENi4Q+fzulqoK50UAAQQQMAFrGZ7aW3JySyQjlfHCeSgQQAABBBBAAAEEEEAAAQQQQAABBBBAAAEEEKhLgGR4XUJh/PkF4/rK2+WHytK0ySKz/qndpS8JYw0uHQEEEGhhgdwfpCKll2zOL5Eeqe1auDKcHgEEEEAAAQQQQAABBBBAAAEEEEAAAQQQQAAB9wuQDHf/PWqxGvZMS5BjDuomF2+fKhXxHURevYTu0lvsbnBiBBAIa4HKShHtJr2wXXep0NkMkuFh/Thw8QgggAACCCCAAAIIIIAAAggggAACCCCAAAL1EyAZXj+nsN3q4vF95cfdCfJR39+LbFoo8tm/w9aCC0cAAQRaTGDXdpE9RbI9pqtThYwOtAxvsXvBiRFAAAEEEEAAAQQQQAABBBBAAAEEEEAAAQRajQDJ8FZzq1qmogdndJDRfdPl5hX7SfmBp4p8qt2lb1rcMpXhrAgggEC4CmircCvrpYszZcxwh4E/CCCAAAIIIIAAAggggAACCCCAAAIIIIAAAgjUKkAyvFYePjSBiyb0lU06Ru3bGdeIWHfpb10tUlEBDgIIIIBAcwnkZjtnWlPWUSIiRLqmxDfXmTkPAggggAACCCCAAAIIIIAAAggggAACCCCAAAKtVoBkeONuXU/dfabGMo0lGr/VqF6ydEWexgJv3KxTXzlaZ77XWKVxvW+l26ZZ+3eSA7oky/1f7ZDKI/8ikvONyLdPua2a1AcBBBBouwLeluHLSlKla/t4iY3mP99t92ZzZQgggAACCCCAAAIIIIAAAggggAACCCCAAAJNJcC/pjdOskx3/53GQI3DNC7TGKRRvfxPVwz1hmaTnRKlf+/XOEbD9pnqnerEXSVCmyFepGOHf7+5QGa1O0Kk9xiRj/4sUqRj2FIQQAABBEIvkKvdpCeky9p8kR6MFx56b86AAAIIIIAAAggggAACCCCAAAIIIIAAAggg0CYESIY37jZu1N3new9RoFNrId7Du1zXZJRuYC3C12iUajyvcZKGK8sJQ7o7rREfnq3VPe5fIrv1cj/0b+TuympTKQQQQKBtCFjL8A69JWdnsWSktmsb18RVIIAAAggggAACCCCAAAIIIIAAAggggAACCCAQYgGS4U0HnKmHGqbxdYBDjtZ132m8q3Gg93NLmv/onbdJjkZ9E+l+uzXPrHXJe/7YTPlqzQ5ZWNpNZLQ2gl/wtMi6L5unApwFAQQQaBqBuoanGKCnsRfbbo1rq50yW5cXadiwF3M1mq9oy/AKTYZvyiuRHiTDm8+dMyGAAAIIIIAAAggggAACCCCAAAIIIIAAAgi0aoHoVl1791Q+SavyssZVGtqJ7V7FWo731ijUOFbjNY3+GhEa1Utl9RXe5Yt0aiE5OTkya9Ysmw2qFBYWNmg//5P0LKuUeO3c/Z+vfC0XH3i4jIp7Vsr+72KZd8hdUhlZv0epKerhX6fGzLulLm6ph1m6pS5uqQcmgb9hbro/gWtY41rf8BRH6hb2A6Q5Gm9oLNXwlR06c6XGyb4V1aYTdXlbtXWhXazU/zTk5UhRn2OkrKJSW4YnhPZ8HB0BBBBAAAEEEEAAAQQQQAABBBBAAAEEEEAAgTYiUL8MZhu52BBdRowe1xLhz2i8EuAc/snxd/TzBzQ6algipqeGr2TozAbfQrXpI7psIRkZGZVZWVk2G1SxBHpD9qt+ki+LFsvz3/wo95w/SeJ7/Ec7dz9TJsQtERnz2+qbBlxuqnoEPHiQK91SF7fUw/jcUhe31AOTwF8qN92fwDWsca3/8BS2kW94Cv9k+BZdb3GcbeCKUqq/pSovlZ3S3qkOY4a74q5QCQQQQAABBBBAAAEEEEAAAQQQQAABBBBAAIFWIEA36Y27Sda6+78aNlb4XTUcqquu97UCt0SMmW/XsBaJ1kK8j0asxhka1kLR1eWc0b2ltLxCnp+jPbwP0FzR/sdoBvUfIpus52AKAggg4GqBxg5PYb13fKAxT+OiZrvS4p3OqbaWe1qEM2Z4s8lzIgQQQAABBBBAAAEEEEAAAQQQQAABBBBAAIFWLkDL8MbdwDG6+9kavjFk7Wg3aPSyGS0PaZymcalGmUaxhiW9LaFiy5drvK9hXfdO19Am1u4u/Tony5h+6fLMV+vk4vF9JfqEu7XNuvYa/Kxe1oWfiCR3cfcFUDsEEAhnAd8Pk/wNahqewn8b37y9860Hj84aH2os15itUb1YotxJljfF0BZJBWtkhB7wux89HY2sWjhHfogKdCnVq9H4ZTd1ie+WurilHnZ33VIXt9QDk8DfeTfdn8A1ZC0CCCCAAAIIIIAAAggggAACCCCAAAKhEyAZ3jjbz3T3ujIS9+k2FoHKO7rSolWVc0ZnysVPzZOPlm2Rowd3FZn6nKbyjxZ54SyRc98SiYlvVddDZRFAIGwEghmeIhCKJcKtWDfqr2pYbx+BkuFNO7TFGv3PjLZFL23fUzrlx8lRkyfqaZunuKlLfLfUxS31sCfALXVxSz0wCfxecNP9CVxD1iKAAAIIIIAAAggggAACCCCAAAIIIBA6AbpJD51tmz3yEQO7iI1Z++SX2Z5r7D5U5GcP6yjo2vP7G1dou/dgGlq2WSYuDAEE3CfQmOEpEvVykr2XZPNHaSz2Lod24u0mPXtXnPPuDe3JODoCCCCAAAIIIIAAAggggAACCCCAAAIIIIAAAm1HgGR427mXzXYlUZER8svDessXq7fLys0FnvMOOklk0k3aYfz/ifzvX81WF06EAAIIBCHgPzzFMt1PX1jO8BSX6NTCinZ3IdaC/BoNfak58+11amNAWG8g32l8o/G2xnsaoS8luc45VudHCeOFh56bMyCAAAIIIIAAAggggAACCCCAAAIIIIAAAgi0HYHotnMpXElzCvxiZE/590crtHX4Orn15MGeU4+7VmTrCpFPbhVJ6Sky5BfNWSXOhQACCNRHINDwFA/57bhJ5zP8ln2zNmD3EN9Cs069LcO/z4+R4antmvXUnAwBBBBAAAEEEEAAAQQQQAABBBBAAAEEEEAAgdYsQMvw1nz3WrDuaYmxcuKQ7vLy/BzJL9njqUmEjmt74r0iPQ/T0XQv0jaX54jkb2zBWnJqBBBAoA0IaDK8MipW8sujtWV4Qhu4IC4BAQQQQAABBBBAAAEEEEAAAQQQQAABBBBAAIHmESAZ3jzObfIs547OlF2l5fLKPOtR2Fti4kXOfVNk8s0iK94XuW+kyNc6nnhFuW8LpggggAACwQgU50pZbIruESEZHWgZHgwd2yKAAAIIIIAAAggggAACCCCAAAIIIIAAAgiEtwDJ8PC+/426+oMyUmRYrw7yhHaVXqxJ8aoSHSsy7nciv/lSW4mPEnn39yKPTdZRdh+V9nk6TG9pUdWmzCCAAAII1CGgLcOLo23Ycu2/nW7S68DiYwQQQAABBBBAAAEEEEAAAQQQQAABBBBAAAEEfhIgGf6TBXMNELhyUn9Zt71Izn38GyncXbb3EdL6ivzyZZFT/ytSuFXknWtl+LfXi/yth6fF+BtXiOzasfc+LCGAAAII7C1QkitFEUnOuh4kw/e2YQkBBBBAAAEEEEAAAQQQQAABBBBAAAEEEEAAgVoESIbXgsNHdQtMHNBZ/nPGMJm/bqec9djXkrfLO364b1cbR/yg00SuXqyxVBYNvkEkSxPi6f1EvnteZPoUkZ3Zvq2ZIoAAAghUF9CW4bmSJGmJsZIQG139U5YRQAABBBBAAAEEEEAAAQQQQAABBBBAAAEEEECgBgGS4TXAsLr+AicM6S4P/vIQWbYhX8549CvZVrh7350tKZ7SQ7Z3PNSTDJ/6nMjZr2mL8S3ahfoRIuvn7bsPaxBAAAEERHTM8O3lCdKD8cJ5GhBAAAEEEEAAAQQQQAABBBBAAAEEEEAAAQQQCEqAZHhQXGxck8CRg7rIY+eOkLXbCuUXD38pm/JKatr0p/WZY0R+/aFITILI48eJLH/7p8+YQwABBBDwCGgyfFNpPOOF8zwggAACCCCAAAIIIIAAAggggAACCCCAAAIIIBCkAMnwIMHYvGaB8ft3kid+NcpJhJ/52FeSu6u05o19n3TaX+SCj0S6DBJ5/iyRmX8XKdru+5QpAgggEN4C5Tr0RGmBbNgdT8vw8H4SuHoEEEAAAQQQQAABBBBAAAEEEEAAAQQQQACBBgiQDG8AGrvULHBo33SZft5IydlRLBc9NU92l5XXvLHvk6TOIue+JXLgySKf/kPkroEir1wk8sPXIpWVvq2YIoAAAuEnUJLnXPM27Sa9U3Jc+F0/V4wAAggggAACCCCAAAIIIIAAAggggAACCCCAQCMESIY3Ao9dAwtYQvyO0w+Wb9bukOteXCgVFfVIaMdqV+mnzxC59EuR4edol+nviEw/SuShsSILdHzx8rLAJ2MtAggg0JYFinc6V5dbmSRpibFt+Uq5NgQQQAABBBBAAAEEEEAAAQQQQAABBBBAAAEEmlyAZHiTk3JAEzhpaA/5/dEHyBvfbZA7P/i+/ijWXfpxd4r8brnICf/x7PfaJSL3jRD59mlNimuXwRQEEAhOoGCzyJPa88KXDwS3H1u3vIA3GZ4viZKeRDK85W8INUAAAQQQQAABBBBAAAEEEEAAAQQQQAABBBBoTQIkw1vT3Wpldb10wn4ydVQveWDWann26x+Cq31cksgh54lc8pnIGdoyPL69yOuXidw7XGTudBFvgii4g7I1AmEokL9BZMaxImtmirz/Rx2K4PYwRGjFl1yc61TeWoanJpAMb8V3kqojgAACCCCAAAIIIIAAAggggAACCCCAAAIItIBAdAuck1OGiUBERITcetKBsjGvWP70+mLZVVommfXpMt3fR48hAzSRd8AxIis/EJmlY4q/dbXIO9eJ9D5cPzteP9PPO/T034t5BBAwgdwfRZ44QaRom8h5OvSA9a4w868iZbtFJt0kYt8virsFvD/8ybOW4YmMGe7um0XtEEAAAQQQQAABBBBAAAEEEEAAAQQQQAABBNwmQDK8cXfEMrBPanTVqNB4RMPbt7fOecpZOvmDd75Qp5dqfOddztZpgUa5hg2KrX2Bt60SHRUp9505XC57Zr7c9vYy6Z4UIe16bZMx/ToGd6GWtNt/ikj/o0TWz9Mxxd/2xLu/F7HoeajIBJ3uN7l1Jfhy5kmXTZ+IbOshkt6v4XW3MdVn36HXP1Gk12HB2bJ16xWorPS0+M7+XKSH9pqQOc7Ti4Jd0Y61mgg/UaQkT+Sc10Qy9PXSa7RIVIzI/3QogrISkaNu8zxzNvzAj9/oD07eF9m8VKRUX1UWu21aJFKpr6iIKA3tTCQySg7bXarnmqExtvXatZaal/hahidKaqLeOwoCCCCAAAIIIIAAAggggAACCCCAAAIIIIAAAgjUW4BkeL2pAm5oCezfaczXSNbQLK18qKHZpKqiGSmZoLFTQ5s3OwlzzdxWFc1eijbbbLslKS5aZvxqpHy4dLPc+NJ8Oeuxr+XoA7vKjccNlJ5pCcFduCXFLalnccSfVW6VJsXfEpnzmMjTp+r6USITbxDpm7V3YrkkX6RQx01O0d8vxMQHd866trZE4natR0JHkaROdW390+fzZmgr92tkoCUal+tvKNqlav1HamJfr2HEr/V4aT9tW9ucJUTfvlqfQv1dxpf3i5z/rv4846Da9nDXZ99rfdVBRv9G5PArWq5uFfp7lkhN9tanmPmmRSIr3hPJmeP5Ecaws0Ti7DXQBMXqkqeturev1IPpM99pgCak9Zy+Yknq73T4gG8e1e/A9761noS1PUN9xosseEZkzy6Rc98Q6T7Us41d3wn6rEXrd+DL+zzfiQp9ja3SH2TsztPr1/8kdB6kCfUUkfYZej1JIrGJnvUV+pzas1pZIbkbNkhXe14poRfwtgwviUoWe5dSEEAAAQQQQAABBBBAAAEEEEAAAQQQQAABBBBAoP4C/Mt6/a0CbblRV1pYsRbeyzR6aPgnw7/QZV/5Smc0wxR+xbpMP0oT4LKpnayM7Cn3fbJKZq3YIjcdN0jOOrSX9tasCb+GlI79RMZeJXKYJlIXPK2to7XF61Mne1rApvbR1rFrNFZrN9FbPUe31q3WArvrYOlVpIn4lZoI7KnJQ0v+1VbKtCVs0RZP8rBAk+q56/RaFmssFNm6XNv26+eWSLRu20dqItta6NZ0TZbUnPk3revtThJ1bofjZUQP3dda5lpi1bqDX/mhJjHf0qRlPcYItq7jLRE+8kKR798ReeZ0kV/r/m7vOt6Sq+ZgrZTj1P+DmzxJ2lF6Hc1VbDzmJa+KLHxB/b8WOUjtJt4oktp73xpYfdfM8vz4YoW2oM5fr9voc2vOds/sWoafLXLoxbqul2d/+6GEJbV3Zuv2+qrYtc3zLFq35bu2e7aJjNHW2nr/bWrP0fbVnmfWWm77lbFR7TRpPUh/0KGvkNUzNXmdr0nuYSInP6TP3XH6JvrO00rcPrNeAhLSPc+QPut7FXsuj/mnWseJfHGP/oCji8igE7TXhSmeH5HEt99r80ALy2fNkq5dDgz0EeuaWkCf0eLIRElJbNfw92RT14njIYAAAggggAACCCCAAAIIIIAAAggggAACCCDQSgQ0A0NpIoFMPY5mpkQzajUWzZKKNoOtKpoVFc2iiU0f1nhEo02X2KgIuSyrn/xseA/5w8uL5KbXFsvsFVvln6cerF0A1yPxW5OOJY1HnC8y9CxPYtiSfDs1YZ3W1zPeeNp+nqSfJcc3axJbk859c38QWfuUHlGTg100Ydh7tKe7de0G2mnpbUlJJzGp+1gSs3pJ7ORpgd33Et1fE4PWUtjGZF76mkjH/T316XeE1kHP7WtxbEn1N3+rrXqf1afllyLH3y2F//tck6hZGud4zrD4ZZGX9Frev0HkuDurn3Xv5bmPi3yqyfCheqxjNQFqBtOP9rSS/7UmbOvTendPsScRawnZ5ipFmgh++dee5O0wTSAf/XeRVy7SseCv9bRElu5718R+QLD6E0+X3zZ+fIwmhqsX2yb7M5F16mkto3se9pO7/7al2lp6zUxNgP+f/nhAv47lu/V+HSAy5EyRxS95kuPWMn+81iWxo8QXbxb55K/6Ywu9Z/k5eu5ET3f0WX/0dN2f1Fmfp7meVvlfPShiYV2WW08Eebq9tqTeq1irbHt2nJb/+uxZy2xLmldo2A8q7Jndb6LWqb/+cEPDXg9bv5dNCz6WjNhCHSZAO6Kw4QIO1efOekjw/eiizzi9bo3JN+vzusNjFMjJKmP7HHWryJirPM+I7/ncq6JtdkG/IM5wFlE6fUzjH9WudIAuP66hN1Fu1PD/Eta1r27exEVbhhdGJjfu/djEVeJwCCCAAAIIIIAAAggggAACCCCAAAIIIIAAAgi0FgHNvFCaQCBJj6EZTNHMkuTXcDzNbolm2GSs3+djdH6DhmbTnO7Vl+t0tkb1ollCsZCcnByZNWuWzQZVCgsLG7RfUCepx8b+9TivT6V0j4iVF5dtlkm3fyQXHRwnA9MtP9XYognEoffufRDNN0quRmQ3kW7KrpOS3C3StXKjpOQt01gqKXOflKhvHqnab3dsuuxK6C7FKcNld+d0KY1N0+igkSol8Z1kj85XlZ06F9dVIkeOl85bPpPuG96V9u9d73xcFpUoBcn7SX77/SW5YKWk7fxO1mZOlXXtT9NW0Z+Lv4nneOmyX8ZJ0nPOo7KsIEE2d51UdRr/mfRtX8vgxf+QHWmHyOL2p0jlp586H3cYcJ0cvHCa5D90nCw8eJpURMX67yaRmvxtn79cUnculA65i3R+pVRoErYosbf0ie8p3294X6+7p0SVF0ts6U6NHRK3e6eUR8XJ+h7HyW699hqLJqSjywqd/eJ273D2jS4rkkptkV8ZEa0RKRGaHO697gX9LE9W7n+ZbEw5ShPJ8ySy869k8JYNkvraZZLc93J9XvUserzUnQukz9pnpX3BCue05rm5y3jZ2O1IKVTX6D0F0lXHXe+u9U4oXu+p2qy/S0lcR9nSeZzGeOeepW+fI+nbv9HjfSdRFaVSGtNetnQ9Uo+Vpfenn5MgjhsxUev2vHT7+mEpnztDCpP6yGH6bFTqDyZ2pg6VjYOmyvb0UR5T+6bPXap/LLR0OlfiDj1Weqx/W02/l91xfaRYx28vie8qxe266nKa7InpoI7xPyWwPXsG/mt9TRRogtwp+0lhty6yKklfNb29q1YX6Q8EPPfcu6bZJvs+s8126saeyF4w92scqaG/VJA5Gm9oeG+izmm7fI0rNU62Bb9Sn339Nm+iWU2G50uipDfmx0JNVBUOgwACCCCAAAIIIIAAAggggAACCCCAAAIIIIBAaxMgGd74Oxajh7BE+DMar9RwuIN1vbVAPEZDm8RWlQ3euS061b6aZZRGoGS4ZWidLG1GRkZlVlaWLgZXLIHekP2CO0vdW1evh6V5f7k+T6587lu5fW6R02r8qiP6S3RUZN0Ha+QWVpehWT//6SjlmjG3VuPWMlxb58bpWMnakbQEPzKydjcttzqtea3r8+gN8yV1/TxJzXnNSe7KSfdLH20V3sd75uomzupx+psJ7e594KqHZeCEUzV5P8S7tU6sBbR1y/3ZXc5Y0OnnvSkTbFznqpIl0q+bdNCW1+M3/9fTethaKOdpoti69rbxza07busyvschIgdfpYnvUmmv3WwnaFfh0Vu1BXb1Eq+J/9Ii6bX+LW3RfpbIuN/5dQWubmtnaUvrFz3dtFv33XWVlF7ahfdLcoB2861tsn8q4/SHCjr2+7C190tkv87aJfk7Ij984Rm/+oT/6M3oI9Ha+r7Hsjekh/7gwGmBbz0AWOtuGy9+xJ+01fSRTivy+EUvSa/Vb0qvH+2r5S123hG/cnoLiM0cKxlRMQHGLdAfKWhL7OhPbpMO21Y4P1zoc/KNkqbdoaf5jlPr9PRaP23ohwGfk4YerJH7uakuQV6KPiSiXwBZ493veZ2epLHUu2wTex9bHGcLfqU++/pt3kSzJbmSW5FIy/Am4uQwCCCAAAIIIIAAAggggAACCCCAAAIIIIAAAuElQDK8cfc7QnfXbKMzVrhmJgMWzb45SfKzdbrCbwvLXlrG19p/2vxRGn/RCLsyuEeKvHXlWJn2xhK5b+Yqmbtuh9xzxjDp3F5b0DZnsW7Cuw9tujN20jSvhY0jbcW6I7dxoOvTdbnV5TTtqfnh8SIv/FL7BfhUx5WO0e7VNXc3Rx+5rcs8Y5+fpQnovRLhnlPJQZrQLdjoGYd7xXue8aPb93CSyWJdt1s34tpqWeKSvTt4Jp/NnClZQ/uIbFvpGUfdxpO2iNF7YQn1z/7t6YbeuoMfeqaOO91OuxXX34DYmOw27vrAE7XL+EGefZK7iiRrE3xLpFtX4dYNuNMduCbPrS52zOrFruXMF6Tw/knS3sYQT9JjHKu9VFsX8jbGtZW+E0SK7xBZpNe+9HVxxme37uH9x8Y++Oea5New7sJtG21d63Qtbt3Z+7oV9xwt8F+7b794yvlsnf5ooo+NC05pCwL64MmPfheiD7Uc6rdc22xj9q3tuLV/ps/u9oo0WobXrsSnCCCAAAIIIIAAAggggAACCCCAAAIIIIAAAggEFIgOuJaV9RUYoxtapnORxgLvTjfotJd3/iGd3qyRrvGAd51mAmWEhmYYndbgttruw7Ma79lCOJaE2Gi5/bQhMqpPuo4jvkiOveczuWfqUDl8v45th8PGb65pDOdAV5nUyZOQfVw7FLBxwPM3aOts/e2EtRI/8T6RwadqIjwh0J6edYdf4RkH27ap73ktUZya6YnqR07J0Lay/9KO/q/xJsWf0C10+wO0bgdp4tlaZPsS1tX3DWZZk+oLD75FxnbT1t4HHBu47u00wT7qQk/Udmwbl9taglMQ8AjoA7tP0a4W6lWC2fciPaJFo4e2GJ23RbaVZUjelvUya9bWelW0KTdyU5f4bqmLW+ph99ktdXFLPTAJ/O130/0JXEPWIoAAAggggAACCCCAAAIIIIAAAgggEDoBkuGNs/1Mdw+UIPE/6gW6YFG9rNEVmtWk+AucdkiGHKQtxX/zzDz55WNfy9VH7C+XTewnkZF1MfsfpQ3NZ+jvJo7TTgfe/b2n1bUlgK1r8/q0bjaGRPsdRhOXFG0ge5y21p50o9ZDu1qPb9/EJ9AG9DE6Nvbg45v8uBww7AVyVMC/mb/+wkP0Vyb1KsHs+4ge0UIaNbTFhAlSObtI8rTzkOGDD5Csw3rXq6JNuZGbusR3S13cUg+7z26pi1vqgUngb7+b7k/gGrIWAQQQQAABBBBAAAEEEEAAAQQQQACB0AlEh+7QHBmBhgkc0DVZ3rh8rNzw6iL514cr5K2FG+WySf3kuIO6SVQ4JsWtm3UdY7zeCfCGsQe/V326ew/+qOyBQCgF5ujB+2v00VivcYaG9vdfr9KYfet1gn02Ki2SCB1eILcySXonxu7zMSsQQAABBBBAAAEEEEAAAQQQQAABBBBAAAEEEECgdgGS4bX78GkLCSTGRcvdvxgqkwd2kXs+XilXPvet3K2J8d9oK/GThnaXmCgbbj2MSn1bgocRCZeKQAMEbJiKyzXe19BuDWS6xjxTioAAAEAASURBVBKNSzSs2NAWXTXmaliXBxUaV2kM0sjXCLSvrg5RKcl1DpwrSZKaQDI8RMoc1iuwZ88ep1v/kpKSoE1SUlJk2bJlQe8Xih3cUhe31MOM61OX+Ph468lCYmJiQnFbOCYCCCCAAAIIIIAAAggggAACCCCAAAItJkAyvMXoOXFdAhGaAD5xSHc5XluEv79kk9z7ySq59sXv5O6PVsjF4/vK6SN6SnyM5bMoCCCAQL0F3tEtLfyLJcF9ZZPOWPfpgUqgfQNt1zTrinc6x8mrTJT0JJLhTYPKUWoSyMnJkeTkZMnMzNSOSIIbmqSgoMDZt6ZjN+d6t9TFLfUw+7rqUllZKdu3b3d+DNGnj3WcQUEAAQQQQAABBBBAAAEEEEAAAQQQQKDtCIRZ89q2c+PC6UpsvPBjNCH+9pVj5b/njpBOyXHyp9eXyNh/zpQHZq2S/JI94cTBtSKAQLgIFHtahtuY4bQMD5eb3nLXaS3C09PTg06Et1yNOXNTCdiPH+zeN6RXgKaqA8dBAAEEEEAAAQQQQAABBBBAAAEEEEAgVAK0DA+VLMdtcgH7x1rrNn3SgM7y1ZodTiL89ve+lwdnrpZzD8+UC7W1eEo7uvdscngOiAACLSPg1zI8NYF3W8vchPA6a7AtwsNLp21fLfe+bd9frg4BBBBAAAEEEEAAAQQQQAABBBAIZwGS4eF891vptds/2I7eL92JRTl58uCnq+S+mavkyS+z5ZKs/eQ8TYwnxPJot9LbS7URQMAn4E2GV8R3kOgoOnLxsTBtmwLWTffkyZOdi9u0aZNERUVJp06dnOVvvvlGYmNrHipg7ty58uSTT8o999zTNnG4KgQQQAABBBBAAAEEEEAAAQQQQAABBBBosAAZwwbTsaMbBA7KSJEHzjpElmzIk399sEKspfj0z7Llikn9ZOqoXhIbTQLJDfeJOiCAQAMESjzdpEcmpDVgZ3ZBoHUJWDfdCxYscCo9bdo0SUpKkmuvvbbqIsrKyiQ6OvD/to4YMUIsKAgggAACCCCAAAIIIIAAAggggAACCCCAQHUBMoXVRVhulQIHdk+R6eeNlJcuGS19OyXKn99YIife95ks35TfKq+HSiOAAAKiLcPLJEoSEtuDgUBYCpx33nlyzTXXyMSJE+UPf/iDWAvxww8/XIYNG+ZMv//+e8dl1qxZcvzxxzvzf/vb3+T888+XrKws6du3L63Fw/LJ4aIRQAABBBBAAAEEEEAAAQQQQAABBBD4SSBwE5ufPmcOgVYlMCIzTV646DD5cOlmueHVRXLivZ/LdVMOkF+P7SORkRGt6lqoLAIIhLlAca4URCRLalJcmENw+eEssGLFCvnoo4+cbtPz8/Nl9uzZTgtxW3fDDTfIyy+/vA/P8uXLZebMmVJQUCAHHHCAXHrppRITE7PPdqxAAAEEEEAAAQQQQAABBBBAAAEEEEAAgbYvQDK87d/jsLtCG1P8qAO7yiG9U+WPryySv76zTD5evlnuPH2IZKQmhJ0HF4wAAq1UQFuG51UmSHpizWMlt9Iro9ouF7jlzSWydEP9e1YpLy93ktW1Xdag7u3lzyccWNsmAT87/fTTq46dl5cn5557rqxcuVLsv/V79uwJuM9xxx0ncXFxTnTu3Fk2b94sGRkZAbdlJQIIIIAAAggggAACCCCAAAIIIIAAAgi0bQGS4W37/ob11aVra8qHzz5EXpyXI7dot+lH3jVbDuiaLD3TEqRnajvZtXWPJGXvkKE9O0h0FCMGhPXDwsUj4EKBSk2G76hIlDSS4S68O1SpuQQSExOrTvWnP/3J6TL91VdflezsbKcr9KoP/WYsEe4rUVFRYuONUxBAAAEEEEAAAQQQQAABBBBAAAEEEEAgPAVIhofnfQ+bq7aWYz8f0VNG902Xh2evlrXbiuS7H3Pl3UUbpayiUmYs+VJS2sXIhP07yaQBnZ1pKomnsHk+uFAE3CxQsWun5FaSDHfzPWqrdQu2Bbd1R56cnBxyDmsZ3qNHD+c8M2bMCPn5OAECCCCAAAIIIIAAAggggAACCCCAAAIItH4BkuGt/x5yBfUQsNbgt518UNWW5ZoIf+39mZKQMVA+Wb5FZn6/Rd74boPYsOKWGL9gXF85fL90pxvWqp2YQQABBJpRwEmGS29ahjejOadyt8Dvf/97p5v0u+66SyZNmuTuylI7BBBAAAEEEEAAAQQQQAABBBBAAAEEEHCFAMlwV9wGKtHcAlGa9U5vFylZB3WTYzQqNDm+cH2efLh0k7ww50c567GvZWC39nLB2D5ywpDuEhtNN+rNfY84HwLhLhCxO1fHDB8kmfRWEe6PQthd/7Rp0wJe8+jRo2XFihVVn916663OfFZWVlWX6TfccMNerdQXL15ctT0zCCCAAAIIIIAAAggggAACCCCAAAIIIBB+AmT4wu+ec8UBBCI1OW5jh183ZYB89odJcvupB0t5RYX87sXvZOw/P9EE+Q9OwjzArqxCAAEEml6gslyiSwskTxIlnWR40/tyRAQQQAABBBBAAAEEEEAAAQQQQAABBBBAAIGwECAZHha3mYsMRiA+Jkp+PrKnvH/VeHni/FFiXaz/4eVFcsqDXzjjjQdzLLZFAAEEGiIQXVbk7JZbmSSpCbENOQT7IIAAAggggAACCCCAAAIIIIAAAggggAACCCAQ9gJ0kx72jwAANQlEREQ444eP799RXv12vfztneVy8gOfyxmaKL98Un+prKyU3F17JL94j+Rq9O2UKAO6tq/pcKxHAAEE6i0Qs6fQ2TavUluGJ5EMrzccGyKAAAIIIIAAAggggAACCCCAAAIIIIAAAggg4CdAMtwPowGzPXWfJzW6alRoPKLxHw3/EqELtu5YjV0a52nM17BytIZ9FqXxmMY/NCguE7Ck+M+GZ8iRg7rIfz5aKY9/kS3PffNjwFqOzEyVc0ZnypQDuzLOeEAhViKAQH0EossKnM12RSVLQiz/qa6PGdsggAACCCCAAAIIIIAAAggggAACCCCAAAIIIFBdgH9hry4S3HKZbv47DUtuJ2vM0/hQY6mGrxyjM/29cahOH9SwqSXA79c4UiNHY47GGxr+++oixS0CyfExctPxg+QX2jL80xVbJTk+WlLaxWrEOPNfrt4uT321Tq547lvplBwnU0f1kuMP7ib9OyeJJdQpCCCAQH0FYvZ4ukmvjO9Q313YDgEEEEAAAQQQQAABBBBAAAEEEEAAAQQQQAABBKoJkAyvBhLk4kbd3sKKNeNbptFDwz+hfZIuW+vxSo2vNCyz0U0jU2OVxhoNK89r2Lb++9p6issE+ndJFovqZXCPFPn12D5OovyJL7Plno9XOtEtJV7GaVfrE/bvLEN6pkhBSZlsLyyVbYW7nVidrV2tf7dBOmsC3aJL+3hJjOOrWd2XZQSaSKCuHjlq680jW+tg7/pyDfsx1AiNkBRfy/DIxNSQHJ+DIoAAAggggAACCCCAAAIIIIAAAggggAACCCAQDgJk3JruLmfqoYZpfF3tkJYc9+9T21qB27pA663FOKUVC0RGRsjEAZ2d2JBbLLO1BfnslVvl3cWb5P/m2q0PXJ5b/u1eH4zply4XjuvrjFlOq/K9aFhAoDEC9emRo6bePHznnagz23wLoZpGl3nGDI9KSAvVKTguAq4SyMrKkj/+8Y8yZcqUqnrdfffdsmLFCnnggQeq1vlmbPs777xTRowYIccee6w8++yz0qHD3j0pTJs2TZKSkuTaa6/17bbP9LXXXpP9999fBg0a5Hx28803y/jx4+WII47YZ1tWIIAAAggggAACCCCAAAIIIIAAAggggEDrE4hufVV2ZY2TtFYva1ylkV+thoH6x7ZW4jWtr7a7s3iR/rWQnJwcmTVrls0GVQoLCxu0X1AnqcfGbqmHVbU56mKDyf9cf/ZwardYWZMXLesLKyQxJkLax3ojLkLrUSRl0QmSu7tSo0I276qU2T/ukPMe3y4ZSRFydJ8YOaxbtERroj3UpTlM6nMNbqmH1dUtdXFLPdxkUp9nqdo2o3S5rh45aurNw9cLSLVDhmYxZo8nGR6XnB6aE3BUBFwmMHXqVHn++ef3Sobb8h133FFnTd955506t6lpA0uGH3/88VXJ8L/85S81bcp6BBBAAAEEEEAAAQQQQAABBBBAAAEEEGiFAiTDG3/TYvQQlgh/RuOVAIfL0XU9/dZn6PwGjdga1vttWjX7iM5ZSEZGRqW1hgq2WAK9IfsFe566tndLPayezV2XyTXgBKpHaVmFvKldpz/6vzXy2KICeXNdhPwmq5+cMaqnxEVb49bQlEB1Cc2Zaj+qW+phtXRLXdxSDzeZ1P4UBfy0Pj1yBNrG1lky3H7I9IF3+rBOnfeyTpu8WDfpRZXx0iEpscmPzQERcKPAaaedJjfddJPs3r1b4uLiJDs7WzZs2OC0+L766quluLhYbJtbbrlln+pnZmbK3LlzpWPHjk7y/IUXXpCePXtKp06d5JBDDnG2f/TRR+WRRx6R0tJS6devnzz11FOyYMECeeONN+TTTz+V2267TV5++WW59dZbneS4nevjjz92WpWXlZXJyJEj5cEHH3TqZuc799xz5c0335Q9e/bIiy++KAMGDNinXqxAAAEEEEAAAQQQQAABBBBAAAEEEEAAgZYXIBneuHtgTXX/q2Fjhd9Vw6He0PWXa9iY4NYNep6GJVW2avTX6KOxXuMMjTM1KAhIbHSknHpIhvxseA/538ptct8nq+TPbyyRhz9dLVdM7i+n6WcxUZFIIYBAcAL2zq5eLMHtX2rbZoxuaD9m6qzxocZyjdka1ctFusKiwb159NmVK7mSKLlbrDeQLdWP32zL9EiwL3VbNUlJSZGCgoJ9L7gea8rLyxu8r+/wsbGxMnz4cHn11VfluOOOkyeeeEJOOeUUueaaayQtLU3sHCeccIIcffTRMnjwYGe5qKjIOW9lZaXTi8fSpUvlpZdektmzZ4slsMeNG+dsa9d15JFHyhln2P9qiVjr7/vvv18uueQSOeaYY5xjnnzyyc5nlty2xPvWrVudhLcly/v37y8XXXSR/Pvf/5bLLrtM7HzW/bol0S3J/ve//13uu+8+Z3/fn6Yw8R2rsdP61qWkpETfN7Maezr2RwABBBBAAAEEEEAAAQQQQAABBBBAwFUCJMMbdzssMXK2xiKNBd5D3aDTXt75h3RqfXceq2Fd8+7S+JWGlTINS5K/r2FNfadrLNGgIFAlYOOFj9+/k4zr31E+W7VN/vXBCvnjK4vkwVmrnVbiPVMTpFtKvHRp7wlLovuK/WO9FcYc94kwRUBq6qnDn6a2bSwRbsWy069qjNIIlAy3FuNOq/GG9uax8bvbZGdlkowYPECyDvX9J0WP2szFEmNu6FXELtstdXFLPZraZNmyZZKcnOx5wt69XmST/a9N/UpZeZlER9Xxv5RdDxI55h+1HvDss8+W119/3UlaW1J8+vTp8u677zotui25vXHjRlm3bp2MHj1aoqKiJDEx0amz/XfOktPz5893EuZdunRxzmMJbmtlbtdln9nxc3NzncS5jU1u62NiYqRdu3ZV1+5btlbpffv2dRL0drALLrjASaBff/31zn9XzzzzTGefMWPGiHXTXmXnvUJLwFdf5/2o2Sf1rUt8fLwMGzas2evHCRFAAAEEEEAAAQQQQAABBBBAAAEEEAilQB3/chnKU7eJY3+mVxGoFaH/xVlG8jL/FX7zlii3oCBQq4D9Q/+4/p1kbL+O8snyLXLXhyvk9ve+32cfG1bcHjhvHlxbj0fI0J4d5PD9OspYTagPyejgtDrfZ0dWIBAeAnP0MuvqkaOm3jysv3L7tYk1nbX5ozT+ohGSEllaKHmViZKWGBOS43NQBNwoYMlrawluiWtrnZ2amip33nmnzJkzx5k/77zzxFov11Zq+gGY7Wvjgw8ZMkRmzJjh/LiituP4flBW0zaWZLdiSXlL1FMQQAABBBBAAAEEEEAAAQQQQAABBBBAwJ0CJMPdeV+oFQIBBewf+ScP7CKTBnSW/JIy2ZxfIhvzSmRTXrHGbtlTXiGWENdma860aHeZfLN2h9zzyUr5z8crJSE2SkZkpsmozFQZqdMhmiiPj/GMQV6o2y7bXi7LtSv2nJ275LzD+0i/zkkB68FKBFqpQE09clzivZ7aevOwpqbWGtyK/bfzWY33bCEUJbqsULtJ7yrpiZ6EWyjOwTERqFGgjhbc1fcrbqJW0Na623oiOP/882Xq1KmSn5/vtP62Ltw3b97stBKvraeC8ePHyznnnCN//vOfnQS1jel98cUXO9W11tHdunVzxvh+5plnpEePHs56a71tn1UvNgZ4dna2rFq1qmqM8QkTJlTfjGUEEEAAAQQQQAABBBBAAAEEEEAAAQQQcLkAyXCX3yCqh0AgAUuKp7SLcWL/Lt5ubQNt6F2Xt2uPfLlmu3yuXa1/vXa73PnBVucTazk+uEeKWNJ85ZZCb4vy5RKr45G/On+93Hn6EDnmoG61HJmPEGh1AoF65LAkuK/U1JvHGt1giG+jUE/jygokt7Kf9KdleKipOb7LBCwJ/rOf/Uyef/55sYS0ddt94IEHOl2WW5fktRUbc9z2HTp0qPTu3dsZM9y3/a233iqHHnqos/6ggw6qSoDbOOIXXnih3HPPPc54477trcvwxx9/XE4//XQnsT5y5EhnjHHf50wRQAABBBBAAAEEEEAAAQQQQAABBBBAoHUIkAxvHfeJWiLQKIGUhBg5enBXJ+xAO4tKZd66nTJn3Q6Zr9MeHdrJsZr0jtz5g5x97HgpKSuXS5+eL5c+M18uHt9XrptygI4Haz1EUxBAIOQCOs5BXHmR5Glv7Gm0DA85Nydwl8App5yiP8yy36R4inVpHqjY2O2+Yi24feW6666Tv/xl3xEMLr30UrGoXizBvnTp0qrV/uebPHmyfPvtt1Wf+Wb8zzdixIg6u1z37ccUAQQQQAABBBBAAAEEEEAAAQQQQAABBJpfgGR485tzRgRaXCA1MVaOGNTFCf/KzJq1QewzKy9cfJjc9tYyeXj2GlmYkyf/PPVgyS0ulTVbizQKZe32XdIpKU6OOrCLjOidSrLcH5J5BBojsKdYYmSP5EuS0/tDYw7FvggggAACCCCAAAIIIIAAAggggAACCCCAAAIIhLMAyfBwvvtcOwK1CMRFR8mtJw+WoTqu+A2vLpLxd8ys2trGJe+urcm3FOyW6Z+vlVRteW5jmR+lCfbx+3eqGoe8aoc6Zmys8xhantehxMdhI1CS61zqnpj2EmVfNgoCCCCAAAIIIIAAAggggAACCCCAAAIIIIAAAgg0SIBkeIPY2AmB8BE49ZAMZ1zx2Su2Ss+0BOnbKVF6pyeIJcsLdaxxW//Bkk3yvsZL83IkOS5aW4t3lROHdpcx+6VXtRi3hHf2tiJZsVlblW8rlGxtWf6DRvb2Iiepbl21H6ItzC0kv1zKKypJBIbPY8aV+gsU73SWyuM7+K9lHgEEEEAAAQQQQAABBBBAAAEEEEAAAQQQQAABBIIUIBkeJBibIxCOAgd0TRaL6iVJE9821riFJbu/XL1d3vxug7ynifGX5+foeMexMrxXqvywo0gT4EW6zU/jwHZpHye90xJlgrYk76aJ8NXa9frXa7fLG7q/lTvnfeC0Mp88sLNMPKBzVfft1evAMgJtTsCbDI8gGd7mbi0XhAACCCCAAAIIIIAAAggggAACCCCAAAIIINC8AiTDm9ebsyHQZgWsm3PrIt3Culf/VFuMW2J72cZ86dsx0elGff8uSdK/c7LTujwhdt/XT2VlpeTsLJan3vtC8mI7yyffb5G3F20U6ynaWoyP3q+jDPAm5jPTE2k53mafpjC/sGJPN+mRiWlhDsHlI4AAAggggAACCCCAAAIIIIAAAggggAACCCDQOIF9s1GNOx57I4AAAs6Y4VO0q3SLYEpERITTFfvh3aMlK+tgqdCu0hetz5OPl2+Rj5dtlns/WSmaL3dKbHSkJtaTnC7bu6e0c8Ywt3HMM1LbSX9Nuls37hQEWqWAt2V4THJ6q6w+lUYAAQQQQAABBBBAAAEEEEAAAQQQQAABBBBAwC0CJMPdcieoBwII7CMQqU3Ch/Ts4MQ1R+4vxaXlsmpLoXy/uUC+35Sv00JZvqlAPtFkecmeiqr9Y7WV+sBuyZ59MzpIelKsrM8tdlqdW8vzDTpvXbz30RbrmTr+eaZObd7GLY/WfQOV0rIK3X+XHitOUtrFBNqEdQg0iUCFJsPtKYxPIhneJKAcpNUIREVFyUEHHVRV39dee02Sk5PltNNOkzlz5sh5550n9913X9XnbpiZNWuWxMbGyuGHH+5Ux+p4/PHHy5QpU5q0eklJSVJYWFjvY06bNk1sn2uvvXavfbKzs536LV68eK/1LCCAAAIIIIAAAggggAACCCCAAAIIINBWBUiGt9U7y3Uh0AYF2sVqoiQjxQn/y7Pu1Xfu2uMkubO3F8minDz5LidXXp6XI09+ua5q05ioCE8Lcm1Jvr1ot8zN3iFFmmD3lShNvltCvFdagtNCvV1MlMxdUSLT5syUHzWJXq4t1aN1m1F90uTIQV3kiIFdnO18+zNFoCkEdhdsl5jKSElqn9oUh+MYCLQagXbt2smCBQv2qm9RUZHceuutYsnb5kzglpWVSXR03f+bbMlwSzr7kuF7Vb6GhfLycrHEPwUBBBBAAAEEEEAAAQQQQAABBBBAAAEEQi9Q97/yhb4OnAEBBBBolIB1r56WGOvE4B4pcvzB3Z3jWfJ69dZCySve43Sf3jk5fq9xxi2JvrVwt2Rv2yVrtxXKjzuK5Ycdu2SdxvtLNjkt0TvGV8rBmSlywpDu2iV7onO8D5dullveXOqEjWFuYZ/11lbmFqkJsZqcL5WtBaVO0n17YamzjSXQra7NXew6V2qL+m4p8ZIcT6v25vYP9nylhTukWBIkTXshoCAQ7gKJiYkyduxYWbVqVa0US5YskV/96ldSUlLibPfyyy9L//795cknn5Q777zTefcefPDB8tRTT8m6devk/PPPl61bt0qnTp3k8ccfl169ejktz9PS0uTbb7+V4cOHy29+8xu57LLLnO0SEhLk0UcflQEDBlTVw1pZP/TQQ05i++mnn5Z7773X+Wz27Nlyxx13OPvdfvvtTst2S5rfcsst0q1bNyfhv2jRIrn++uvF1u/evds5z8UXXywbN26UX/ziF5Kfny+WkH/wwQdl3LhxznFvvPFGeeutt8R+NPD6669Lly5daryWqkrqjF3PFVdcIXYNZklBAAEEEEAAAQQQQAABBBBAAAEEEEAgnARIhofT3eZaEQgzAWvpvX+X5Bqv2hLTliC3sNbegYolKrKyhu/10R+OHqDJ8yL5SJPis1dulTnZO+X17zZUjWe+18Z+C8N6dZA/HjNwn3NtyS+RV79dL/PW7XS6YE/Tbt07JsY5yX3rJr6fjo3ekFKyp1xeX7BenvhinSzdmO8c7+oj+svUUb1q7A6+Iedhn6YVKNNkeF5lknO/mvbIHA0BdwsUFxfL0KFDnUr26dNHXn311XpX2JLSv/3tb+XEE0+UuLg4sdbXliD/61//Kp9//rl07NhRduzY4Rzv8ssvl3POOUfOPfdcmT59ulx55ZViXbJbWbFihXz00UdOgnvy5MlOstuS6l9//bWTHP/kk0+c7exPZmamXHLJJXt1R/7f//7XSWh/8MEHsn79eqc+1s27lW+++cZp3W7X9sgjj0hKSorT/bslw8eMGSNHHXWUvPLKK04X65b4tmvYtWuXs6+1kD/ssMOc6/n973/vJOZvuukmqe1anB31jyX177//fpkwYYJcd911vtVMEUAAAQQQQAABBBBAAAEEEEAAAQQQCAsBkuFhcZu5SAQQaGoBG2P8wvF9nbBj7y4rd8Yk/2H7LsktLtVEZpyka2v1jtq6t0NCjJOUvuvDFfLzh790ule/SpPSazShbl25/08T6tqI3Rm3fFdpmewoKpU95bpCi+br5QRt6X54+5/GRHc+0D8VutO3P+50kvExOta5deveLtam0fLtDzvlhbk/Sq52H3+A/iDgpuMGirVo/9PrS+QJ7Tr+Rl2eeEBn36GYukhga/JA+V9FhYzW54eCQEsJZGVl7XPqn//8505i1RK0xx57bNXnvm6/bbxsi23btjmtoas20Bn7YVFdJVA36XXt4/t89OjRTqJ49erVMnXqVKdVuCWuLRFtiXAr1urbypdffukknW3+7LPPFksu+8rpp5/uJMJtfO4vvvhCbNlXLGldn3LyySdLZGSkDBo0SDZv3ly1y6hRo8QS4VYsWb5w4UJ56aWXnOW8vDxZuXKljBw50mm1vmfPHrHj+H4cYOOS21jkVg455BD58MMPnfnarsU2sONaWCLcil3vu+++68zzBwEEEEAAAQQQQAABBBBAAAEEEEAAgXAQIBkeDneZa0QAgZALxEVHyX6dkpwIdLJfjOwlJw7pIdM/XysPzlotx9/rSZB0167LL83aT342PKNqX+vWvGB3mWwr2C0varJ8xufZ8pYm278tXihXTO4n1u36Wws3yNsLN8qGPE+XwNXPaa3ipxzYRc4ZnSmHaqt3awX/67F95ANNiP/tnWXyq8fnyJh+6TK2XydtPZ/ktKC38dIjdT9Kywp82/Mc+eucRfIFyfCWvRGc3dUC1mrcuh238thjj8mZZ54phx56qFj36FOmTHHW2bu0PkNT+G9j3bJbqdAfpHTo0GGfMcydD+v4Yy3TfcXq4Cu+Y9uyrbdu1a2u1Yt1s/722287iWtryW2t2GNiYqquxcYbty7UAxX/a7HP62sQ6FisQwABBBBAAAEEEEAAAQQQQAABBBBAoC0IkAxvC3eRa0AAgVYh0C42Si6b2M/ppty6RR+oY40f1jd9nwS0JTPa69jeFtYl+/lj+sgNT89yulK31t5WYqIiZFz/TnLtlANk0oDOTpLEukXfVVruGes8Odbp/t0fxo475cCuTovwJ7/MlumfrZXPV22v2sRaltu44tYaPVL/+KaH9E6VC8f1lUxtDU8JvYD1DGAljWR46LE5Q40CtbXktrGn/T8vKCiQ5OSfhqSwltj+n9d4kkZ8cMopp4iFr6xZs0b69u0rl156qWzYsMFpdX3kkUc621x99dWSnp7udJNurcMPP/xwef75551k8zPPPBNwHO327ds7rbhffPFFp3W4JZWtJfeQIUN8p3Smdt02vnewxZLgNh74pEmTnES3dc/eo0cPp1W9TS+88EKxrtHnz5/vJMNrOn5d12IJfbuWzz77zLlOu14KAggggAACCCCAAAIIIIAAAggggAAC4SRAMrzxd3u6HsL6rdyiMTjA4WxwxrO86817oEYnDRu4MlujQKNcw5r4jNCgIIBAGxewJKe10q5v6ZQcJ2cNjJNbph4qz3/zg2SkJciUQV0lRbtf9y8p7fZe9v/Mfz42OlIu0OS2RV7xHlm1pUBWbi6UFRqbC7SluTZkrNDEjzVotO7fX5ybI8/peY85qJtcOmE//0MxHwIBS4bHRYnE648TKAgg4Bmb2xLOpaWlztje1sW4dUHuX1544QV5+umnnS7Ou3fvLjfffLPTLbqNvW1dhFtr6mHDhsmMGTPknnvucboiv+OOO6RTp07y+OOP+x+qat4Sx5Zcv+2228S6LT/jjDP2SYafcMIJTlfsr7/+utPSu2rnOmYuuOACyc7OluHDhzutt60eNm65/YjA6mUtwZOSkuTJJ5+s9Uj1uZYHHnhALrvsMrEfMQRqiV7rCfgQAQQQQAABBBBAAAEEEEAAAQQQQAABBMJeYLwKDNdYXA+JE3SbT/y2y9Z5z0CWfitrm9VxIrVxUvBl5syZwe8Ugj3cUg+7NLfUxS31wCTwA++W+9OS9dicV1z593eWVQ6++b3K3n94q/LY29+pXLI+LzBYLWv13Ta3tvdbM312tJ7ne41VGtcHOKf1E3+P9/OFOrX3u6/Uta9vu6ppQ97ZVz3/beUh096uRbL5PmrJ5676VbqlLm6ph/k0ZV2WLl1anbzey5qorve2od7QLXVxSz3Mu751CfQM6MvMDe/tqncqMwgggAACCCCAAAIIIIAAAggggAACCAQrEBnsDmy/j8BsXWOtvOtTpupGz9VnQ7ZBAAEE3CLQuX28XH/MAPn8j5OcbttzCm0cXrfULqh6WFPr+zWO0bBmpfZO3rt5qeez/rre4iKNBzWs1Gdfz5aN/Gvd6XdL5D/PjWRkdwQQQAABBBBAAAEEEEAAAQQQQAABBBBAAAEEhG7Sm+8hSNBTWavCy/1OqZ0QywcaNn1Y4xENCgIIIOBKARvD/NKs/aR/xQ8ysFt7V9axjkqN0s+tRfga73bP6/QkjaXeZZvYsvVLbO/lrzQ6aHTTyNSoa1/dpPHlb6ccpF0l/zSWe+OPyBEQQAABBBBAAAEEEEAAAQQQQAABBBBAAAEEEAhPAZLhzXffrYv0zzX8W5GP0eUNGp01PtRYrmEtzasXa51oITk5Oc54ktU3qGu5sLCwQfvVddxgP3dLPazebqmLW+qBSeCn2S33xy31MKWSXUWueJ8EvmO1ru2hn/7ot0WOzh/qt2yzgbaxdYHWV9+32qFYRAABBBBAAAEEEEAAAQQQQAABBBBAAAEEEEAAgZYUIBnefPpn6Kmqd5FuiXArWzRe1bBWi4GS4dZi3Gk1npGRUZmVlaWLwZVZs2ZJQ/YL7ix1b+2WelhN3VIXt9QDk8DPr1vuj1vq4abnJPAdq3VtoM7drQW4f6lpm5rW++/rm+cHTD6JJpy65QchbqmH0TZlXVJSUkTHltYhEAI96rXfyPLycikoKKh9o2b61C11cUs9jL0+ddGhxaWkpETsvzUUBBBAAAEEEEAAAQQQQAABBBBAAAEE2pIAyfDmuZspepoJGr/0O12izkdq2L8e2/xRGn/RoCCAAAIIhEbAWoL39Dt0hs5v8Fu22Zq2idXP6trXdyh+wOSTaMKpW34Q4pZ6GG1T1mXt2rVSWloq6enpQSfELRGenJzchHe74YdyS13cUg+TrKsulgjfvn27dOjQQYYNG9ZwfPZEAAEEEEAAAQQQQAABBBBAAAEEEEDAhQIkwxt/U6y1d5ZGRw1LovxZI0bDykOeiZyi0w80irzLNumiYa3Brdh9eFbjPVugIIAAAgiERGCOHrW/Rh+N9RrWY8eZGv7lDV24XMPGE7du0PM0Nmps1ahrX92EgkDrFNCeZ5yhWLZutUc9uGItiuPj44PbKURbu6UubqmHMdenLnb/7BmgIIAAAggggAACCCCAAAIIIIAAAggg0NYESIY3/o5OrcchZug2Fv5ljS4M8V/BPAIIIIBASAXK9OiW6H5fI0pjusYSjUs0rNgPmN7ROFZjlcYujV9pWKlpX8+n/EWglQvExMRInz72O5Hgi7VQd0uLYrfUxS31sLvpproE/3SxBwIIIIAAAggggAACCCCAAAIIIIAAAo0TIBneOD/2RgABBBBoXQKW7LbwL75ePGydjSF+mf+HfvOB9vX7mFkEEEAAAQQQQAABBBBAAAEEEEAAAQQQQAABBBBwk4CNWU1BAAEEEEAAAQQQQAABBBBAAAEEEEAAAQQQQAABBBBAAAEEEECgTQmQDG9Tt5OLQQABBBBAAAEEEEAAAQQQQAABBBBAAAEEEEAAAQQQQAABBBAwgQgYWp3AVq3xugbUuqPus60B+zX1Lm6ph12XW+rilnpgEvhpd8v9cUs9GvOc9NadOwVmbrNreWc33a11y3fALfUwWbfUxS31wCTw960x9ycc39uBFVmLAAIIIIAAAggggAACCCCAAAIIIIAAAq4WmOuS2rmlHsbhlrq4pR6YBP6SuOX+uKUebnpOAt+xtrHWLffbLfVw03OHyb7fMUww2VeANQgggAACCCCAAAIIIIAAAggggAACCLhAgG7SXXATqAICCCCAAAIIIIAAAggggAACCCCAAAIIIIAAAggggAACCCCAQNMKkAxvWk+OhgACCCCAAAIIIIAAAggggAACCCCAAAIIIIAAAggggAACCCDgAoEoF9SBKjSfwLzmO1WtZ3JLPaySbqmLW+qBSeBH1y33xy31cNNzEviOtY21brnfbqmHm547TPb9jmGCyb4CrEEAAQQQQAABBBBAAAEEEEAAAQQQQAABBBBAAAEEEEAAAQQQQAABBBBAAAEEEEAAAQQQQAABBBBAAAEEEEAAAQQQQAABBBBAAAEEEEAAAQQQQAABBBBAAAEEEEAAAQQQQAABBBAIc4Gj9fq/11ilcX2ILXrq8WdqLNNYovFbDSvTNNZrLPDGsTr1lT/qjNXN6jjFt7KJptl6nEUadt65GlbSND7UWOmdpurUV0JRlwP04L7rtmm+xlUa0zSaw2S6nmeLxmINX2mIwSG6s1navbpHI0IjmBKoHnfoAZZrLNR4VaODhpVMjWINn9tDOu8rja2HHSdQXabp+mDvR2PrEqgeL2g9fNed7Z3XSchNavrutsSzYtcbzqU539nmXNO9n6afBfudsOM1pmTrzvaese9AS72z9dTSku/tQO+FlvoeBqpLS7y3A9Vjmt6nYJ/Pxr6z7dkIVJeWeG/X9L1tqWfFbCgIIIAAAggggAACCCCAAAIIIIAAAggggECzC9iY8Ks1+mrEanynMUgjVKWbHni49+DJOl2hYeebpnGtRvVin1md4jT6aFhdm3Ic+2w9XkcN/3K7Lvh+FGDTf3o/DHVd7DR2bZs0emtM02gOk/F6Hrsn/snwhhh8o8cYrWFJ8Hc1jtEIpgSqx1F6gGjvQew++O5Fps7719e7iTNpbD3sIIHqMk3XB3s/GluXQPWw+vnKv3TmZu9Cpk5DaVLTd7clnhXvJYflpLnf2YZc072fpp8F+52w4zWmZOvOHasdoCHPYLVDNGqxud/bgd4LDTFo7PvJ0ALVpSXe24HqMU3rF+zzGSoTs/KV5npv1/S9balnxXf9TBFAAAEEEEAAAQQQQAABBBBAAAEEEHCdQKTrakSFmlJglB7MWvKu0SjVeF7jJI1QlY164Pnegxfo1FqI9/AuB5pYXaxOuzXWalhdrc6hLHbOJ7wnsOnJ3vnmqMtkPZcl/Nd5zxlo0tT1mK0n2VHtRMEa2D+6t9f4UqNS40kNn5vO1qsEqscHumeZd++vdJpRx5Gaoh52ikB1qenUNd2PpqhLbfWwHx38XOO5mirmXd8U9bBD1fTdbYlnpY5LbtMfN/c7u7Z7XxN0Td+JmrZv7Ppgn8HGnq/6/s393g70XgjWoKneC4Hq0hLv7UD1qH6ffMs1PZ+hNPGduznf27yzfepMEUAAAQQQQAABBBBAAAEEEEAAAQQQqEMgso7P+bh1C1gi+ke/S8jR+dqS036bNno2U48wTONr75Eu1+lCjekavq7JQ10/S9zaP9zP07hIw0oXDftHZCs27ezMeVxCbXWGnus57/ls0hImdt5gDew+2bPjK6F4js7Xg1uLc1/pozPfanyqMc67MtT1COZ+hLouds2bNVZ6r90mzWWSqefyfXfd+KyYRVst9lyF+j1Um12mfui797ZdMN8J276xxW3vbLseN7y33fo9bOn3djDPZ6jf2fastNR7O1PP7fveuvVZMR8KAggggAACCCCAAAIIIIAAAggggAACLSJAMrxF2JvtpNZKqXqxZEOoS5Ke4GWNqzTyNR7U2E9jqIYloK0bUSuhrt8YPYd1EX6MxmUa1tVqTSXUdbFu6k/UeNFbgZYyqen6bX1NBjWtr+1YwXx2o25sLcSf8e5kz0gvDfvH/Ws0ntWwlumhrEew9yOUddFLlaka/j+caC6T6t9dq0ugUtP117Q+0DFYt69AS/pVv/fBfif2vZrg17jpnW21d/t7u6bnpab1wd+Rmvdo6fd2sM9nc5i0xHu7+ve2pjtW0/XXtL6m47AeAQQQQAABBBBAAAEEEEAAAQQQQACBVidAMrzV3bKgKmwteHv67WHdUG/wWw7FbIwe1BLhlth8xXsCa+FarlGh8aiGryv0UNfPd61b9Jyves9rdbHuUq3Y1D6zEuq6WEJ+voad30pLmfjOHYyB2fh3Yd6Uz9G5euzjNc7S8P1QY7fOb9ewMk9jtcb+GqGsR7D3I5R1idZr/ZnGCxq+0hwmNX133fKs+Cza8tSeq+Z+Z5tnTfe+ud/bbnpnm8sxGm54b9v7yU3fQze8t930zrZnpSXe2zV9b930rJgNBQEEEEAAAQQQQAABBBBAAAEEEEAAAQQQCJmA/ePsGo0+GrEa32kcqBGqYi2MntS4u9oJfP8wa6uv1rBxwq1YXaxOcRpWR6trlEZTlEQ9SLL3QDb/hcbRGndoXK9hxaa3O3OhrYudwq75V95z2aQ5TTL1fIvtpN7SEIM5uu9hGnaP39U4ViPYkqk7+NfD7sdSjU4a/sWWfc9BX51fr5Hm3aAp6mGHytTwr0tD7kdT1KV6PbRaznP6qc34lVCb2H0N9N1tqWfF79LDara539mGW9O9b8h3ojE3K1F3dtM7266lpd7bmXpu//dTS34Pq9elpd7b1evRkOezKd7Zemv2+e+HrTOX5nxv1/S9bclnxRwoCCCAAAIIIIAAAggggAACCCCAAAIIIIBAswtY0nKFhrWutW5NQ1nG6sGtde9CjQXesPM/pbFIw9a/oeH/j9hWJ6vb9xrWCq+piiVRLdFusUTDd+3pOv+xxkrv1Jdk1UVnm1DUJUGPbS2dU+wk3tJcJtbVtnWxvUfDWp3+WqMhBiN0P0vOmM99GvYP8cGUQPVYpQf4UcP3rDzkPeCpOrV7ZvfOWmWeoOErja2HHSdQXRpyPxpbl0D1sPrN0LjEZvxKqE1q+u62xLPid9lhOduc72wDruneN+Q70Zgb5qZ3tl1HS723A70XWup7GKguLfHeDlSPhjyfjX1n23MRqC62foZGc763a/rettSzYgYUBBBAAAEEEEAAAQQQQAABBBBAAAEEEEAAAQQQQAABBBBAAAEEEEAAAQQQQAABBBBAAAEEEEAAAQQQQAABBBBAAAEEEEAAAQQQQAABBBBAAAEEEEAAAQQQQAABBBBAAAEEEEAAAQQQQAABBBBAAAEEEEAAAQQQQAABBBBAAAEEEEAAAQQQQAABBBBAAAEEEEAAAQQQQAABBBBAAAEEEEAAAQQQQAABBBBAAAEEEEAAAQQQQAABBBBAAAEEEEAAAQQQQAABBBBAAAEEEEAAAQQQQAABBBBAAAEEEEAAAQQQQAABBBBAAAEEEEAAAQQQQAABBBBAAAEEEEAAAQQQQAABBFpIoFLP+y+/c1+r89P8lhszO0N3Pq0xB6jnvqfrdss0ZlbbPlOXz6y2rr6LX9R3wzq2y9TPFwfYJkvXvRVgfW2rrtIPE2rbQD+bpmH3kIIAAm1TgHd24PvKOzuwC2sRQAABBBBAAAEEEEAAAQQQQAABBBBAIEwFIsP0urlsBKoL7NYVP9PoWP2DFl6OCuL8v9Ztf6Mxsdo+mbpcUzI8utq21RcPr77CBcv1SYa7oJpUAQEEQijAOzswLu/swC6sRQABBBBAAAEEEEAAAQQQQAABBBBAAIEwFSAZHqY3nsveR6BM1zyicfU+n4jM0HWn+a0v9M5n6fRTjf/TWKHxD42zNL7RWKSxn4avHKEz/9Ow7Y73rrRE9x0aczQWalysYSVLw1p3P6thx6lepuoKW79Y45/eD2/W6ViNhzTsmP7F6jVOY4GGXd95Gi9qvKnxgUaSxsca8zXsuCdp+Ir/tc7SlS9pLNd4RiNCw8ohGuYwT+N9jW4aVmz9dxpfalymUVNprx+8qrFUw+rvey89qPNzNZZo3KJh5UqN7hrm42sBf7TOW93tXHYdvjJIZ2ZprNGw/Xzllzpj98g8Htaw+2AxQ8NMzSDQc6CrKQgg4BIB3tm8s2fos8g72yVfSKqBAAIIIIAAAggggAACCCCAAAIIIIAAAggg4G4BS/paUjZbI0XjWo1pGlZmaJxmM95i21rJ0sjVsORvnMZ6DV/S9rc6f7eGlRka72lYkre/Ro5GvMZFGjdpWLH9LfHbRyNLo8g7r5O9iiWCf9DopGGtuj/ROFnDyiyNETZTrWTp8lt+687TeatDmnedHceu3UpHjVUaEbagxf9a83Q5Q8OuwxLcYzViNL7QsPpY+YXGdGfOk+Cf4J23BP1i77z/JEsXSjT6alhC+kON0zSs+Opn62dpHKxhJVvD6mnFzvujhrlZ8e0zTeetXuZq227XsLoO1HjTO68TeUDjHA1L3Nu5faWDb4YpAgi4UqBQa8U7m3e27+Hkne2TYIoAAggggAACCCCAAAIIIIAAAggggAACewlYEoyCAAIegXydPKlxpUaxZ1Wdf+foFhu9W63WqbW0tmKtiyc6c54/1nq8QmOlxhqNARpHaViC15f8tSS8JctLNazl8lqN6mWkrpilsdX7wTM6Ha/xmne5vhNL/O7wbmyJ779p2HGsjj00umhs0vAvVidLoltZoJGpkasxWMOXSLbEtXnYtVhy4lMNK09pHOPM7fvHjmsmVp7TsCS7tUD/ucZFGvaesh8cDNJYqOFfDtOF2Ro+K9812TZva+z2xhad2jVN1rDEt903K+007DNLkFtC/l4N2893H3WWggACLhXgnc07m3e2S7+cVAsBBBBAAAEEEEAAAQQQQAABBBBAAAG3CJAMd8udoB5uEbhbKzJf43G/CpXpfKR32RLHsX6fWbLVVyyR7Fu2ef/vV6VvI+/Ulu1YV2i8713nm2TpTJFvodrU9mmK4n/8s/SAnTQsSbxHI1vDWq5XL75rs/XlGnZ9Vp8lGqM1/Islwqtfs//n/vPVt7PlPhrXaozU2KkxQyNQnez81ffXVU6pqb5P6Kf/3979u9oYx3EAT0YxWv0qi6QMyqQ7yMhiMGIh/oFb7BaLEWGxKCRFdxKRWPwoYpHNYFHC6v3OPfWUzuncxXnU61Pv6zn3+zznPOd1O9/l4/s9y6vnDP/ZkweHkjNJG/EnEkWAwLgFzNnmbHP2uD+j7o4AAQIECBAgQIAAAQIECBAgQIDAQgUmDb6F3oQXJzAiga4svpWcHNzT5xy3Udw6nHS77bXW0VzQz9uOZHvyMVlJTieT59uZ4w3JrHqRwQNJt/5enxxLHiez6nsGN844oau4uzq6jfClZEsyb/V9tJG+f/WCvpddybek26p3lXerDfdptS8D25L6dJv1p8mm5EfS5+iK7uGq8uH7eZ6xevT61mSb9D+P/v7Z7xTvSvzNq0M9v++3nn3928n5ZG+iCBAYv4A525xtzh7/59QdEiBAgAABAgQIECBAgAABAgQIEFiYwHDl6sJuwgsTGJnAxdzP2cE9XcnxveRl0mZqm7RrrTaN27RuY/dU0u/JvppsTboSfV3yNTmSzKovGVxOHiW95kHSe5tVbzPY1e1vkhtJV1oP62Ye3E/6neWvkw/JvNUt3dtcvpS0qd45pSs13yXHk2vJz2QlmVZtaF9IdidPkrtJV9a/Svo8n5JnyaQu5+BhUoulpFup30nazG5T/2Ayrd5n4FzSbdB7fv8DQFcV/kquJ/1dq8aKAIH/Q8CcPf/fyZw9v5UzCRAgQIAAAQIECBAgQIAAAQIECBAgQIAAAQIECBAgQIAAAQIECBAgQIAAAQIECBAgQIAAAQIECBAgQIAAAQIECBAgQIAAAQIECBAgQIAAAQIECBAgQIAAAQIECBAgQIAAAQIECBAgQIAAAQIECBAgQIAAAQIECBAgQIAAAQIECBAgQIAAAQIECBAgQIAAAQIECBAgQIAAAQIECBAgQIAAAQIECBAgQIAAAQIECBAgQIAAAQIECBAgQIAAAQIECBAgQIAAAQIECBAgQIAAAQIECBAgQIAAAQIECBAgQIAAAQIECBAgQIAAAQIECBAgQIAAAQIECBAgQIAAAQIECBAgQIAAAQIECBAgQIAAAQIECBAgQIAAAQIECBAgQIAAAQIECBAgQIAAAQIECBAgQIAAAQIECBAgQIAAAQIECBAgQIAAAQIECBAgQIAAAQIECBAgQIAAAQIECBAgQIAAAQIECBAgQIAAAQIECBAgQIAAAQIECBAgQIAAAQIECBAgQIAAAQIECBAgQIAAAQIECBAgQIAAAQIECBAgQIAAAQIECBAgQIAAAQIECBAgQIAAAQIECBAgQIAAAQIECBAgQIAAAQIECBAgQIAAAQIECBAgQIAAAQIECBAgQIAAAQIECBAgQIAAAQIECBAgQIAAAQIECBAgQIAAAQIECBAgQIAAAQIECBAgQIAAAQIECBAgQIAAAQIECBAgQIAAAQIECBAgQIAAAQIECBAgQIAAAQIECBAgQIAAAQIECBAgQIAAAQIECBAgQIAAAQIECBAgQIAAAQIECBAgQIAAAQIECBAgQIAAAQIECBAgQIAAAQIECBAgQIAAAQIECBAgQIAAAQIECBAgQIAAAQIECBAgQIAAAQIECBAgQIAAAQIECBAgQIAAAQIECBAgQIAAAQIECBAgQIAAAQIECBAgQIAAAQIECBAgQIAAAQIECBAgQIAAAQIECBAgQIAAAQIECBAgQIAAAQIECBAgQIAAAQIECBAgQIAAAQIECBAgQIAAAQIECBAgQIAAAQIECBAgQIAAAQIECBAgQIAAAQIECBAgQIAAAQIECBAgQIAAAQIECBAgQIAAAQIECBAgQIAAAQIECBAgQIAAAQIECBAgQIAAAQIECBAgQIAAAQIECBAgQIAAAQIECBAgQIAAAQIECBAgQIAAAQIECBAgQIAAAQIECBAgQIAAAQIECBAgQIAAAQIECBAgQIAAAQIECBAgQIAAAQIECBAgQIAAAQIECBAgQIAAAQIECBAgQIAAAQIECBAgQIAAAQIECBAgQIAAAQIECBAgQIAAAQIECBAgQIAAAQIECBAgQIAAAQIECBAgQIAAAQIECBAgQIAAAQIECBAgQIAAAQIECBAgQIAAAQIECBAgQIAAAQIECBAgQIAAAQIECBAgQIAAAQIECBAgQIAAAQIECBAgQIAAAQIECBAgQIAAAQIECBAgQIAAAQIECBAgQIAAAQIECBAgQIAAAQIECBAgQIAAAQIECBAgQIAAAQIECBAgQIAAAQIECBAgQIAAAQIECBAgQIAAAQIECBAgQIAAAQIECBAgQIAAAQIECBAgQIAAAQIECBAgQIAAAQIECBAgQIAAAQIECBAgQIAAAQIECBAgQIAAAQIECBAgQIAAAQIECBAgQIAAAQIECBAgQIAAAQIECBAgQIAAAQIECBAgQIAAAQIECBAgQIAAAQIECBAgQIAAAQIECBAgQIAAAQIECBAgQIAAAQIECBAgQIAAAQIECBAgQIAAAQIECBAgQIAAAQIECBAgQIAAAQIECBAgQIAAAQIECBAgQIAAAQIECBAgQIAAAQIECBAgQIAAAQIECBAgQIAAAQIECBAgQIAAAQIECBAgQIAAAQIECBAgQIAAAQIECBAgQIAAAQIECBAgQIAAAQIECBAgQIAAAQIECBAgQIAAAQIECBAgQIAAAQIECBAgQIAAAQIECBAgQIAAAQIECBAgQIAAAQIECBAgQIAAAQIECBAgQIAAAQIECBAgQIAAAQIECBAgQIAAAQIECBAgQIAAAQIECBAgQIAAAQIECBAgQIAAAQIECBAgQIAAAQIECBAgQIAAAQIECBAgQIAAAQIECBAgQIAAAQIECBAgQIAAAQIECBAgQIAAAQIECBAgQIAAAQIECBAgQIAAAQIECBAgQIAAAQIECBAgQIAAAQIECBAgQIAAAQIECBAgQIAAAQIECBAgQIAAAQIECBAgQIAAAQIECBAgQIAAAQIECBAgQIAAAQIECBAgQIAAAQJbX79qAAAtD0lEQVQECBAgQIAAAQIECBAgQIAAAQIECBAgQIAAAQIECBAgQIAAAQIECBAgQIAAAQIECBAgQIAAAQIECBAgQIAAAQIECBAgQIAAAQIECBAgQIAAAQIECBAgQIAAAQIECBAgQIAAAQIECBAgQIAAAQIECBAgQIAAAQIECBAgQIAAAQIECBAgQIAAAQIECBAgQIAAAQIECBAgQIAAAQIECBAgQIAAAQIECBAgQIAAAQIECBAgQIAAAQIECBAgQIAAAQIECBAgQIAAAQIECBAgQIAAAQIECBAgQIAAAQIECBAgQIAAAQIECBAgQIAAAQIECBAgQIAAAQIECBAgQIAAAQIECBAgQIAAAQIECBAgQIAAAQIECBAgQIAAAQIECBAgQIAAAQIECBAgQIAAAQIECBAgQIAAAQIECBAgQIAAAQIECBAgQIAAAQIECBAgQIAAAQIECBAgQIAAAQIECBAgQIAAAQIECBAgQIAAAQIECBAgQIAAAQIECBAgQIAAAQIECBAgQIAAAQIECBAgQIAAAQIECBAgQIAAAQIECBAgQIAAAQIECBAgQIAAAQIECBAgQIAAAQIECBAgQIAAAQIECBAgQIAAAQIECBAgQIAAAQIECBAgQIAAAQIECBAgQIAAAQIECBAgQIAAAQIECBAgQIAAAQIECBAgQIAAAQIECBAgQIAAAQIECBAgQIAAAQIECBAgQIAAAQIECBAgQIAAAQIECBAgQIAAAQIECBAgQIAAAQIECBAgQIAAAQIECBAgQIAAAQIECBAgQIAAAQIECBAgQIAAAQIECBAgQIAAAQIECBAgQIAAAQIECBAgQIAAAQIECBAgQIAAAQIECBAgQIAAAQIECBAgQIAAAQIECBAgQIAAAQIECBAgQIAAAQIECBAgQIAAAQIECBAgQIAAAQIECBAgQIAAAQIECBAgQIAAAQIECBAgQIAAAQIECBAgQIAAAQIECBAgQIAAAQIECBAgQIAAAQIECBAgQIAAAQIECBAgQIAAAQIECBAgQIAAAQIECBAgQIAAAQIECBAgQIAAAQIECBAgQIAAAQIECBAgQIAAAQIECBAgQIAAAQIECBAgQIAAAQIECBAgQIAAAQIECBAgQIAAAQIECBAgQIAAAQIECBAgQIAAAQIECBAgQIAAAQIECBAgQIAAAQIECBAgQIAAAQIECBAgQIAAAQIECBAgQIAAAQIECBAgQIAAAQIECBAgQIAAAQIECBAgQIAAAQIECBAgQIAAAQIECBAgQIAAAQIECBAgQIAAAQIECBAgQIAAAQIECBAgQIAAAQIECBAgQIAAAQIECBAgQIAAAQIECBAgQIAAAQIECBAgQIAAAQIECBAgQIAAAQIECBAgQIAAAQIECBAgQIAAAQIECBAgQIAAAQIECBAgQIAAAQIECBAgQIAAAQIECBAgQIAAAQIECBAgQIAAAQIECBAgQIAAAQIECBAgQIAAAQIECBAgQIAAAQIECBAgQIAAAQIECBAgQIAAAQIECBAgQIAAAQIECBAgQIAAAQIECBAgQIAAAQIECBAgQIAAAQIECBAgQIAAAQIECBAgQIAAAQIECBAgQIAAAQIECBAgQIAAAQIECBAgQIAAAQIECBAgQIAAAQIECBAgQIAAAQIECBAgQIAAAQIECBAgQIAAAQIECBAgQIAAAQIECBAgQIAAAQIECBAgQIAAAQIECBAgQIAAAQIECBAgQIAAAQIECBAgQIAAAQIECBAgQIAAAQIECBAgQIAAAQIECBAgQIAAAQIECBAgQIAAAQIECBAgQIAAAQIECBAgQIAAAQIECBAgQIAAAQIECBAgQIAAAQIECBAgQIAAAQIECBAgQIAAAQIECBAgQIAAAQIECBAgQIAAAQIECBAgQIAAAQIECBAgQIAAAQIECBAgQIAAAQIECBAgQIAAAQIECBAgQIAAAQIECBAgQIAAAQIECBAgQIAAAQIECBAgQIAAAQIECBAgQIAAAQIECBAgQIAAAQIECBAgQIAAAQIECBAgQIAAAQIECBAgQIAAAQIECBAgQIAAAQIECBAgQIAAAQIECBAgQIAAAQIECBAgQIAAAQIECBAgQIAAAQIECBAgQIAAAQIECBAgQIAAAQIECBAgQIAAAQIECBAgQIAAAQIECBAgQIAAAQIECBAgQIAAAQIECBAgQIAAAQIECBAgQIAAAQIECBAgQIAAAQIECBAgQIAAAQIECBAgQIAAAQIECBAgQIAAAQIECBAgQIAAAQIECBAgQIAAAQIECBAgQIAAAQIECBAgQIAAAQIECBAgQIAAAQIECBAgQIAAAQIECBAgQIAAAQIECBAgQIAAAQIECBAgQIAAAQIECBAgQIAAAQIECBAgQIAAAQIECBAgQIAAAQIECBAgQIAAAQIECBAgQIAAAQIECBAgQIAAAQIECBAgQIAAAQIECBAgQIAAAQIECBAgQIAAAQIECBAgQIAAAQIECBAgQIAAAQIECBAgQIAAAQIECBAgQIAAAQIECBAgQIAAAQIECBAgQIAAAQIECBAgQIAAAQIECBAgQIAAAQIECBAgQIAAAQIECBAgQIAAAQIECBAgQIAAAQIECBAgQIAAAQIECBAgQIAAAQIECBAgQIAAAQIECBAgQIAAAQIECBAgQIAAAQIECBAgQIAAAQIECBAgQIAAAQIECBAgQIAAAQIECBAgQIAAAQIECBAgQIAAAQIECBAgQIAAAQIECBAgQIAAAQIECBAgQIAAAQIECBAgQIAAAQIECBAgQIAAAQIECBAgQIAAAQIECBAgQIAAAQIECBAgQIAAAQIECBAgQIAAAQIECBAgQIAAAQIECBAgQIAAAQIECBAgQIAAAQIECBAgQIAAAQIECBAgQIAAAQIECBAgQIAAAQIECBAgQIAAAQIECBAgQIAAAQIECBAgQIAAAQIECBAgQIAAAQIECBAgQIAAAQIECBAgQIAAAQIECBAgQIAAAQIECBAgQIAAAQIECBAgQIAAAQIECBAgQIAAAQIECBAgQIAAAQIECBAgQIAAAQIECBAgQIAAAQIECBAgQIAAAQIECBAgQIAAAQIECBAgQIAAAQIECBAgQIAAAQIECBAgQIAAAQIECBAgQIAAAQIECBAgQIAAAQIECBAgQIAAAQIECBAgQIAAAQIECBAgQIAAAQIECBAgQIAAAQIECBAgQIAAAQIECBAgQIAAAQIECBAgQIAAAQIECBAgQIAAAQIECBAgQIAAAQIECBAgQIAAAQIECBAgQIAAAQIECBAgQIAAAQIECBAgQIAAAQIECBAgQIAAAQIECBAgQIAAAQIECBAgQIAAAQIECBAgQIAAAQIECBAgQIAAAQIECBAgQIAAAQIECBAgQIAAAQIECBAgQIAAAQIECBAgQIAAAQIECBAgQIAAAQIECBAgQIAAAQIECBAgQIAAAQIECBAgQIAAAQIECBAgQIAAAQIECBAgQIAAAQIECBAgQIAAAQIECBAgQIAAAQIECBAgQIAAAQIECBAgQIAAAQIECBAgQIAAAQIECBAgQIAAAQIECBAgQIAAAQIECBAgQIAAAQIECBAgQIAAAQIECBAgQIAAAQIECBAgQIAAAQIECBAgQIAAAQIECBAgQIAAAQIECBAgQIAAAQIECBAgQIAAAQIECBAgQIAAAQIECBAgQIAAAQIECBAgQIAAAQIECBAgQIAAAQIECBAgQIAAAQIECBAgQIAAAQIECBAgQIAAAQIECBAgQIAAAQIECBAgQIAAAQIECBAgQIAAAQIECBAgQIAAAQIECBAgQIAAAQIECBAgQIAAAQIECBAgQIAAAQIECBAgQIAAAQIECBAgQIAAAQIECBAgQIAAAQIECBAgQIAAAQIECBAgQIAAAQIECBAgQIAAAQIECBAgQIAAAQIECBAgQIAAAQIECBAgQIAAAQIECBAgQIAAAQIECBAgQIAAAQIECBAgQIAAAQIECBAgQIAAAQIECBAgQIAAAQIECBAgQIAAAQIECBAgQIAAAQIECBAgQIAAAQIECBAgQIAAAQIECBAgQIAAAQIECBAgQIAAAQIECBAgQIAAAQIECBAgQIAAAQIECBAgQIAAAQIECBAgQIAAAQIECBAgQIAAAQIECBAgQIAAAQIECBAgQIAAAQIECBAgQIAAAQIECBAgQIAAAQIECBAgQIAAAQIECBAgQIAAAQIECBAgQIAAAQIECBAgQIAAAQIECBAgQIAAAQIECBAgQIAAAQIECBAgQIAAAQIECBAgQIAAAQIECBAgQIAAAQIECBAgQIAAAQIECBAgQIAAAQIECBAgQIAAAQIECBAgQIAAAQIECBAgQIAAAQIECBAgQIAAAQIECBAgQIAAAQIECBAgQIAAAQIECBAgQIAAAQIECBAgQIAAAQIECBAgQIAAAQIECBAgQIAAAQIECBAgQIAAAQIECBAgQIAAAQIECBAgQIAAAQIECBAgQIAAAQIECBAgQIAAAQIECBAgQIAAAQIECBAgQIAAAQIECBAgQIAAAQIECBAgQIAAAQIECBAgQIAAAQIECBAgQIAAAQIECBAgQIAAAQIECBAgQIAAAQIECBAgQIAAAQIECBAgQIAAAQIECBAgQIAAAQIECBAgQIAAAQIECBAgQIAAAQIECBAgQIAAAQIECBAgQIAAAQIECBAgQIAAAQIECBAgQIAAAQIECBAgQIAAAQIECBAgQIAAAQIECBAgQIAAAQIECBAgQIAAAQIECBAgQIAAAQIECBAgQIAAAQIECBAgQIAAAQIECBAgQIAAAQIECBAgQIAAAQIECBAgQIAAAQIECBAgQIAAAQIECBAgQIAAAQIECBAgQIAAAQIECBAgQIAAAQIECBAgQIAAAQIECBAgQIAAAQIECBAgQIAAAQIECBAgQIAAAQIECBAgQIAAAQIECBAgQIAAAQIECBAgQIAAAQIECBAgQIAAAQIECBAgQIAAAQIECBAgQIAAAQIECBAgQIAAAQIECBAgQIAAAQIECBAgQIAAAQIECBAgQIAAAQIECBAgQIAAAQIECBAgQIAAAQIECBAgQIAAAQIECBAgQIAAAQIECBAgQIAAAQIECBAgQIAAAQIECBAgQIAAAQIECBAgQIAAAQIECBAgQIAAAQIECBAgQIAAAQIECBAgQIAAAQIECBAgQIAAAQIECBAgQIAAAQIECBAgQIAAAQIECBAgQIAAAQIECBAgQIAAAQIECBAgQIAAAQIECBAgQIAAAQIECBAgQIAAAQIECBAgQIAAAQIECBAgQIAAAQIECBAgQIAAAQIECBAgQIAAAQIECBAgQIAAAQIECBAgQIAAAQIECBAgQIAAAQIECBAgQIAAAQIECBAgQIAAAQIECBAgQIAAAQIECBAgQIAAAQIECBAgQIAAAQIECBAgQIAAAQIECBAgQIAAAQIECBAgQIAAAQIECBAgQIAAAQIECBAgQIAAAQIECBAgQIAAAQIECBAgQIAAAQIECBAgQIAAAQIECBAgQIAAAQIECBAgQIAAAQIECBAgQIAAAQIECBAgQIAAAQIECBAgQIAAAQIECBAgQIAAAQIECBAgQIAAAQIECBAgQIAAAQIECBAgQIAAAQIECBAgQIAAAQIECBAgQIAAAQIECBAgQIAAAQIECBAgQIAAAQIECBAgQIAAAQIECBAgQIAAAQIECBAgQIAAAQIECBAgQIAAAQIECBAgQIAAAQIECBAgQIAAAQIECBAgQIAAAQIECBAgQIAAAQIECBAgQIAAAQIECBAgQIAAAQIECBAgQIAAAQIECBAgQIAAAQIECBAgQIAAAQIECBAgQIAAAQIECBAgQIAAAQIECBAgQIAAAQIECBAgQIAAAQIECBAgQIAAAQIECBAgQIAAAQIECBAgQIAAAQIECBAgQIAAAQIECBAgQIAAAQIECBAgQIAAAQIECBAgQIAAAQIECBAgQIAAAQIECBAgQIAAAQIECBAgQIAAAQIECBAgQIAAAQIECBAgQIAAAQIECBAgQIAAAQIECBAgQIAAAQIECBAgQIAAAQIECBAgQIAAAQIECBAgQIAAAQIECBAgQIAAAQIECBAgQIAAAQIECBAgQIAAAQIECBAgQIAAAQIECBAgQIAAAQIECBAgQIAAAQIECBAgQIAAAQIECBAgQIAAAQIECBAgQIAAAQIECBAgQIAAAQIECBAgQIAAAQIECBAgQIAAAQIECBAgQIAAAQIECBAgQIAAAQIECBAgQIAAAQIECBAgQIAAAQIECBAgQIAAAQIECBAgQIAAAQIECBAgQIAAAQIECBAgQIAAAQIECBAgQIAAAQIECBAgQIAAAQIECBAgQIAAAQIECBAgQIAAAQIECBAgQIAAAQIECBAgQIAAAQIECBAgQIAAAQIECBAgQIAAAQIECBAgQIAAAQIECBAgQIAAAQIECBAgQIAAAQIECBAgQIAAAQIECBAgQIAAAQIECBAgQIAAAQIECBAgQIAAAQIECBAgQIAAAQIECBAgQIAAAQIECBAgQIAAAQIECBAgQIAAAQIECBAgQIAAAQIECBAgQIAAAQIECBAgQIAAAQIECBAgQIAAAQIECBAgQIAAAQIECBAgQIAAAQIECBAgQIAAAQIECBAgQIAAAQIECBAgQIAAAQIECBAgQIAAAQIECBAgQIAAAQIECBAgQIAAAQIECBAgQIAAAQIECBAgQIAAAQIECBAgQIAAAQIECBAgQIAAAQIECBAgQIAAAQIECBAgQIAAAQIECBAgQIAAAQIECBAgQIAAAQIECBAgQIAAAQIECBAgQIAAAQIECBAgQIAAAQIECBAgQIAAAQIECBAgQIAAAQIECBAgQIAAAQIECBAgQIAAAQIECBAgQIAAAQIECBAgQIAAAQIECBAgQIAAAQIECBAgQIAAAQIECBAgQIAAAQIECBAgQIAAAQIECBAgQIAAAQIECBAgQIAAAQIECBAgQIAAAQIECBAgQIAAAQIECBAgQIAAAQIECBAgQIAAAQIECBAgQIAAAQIECBAgQIAAAQIECBAgQIAAAQIECBAgQIAAAQIECBAgQIAAAQIECBAgQIAAAQIECBAgQIAAAQIECBAgQIAAAQIECBAgQIAAAQIECBAgQIAAAQIECBAgQIAAAQIECBAgQIAAAQIECBAgQIAAAQIECBAgQIAAAQIECBAgQIAAAQIECBAgQIAAAQIECBAgQIAAAQIECBAgQIAAAQIECBAgQIAAAQIECBAgQIAAAQIECBAgQIAAAQIECBAgQIAAAQIECBAgQIAAAQIECBAgQIAAAQIECBAgQIAAAQIECBAgQIAAAQIECBAgQIAAAQIECBAgQIAAAQIECBAgQIAAAQIECBAgQIAAAQIECBAgQIAAAQIECBAgQIAAAQIECBAgQIAAAQIECBAgQIAAAQIECBAgQIAAAQIECBAgQIAAAQIECBAgQIAAAQIECBAgQIAAAQIECBAgQIAAAQIECBAgQIAAAQIECBAgQIAAAQIECBAgQIAAAQIECBAgQIAAAQIECBAgQIAAAQIECBAgQIAAAQIECBAgQIAAAQIECBAgQIAAAQIECBAgQIAAAQIECBAgQIAAAQIECBAgQIAAAQIECBAgQIAAAQIECBAgQIAAAQIECBAgQIAAAQIECBAgQIAAAQIECBAgQIAAAQIECBAgQIAAAQIECBAgQIAAAQIECBAgQIAAAQIECBAgQIAAAQIECBAgQIAAAQIECBAgQIAAAQIECBAgQIAAAQIECBAgQIAAAQIECBAgQIAAAQIECBAgQIAAAQIECBAgQIAAAQIECBAgQIAAAQIECBAgQIAAAQIECBAgQIAAAQIECBAgQIAAAQIECBAgQIAAAQIECBAgQIAAAQIECBAgQIAAAQIECBAgQIAAAQIECBAgQIAAAQIECBAgQIAAAQIECBAgQIAAAQIECBAgQIAAAQIECBAgQIAAAQIECBAgQIAAAQIECBAgQIAAAQIECBAgQIAAAQIECBAgQIAAAQIECBAgQIAAAQIECBAgQIAAAQIECBAgQIAAAQIECBAgQIAAAQIECBAgQIAAAQIECBAgQIAAAQIECBAgQIAAAQIECBAgQIAAAQIECBAgQIAAAQIECBAgQIAAAQIECBAgQIAAAQIECBAgQIAAAQIECBAgQIAAAQIECBAgQIAAAQIECBAgQIAAAQIECBAgQIAAAQIECBAgQIAAAQIECBAgQIAAAQIECBAgQIAAAQIECBAgQIAAAQIECBAgQIAAAQIECBAgQIAAAQIECBAgQIAAAQIECBAgQIAAAQIECBAgQIAAAQIECBAgQIAAAQIECBAgQIAAAQIECBAgQIAAAQIECBAgQIAAAQIECBAgQIAAAQIECBAgQIAAAQIECBAgQIAAAQIECBAgQIAAAQIECBAgQIAAAQIECBAgQIAAAQIECBAgQIAAAQIECBAgQIAAAQIECBAgQIAAAQIECBAgQIAAAQIECBAgQIAAAQIECBAgQIAAAQIECBAgQIAAAQIECBAgQIAAAQIECBAgQIAAAQIECBAgQIAAAQIECBAgQIAAAQIECBAgQIAAAQIECBAgQIAAAQIECBAgQIAAAQIECBAgQIAAAQIECBAgQIAAAQIECBAgQIAAAQIECBAgQIAAAQIECBAgQIAAAQIECBAgQIAAAQIECBAgQIAAAQIECBAgQIAAAQIECBAgQIAAAQIECBAgQIAAAQIECBAgQIAAAQIECBAgQIAAAQIECBAgQIAAAQIECBAgQIAAAQIECBAgQIAAAQIECBAgQIAAAQIECBAgQIAAAQIECBAgQIAAAQIECBAgQIAAAQIECBAgQIAAAQIECBAgQIAAAQIECBAgQIAAAQIECBAgQIAAAQIECBAgQIAAAQIECBAgQIAAAQIECBAgQIAAAQIECBAgQIAAAQIECBAgQIAAAQIECBAgQIAAAQIECBAgQIAAAQIECBAgQIAAAQIECBAgQIAAAQIECBAgQIAAAQIECBAgQIAAAQIECBAgQIAAAQIECBAgQIAAAQIECBAgQIAAAQIECBAgQIAAAQIECBAgQIAAAQIECBAgQIAAAQIECBAgQIAAAQIECBAgQIAAAQIECBAgQIAAAQIECBAgQIAAAQIECBAgQIAAAQIECBAgQIAAAQIECBAgQIAAAQIECBAgQIAAAQIECBAgQIAAAQIECBAgQIAAAQIECBAgQIAAAQIECBAgQIAAAQIECBAgQIAAAQIECBAgQIAAAQIECBAgQIAAAQIECBAgQIAAAQIECBAgQIAAAQIECBAgQIAAAQIECBAgQIAAAQIECBAgQIAAAQIECBAgQIAAAQIECBAgQIAAAQIECBAgQIAAAQIECBAgQIAAAQIECBAgQIAAAQIECBAgQIAAAQIECBAgQIAAAQIECBAgQIAAAQIECBAgQIAAAQIECBAgQIAAAQIECBAgQIAAAQIECBAgQIAAAQIECBAgQIAAAQIECBAgQIAAAQIECBAgQIAAAQIECBAgQIAAAQIECBAgQIAAAQIECBAgQIAAAQIECBAgQIAAAQIECBAgQIAAAQIECBAgQIAAAQIECBAgQIAAAQIECBAgQIAAAQIECBAgQIAAAQIECBAgQIAAAQIECBAgQIAAAQIECBAgQIAAAQIECBAgQIAAAQIECBAgQIAAAQIECBAgQIAAAQIECBAgQIAAAQIECBAgQIAAAQIECBAgQIAAAQIECBAgQIAAAQIECBAgQIAAAQIECBAgQIAAAQIECBAgQIAAAQIECBAgQIAAAQIECBAgQIAAAQIECBAgQIAAAQIECBAgQIAAAQIECBAgQIAAAQIECBAgQIAAAQIECBAgQIAAAQIECBAgQIAAAQIECBAgQIAAAQIECBAgQIAAAQIECBAgQIAAAQIECBAgQIAAAQIECBAgQIAAAQIECBAgQIAAAQIECBAgQIAAAQIECBAgQIAAAQIECBAgQIAAAQIECBAgQIAAAQIECBAgQIAAAQIECBAgQIAAAQIECBAgQIAAAQIECBAgQIAAAQIECBAgQIAAAQIECBAgQIAAAQIECBAgQIAAAQIECBAgQIAAAQIECBAgQIAAAQIECBAgQIAAAQIECBAgQIAAAQIECBAgQIAAAQIECBAgQIAAAQIECBAgQIAAAQIECBAgQIAAAQIECBAgQIAAAQIECBAgQIAAAQIECBAgQIAAAQIECBAgQIAAAQIECBAgQIAAAQIECBAgQIAAAQIECBAgQIAAAQIECBAgQIAAAQIECBAgQIAAAQIECBAgQIAAAQIECBAgQIAAAQIECBAgQIAAAQIECBAgQIAAAQIECBAgQIAAAQIECBAgQIAAAQIECBAgQIAAAQIECBAgQIAAAQIECBAgQIAAAQIECBAgQIAAAQIECBAgQIAAAQIECBAgQIAAAQIECBAgQIAAAQIECBAgQIAAAQIECBAgQIAAAQIECBAgQIAAAQIECBAgQIAAAQIECBAgQIAAAQIECBAgQIAAAQIECBAgQIAAAQIECBAgQIAAAQIECBAgQIAAAQIECBAgQIAAAQIECBAgQIAAAQIECBAgQIAAAQIECBAgQIAAAQIECBAgQIAAAQIECBAgQIAAAQIECBAgQIAAAQIECBAgQIAAAQIECBAgQIAAAQIECBAgQIAAAQIECBAgQIAAAQIECBAgQIAAAQIECBAgQIAAAQIECBAgQIAAAQIECBAgQIAAAQIECBAgQIAAAQIECBAgQIAAAQIECBAgQIAAAQIECBAgQIAAAQIECBAgQIAAAQIECBAgQIAAAQIECBAgQIAAAQIECBAgQIAAAQIECBAgQIAAAQIECBAgQIAAAQIECBAgQIAAAQIECBAgQIAAAQIECBAgQIAAAQIECBAgQIAAAQIECBAgQIAAAQIECBAgQIAAAQIECBAgQIAAAQIECBAgQIAAAQIECBAgQIAAAQIECBAgQIAAAQIECBAgQIAAAQIECBAgQIAAAQIECBAgQIAAAQIECBAgQIAAAQIECBAgQIAAAQIECBAgQIAAAQIECBAgQIAAAQIECBAgQIAAAQIECBAgQIAAAQIECBAgQIAAAQIECBAgQIAAAQIECBAgQIAAAQIECBAgQIAAAQIECBAgQIAAAQIECBAgQIAAAQIECBAgQIAAAQIECBAgQIAAAQIECBAgQIAAAQIECBAgQIAAAQIECBAgQIAAAQIECBAgQIAAAQIECBAgQIAAAQIECBAgQIAAAQIECBAgQIAAAQIECBAgQIAAAQIECBAgQIAAAQIECBAgQIAAAQIECBAgQIAAAQIECBAgQIAAAQIECBAgQIAAAQIECBAgQIAAAQIECBAgQIAAAQIECBAgQIAAAQIECBAgQIAAAQIECBAgQIAAAQIECBAgQIAAAQIECBAgQIAAAQIECBAgQIAAAQIECBAgQIAAAQIECBAgQIAAAQIECBAgQIAAAQIECBAgQIAAAQIECBAgQIAAAQIECBAgQIAAAQIECBAgQIAAAQIECBAgQIAAAQIECBAgQIAAAQIECBAgQIAAAQIECBAgQIAAAQIECBAgQIAAAQIECBAgQIAAAQIECBAgQIAAAQIECBAgQIAAAQIECBAgQIAAAQIECBAgQIAAAQIECBAgQIAAAQIECBAgQIAAAQIECBAgQIAAAQIECBAgQIAAAQIECBAgQIAAAQIECBAgQIAAAQIECBAgQIAAAQIECBAgQIAAAQIECBAgQIAAAQIECBAgQIAAAQIECBAgQIAAAQIECBAgQIAAAQIECBAgQIAAAQIECBAgQIAAAQIECBAgQIAAAQIECBAgQIAAAQIECBAgQIAAAQIECBAgQIAAAQIECBAgQIAAAQIECBAgQIAAAQIECBAgQIAAAQIECBAgQIAAAQIECBAgQIAAAQIECBAgQIAAAQIECBAgQIAAAQIECBAgQIAAAQIECBAgQIAAAQIECBAgQIAAAQIECBAgQIAAAQIECBAgQIAAAQIECBAgQIAAAQIECBAgQIAAAQIECBAgQIAAAQIECBAgQIAAAQIECBAgQIAAAQIECBAgQIAAAQIECBAgQIAAAQIECBAgQIAAAQIECBAgQIAAAQIECBAgQIAAAQIECBAgQIAAAQIECBAgQIAAAQIECBAgQIAAAQIECBAgQIAAAQIECBAgQIAAAQIECBAgQIAAAQIECBAgQIAAAQIECBAgQIAAAQIECBAgQIAAAQIECBAgQIAAAQIECBAgQIAAAQIECBAgQIAAAQIECBAgQIAAAQIECBAgQIAAAQIECBAgQIAAAQIECBAgQIAAAQIECBAgQIAAAQIECBAgQIAAAQIECBAgQIAAAQIECBAgQIAAAQIECBAgQIAAAQIECBAgQIAAAQIECBAgQIAAAQIECBAgQIAAAQIECBAgQIAAAQIECBAgQIAAAQIECBAgQIAAAQIECBAgQIAAAQIECBAgQIAAAQIECBAgQIAAAQIECBAgQIAAAQIECBAgQIAAAQIECBAgQIAAAQIECBAgQIAAAQIECBAgQIAAAQIECBAgQIAAAQIECBAgQIAAAQIECBAgQIAAAQIECBAgQIAAAQIECBAgQIAAAQIECBAgQIAAAQIECBAgQIAAAQIECBAgQIAAAQIECBAgQIAAAQIECBAgQIAAAQIECBAgQIAAAQIECBAgQIAAAQIECBAgQIAAAQIECBAgQIAAAQIECBAgQIAAAQIECBAgQIAAAQIECBAgQIAAAQIECBAgQIAAAQIECBAgQIAAAQIECBAgQIAAAQIECBAgQIAAAQIECBAgQIAAAQIECBAgQIAAAQIECBAgQIAAAQIECBAgQIAAAQIECBAgQIAAAQIECBAgQIAAAQIECBAgQIAAAQIECBAgQIAAAQIECBAgQIAAAQIECBAgQIAAAQIECBAgQIAAAQIECBAgQIAAAQIECBAgQIAAAQIECBAgQIAAAQIECBAgQIAAAQIECBAgQIAAAQIECBAgQIAAAQIECBAgQIAAAQIECBAgQIAAAQIECBAgQIAAAQIECBAgQIAAAQIECBAgQIAAAQIECBAgQIAAAQIECBAgQIAAAQIECBAgQIAAAQIECBAgQIAAAQIECBAgQIAAAQIECBAgQIAAAQIECBAgQIAAAQIECBAgQIAAAQIECBAgQIAAAQIECBAgQIAAAQIECBAgQIAAAQIECBAgQIAAAQIECBAgQIAAAQIECBAgQIAAAQIECBAgQIAAAQIECBAgQIAAAQIECBAgQIAAAQIECBAgQIAAAQIECBAgQIAAAQIECBAgQIAAAQIECBAgQIAAAQIECBAgQIAAAQIECBAgQIAAAQIECBAgQIAAAQIECBAgQIAAAQIECBAgQIAAAQIECBAgQIAAAQIECBAgQIAAAQIECBAgQIAAAQIECBAgQIAAAQIECBAgQIAAAQIECBAgQIAAAQIECBAgQIAAAQIECBAgQIAAAQIECBAgQIAAAQIECBAgQIAAAQIECBAgQIAAAQIECBAgQIAAAQIECBAgQIAAAQIECBAgQIAAAQIECBAgQIAAAQIECBAgQIAAAQIECBAgQIAAAQIECBAgQIAAAQIECBAgQIAAAQIECBAgQIAAAQIECBAgQIAAAQIECBAgQIAAAQIECBAgQIAAAQIECBAgQIAAAQIECBAgQIAAAQIECBAgQIAAAQIECBAgQIAAAQIECBAgQIAAAQIECBAgQIAAAQIECBAgQIAAAQIECBAgQIAAAQIECBAgQIAAAQIECBAgQIAAAQIECBAgQIAAAQIECBAgQIAAAQIECBAgQIAAAQIECBAgQIAAAQIECBAgQIAAAQIECBAgQIAAAQIECBAgQIAAAQIECBAgQIAAAQIECBAgQIAAAQIECBAgQIAAAQIECBAgQIAAAQIECBAgQIAAAQIECBAgQIAAAQIECBAgQIAAAQIECBAgQIAAAQIECBAgQIAAAQIECBAgQIAAAQIECBAgQIAAAQIECBAgQIAAAQIECBAgQIAAAQIECBAgQIAAAQIECBAgQIAAAQIECBAgQIAAAQIECBAgQIAAAQIECBAgQIAAAQIECBAgQIAAAQIECBAgQIAAAQIECBAgQIAAAQIECBAgQIAAAQIECBAgQIAAAQIECBAgQIAAAQIECBAgQIAAAQIECBAgQIAAAQIECBAgQIAAAQIECBAgQIAAAQIECBAgQIAAAQIECBAgQIAAAQIECBAgQIAAAQIECBAgQIAAAQIECBAgQIAAAQIECBAgQIAAAQIECBAgQIAAAQIECBAgQIAAAQIECBAgQIAAAQIECBAgQIAAAQIECBAgQIAAAQIECBAgQIAAAQIECBAgQIAAAQIECBAgQIAAAQIECBAgQIAAAQIECBAgQIAAAQIECBAgQIAAAQIECBAgQIAAAQIECBAgQIAAAQIECBAgQIAAAQIECBAgQIAAAQIECBAgQIAAAQIECBAgQIAAAQIECBAgQIAAAQIECBAgQIAAAQIECBAgQIAAAQIECBAgQIAAAQIECBAgQIAAAQIECBAgQIAAAQIECBAgQIAAAQIECBAgQIAAAQIECBAgQIAAAQIECBAgQIAAAQIECBAgQIAAAQIECBAgQIAAAQIECBAgQIAAAQIECBAgQIAAAQIECBAgQIAAAQIECBAgQIAAAQIECBAgQIAAAQIECBAgQIAAAQIECBAgQIAAAQIECBAgQIAAAQIECBAgQIAAAQIECBAgQIAAAQIECBAgQIAAAQIECBAgQIAAAQIECBAgQIAAAQIECBAgQIAAAQIECBAgQIAAAQIECBAgQIAAAQIECBAgQIAAAQIECBAgQIAAAQIECBAgQIAAAQIECBAgQIAAAQIECBAgQIAAAQIECBAgQIAAAQIECBAgQIAAAQIECBAgQIAAAQIECBAgQIAAAQIECBAgQIAAAQIECBAgQIAAAQIECBAgQIAAAQIECBAgQIAAAQIECBAgQIAAAQIECBAgQIAAAQIECBAgQIAAAQIECBAgQIAAAQIECBAgQIAAAQIECBAgQIAAAQIECBAgQIAAAQIECBAgQIAAAQIECBAgQIAAAQIECBAgQIAAAQIECBAgQIAAAQIECBAgQIAAAQIECBAgQIAAAQIECBAgQIAAAQIECBAgQIAAAQIECBAgQIAAAQIECBAgQIAAAQIECBAgQIAAAQIECBAgQIAAAQIECBAgQIAAAQIECBAgQIAAAQIECBAgQIAAAQIECBAgQIAAAQIECBAgQIAAAQIECBAgQIAAAQIECBAgQIAAAQIECBAgQIAAAQIECBAgQIAAAQIECBAgQIAAAQIECBAgQIAAAQIECBAgQIAAAQIECBAgQIAAAQIECBAgQIAAAQIECBAgQIAAAQIECBAgQIAAAQIECBAgQIAAAQIECBAgQIAAAQIECBAgQIAAAQIECBAgQIAAAQIECBAgQIAAAQIECBAgQIDAvxH4DZzOZfKyTKV+AAAAAElFTkSuQmCC\" width=\"993.5\">"
      ],
      "text/plain": [
       "<IPython.core.display.HTML object>"
      ]
     },
     "metadata": {},
     "output_type": "display_data"
    },
    {
     "name": "stderr",
     "output_type": "stream",
     "text": [
      "/Users/arshad/opt/anaconda3/envs/DML/lib/python3.7/site-packages/sklearn/metrics/_classification.py:1221: UndefinedMetricWarning: Precision and F-score are ill-defined and being set to 0.0 in labels with no predicted samples. Use `zero_division` parameter to control this behavior.\n",
      "  _warn_prf(average, modifier, msg_start, len(result))\n"
     ]
    },
    {
     "data": {
      "application/javascript": [
       "/* Put everything inside the global mpl namespace */\n",
       "/* global mpl */\n",
       "window.mpl = {};\n",
       "\n",
       "mpl.get_websocket_type = function () {\n",
       "    if (typeof WebSocket !== 'undefined') {\n",
       "        return WebSocket;\n",
       "    } else if (typeof MozWebSocket !== 'undefined') {\n",
       "        return MozWebSocket;\n",
       "    } else {\n",
       "        alert(\n",
       "            'Your browser does not have WebSocket support. ' +\n",
       "                'Please try Chrome, Safari or Firefox ≥ 6. ' +\n",
       "                'Firefox 4 and 5 are also supported but you ' +\n",
       "                'have to enable WebSockets in about:config.'\n",
       "        );\n",
       "    }\n",
       "};\n",
       "\n",
       "mpl.figure = function (figure_id, websocket, ondownload, parent_element) {\n",
       "    this.id = figure_id;\n",
       "\n",
       "    this.ws = websocket;\n",
       "\n",
       "    this.supports_binary = this.ws.binaryType !== undefined;\n",
       "\n",
       "    if (!this.supports_binary) {\n",
       "        var warnings = document.getElementById('mpl-warnings');\n",
       "        if (warnings) {\n",
       "            warnings.style.display = 'block';\n",
       "            warnings.textContent =\n",
       "                'This browser does not support binary websocket messages. ' +\n",
       "                'Performance may be slow.';\n",
       "        }\n",
       "    }\n",
       "\n",
       "    this.imageObj = new Image();\n",
       "\n",
       "    this.context = undefined;\n",
       "    this.message = undefined;\n",
       "    this.canvas = undefined;\n",
       "    this.rubberband_canvas = undefined;\n",
       "    this.rubberband_context = undefined;\n",
       "    this.format_dropdown = undefined;\n",
       "\n",
       "    this.image_mode = 'full';\n",
       "\n",
       "    this.root = document.createElement('div');\n",
       "    this.root.setAttribute('style', 'display: inline-block');\n",
       "    this._root_extra_style(this.root);\n",
       "\n",
       "    parent_element.appendChild(this.root);\n",
       "\n",
       "    this._init_header(this);\n",
       "    this._init_canvas(this);\n",
       "    this._init_toolbar(this);\n",
       "\n",
       "    var fig = this;\n",
       "\n",
       "    this.waiting = false;\n",
       "\n",
       "    this.ws.onopen = function () {\n",
       "        fig.send_message('supports_binary', { value: fig.supports_binary });\n",
       "        fig.send_message('send_image_mode', {});\n",
       "        if (mpl.ratio !== 1) {\n",
       "            fig.send_message('set_dpi_ratio', { dpi_ratio: mpl.ratio });\n",
       "        }\n",
       "        fig.send_message('refresh', {});\n",
       "    };\n",
       "\n",
       "    this.imageObj.onload = function () {\n",
       "        if (fig.image_mode === 'full') {\n",
       "            // Full images could contain transparency (where diff images\n",
       "            // almost always do), so we need to clear the canvas so that\n",
       "            // there is no ghosting.\n",
       "            fig.context.clearRect(0, 0, fig.canvas.width, fig.canvas.height);\n",
       "        }\n",
       "        fig.context.drawImage(fig.imageObj, 0, 0);\n",
       "    };\n",
       "\n",
       "    this.imageObj.onunload = function () {\n",
       "        fig.ws.close();\n",
       "    };\n",
       "\n",
       "    this.ws.onmessage = this._make_on_message_function(this);\n",
       "\n",
       "    this.ondownload = ondownload;\n",
       "};\n",
       "\n",
       "mpl.figure.prototype._init_header = function () {\n",
       "    var titlebar = document.createElement('div');\n",
       "    titlebar.classList =\n",
       "        'ui-dialog-titlebar ui-widget-header ui-corner-all ui-helper-clearfix';\n",
       "    var titletext = document.createElement('div');\n",
       "    titletext.classList = 'ui-dialog-title';\n",
       "    titletext.setAttribute(\n",
       "        'style',\n",
       "        'width: 100%; text-align: center; padding: 3px;'\n",
       "    );\n",
       "    titlebar.appendChild(titletext);\n",
       "    this.root.appendChild(titlebar);\n",
       "    this.header = titletext;\n",
       "};\n",
       "\n",
       "mpl.figure.prototype._canvas_extra_style = function (_canvas_div) {};\n",
       "\n",
       "mpl.figure.prototype._root_extra_style = function (_canvas_div) {};\n",
       "\n",
       "mpl.figure.prototype._init_canvas = function () {\n",
       "    var fig = this;\n",
       "\n",
       "    var canvas_div = (this.canvas_div = document.createElement('div'));\n",
       "    canvas_div.setAttribute(\n",
       "        'style',\n",
       "        'border: 1px solid #ddd;' +\n",
       "            'box-sizing: content-box;' +\n",
       "            'clear: both;' +\n",
       "            'min-height: 1px;' +\n",
       "            'min-width: 1px;' +\n",
       "            'outline: 0;' +\n",
       "            'overflow: hidden;' +\n",
       "            'position: relative;' +\n",
       "            'resize: both;'\n",
       "    );\n",
       "\n",
       "    function on_keyboard_event_closure(name) {\n",
       "        return function (event) {\n",
       "            return fig.key_event(event, name);\n",
       "        };\n",
       "    }\n",
       "\n",
       "    canvas_div.addEventListener(\n",
       "        'keydown',\n",
       "        on_keyboard_event_closure('key_press')\n",
       "    );\n",
       "    canvas_div.addEventListener(\n",
       "        'keyup',\n",
       "        on_keyboard_event_closure('key_release')\n",
       "    );\n",
       "\n",
       "    this._canvas_extra_style(canvas_div);\n",
       "    this.root.appendChild(canvas_div);\n",
       "\n",
       "    var canvas = (this.canvas = document.createElement('canvas'));\n",
       "    canvas.classList.add('mpl-canvas');\n",
       "    canvas.setAttribute('style', 'box-sizing: content-box;');\n",
       "\n",
       "    this.context = canvas.getContext('2d');\n",
       "\n",
       "    var backingStore =\n",
       "        this.context.backingStorePixelRatio ||\n",
       "        this.context.webkitBackingStorePixelRatio ||\n",
       "        this.context.mozBackingStorePixelRatio ||\n",
       "        this.context.msBackingStorePixelRatio ||\n",
       "        this.context.oBackingStorePixelRatio ||\n",
       "        this.context.backingStorePixelRatio ||\n",
       "        1;\n",
       "\n",
       "    mpl.ratio = (window.devicePixelRatio || 1) / backingStore;\n",
       "\n",
       "    var rubberband_canvas = (this.rubberband_canvas = document.createElement(\n",
       "        'canvas'\n",
       "    ));\n",
       "    rubberband_canvas.setAttribute(\n",
       "        'style',\n",
       "        'box-sizing: content-box; position: absolute; left: 0; top: 0; z-index: 1;'\n",
       "    );\n",
       "\n",
       "    var resizeObserver = new ResizeObserver(function (entries) {\n",
       "        var nentries = entries.length;\n",
       "        for (var i = 0; i < nentries; i++) {\n",
       "            var entry = entries[i];\n",
       "            var width, height;\n",
       "            if (entry.contentBoxSize) {\n",
       "                if (entry.contentBoxSize instanceof Array) {\n",
       "                    // Chrome 84 implements new version of spec.\n",
       "                    width = entry.contentBoxSize[0].inlineSize;\n",
       "                    height = entry.contentBoxSize[0].blockSize;\n",
       "                } else {\n",
       "                    // Firefox implements old version of spec.\n",
       "                    width = entry.contentBoxSize.inlineSize;\n",
       "                    height = entry.contentBoxSize.blockSize;\n",
       "                }\n",
       "            } else {\n",
       "                // Chrome <84 implements even older version of spec.\n",
       "                width = entry.contentRect.width;\n",
       "                height = entry.contentRect.height;\n",
       "            }\n",
       "\n",
       "            // Keep the size of the canvas and rubber band canvas in sync with\n",
       "            // the canvas container.\n",
       "            if (entry.devicePixelContentBoxSize) {\n",
       "                // Chrome 84 implements new version of spec.\n",
       "                canvas.setAttribute(\n",
       "                    'width',\n",
       "                    entry.devicePixelContentBoxSize[0].inlineSize\n",
       "                );\n",
       "                canvas.setAttribute(\n",
       "                    'height',\n",
       "                    entry.devicePixelContentBoxSize[0].blockSize\n",
       "                );\n",
       "            } else {\n",
       "                canvas.setAttribute('width', width * mpl.ratio);\n",
       "                canvas.setAttribute('height', height * mpl.ratio);\n",
       "            }\n",
       "            canvas.setAttribute(\n",
       "                'style',\n",
       "                'width: ' + width + 'px; height: ' + height + 'px;'\n",
       "            );\n",
       "\n",
       "            rubberband_canvas.setAttribute('width', width);\n",
       "            rubberband_canvas.setAttribute('height', height);\n",
       "\n",
       "            // And update the size in Python. We ignore the initial 0/0 size\n",
       "            // that occurs as the element is placed into the DOM, which should\n",
       "            // otherwise not happen due to the minimum size styling.\n",
       "            if (width != 0 && height != 0) {\n",
       "                fig.request_resize(width, height);\n",
       "            }\n",
       "        }\n",
       "    });\n",
       "    resizeObserver.observe(canvas_div);\n",
       "\n",
       "    function on_mouse_event_closure(name) {\n",
       "        return function (event) {\n",
       "            return fig.mouse_event(event, name);\n",
       "        };\n",
       "    }\n",
       "\n",
       "    rubberband_canvas.addEventListener(\n",
       "        'mousedown',\n",
       "        on_mouse_event_closure('button_press')\n",
       "    );\n",
       "    rubberband_canvas.addEventListener(\n",
       "        'mouseup',\n",
       "        on_mouse_event_closure('button_release')\n",
       "    );\n",
       "    // Throttle sequential mouse events to 1 every 20ms.\n",
       "    rubberband_canvas.addEventListener(\n",
       "        'mousemove',\n",
       "        on_mouse_event_closure('motion_notify')\n",
       "    );\n",
       "\n",
       "    rubberband_canvas.addEventListener(\n",
       "        'mouseenter',\n",
       "        on_mouse_event_closure('figure_enter')\n",
       "    );\n",
       "    rubberband_canvas.addEventListener(\n",
       "        'mouseleave',\n",
       "        on_mouse_event_closure('figure_leave')\n",
       "    );\n",
       "\n",
       "    canvas_div.addEventListener('wheel', function (event) {\n",
       "        if (event.deltaY < 0) {\n",
       "            event.step = 1;\n",
       "        } else {\n",
       "            event.step = -1;\n",
       "        }\n",
       "        on_mouse_event_closure('scroll')(event);\n",
       "    });\n",
       "\n",
       "    canvas_div.appendChild(canvas);\n",
       "    canvas_div.appendChild(rubberband_canvas);\n",
       "\n",
       "    this.rubberband_context = rubberband_canvas.getContext('2d');\n",
       "    this.rubberband_context.strokeStyle = '#000000';\n",
       "\n",
       "    this._resize_canvas = function (width, height, forward) {\n",
       "        if (forward) {\n",
       "            canvas_div.style.width = width + 'px';\n",
       "            canvas_div.style.height = height + 'px';\n",
       "        }\n",
       "    };\n",
       "\n",
       "    // Disable right mouse context menu.\n",
       "    this.rubberband_canvas.addEventListener('contextmenu', function (_e) {\n",
       "        event.preventDefault();\n",
       "        return false;\n",
       "    });\n",
       "\n",
       "    function set_focus() {\n",
       "        canvas.focus();\n",
       "        canvas_div.focus();\n",
       "    }\n",
       "\n",
       "    window.setTimeout(set_focus, 100);\n",
       "};\n",
       "\n",
       "mpl.figure.prototype._init_toolbar = function () {\n",
       "    var fig = this;\n",
       "\n",
       "    var toolbar = document.createElement('div');\n",
       "    toolbar.classList = 'mpl-toolbar';\n",
       "    this.root.appendChild(toolbar);\n",
       "\n",
       "    function on_click_closure(name) {\n",
       "        return function (_event) {\n",
       "            return fig.toolbar_button_onclick(name);\n",
       "        };\n",
       "    }\n",
       "\n",
       "    function on_mouseover_closure(tooltip) {\n",
       "        return function (event) {\n",
       "            if (!event.currentTarget.disabled) {\n",
       "                return fig.toolbar_button_onmouseover(tooltip);\n",
       "            }\n",
       "        };\n",
       "    }\n",
       "\n",
       "    fig.buttons = {};\n",
       "    var buttonGroup = document.createElement('div');\n",
       "    buttonGroup.classList = 'mpl-button-group';\n",
       "    for (var toolbar_ind in mpl.toolbar_items) {\n",
       "        var name = mpl.toolbar_items[toolbar_ind][0];\n",
       "        var tooltip = mpl.toolbar_items[toolbar_ind][1];\n",
       "        var image = mpl.toolbar_items[toolbar_ind][2];\n",
       "        var method_name = mpl.toolbar_items[toolbar_ind][3];\n",
       "\n",
       "        if (!name) {\n",
       "            /* Instead of a spacer, we start a new button group. */\n",
       "            if (buttonGroup.hasChildNodes()) {\n",
       "                toolbar.appendChild(buttonGroup);\n",
       "            }\n",
       "            buttonGroup = document.createElement('div');\n",
       "            buttonGroup.classList = 'mpl-button-group';\n",
       "            continue;\n",
       "        }\n",
       "\n",
       "        var button = (fig.buttons[name] = document.createElement('button'));\n",
       "        button.classList = 'mpl-widget';\n",
       "        button.setAttribute('role', 'button');\n",
       "        button.setAttribute('aria-disabled', 'false');\n",
       "        button.addEventListener('click', on_click_closure(method_name));\n",
       "        button.addEventListener('mouseover', on_mouseover_closure(tooltip));\n",
       "\n",
       "        var icon_img = document.createElement('img');\n",
       "        icon_img.src = '_images/' + image + '.png';\n",
       "        icon_img.srcset = '_images/' + image + '_large.png 2x';\n",
       "        icon_img.alt = tooltip;\n",
       "        button.appendChild(icon_img);\n",
       "\n",
       "        buttonGroup.appendChild(button);\n",
       "    }\n",
       "\n",
       "    if (buttonGroup.hasChildNodes()) {\n",
       "        toolbar.appendChild(buttonGroup);\n",
       "    }\n",
       "\n",
       "    var fmt_picker = document.createElement('select');\n",
       "    fmt_picker.classList = 'mpl-widget';\n",
       "    toolbar.appendChild(fmt_picker);\n",
       "    this.format_dropdown = fmt_picker;\n",
       "\n",
       "    for (var ind in mpl.extensions) {\n",
       "        var fmt = mpl.extensions[ind];\n",
       "        var option = document.createElement('option');\n",
       "        option.selected = fmt === mpl.default_extension;\n",
       "        option.innerHTML = fmt;\n",
       "        fmt_picker.appendChild(option);\n",
       "    }\n",
       "\n",
       "    var status_bar = document.createElement('span');\n",
       "    status_bar.classList = 'mpl-message';\n",
       "    toolbar.appendChild(status_bar);\n",
       "    this.message = status_bar;\n",
       "};\n",
       "\n",
       "mpl.figure.prototype.request_resize = function (x_pixels, y_pixels) {\n",
       "    // Request matplotlib to resize the figure. Matplotlib will then trigger a resize in the client,\n",
       "    // which will in turn request a refresh of the image.\n",
       "    this.send_message('resize', { width: x_pixels, height: y_pixels });\n",
       "};\n",
       "\n",
       "mpl.figure.prototype.send_message = function (type, properties) {\n",
       "    properties['type'] = type;\n",
       "    properties['figure_id'] = this.id;\n",
       "    this.ws.send(JSON.stringify(properties));\n",
       "};\n",
       "\n",
       "mpl.figure.prototype.send_draw_message = function () {\n",
       "    if (!this.waiting) {\n",
       "        this.waiting = true;\n",
       "        this.ws.send(JSON.stringify({ type: 'draw', figure_id: this.id }));\n",
       "    }\n",
       "};\n",
       "\n",
       "mpl.figure.prototype.handle_save = function (fig, _msg) {\n",
       "    var format_dropdown = fig.format_dropdown;\n",
       "    var format = format_dropdown.options[format_dropdown.selectedIndex].value;\n",
       "    fig.ondownload(fig, format);\n",
       "};\n",
       "\n",
       "mpl.figure.prototype.handle_resize = function (fig, msg) {\n",
       "    var size = msg['size'];\n",
       "    if (size[0] !== fig.canvas.width || size[1] !== fig.canvas.height) {\n",
       "        fig._resize_canvas(size[0], size[1], msg['forward']);\n",
       "        fig.send_message('refresh', {});\n",
       "    }\n",
       "};\n",
       "\n",
       "mpl.figure.prototype.handle_rubberband = function (fig, msg) {\n",
       "    var x0 = msg['x0'] / mpl.ratio;\n",
       "    var y0 = (fig.canvas.height - msg['y0']) / mpl.ratio;\n",
       "    var x1 = msg['x1'] / mpl.ratio;\n",
       "    var y1 = (fig.canvas.height - msg['y1']) / mpl.ratio;\n",
       "    x0 = Math.floor(x0) + 0.5;\n",
       "    y0 = Math.floor(y0) + 0.5;\n",
       "    x1 = Math.floor(x1) + 0.5;\n",
       "    y1 = Math.floor(y1) + 0.5;\n",
       "    var min_x = Math.min(x0, x1);\n",
       "    var min_y = Math.min(y0, y1);\n",
       "    var width = Math.abs(x1 - x0);\n",
       "    var height = Math.abs(y1 - y0);\n",
       "\n",
       "    fig.rubberband_context.clearRect(\n",
       "        0,\n",
       "        0,\n",
       "        fig.canvas.width / mpl.ratio,\n",
       "        fig.canvas.height / mpl.ratio\n",
       "    );\n",
       "\n",
       "    fig.rubberband_context.strokeRect(min_x, min_y, width, height);\n",
       "};\n",
       "\n",
       "mpl.figure.prototype.handle_figure_label = function (fig, msg) {\n",
       "    // Updates the figure title.\n",
       "    fig.header.textContent = msg['label'];\n",
       "};\n",
       "\n",
       "mpl.figure.prototype.handle_cursor = function (fig, msg) {\n",
       "    var cursor = msg['cursor'];\n",
       "    switch (cursor) {\n",
       "        case 0:\n",
       "            cursor = 'pointer';\n",
       "            break;\n",
       "        case 1:\n",
       "            cursor = 'default';\n",
       "            break;\n",
       "        case 2:\n",
       "            cursor = 'crosshair';\n",
       "            break;\n",
       "        case 3:\n",
       "            cursor = 'move';\n",
       "            break;\n",
       "    }\n",
       "    fig.rubberband_canvas.style.cursor = cursor;\n",
       "};\n",
       "\n",
       "mpl.figure.prototype.handle_message = function (fig, msg) {\n",
       "    fig.message.textContent = msg['message'];\n",
       "};\n",
       "\n",
       "mpl.figure.prototype.handle_draw = function (fig, _msg) {\n",
       "    // Request the server to send over a new figure.\n",
       "    fig.send_draw_message();\n",
       "};\n",
       "\n",
       "mpl.figure.prototype.handle_image_mode = function (fig, msg) {\n",
       "    fig.image_mode = msg['mode'];\n",
       "};\n",
       "\n",
       "mpl.figure.prototype.handle_history_buttons = function (fig, msg) {\n",
       "    for (var key in msg) {\n",
       "        if (!(key in fig.buttons)) {\n",
       "            continue;\n",
       "        }\n",
       "        fig.buttons[key].disabled = !msg[key];\n",
       "        fig.buttons[key].setAttribute('aria-disabled', !msg[key]);\n",
       "    }\n",
       "};\n",
       "\n",
       "mpl.figure.prototype.handle_navigate_mode = function (fig, msg) {\n",
       "    if (msg['mode'] === 'PAN') {\n",
       "        fig.buttons['Pan'].classList.add('active');\n",
       "        fig.buttons['Zoom'].classList.remove('active');\n",
       "    } else if (msg['mode'] === 'ZOOM') {\n",
       "        fig.buttons['Pan'].classList.remove('active');\n",
       "        fig.buttons['Zoom'].classList.add('active');\n",
       "    } else {\n",
       "        fig.buttons['Pan'].classList.remove('active');\n",
       "        fig.buttons['Zoom'].classList.remove('active');\n",
       "    }\n",
       "};\n",
       "\n",
       "mpl.figure.prototype.updated_canvas_event = function () {\n",
       "    // Called whenever the canvas gets updated.\n",
       "    this.send_message('ack', {});\n",
       "};\n",
       "\n",
       "// A function to construct a web socket function for onmessage handling.\n",
       "// Called in the figure constructor.\n",
       "mpl.figure.prototype._make_on_message_function = function (fig) {\n",
       "    return function socket_on_message(evt) {\n",
       "        if (evt.data instanceof Blob) {\n",
       "            /* FIXME: We get \"Resource interpreted as Image but\n",
       "             * transferred with MIME type text/plain:\" errors on\n",
       "             * Chrome.  But how to set the MIME type?  It doesn't seem\n",
       "             * to be part of the websocket stream */\n",
       "            evt.data.type = 'image/png';\n",
       "\n",
       "            /* Free the memory for the previous frames */\n",
       "            if (fig.imageObj.src) {\n",
       "                (window.URL || window.webkitURL).revokeObjectURL(\n",
       "                    fig.imageObj.src\n",
       "                );\n",
       "            }\n",
       "\n",
       "            fig.imageObj.src = (window.URL || window.webkitURL).createObjectURL(\n",
       "                evt.data\n",
       "            );\n",
       "            fig.updated_canvas_event();\n",
       "            fig.waiting = false;\n",
       "            return;\n",
       "        } else if (\n",
       "            typeof evt.data === 'string' &&\n",
       "            evt.data.slice(0, 21) === 'data:image/png;base64'\n",
       "        ) {\n",
       "            fig.imageObj.src = evt.data;\n",
       "            fig.updated_canvas_event();\n",
       "            fig.waiting = false;\n",
       "            return;\n",
       "        }\n",
       "\n",
       "        var msg = JSON.parse(evt.data);\n",
       "        var msg_type = msg['type'];\n",
       "\n",
       "        // Call the  \"handle_{type}\" callback, which takes\n",
       "        // the figure and JSON message as its only arguments.\n",
       "        try {\n",
       "            var callback = fig['handle_' + msg_type];\n",
       "        } catch (e) {\n",
       "            console.log(\n",
       "                \"No handler for the '\" + msg_type + \"' message type: \",\n",
       "                msg\n",
       "            );\n",
       "            return;\n",
       "        }\n",
       "\n",
       "        if (callback) {\n",
       "            try {\n",
       "                // console.log(\"Handling '\" + msg_type + \"' message: \", msg);\n",
       "                callback(fig, msg);\n",
       "            } catch (e) {\n",
       "                console.log(\n",
       "                    \"Exception inside the 'handler_\" + msg_type + \"' callback:\",\n",
       "                    e,\n",
       "                    e.stack,\n",
       "                    msg\n",
       "                );\n",
       "            }\n",
       "        }\n",
       "    };\n",
       "};\n",
       "\n",
       "// from http://stackoverflow.com/questions/1114465/getting-mouse-location-in-canvas\n",
       "mpl.findpos = function (e) {\n",
       "    //this section is from http://www.quirksmode.org/js/events_properties.html\n",
       "    var targ;\n",
       "    if (!e) {\n",
       "        e = window.event;\n",
       "    }\n",
       "    if (e.target) {\n",
       "        targ = e.target;\n",
       "    } else if (e.srcElement) {\n",
       "        targ = e.srcElement;\n",
       "    }\n",
       "    if (targ.nodeType === 3) {\n",
       "        // defeat Safari bug\n",
       "        targ = targ.parentNode;\n",
       "    }\n",
       "\n",
       "    // pageX,Y are the mouse positions relative to the document\n",
       "    var boundingRect = targ.getBoundingClientRect();\n",
       "    var x = e.pageX - (boundingRect.left + document.body.scrollLeft);\n",
       "    var y = e.pageY - (boundingRect.top + document.body.scrollTop);\n",
       "\n",
       "    return { x: x, y: y };\n",
       "};\n",
       "\n",
       "/*\n",
       " * return a copy of an object with only non-object keys\n",
       " * we need this to avoid circular references\n",
       " * http://stackoverflow.com/a/24161582/3208463\n",
       " */\n",
       "function simpleKeys(original) {\n",
       "    return Object.keys(original).reduce(function (obj, key) {\n",
       "        if (typeof original[key] !== 'object') {\n",
       "            obj[key] = original[key];\n",
       "        }\n",
       "        return obj;\n",
       "    }, {});\n",
       "}\n",
       "\n",
       "mpl.figure.prototype.mouse_event = function (event, name) {\n",
       "    var canvas_pos = mpl.findpos(event);\n",
       "\n",
       "    if (name === 'button_press') {\n",
       "        this.canvas.focus();\n",
       "        this.canvas_div.focus();\n",
       "    }\n",
       "\n",
       "    var x = canvas_pos.x * mpl.ratio;\n",
       "    var y = canvas_pos.y * mpl.ratio;\n",
       "\n",
       "    this.send_message(name, {\n",
       "        x: x,\n",
       "        y: y,\n",
       "        button: event.button,\n",
       "        step: event.step,\n",
       "        guiEvent: simpleKeys(event),\n",
       "    });\n",
       "\n",
       "    /* This prevents the web browser from automatically changing to\n",
       "     * the text insertion cursor when the button is pressed.  We want\n",
       "     * to control all of the cursor setting manually through the\n",
       "     * 'cursor' event from matplotlib */\n",
       "    event.preventDefault();\n",
       "    return false;\n",
       "};\n",
       "\n",
       "mpl.figure.prototype._key_event_extra = function (_event, _name) {\n",
       "    // Handle any extra behaviour associated with a key event\n",
       "};\n",
       "\n",
       "mpl.figure.prototype.key_event = function (event, name) {\n",
       "    // Prevent repeat events\n",
       "    if (name === 'key_press') {\n",
       "        if (event.which === this._key) {\n",
       "            return;\n",
       "        } else {\n",
       "            this._key = event.which;\n",
       "        }\n",
       "    }\n",
       "    if (name === 'key_release') {\n",
       "        this._key = null;\n",
       "    }\n",
       "\n",
       "    var value = '';\n",
       "    if (event.ctrlKey && event.which !== 17) {\n",
       "        value += 'ctrl+';\n",
       "    }\n",
       "    if (event.altKey && event.which !== 18) {\n",
       "        value += 'alt+';\n",
       "    }\n",
       "    if (event.shiftKey && event.which !== 16) {\n",
       "        value += 'shift+';\n",
       "    }\n",
       "\n",
       "    value += 'k';\n",
       "    value += event.which.toString();\n",
       "\n",
       "    this._key_event_extra(event, name);\n",
       "\n",
       "    this.send_message(name, { key: value, guiEvent: simpleKeys(event) });\n",
       "    return false;\n",
       "};\n",
       "\n",
       "mpl.figure.prototype.toolbar_button_onclick = function (name) {\n",
       "    if (name === 'download') {\n",
       "        this.handle_save(this, null);\n",
       "    } else {\n",
       "        this.send_message('toolbar_button', { name: name });\n",
       "    }\n",
       "};\n",
       "\n",
       "mpl.figure.prototype.toolbar_button_onmouseover = function (tooltip) {\n",
       "    this.message.textContent = tooltip;\n",
       "};\n",
       "mpl.toolbar_items = [[\"Home\", \"Reset original view\", \"fa fa-home icon-home\", \"home\"], [\"Back\", \"Back to previous view\", \"fa fa-arrow-left icon-arrow-left\", \"back\"], [\"Forward\", \"Forward to next view\", \"fa fa-arrow-right icon-arrow-right\", \"forward\"], [\"\", \"\", \"\", \"\"], [\"Pan\", \"Left button pans, Right button zooms\\nx/y fixes axis, CTRL fixes aspect\", \"fa fa-arrows icon-move\", \"pan\"], [\"Zoom\", \"Zoom to rectangle\\nx/y fixes axis, CTRL fixes aspect\", \"fa fa-square-o icon-check-empty\", \"zoom\"], [\"\", \"\", \"\", \"\"], [\"Download\", \"Download plot\", \"fa fa-floppy-o icon-save\", \"download\"]];\n",
       "\n",
       "mpl.extensions = [\"eps\", \"jpeg\", \"pdf\", \"png\", \"ps\", \"raw\", \"svg\", \"tif\"];\n",
       "\n",
       "mpl.default_extension = \"png\";/* global mpl */\n",
       "\n",
       "var comm_websocket_adapter = function (comm) {\n",
       "    // Create a \"websocket\"-like object which calls the given IPython comm\n",
       "    // object with the appropriate methods. Currently this is a non binary\n",
       "    // socket, so there is still some room for performance tuning.\n",
       "    var ws = {};\n",
       "\n",
       "    ws.close = function () {\n",
       "        comm.close();\n",
       "    };\n",
       "    ws.send = function (m) {\n",
       "        //console.log('sending', m);\n",
       "        comm.send(m);\n",
       "    };\n",
       "    // Register the callback with on_msg.\n",
       "    comm.on_msg(function (msg) {\n",
       "        //console.log('receiving', msg['content']['data'], msg);\n",
       "        // Pass the mpl event to the overridden (by mpl) onmessage function.\n",
       "        ws.onmessage(msg['content']['data']);\n",
       "    });\n",
       "    return ws;\n",
       "};\n",
       "\n",
       "mpl.mpl_figure_comm = function (comm, msg) {\n",
       "    // This is the function which gets called when the mpl process\n",
       "    // starts-up an IPython Comm through the \"matplotlib\" channel.\n",
       "\n",
       "    var id = msg.content.data.id;\n",
       "    // Get hold of the div created by the display call when the Comm\n",
       "    // socket was opened in Python.\n",
       "    var element = document.getElementById(id);\n",
       "    var ws_proxy = comm_websocket_adapter(comm);\n",
       "\n",
       "    function ondownload(figure, _format) {\n",
       "        window.open(figure.canvas.toDataURL());\n",
       "    }\n",
       "\n",
       "    var fig = new mpl.figure(id, ws_proxy, ondownload, element);\n",
       "\n",
       "    // Call onopen now - mpl needs it, as it is assuming we've passed it a real\n",
       "    // web socket which is closed, not our websocket->open comm proxy.\n",
       "    ws_proxy.onopen();\n",
       "\n",
       "    fig.parent_element = element;\n",
       "    fig.cell_info = mpl.find_output_cell(\"<div id='\" + id + \"'></div>\");\n",
       "    if (!fig.cell_info) {\n",
       "        console.error('Failed to find cell for figure', id, fig);\n",
       "        return;\n",
       "    }\n",
       "};\n",
       "\n",
       "mpl.figure.prototype.handle_close = function (fig, msg) {\n",
       "    var width = fig.canvas.width / mpl.ratio;\n",
       "    fig.root.removeEventListener('remove', this._remove_fig_handler);\n",
       "\n",
       "    // Update the output cell to use the data from the current canvas.\n",
       "    fig.push_to_output();\n",
       "    var dataURL = fig.canvas.toDataURL();\n",
       "    // Re-enable the keyboard manager in IPython - without this line, in FF,\n",
       "    // the notebook keyboard shortcuts fail.\n",
       "    IPython.keyboard_manager.enable();\n",
       "    fig.parent_element.innerHTML =\n",
       "        '<img src=\"' + dataURL + '\" width=\"' + width + '\">';\n",
       "    fig.close_ws(fig, msg);\n",
       "};\n",
       "\n",
       "mpl.figure.prototype.close_ws = function (fig, msg) {\n",
       "    fig.send_message('closing', msg);\n",
       "    // fig.ws.close()\n",
       "};\n",
       "\n",
       "mpl.figure.prototype.push_to_output = function (_remove_interactive) {\n",
       "    // Turn the data on the canvas into data in the output cell.\n",
       "    var width = this.canvas.width / mpl.ratio;\n",
       "    var dataURL = this.canvas.toDataURL();\n",
       "    this.cell_info[1]['text/html'] =\n",
       "        '<img src=\"' + dataURL + '\" width=\"' + width + '\">';\n",
       "};\n",
       "\n",
       "mpl.figure.prototype.updated_canvas_event = function () {\n",
       "    // Tell IPython that the notebook contents must change.\n",
       "    IPython.notebook.set_dirty(true);\n",
       "    this.send_message('ack', {});\n",
       "    var fig = this;\n",
       "    // Wait a second, then push the new image to the DOM so\n",
       "    // that it is saved nicely (might be nice to debounce this).\n",
       "    setTimeout(function () {\n",
       "        fig.push_to_output();\n",
       "    }, 1000);\n",
       "};\n",
       "\n",
       "mpl.figure.prototype._init_toolbar = function () {\n",
       "    var fig = this;\n",
       "\n",
       "    var toolbar = document.createElement('div');\n",
       "    toolbar.classList = 'btn-toolbar';\n",
       "    this.root.appendChild(toolbar);\n",
       "\n",
       "    function on_click_closure(name) {\n",
       "        return function (_event) {\n",
       "            return fig.toolbar_button_onclick(name);\n",
       "        };\n",
       "    }\n",
       "\n",
       "    function on_mouseover_closure(tooltip) {\n",
       "        return function (event) {\n",
       "            if (!event.currentTarget.disabled) {\n",
       "                return fig.toolbar_button_onmouseover(tooltip);\n",
       "            }\n",
       "        };\n",
       "    }\n",
       "\n",
       "    fig.buttons = {};\n",
       "    var buttonGroup = document.createElement('div');\n",
       "    buttonGroup.classList = 'btn-group';\n",
       "    var button;\n",
       "    for (var toolbar_ind in mpl.toolbar_items) {\n",
       "        var name = mpl.toolbar_items[toolbar_ind][0];\n",
       "        var tooltip = mpl.toolbar_items[toolbar_ind][1];\n",
       "        var image = mpl.toolbar_items[toolbar_ind][2];\n",
       "        var method_name = mpl.toolbar_items[toolbar_ind][3];\n",
       "\n",
       "        if (!name) {\n",
       "            /* Instead of a spacer, we start a new button group. */\n",
       "            if (buttonGroup.hasChildNodes()) {\n",
       "                toolbar.appendChild(buttonGroup);\n",
       "            }\n",
       "            buttonGroup = document.createElement('div');\n",
       "            buttonGroup.classList = 'btn-group';\n",
       "            continue;\n",
       "        }\n",
       "\n",
       "        button = fig.buttons[name] = document.createElement('button');\n",
       "        button.classList = 'btn btn-default';\n",
       "        button.href = '#';\n",
       "        button.title = name;\n",
       "        button.innerHTML = '<i class=\"fa ' + image + ' fa-lg\"></i>';\n",
       "        button.addEventListener('click', on_click_closure(method_name));\n",
       "        button.addEventListener('mouseover', on_mouseover_closure(tooltip));\n",
       "        buttonGroup.appendChild(button);\n",
       "    }\n",
       "\n",
       "    if (buttonGroup.hasChildNodes()) {\n",
       "        toolbar.appendChild(buttonGroup);\n",
       "    }\n",
       "\n",
       "    // Add the status bar.\n",
       "    var status_bar = document.createElement('span');\n",
       "    status_bar.classList = 'mpl-message pull-right';\n",
       "    toolbar.appendChild(status_bar);\n",
       "    this.message = status_bar;\n",
       "\n",
       "    // Add the close button to the window.\n",
       "    var buttongrp = document.createElement('div');\n",
       "    buttongrp.classList = 'btn-group inline pull-right';\n",
       "    button = document.createElement('button');\n",
       "    button.classList = 'btn btn-mini btn-primary';\n",
       "    button.href = '#';\n",
       "    button.title = 'Stop Interaction';\n",
       "    button.innerHTML = '<i class=\"fa fa-power-off icon-remove icon-large\"></i>';\n",
       "    button.addEventListener('click', function (_evt) {\n",
       "        fig.handle_close(fig, {});\n",
       "    });\n",
       "    button.addEventListener(\n",
       "        'mouseover',\n",
       "        on_mouseover_closure('Stop Interaction')\n",
       "    );\n",
       "    buttongrp.appendChild(button);\n",
       "    var titlebar = this.root.querySelector('.ui-dialog-titlebar');\n",
       "    titlebar.insertBefore(buttongrp, titlebar.firstChild);\n",
       "};\n",
       "\n",
       "mpl.figure.prototype._remove_fig_handler = function () {\n",
       "    this.close_ws(this, {});\n",
       "};\n",
       "\n",
       "mpl.figure.prototype._root_extra_style = function (el) {\n",
       "    el.style.boxSizing = 'content-box'; // override notebook setting of border-box.\n",
       "    el.addEventListener('remove', this._remove_fig_handler);\n",
       "};\n",
       "\n",
       "mpl.figure.prototype._canvas_extra_style = function (el) {\n",
       "    // this is important to make the div 'focusable\n",
       "    el.setAttribute('tabindex', 0);\n",
       "    // reach out to IPython and tell the keyboard manager to turn it's self\n",
       "    // off when our div gets focus\n",
       "\n",
       "    // location in version 3\n",
       "    if (IPython.notebook.keyboard_manager) {\n",
       "        IPython.notebook.keyboard_manager.register_events(el);\n",
       "    } else {\n",
       "        // location in version 2\n",
       "        IPython.keyboard_manager.register_events(el);\n",
       "    }\n",
       "};\n",
       "\n",
       "mpl.figure.prototype._key_event_extra = function (event, _name) {\n",
       "    var manager = IPython.notebook.keyboard_manager;\n",
       "    if (!manager) {\n",
       "        manager = IPython.keyboard_manager;\n",
       "    }\n",
       "\n",
       "    // Check for shift+enter\n",
       "    if (event.shiftKey && event.which === 13) {\n",
       "        this.canvas_div.blur();\n",
       "        // select the cell after this one\n",
       "        var index = IPython.notebook.find_cell_index(this.cell_info[0]);\n",
       "        IPython.notebook.select(index + 1);\n",
       "    }\n",
       "};\n",
       "\n",
       "mpl.figure.prototype.handle_save = function (fig, _msg) {\n",
       "    fig.ondownload(fig, null);\n",
       "};\n",
       "\n",
       "mpl.find_output_cell = function (html_output) {\n",
       "    // Return the cell and output element which can be found *uniquely* in the notebook.\n",
       "    // Note - this is a bit hacky, but it is done because the \"notebook_saving.Notebook\"\n",
       "    // IPython event is triggered only after the cells have been serialised, which for\n",
       "    // our purposes (turning an active figure into a static one), is too late.\n",
       "    var cells = IPython.notebook.get_cells();\n",
       "    var ncells = cells.length;\n",
       "    for (var i = 0; i < ncells; i++) {\n",
       "        var cell = cells[i];\n",
       "        if (cell.cell_type === 'code') {\n",
       "            for (var j = 0; j < cell.output_area.outputs.length; j++) {\n",
       "                var data = cell.output_area.outputs[j];\n",
       "                if (data.data) {\n",
       "                    // IPython >= 3 moved mimebundle to data attribute of output\n",
       "                    data = data.data;\n",
       "                }\n",
       "                if (data['text/html'] === html_output) {\n",
       "                    return [cell, data, j];\n",
       "                }\n",
       "            }\n",
       "        }\n",
       "    }\n",
       "};\n",
       "\n",
       "// Register the function which deals with the matplotlib target/channel.\n",
       "// The kernel may be null if the page has been refreshed.\n",
       "if (IPython.notebook.kernel !== null) {\n",
       "    IPython.notebook.kernel.comm_manager.register_target(\n",
       "        'matplotlib',\n",
       "        mpl.mpl_figure_comm\n",
       "    );\n",
       "}\n"
      ],
      "text/plain": [
       "<IPython.core.display.Javascript object>"
      ]
     },
     "metadata": {},
     "output_type": "display_data"
    },
    {
     "data": {
      "text/html": [
       "<div id='eb3292a5-45ea-4da3-8128-a24522a52f4b'></div>"
      ],
      "text/plain": [
       "<IPython.core.display.HTML object>"
      ]
     },
     "metadata": {},
     "output_type": "display_data"
    }
   ],
   "source": [
    "# YOUR CODE HERE\n",
    "\n",
    "input_dim, hidden_dim, output_dim = 57, 45, 41\n",
    "initial_rnn = RNN(input_dim, hidden_dim, output_dim)\n",
    "total_epochs = 60\n",
    "learning_rate = 0.01\n",
    "batch_dim = 900\n",
    "trained_rnn = train(initial_rnn, total_epochs, learning_rate, batch_dim, train_dataset, val_dataset)\n",
    "\n"
   ]
  },
  {
   "cell_type": "markdown",
   "metadata": {
    "deletable": false,
    "editable": false,
    "nbgrader": {
     "cell_type": "markdown",
     "checksum": "ec7510ce50876d9072ff172b5a6bed05",
     "grade": false,
     "grade_id": "cell-b59e32abfa0bf9ef",
     "locked": true,
     "schema_version": 3,
     "solution": false
    }
   },
   "source": [
    "Make sure you obtain at least 0.3 F1-score in the validation set before proceeding."
   ]
  },
  {
   "cell_type": "markdown",
   "metadata": {
    "deletable": false,
    "editable": false,
    "nbgrader": {
     "cell_type": "markdown",
     "checksum": "0c90c4448ae9e3cfffa5e8dc30b21411",
     "grade": false,
     "grade_id": "cell-09fe0d5786ed0073",
     "locked": true,
     "schema_version": 3,
     "solution": false
    }
   },
   "source": [
    "### 1.6 Evaluation"
   ]
  },
  {
   "cell_type": "markdown",
   "metadata": {
    "deletable": false,
    "editable": false,
    "nbgrader": {
     "cell_type": "markdown",
     "checksum": "32ba20bdba94d72537d559f5d7fed869",
     "grade": false,
     "grade_id": "cell-098308391c682cd8",
     "locked": true,
     "schema_version": 3,
     "solution": false
    }
   },
   "source": [
    "Now that our model is trained, we can evaluate its predictions on the test set. "
   ]
  },
  {
   "cell_type": "code",
   "execution_count": 41,
   "metadata": {
    "deletable": false,
    "editable": false,
    "nbgrader": {
     "cell_type": "code",
     "checksum": "d028367fa4f2b8e07b9f412bc0dc82cc",
     "grade": false,
     "grade_id": "cell-ee9fecbd4fc5e6cd",
     "locked": true,
     "schema_version": 3,
     "solution": false
    }
   },
   "outputs": [],
   "source": [
    "# Get all samples from the test set\n",
    "x_test, y_test = test_dataset[:]\n",
    "\n",
    "# Compute predictions\n",
    "with torch.no_grad():\n",
    "    test_out, _ = batch_forward_prop(rnn, x_test, y_test)\n",
    "\n",
    "# Transform them into hard predictions\n",
    "preds = test_out.argmax(dim=1)\n",
    "\n",
    "# Get `preds` as a numpy array\n",
    "preds = preds.cpu().numpy()"
   ]
  },
  {
   "cell_type": "markdown",
   "metadata": {
    "deletable": false,
    "editable": false,
    "nbgrader": {
     "cell_type": "markdown",
     "checksum": "5fdeb2d6a4e4a5402f0feb9554634e15",
     "grade": false,
     "grade_id": "cell-6968066e3b5b4085",
     "locked": true,
     "schema_version": 3,
     "solution": false
    }
   },
   "source": [
    "Using these predictions, we can compute the confusion matrix on the test set as follows."
   ]
  },
  {
   "cell_type": "code",
   "execution_count": 42,
   "metadata": {
    "deletable": false,
    "editable": false,
    "nbgrader": {
     "cell_type": "code",
     "checksum": "2ca8a97e26fea408fe09e4eed8350526",
     "grade": false,
     "grade_id": "cell-003dfbe728ab93f4",
     "locked": true,
     "schema_version": 3,
     "solution": false
    }
   },
   "outputs": [
    {
     "data": {
      "text/plain": [
       "array([[0.        , 0.98765432, 0.        , ..., 0.        , 0.        ,\n",
       "        0.        ],\n",
       "       [0.        , 0.97058824, 0.        , ..., 0.        , 0.        ,\n",
       "        0.        ],\n",
       "       [0.        , 0.98181818, 0.        , ..., 0.        , 0.        ,\n",
       "        0.        ],\n",
       "       ...,\n",
       "       [0.        , 1.        , 0.        , ..., 0.        , 0.        ,\n",
       "        0.        ],\n",
       "       [0.        , 0.99502488, 0.        , ..., 0.        , 0.        ,\n",
       "        0.        ],\n",
       "       [0.        , 1.        , 0.        , ..., 0.        , 0.        ,\n",
       "        0.        ]])"
      ]
     },
     "execution_count": 42,
     "metadata": {},
     "output_type": "execute_result"
    }
   ],
   "source": [
    "from sklearn.metrics import confusion_matrix\n",
    "\n",
    "# Compute the confusion matrix\n",
    "y_true = y_test.cpu().numpy()\n",
    "cm = confusion_matrix(y_true, preds)\n",
    "cm = cm.astype('float64')\n",
    "\n",
    "# Normalize each row\n",
    "for i in range(cm.shape[0]):\n",
    "    cm[i, :] = cm[i, :] / sum(cm[i, :])\n",
    "    \n",
    "cm"
   ]
  },
  {
   "cell_type": "code",
   "execution_count": 45,
   "metadata": {},
   "outputs": [
    {
     "data": {
      "text/plain": [
       "array([0.        , 0.97058824, 0.        , 0.02941176, 0.        ,\n",
       "       0.        , 0.        , 0.        , 0.        , 0.        ,\n",
       "       0.        , 0.        , 0.        , 0.        , 0.        ,\n",
       "       0.        , 0.        , 0.        , 0.        , 0.        ,\n",
       "       0.        , 0.        , 0.        , 0.        , 0.        ,\n",
       "       0.        , 0.        , 0.        , 0.        , 0.        ,\n",
       "       0.        , 0.        , 0.        , 0.        , 0.        ,\n",
       "       0.        , 0.        , 0.        , 0.        , 0.        ,\n",
       "       0.        ])"
      ]
     },
     "execution_count": 45,
     "metadata": {},
     "output_type": "execute_result"
    }
   ],
   "source": [
    "cm[1]"
   ]
  },
  {
   "cell_type": "markdown",
   "metadata": {
    "deletable": false,
    "editable": false,
    "nbgrader": {
     "cell_type": "markdown",
     "checksum": "498ae92e6253b9951570fd782bb67f28",
     "grade": false,
     "grade_id": "cell-d0a5d53862716ff5",
     "locked": true,
     "schema_version": 3,
     "solution": false
    }
   },
   "source": [
    "In order to make this easier to visualize, let's plot it as a heat map:"
   ]
  },
  {
   "cell_type": "code",
   "execution_count": 44,
   "metadata": {
    "deletable": false,
    "editable": false,
    "nbgrader": {
     "cell_type": "code",
     "checksum": "5eed47cfe9145966604d70f8a0ae1ab5",
     "grade": false,
     "grade_id": "cell-0ac30bac8eee0481",
     "locked": true,
     "schema_version": 3,
     "solution": false
    }
   },
   "outputs": [
    {
     "data": {
      "image/png": "[encoded data removed]",
      "text/plain": [
       "<Figure size 720x720 with 1 Axes>"
      ]
     },
     "metadata": {
      "needs_background": "light"
     },
     "output_type": "display_data"
    }
   ],
   "source": [
    "%matplotlib inline\n",
    "plt.figure(figsize=(10, 10))\n",
    "plt.imshow(cm)\n",
    "plt.xticks(range(len(names_dict)), names_dict.keys(), rotation='vertical')\n",
    "plt.yticks(range(len(names_dict)), names_dict.keys())\n",
    "plt.xlabel('Predicted label')\n",
    "plt.ylabel('True label')\n",
    "plt.show()"
   ]
  },
  {
   "cell_type": "markdown",
   "metadata": {
    "deletable": false,
    "editable": false,
    "nbgrader": {
     "cell_type": "markdown",
     "checksum": "852b7b1df9a5fa5dbf9ab50a5f6ec601",
     "grade": false,
     "grade_id": "cell-baa17f34d2c98af3",
     "locked": true,
     "schema_version": 3,
     "solution": false
    }
   },
   "source": [
    "Why did we normalize the rows of the confusion matrix? "
   ]
  },
  {
   "cell_type": "markdown",
   "metadata": {
    "deletable": false,
    "nbgrader": {
     "cell_type": "markdown",
     "checksum": "02945e3740619fdfadc8beb6c4036561",
     "grade": true,
     "grade_id": "cell-5e952f1af1335cd1",
     "locked": false,
     "points": 0,
     "schema_version": 3,
     "solution": true
    }
   },
   "source": [
    "**Your answer:** We normalize the rows of the confusion matrix in order to display the number of correctly and incorrectly classified observations for each true or actual class as percentages of the number of observations of the corresponding true class / actual class."
   ]
  },
  {
   "cell_type": "markdown",
   "metadata": {
    "deletable": false,
    "editable": false,
    "nbgrader": {
     "cell_type": "markdown",
     "checksum": "1f95d015632e2b32bbe24a4bcf37b34e",
     "grade": false,
     "grade_id": "cell-b56067b9a8f982ed",
     "locked": true,
     "schema_version": 3,
     "solution": false
    }
   },
   "source": [
    "**(1 POE)**\n",
    "What can you conclude from this confusion matrix? Which classes are easy/hard to classify? Which classes are being confused?"
   ]
  },
  {
   "cell_type": "markdown",
   "metadata": {
    "deletable": false,
    "nbgrader": {
     "cell_type": "markdown",
     "checksum": "feed9dd64f470ce4a3a867d6c6a1276e",
     "grade": true,
     "grade_id": "cell-e3597dc61426d8a3",
     "locked": false,
     "points": 1,
     "schema_version": 3,
     "solution": true
    }
   },
   "source": [
    "**Your answer:** The best way to evaluate the "
   ]
  },
  {
   "cell_type": "markdown",
   "metadata": {
    "deletable": false,
    "editable": false,
    "nbgrader": {
     "cell_type": "markdown",
     "checksum": "9ff548903b15da02335b1f0111ac9c4a",
     "grade": false,
     "grade_id": "cell-a1cd31c6856025a5",
     "locked": true,
     "schema_version": 3,
     "solution": false
    }
   },
   "source": [
    "To end this task, we can now define a function to perform predictions on any input name we provide (as long as the name contains only characters in our character set)."
   ]
  },
  {
   "cell_type": "code",
   "execution_count": null,
   "metadata": {
    "deletable": false,
    "editable": false,
    "nbgrader": {
     "cell_type": "code",
     "checksum": "16ff9962bca7277a96de8620d03b1264",
     "grade": false,
     "grade_id": "cell-07f9089a7c996db0",
     "locked": true,
     "schema_version": 3,
     "solution": false
    }
   },
   "outputs": [],
   "source": [
    "def evaluate(name_tensor):\n",
    "    with torch.no_grad():\n",
    "        hidden = torch.zeros(1, rnn.hidden_size).to(device)\n",
    "        for i in range(name_tensor.shape[1]):\n",
    "            output, hidden = rnn(name_tensor[:, i, :], hidden)\n",
    "    return output.exp()\n",
    "\n",
    "def predict(input_line, n_predictions=5):\n",
    "    tensor = name2tensor(input_line).to(device)[None, :]\n",
    "    output = evaluate(tensor)\n",
    "\n",
    "    # Get top N categories\n",
    "    topv, topi = output.topk(n_predictions, 1, True)\n",
    "    topv, topi = topv[0], topi[0]\n",
    "        \n",
    "    cats = [list(names_dict.keys())[i] for i in topi.cpu().numpy()]\n",
    "    vs = topv.cpu().numpy()\n",
    "\n",
    "    plt.figure(figsize=(10,3))\n",
    "    plt.bar(range(len(vs)), vs)\n",
    "    plt.xticks(range(len(vs)), cats)"
   ]
  },
  {
   "cell_type": "code",
   "execution_count": null,
   "metadata": {
    "deletable": false,
    "editable": false,
    "nbgrader": {
     "cell_type": "code",
     "checksum": "663d002913d786ae06797435cabb49b3",
     "grade": false,
     "grade_id": "cell-ee607ec26d687e7a",
     "locked": true,
     "schema_version": 3,
     "solution": false
    }
   },
   "outputs": [],
   "source": [
    "predict('Åsakvi')"
   ]
  },
  {
   "cell_type": "code",
   "execution_count": null,
   "metadata": {
    "deletable": false,
    "editable": false,
    "nbgrader": {
     "cell_type": "code",
     "checksum": "de6ea4fca69dcdfafe0989d3c5a18f2b",
     "grade": false,
     "grade_id": "cell-fcc84c5b71d65216",
     "locked": true,
     "schema_version": 3,
     "solution": false
    }
   },
   "outputs": [],
   "source": [
    "predict('Harakabim')"
   ]
  },
  {
   "cell_type": "code",
   "execution_count": null,
   "metadata": {
    "deletable": false,
    "editable": false,
    "nbgrader": {
     "cell_type": "code",
     "checksum": "8677e866517c65d978435ec0bd2c7213",
     "grade": false,
     "grade_id": "cell-d8af5b38ed527dc0",
     "locked": true,
     "schema_version": 3,
     "solution": false
    }
   },
   "outputs": [],
   "source": [
    "predict('Alakazam')"
   ]
  },
  {
   "cell_type": "code",
   "execution_count": null,
   "metadata": {
    "deletable": false,
    "editable": false,
    "nbgrader": {
     "cell_type": "code",
     "checksum": "8aeaf021219a2f4697067d2fd4a41506",
     "grade": false,
     "grade_id": "cell-608a1a0a87fdcfbc",
     "locked": true,
     "schema_version": 3,
     "solution": false
    }
   },
   "outputs": [],
   "source": [
    "predict('Jin Quaio')"
   ]
  },
  {
   "cell_type": "code",
   "execution_count": null,
   "metadata": {
    "deletable": false,
    "editable": false,
    "nbgrader": {
     "cell_type": "code",
     "checksum": "82b217f4a574a2cc23ad6233505d1d3e",
     "grade": false,
     "grade_id": "cell-9e46296a62c4ad3b",
     "locked": true,
     "schema_version": 3,
     "solution": false
    }
   },
   "outputs": [],
   "source": [
    "predict('Leonardino')"
   ]
  },
  {
   "cell_type": "code",
   "execution_count": null,
   "metadata": {
    "deletable": false,
    "editable": false,
    "nbgrader": {
     "cell_type": "code",
     "checksum": "e2cbe7f4dcf0f10d6f011dca38976ec9",
     "grade": false,
     "grade_id": "cell-7107524e76e71c41",
     "locked": true,
     "schema_version": 3,
     "solution": false
    }
   },
   "outputs": [],
   "source": [
    "predict('Kim Sung')"
   ]
  },
  {
   "cell_type": "code",
   "execution_count": null,
   "metadata": {
    "deletable": false,
    "editable": false,
    "nbgrader": {
     "cell_type": "code",
     "checksum": "aafceedc4f3f9ddbacf4b76548e8aa95",
     "grade": false,
     "grade_id": "cell-e5c047f1d1960750",
     "locked": true,
     "schema_version": 3,
     "solution": false
    }
   },
   "outputs": [],
   "source": [
    "predict('Thanos')"
   ]
  },
  {
   "cell_type": "code",
   "execution_count": null,
   "metadata": {
    "deletable": false,
    "editable": false,
    "nbgrader": {
     "cell_type": "code",
     "checksum": "7c82ec8b8c895b208611f139201ac560",
     "grade": false,
     "grade_id": "cell-fc41f7e0ab00a192",
     "locked": true,
     "schema_version": 3,
     "solution": false
    }
   },
   "outputs": [],
   "source": [
    "predict('Viiviika')"
   ]
  },
  {
   "cell_type": "markdown",
   "metadata": {
    "deletable": false,
    "editable": false,
    "nbgrader": {
     "cell_type": "markdown",
     "checksum": "bdf82da73d54b9f9e00cb0f323dcf206",
     "grade": false,
     "grade_id": "cell-5b8cdb44355a89df",
     "locked": true,
     "schema_version": 3,
     "solution": false
    }
   },
   "source": [
    "Experiment on new names using the next cell:"
   ]
  },
  {
   "cell_type": "code",
   "execution_count": null,
   "metadata": {},
   "outputs": [],
   "source": []
  }
 ],
 "metadata": {
  "kernelspec": {
   "display_name": "Python 3",
   "language": "python",
   "name": "python3"
  },
  "language_info": {
   "codemirror_mode": {
    "name": "ipython",
    "version": 3
   },
   "file_extension": ".py",
   "mimetype": "text/x-python",
   "name": "python",
   "nbconvert_exporter": "python",
   "pygments_lexer": "ipython3",
   "version": "3.7.9"
  }
 },
 "nbformat": 4,
 "nbformat_minor": 2
}
