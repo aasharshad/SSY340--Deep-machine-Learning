{
 "cells": [
  {
   "cell_type": "markdown",
   "metadata": {
    "deletable": false,
    "editable": false,
    "nbgrader": {
     "cell_type": "markdown",
     "checksum": "5fa9f96d4ca0144b2db877078cf7b2f8",
     "grade": false,
     "grade_id": "cell-5690119ead85e67e",
     "locked": true,
     "schema_version": 3,
     "solution": false,
     "task": false
    }
   },
   "source": [
    "### Checklist for submission\n",
    "\n",
    "It is extremely important to make sure that:\n",
    "\n",
    "1. Everything runs as expected (no bugs when running cells);\n",
    "2. The output from each cell corresponds to its code (don't change any cell's contents without rerunning it afterwards);\n",
    "3. All outputs are present (don't delete any of the outputs);\n",
    "4. Fill in all the places that say `# YOUR CODE HERE`, or \"**Your answer:** (fill in here)\".\n",
    "5. Never copy/paste any notebook cells. Inserting new cells is allowed, but it should not be necessary.\n",
    "6. The notebook contains some hidden metadata which is important during our grading process. **Make sure not to corrupt any of this metadata!** The metadata may for example be corrupted if you copy/paste any notebook cells, or if you perform an unsuccessful git merge / git pull. It may also be pruned completely if using Google Colab, so watch out for this. Searching for \"nbgrader\" when opening the notebook in a text editor should take you to the important metadata entries.\n",
    "7. Although we will try our very best to avoid this, it may happen that bugs are found after an assignment is released, and that we will push an updated version of the assignment to GitHub. If this happens, it is important that you update to the new version, while making sure the notebook metadata is properly updated as well. The safest way to make sure nothing gets messed up is to start from scratch on a clean updated version of the notebook, copy/pasting your code from the cells of the previous version into the cells of the new version.\n",
    "8. If you need to have multiple parallel versions of this notebook, make sure not to move them to another directory.\n",
    "9. Although not forced to work exclusively in the course `conda` environment, you need to make sure that the notebook will run in that environment, i.e. that you have not added any additional dependencies.\n",
    "\n",
    "**FOR HA1, HA2, HA3 ONLY:** Failing to meet any of these requirements might lead to either a subtraction of POEs (at best) or a request for resubmission (at worst).\n",
    "\n",
    "We advise you to perform the following steps before submission to ensure that requirements 1, 2, and 3 are always met: **Restart the kernel** (in the menubar, select Kernel$\\rightarrow$Restart) and then **run all cells** (in the menubar, select Cell$\\rightarrow$Run All). This might require a bit of time, so plan ahead for this (and possibly use Google Cloud's GPU in HA1 and HA2 for this step). Finally press the \"Save and Checkout\" button before handing in, to make sure that all your changes are saved to this .ipynb file."
   ]
  },
  {
   "cell_type": "markdown",
   "metadata": {
    "deletable": false,
    "editable": false,
    "nbgrader": {
     "cell_type": "markdown",
     "checksum": "a6bb874a16c1ff767ac0f37ce0491265",
     "grade": false,
     "grade_id": "cell-774c93bf6433de68",
     "locked": true,
     "schema_version": 3,
     "solution": false,
     "task": false
    }
   },
   "source": [
    "### Fill in name of notebook file\n",
    "This might seem silly, but the version check below needs to know the filename of the current notebook, which is not trivial to find out programmatically.\n",
    "\n",
    "You might want to have several parallel versions of the notebook, and it is fine to rename the notebook as long as it stays in the same directory. **However**, if you do rename it, you also need to update its own filename below:"
   ]
  },
  {
   "cell_type": "code",
   "execution_count": 1,
   "metadata": {},
   "outputs": [],
   "source": [
    "nb_fname = \"HA2-Part1.ipynb\""
   ]
  },
  {
   "cell_type": "markdown",
   "metadata": {
    "deletable": false,
    "editable": false,
    "nbgrader": {
     "cell_type": "markdown",
     "checksum": "879883c2ea755808ffd00aeee5c77a00",
     "grade": false,
     "grade_id": "cell-5676bcf768a7f9be",
     "locked": true,
     "schema_version": 3,
     "solution": false,
     "task": false
    }
   },
   "source": [
    "### Fill in group number and member names (use NAME2 and GROUP only for HA1, HA2 and HA3):"
   ]
  },
  {
   "cell_type": "code",
   "execution_count": 2,
   "metadata": {},
   "outputs": [],
   "source": [
    "NAME1 = \"Fangze Xu\" \n",
    "NAME2 = \"Arshad Nowsath\"\n",
    "GROUP = \"60\""
   ]
  },
  {
   "cell_type": "markdown",
   "metadata": {
    "deletable": false,
    "editable": false,
    "nbgrader": {
     "cell_type": "markdown",
     "checksum": "42f960a95815e1aa3ce8132fcec59cd9",
     "grade": false,
     "grade_id": "cell-a15fe781533d9590",
     "locked": true,
     "schema_version": 3,
     "solution": false,
     "task": false
    }
   },
   "source": [
    "### Check Python version"
   ]
  },
  {
   "cell_type": "code",
   "execution_count": 3,
   "metadata": {
    "deletable": false,
    "editable": false,
    "nbgrader": {
     "cell_type": "code",
     "checksum": "4a5517d7993b4b35049f0013dd6a3f55",
     "grade": false,
     "grade_id": "cell-2b9c2390ee464c39",
     "locked": true,
     "schema_version": 3,
     "solution": false,
     "task": false
    }
   },
   "outputs": [],
   "source": [
    "from platform import python_version_tuple\n",
    "assert python_version_tuple()[:2] == ('3','7'), \"You are not running Python 3.7. Make sure to run Python through the course Conda environment.\""
   ]
  },
  {
   "cell_type": "markdown",
   "metadata": {
    "deletable": false,
    "editable": false,
    "nbgrader": {
     "cell_type": "markdown",
     "checksum": "15ec4309f1e85f6e17bda73b9b6f48a2",
     "grade": false,
     "grade_id": "cell-4869b45600ce82f8",
     "locked": true,
     "schema_version": 3,
     "solution": false,
     "task": false
    }
   },
   "source": [
    "### Check that notebook server has access to all required resources, and that notebook has not moved"
   ]
  },
  {
   "cell_type": "code",
   "execution_count": 4,
   "metadata": {
    "deletable": false,
    "editable": false,
    "nbgrader": {
     "cell_type": "code",
     "checksum": "a2d199303c73ec86d25177caf39e385f",
     "grade": false,
     "grade_id": "cell-122ac3d9100b8afb",
     "locked": true,
     "schema_version": 3,
     "solution": false,
     "task": false
    }
   },
   "outputs": [],
   "source": [
    "import os\n",
    "nb_dirname = os.path.abspath('')\n",
    "assignment_name = os.path.basename(nb_dirname)\n",
    "assert assignment_name in ['IHA1', 'IHA2', 'HA1', 'HA2', 'HA3'], \\\n",
    "    '[ERROR] The notebook appears to have been moved from its original directory'"
   ]
  },
  {
   "cell_type": "markdown",
   "metadata": {
    "deletable": false,
    "editable": false,
    "nbgrader": {
     "cell_type": "markdown",
     "checksum": "f09f40b5350db83232189137c550f0a1",
     "grade": false,
     "grade_id": "cell-2455deee513cd39c",
     "locked": true,
     "schema_version": 3,
     "solution": false,
     "task": false
    }
   },
   "source": [
    "### Verify correct nb_fname"
   ]
  },
  {
   "cell_type": "code",
   "execution_count": 5,
   "metadata": {
    "deletable": false,
    "editable": false,
    "nbgrader": {
     "cell_type": "code",
     "checksum": "a78c7227b049bb147e6c363affb6dae8",
     "grade": false,
     "grade_id": "cell-0472e2fd710f1d72",
     "locked": true,
     "schema_version": 3,
     "solution": false,
     "task": false
    }
   },
   "outputs": [
    {
     "data": {
      "text/html": [
       "<script>if(\"HA2-Part1.ipynb\" != IPython.notebook.notebook_name) { alert(\"You have filled in nb_fname = \\\"HA2-Part1.ipynb\\\", but this does not seem to match the notebook filename \\\"\" + IPython.notebook.notebook_name + \"\\\".\"); }</script>"
      ],
      "text/plain": [
       "<IPython.core.display.HTML object>"
      ]
     },
     "metadata": {},
     "output_type": "display_data"
    }
   ],
   "source": [
    "from IPython.display import display, HTML\n",
    "try:\n",
    "    display(HTML(r'<script>if(\"{nb_fname}\" != IPython.notebook.notebook_name) {{ alert(\"You have filled in nb_fname = \\\"{nb_fname}\\\", but this does not seem to match the notebook filename \\\"\" + IPython.notebook.notebook_name + \"\\\".\"); }}</script>'.format(nb_fname=nb_fname)))\n",
    "except NameError:\n",
    "    assert False, 'Make sure to fill in the nb_fname variable above!'"
   ]
  },
  {
   "cell_type": "markdown",
   "metadata": {
    "deletable": false,
    "editable": false,
    "nbgrader": {
     "cell_type": "markdown",
     "checksum": "98d88d8e8da19693053764f29dcc591d",
     "grade": false,
     "grade_id": "cell-ceacb1adcae4783d",
     "locked": true,
     "schema_version": 3,
     "solution": false,
     "task": false
    }
   },
   "source": [
    "### Verify that your notebook is up-to-date and not corrupted in any way"
   ]
  },
  {
   "cell_type": "code",
   "execution_count": 6,
   "metadata": {
    "deletable": false,
    "editable": false,
    "nbgrader": {
     "cell_type": "code",
     "checksum": "bb700528d4644601c1a8c91ef1d84635",
     "grade": false,
     "grade_id": "cell-f5a59288e11b4aec",
     "locked": true,
     "schema_version": 3,
     "solution": false,
     "task": false
    }
   },
   "outputs": [
    {
     "name": "stdout",
     "output_type": "stream",
     "text": [
      "Matching current notebook against the following URL:\n",
      "http://raw.githubusercontent.com/JulianoLagana/deep-machine-learning/master/home-assignments/HA2/HA2-Part1.ipynb\n",
      "[SUCCESS] No major notebook mismatch found when comparing to latest GitHub version. (There might be minor updates, but even that is the case, submitting your work based on this notebook version would be acceptable.)\n"
     ]
    }
   ],
   "source": [
    "import sys\n",
    "sys.path.append('..')\n",
    "from ha_utils import check_notebook_uptodate_and_not_corrupted\n",
    "check_notebook_uptodate_and_not_corrupted(nb_dirname, nb_fname)"
   ]
  },
  {
   "cell_type": "markdown",
   "metadata": {
    "deletable": false,
    "editable": false,
    "nbgrader": {
     "cell_type": "markdown",
     "checksum": "1a3d4c3586543ada9e989a70ca0b714f",
     "grade": false,
     "grade_id": "cell-64e1db7b9018bb3c",
     "locked": true,
     "schema_version": 3,
     "solution": false
    }
   },
   "source": [
    "# HA2 - Recurrent Neural Networks"
   ]
  },
  {
   "cell_type": "markdown",
   "metadata": {
    "deletable": false,
    "editable": false,
    "nbgrader": {
     "cell_type": "markdown",
     "checksum": "5a39003439bd02a0cc13a87a7916a36f",
     "grade": false,
     "grade_id": "cell-2a56acd8b54adbc7",
     "locked": true,
     "schema_version": 3,
     "solution": false
    }
   },
   "source": [
    "This assignment is divided into two parts. In the first one, you will implement a vanilla RNN module from scratch using PyTorch to perform the task of predicting the nationality of a given name. In the second, you will use one of PyTorch's efficient implementations of recurrent networks to perform machine translation."
   ]
  },
  {
   "cell_type": "markdown",
   "metadata": {
    "deletable": false,
    "editable": false,
    "nbgrader": {
     "cell_type": "markdown",
     "checksum": "b230b916db79763c4ae31f10fb3834ed",
     "grade": false,
     "grade_id": "cell-a7a1fe5598d08eae",
     "locked": true,
     "schema_version": 3,
     "solution": false
    }
   },
   "source": [
    "## Task 1 - Predicting Nationalities"
   ]
  },
  {
   "cell_type": "markdown",
   "metadata": {
    "deletable": false,
    "editable": false,
    "nbgrader": {
     "cell_type": "markdown",
     "checksum": "f6d2792c8867f0fd983839444067a2e1",
     "grade": false,
     "grade_id": "cell-aad0c935c03346c9",
     "locked": true,
     "schema_version": 3,
     "solution": false
    }
   },
   "source": [
    "In this task, you will create an RNN module using PyTorch, and train it to predict the nationality of a given input name. Your RNN will process each character of an input name at a time, and at the last character output a probability mass function over the possible countries.\n",
    "\n",
    "The data for this task is present in the file `data/nam_dict.txt`. After parsing it we will have around 44k names from 41 different countries."
   ]
  },
  {
   "cell_type": "markdown",
   "metadata": {
    "deletable": false,
    "editable": false,
    "nbgrader": {
     "cell_type": "markdown",
     "checksum": "88e94a32152c5c6447c42352b00c56f6",
     "grade": false,
     "grade_id": "cell-781c35fef278ad47",
     "locked": true,
     "schema_version": 3,
     "solution": false
    }
   },
   "source": [
    "### 1.1 Loading the data"
   ]
  },
  {
   "cell_type": "markdown",
   "metadata": {
    "deletable": false,
    "editable": false,
    "nbgrader": {
     "cell_type": "markdown",
     "checksum": "ef4e3f8191d07d16c7129210867e1cc4",
     "grade": false,
     "grade_id": "cell-12c085211bc03428",
     "locked": true,
     "schema_version": 3,
     "solution": false
    }
   },
   "source": [
    "We'll start by loading the data from the `nam_dict.txt` file, using the provided method `get_data_from_file`."
   ]
  },
  {
   "cell_type": "code",
   "execution_count": 7,
   "metadata": {
    "deletable": false,
    "editable": false,
    "nbgrader": {
     "cell_type": "code",
     "checksum": "578b8dc7fef786bb9d0eb9bfd9804796",
     "grade": false,
     "grade_id": "cell-7c9a70be36d77bde",
     "locked": true,
     "schema_version": 3,
     "solution": false
    }
   },
   "outputs": [],
   "source": [
    "from utils.load_names import get_data_from_file\n",
    "names_dict = get_data_from_file('data/nam_dict.txt')"
   ]
  },
  {
   "cell_type": "markdown",
   "metadata": {
    "deletable": false,
    "editable": false,
    "nbgrader": {
     "cell_type": "markdown",
     "checksum": "e4396ec5026f36d2d897eb28273fa47c",
     "grade": false,
     "grade_id": "cell-3d6450ecfff464cf",
     "locked": true,
     "schema_version": 3,
     "solution": false
    }
   },
   "source": [
    "The newly-created variable `names_dict` is a dictionary where each country is a key, and the value is the corresponding list of names from that country."
   ]
  },
  {
   "cell_type": "code",
   "execution_count": 8,
   "metadata": {
    "deletable": false,
    "editable": false,
    "nbgrader": {
     "cell_type": "code",
     "checksum": "0a3c16d045a6e3ea16cae84c8f4039b8",
     "grade": false,
     "grade_id": "cell-2979a922e5fd9032",
     "locked": true,
     "schema_version": 3,
     "solution": false
    }
   },
   "outputs": [
    {
     "data": {
      "text/plain": [
       "dict_keys(['Great Britain', 'Ireland', 'U.S.A.', 'Italy', 'Portugal', 'Spain', 'France', 'the Netherlands', 'East Frisia', 'Germany', 'Swiss', 'Iceland', 'Denmark', 'Norway', 'Sweden', 'Finland', 'Estonia', 'Latvia', 'Lithuania', 'Hungary', 'Romania', 'Bulgaria', 'Bosnia and Herzegovina', 'Croatia', 'Kosovo', 'Serbia', 'Albania', 'Greece', 'Russia', 'Ukraine', 'Armenia', 'Azerbaijan', 'Kazakhstan/Uzbekistan,etc.', 'Turkey', 'Arabia/Persia', 'Israel', 'China', 'India/Sri Lanka', 'Japan', 'Korea', 'Vietnam'])"
      ]
     },
     "execution_count": 8,
     "metadata": {},
     "output_type": "execute_result"
    }
   ],
   "source": [
    "names_dict.keys()"
   ]
  },
  {
   "cell_type": "code",
   "execution_count": 9,
   "metadata": {
    "deletable": false,
    "editable": false,
    "nbgrader": {
     "cell_type": "code",
     "checksum": "fabffeb8a60ded472b3ab0996e6acd34",
     "grade": false,
     "grade_id": "cell-b9578aa61d75938e",
     "locked": true,
     "schema_version": 3,
     "solution": false
    }
   },
   "outputs": [
    {
     "data": {
      "text/plain": [
       "['Achilleas',\n",
       " 'Achillefs',\n",
       " 'Adamantia',\n",
       " 'Adamantini',\n",
       " 'Adamantios',\n",
       " 'Aeneas',\n",
       " 'Afroditi',\n",
       " 'Agapi',\n",
       " 'Agapios',\n",
       " 'Agathi']"
      ]
     },
     "execution_count": 9,
     "metadata": {},
     "output_type": "execute_result"
    }
   ],
   "source": [
    "names_dict['Greece'][:10]"
   ]
  },
  {
   "cell_type": "markdown",
   "metadata": {
    "deletable": false,
    "editable": false,
    "nbgrader": {
     "cell_type": "markdown",
     "checksum": "298f96dbddf1b6528aba07514a1442de",
     "grade": false,
     "grade_id": "cell-172dd5d6a5c41971",
     "locked": true,
     "schema_version": 3,
     "solution": false
    }
   },
   "source": [
    "Let's look at the dataset in more detail. Plot the number of names in each country using a [bar plot](https://matplotlib.org/3.1.1/api/_as_gen/matplotlib.pyplot.bar.html).\n",
    "\n",
    "*Hints*:\n",
    "\n",
    "- You can put labels in the x-axis using the method [`xticks`](https://matplotlib.org/3.1.1/api/_as_gen/matplotlib.pyplot.xticks.html).\n",
    "- The `xticks` method accepts a keyword argument named `rotation`."
   ]
  },
  {
   "cell_type": "code",
   "execution_count": 10,
   "metadata": {
    "deletable": false,
    "nbgrader": {
     "cell_type": "code",
     "checksum": "239562267cb4dc6cbc5bdd6e1fa817be",
     "grade": true,
     "grade_id": "cell-ff582e8e844bfb50",
     "locked": false,
     "points": 0,
     "schema_version": 3,
     "solution": true
    }
   },
   "outputs": [
    {
     "data": {
      "image/png": "[encoded data removed]",
      "text/plain": [
       "<Figure size 432x288 with 1 Axes>"
      ]
     },
     "metadata": {
      "needs_background": "light"
     },
     "output_type": "display_data"
    }
   ],
   "source": [
    "%matplotlib inline\n",
    "import matplotlib.pyplot as plt\n",
    "\n",
    "# YOUR CODE HERE\n",
    "# fig, ax = plt.subplots()\n",
    "# ax.bar('')\n",
    "# for i in range(len(names_dict)):\n",
    "#     len(names_dict['China'])\n",
    "#     ax.bar('')\n",
    "n = len(names_dict)\n",
    "fig, ax = plt.subplots()\n",
    "\n",
    "for key, value in names_dict.items():\n",
    "\n",
    "    plt.bar(key,len(names_dict[key]))\n",
    "#     x = len(names_dict[key])\n",
    "#     print(key)\n",
    "    plt.xticks(rotation='vertical')\n",
    "    \n",
    "    \n",
    "    "
   ]
  },
  {
   "cell_type": "code",
   "execution_count": 11,
   "metadata": {},
   "outputs": [
    {
     "data": {
      "text/plain": [
       "['An',\n",
       " 'Anh',\n",
       " 'Ba',\n",
       " 'Bac',\n",
       " 'Bach',\n",
       " 'Ban',\n",
       " 'Bang',\n",
       " 'Bao',\n",
       " 'Bay',\n",
       " 'Be',\n",
       " 'Bich',\n",
       " 'Bien',\n",
       " 'Binh',\n",
       " 'Cam',\n",
       " 'Canh',\n",
       " 'Cao',\n",
       " 'Caong',\n",
       " 'Cat',\n",
       " 'Chanh',\n",
       " 'Chau',\n",
       " 'Chay',\n",
       " 'Chi',\n",
       " 'Chiem',\n",
       " 'Chien',\n",
       " 'Chieu',\n",
       " 'Chinh',\n",
       " 'Chung',\n",
       " 'Chuong',\n",
       " 'Chuyen',\n",
       " 'Co',\n",
       " 'Cong',\n",
       " 'Cu',\n",
       " 'Cuc',\n",
       " 'Cuong',\n",
       " 'Dac',\n",
       " 'Dai',\n",
       " 'Dan',\n",
       " 'Dang',\n",
       " 'Danh',\n",
       " 'Dao',\n",
       " 'Dat',\n",
       " 'Dau',\n",
       " 'De',\n",
       " 'Diem',\n",
       " 'Dien',\n",
       " 'Diep',\n",
       " 'Diet',\n",
       " 'Dieu',\n",
       " 'Dinh',\n",
       " 'Do',\n",
       " 'Doan',\n",
       " 'Doanh',\n",
       " 'Doc',\n",
       " 'Du',\n",
       " 'Duc',\n",
       " 'Due',\n",
       " 'Dung',\n",
       " 'Duoc',\n",
       " 'Duong',\n",
       " 'Duy',\n",
       " 'Duyen',\n",
       " 'Gai',\n",
       " 'Gia',\n",
       " 'Giac',\n",
       " 'Giang',\n",
       " 'Giao',\n",
       " 'Ha',\n",
       " 'Haa',\n",
       " 'Hai',\n",
       " 'Hang',\n",
       " 'Hanh',\n",
       " 'Hat',\n",
       " 'Hau',\n",
       " 'Hien',\n",
       " 'Hiep',\n",
       " 'Hieu',\n",
       " 'Hoa',\n",
       " 'Hoai',\n",
       " 'Hoan',\n",
       " 'Hoang',\n",
       " 'Hoc',\n",
       " 'Hoe',\n",
       " 'Hoi',\n",
       " 'Hue',\n",
       " 'Hung',\n",
       " 'Huong',\n",
       " 'Huu',\n",
       " 'Huy',\n",
       " 'Huyen',\n",
       " 'Huynh',\n",
       " 'Hy',\n",
       " 'Kha',\n",
       " 'Khac',\n",
       " 'Khai',\n",
       " 'Khanh',\n",
       " 'Khoa',\n",
       " 'Khoat',\n",
       " 'Khoi',\n",
       " 'Khuong',\n",
       " 'Khuyen',\n",
       " 'Kien',\n",
       " 'Kiet',\n",
       " 'Kieu',\n",
       " 'Kim',\n",
       " 'Kinh',\n",
       " 'Ky',\n",
       " 'Lac',\n",
       " 'Lam',\n",
       " 'Lan',\n",
       " 'Lanh',\n",
       " 'Lap',\n",
       " 'Lau',\n",
       " 'Le',\n",
       " 'Liem',\n",
       " 'Lien',\n",
       " 'Lieu',\n",
       " 'Linh',\n",
       " 'Lo',\n",
       " 'Loan',\n",
       " 'Loc',\n",
       " 'Loi',\n",
       " 'Long',\n",
       " 'Luan',\n",
       " 'Luat',\n",
       " 'Luc',\n",
       " 'Luong',\n",
       " 'Luu',\n",
       " 'Ly',\n",
       " 'Mai',\n",
       " 'Manh',\n",
       " 'Mao',\n",
       " 'Men',\n",
       " 'Mien',\n",
       " 'Minh',\n",
       " 'Mong',\n",
       " 'Mui',\n",
       " 'My',\n",
       " 'Nam',\n",
       " 'Nang',\n",
       " 'Nga',\n",
       " 'Ngan',\n",
       " 'Nghi',\n",
       " 'Nghia',\n",
       " 'Nghiem',\n",
       " 'Ngoc',\n",
       " 'Nguyet',\n",
       " 'Nha',\n",
       " 'Nham',\n",
       " 'Nhan',\n",
       " 'Nhat',\n",
       " 'Nhi',\n",
       " 'Nhieu',\n",
       " 'Nhu',\n",
       " 'Nhuan',\n",
       " 'Nhung',\n",
       " 'Nhuong',\n",
       " 'Oanh',\n",
       " 'Phan',\n",
       " 'Phaong',\n",
       " 'Phat',\n",
       " 'Phi',\n",
       " 'Phong',\n",
       " 'Phu',\n",
       " 'Phuc',\n",
       " 'Phung',\n",
       " 'Phuoc',\n",
       " 'Phuong',\n",
       " 'Quan',\n",
       " 'Quang',\n",
       " 'Que',\n",
       " 'Qui',\n",
       " 'Quoc',\n",
       " 'Quy',\n",
       " 'Quyen',\n",
       " 'Quyet',\n",
       " 'Quynh',\n",
       " 'Ri',\n",
       " 'Sang',\n",
       " 'Sau',\n",
       " 'Si',\n",
       " 'Sinh',\n",
       " 'Soan',\n",
       " 'Som',\n",
       " 'Son',\n",
       " 'Suu',\n",
       " 'Suy',\n",
       " 'Sy',\n",
       " 'Tai',\n",
       " 'Tam',\n",
       " 'Tan',\n",
       " 'Tat',\n",
       " 'Teo',\n",
       " 'Tha',\n",
       " 'Thac',\n",
       " 'Thach',\n",
       " 'Thai',\n",
       " 'Than',\n",
       " 'Thang',\n",
       " 'Thanh',\n",
       " 'Thao',\n",
       " 'The',\n",
       " 'Thi',\n",
       " 'Thien',\n",
       " 'Thiet',\n",
       " 'Thieu',\n",
       " 'Thin',\n",
       " 'Thinh',\n",
       " 'Thiong',\n",
       " 'Tho',\n",
       " 'Thoa',\n",
       " 'Thom',\n",
       " 'Thong',\n",
       " 'Thu',\n",
       " 'Thuan',\n",
       " 'Thuc',\n",
       " 'Thung',\n",
       " 'Thuong',\n",
       " 'Thuy',\n",
       " 'Thuyen',\n",
       " 'Tien',\n",
       " 'Tiet',\n",
       " 'Tin',\n",
       " 'Tinh',\n",
       " 'To',\n",
       " 'Toan',\n",
       " 'Ton',\n",
       " 'Tram',\n",
       " 'Tran',\n",
       " 'Trang',\n",
       " 'Tri',\n",
       " 'Trien',\n",
       " 'Trieu',\n",
       " 'Trinh',\n",
       " 'Trong',\n",
       " 'Tru',\n",
       " 'Truc',\n",
       " 'Trung',\n",
       " 'Truong',\n",
       " 'Tu',\n",
       " 'Tuan',\n",
       " 'Tue',\n",
       " 'Tung',\n",
       " 'Tuong',\n",
       " 'Tuy',\n",
       " 'Tuyen',\n",
       " 'Tuyet',\n",
       " 'Ty',\n",
       " 'Uyen',\n",
       " 'Van',\n",
       " 'Vien',\n",
       " 'Viet',\n",
       " 'Vinh',\n",
       " 'Vu',\n",
       " 'Vui',\n",
       " 'Vung',\n",
       " 'Vuong',\n",
       " 'Xoan',\n",
       " 'Xuan',\n",
       " 'Xuong',\n",
       " 'Yen']"
      ]
     },
     "execution_count": 11,
     "metadata": {},
     "output_type": "execute_result"
    }
   ],
   "source": [
    "value"
   ]
  },
  {
   "cell_type": "markdown",
   "metadata": {
    "deletable": false,
    "editable": false,
    "nbgrader": {
     "cell_type": "markdown",
     "checksum": "e3f020d7988081d75ac09b50eebb91f3",
     "grade": false,
     "grade_id": "cell-390475b6777ce344",
     "locked": true,
     "schema_version": 3,
     "solution": false
    }
   },
   "source": [
    "Is this dataset balanced? If not, which are the top-3 countries with most names?"
   ]
  },
  {
   "cell_type": "markdown",
   "metadata": {
    "deletable": false,
    "nbgrader": {
     "cell_type": "markdown",
     "checksum": "94306b4cb0e033dcaf119982200607ad",
     "grade": true,
     "grade_id": "cell-e70912fa2bf69d84",
     "locked": false,
     "points": 0,
     "schema_version": 3,
     "solution": true
    }
   },
   "source": [
    "**Your answer:** (fill in here)From the plot it looks that the dataset is not balanced each country contains different amount of names where China, U.S.A, Italy ranked top-3 countries with most names."
   ]
  },
  {
   "cell_type": "markdown",
   "metadata": {
    "deletable": false,
    "editable": false,
    "nbgrader": {
     "cell_type": "markdown",
     "checksum": "1db6be82caa3a09c812b3158187adcf8",
     "grade": false,
     "grade_id": "cell-b332445688db5846",
     "locked": true,
     "schema_version": 3,
     "solution": false
    }
   },
   "source": [
    "### 1.2 Pre-processing"
   ]
  },
  {
   "cell_type": "markdown",
   "metadata": {
    "deletable": false,
    "editable": false,
    "nbgrader": {
     "cell_type": "markdown",
     "checksum": "8e9d2c3be16a91407c9403684b28ddfe",
     "grade": false,
     "grade_id": "cell-0248575eadc7e93e",
     "locked": true,
     "schema_version": 3,
     "solution": false
    }
   },
   "source": [
    "We will train an RNN which takes as input one character at each time-step. In order to do so, we will encode every character in the input names into a one-hot representation that is more suited to be fed to neural networks. \n",
    "\n",
    "The first thing we need to do is to decide the size of the alphabet used for the one-hot encoding. To do so, let's take a look at all the characters used in the dataset. A simple way to do so is putting all names in the same string and then using a `set` to get the unique values. We'll treat upper-case and lower-case characters as being the same."
   ]
  },
  {
   "cell_type": "code",
   "execution_count": 12,
   "metadata": {
    "deletable": false,
    "editable": false,
    "nbgrader": {
     "cell_type": "code",
     "checksum": "94cec9e9df68c821353d453cafaa5f8b",
     "grade": false,
     "grade_id": "cell-6b58e326e17e53f5",
     "locked": true,
     "schema_version": 3,
     "solution": false
    }
   },
   "outputs": [
    {
     "data": {
      "text/plain": [
       "[' ',\n",
       " \"'\",\n",
       " '-',\n",
       " 'a',\n",
       " 'b',\n",
       " 'c',\n",
       " 'd',\n",
       " 'e',\n",
       " 'f',\n",
       " 'g',\n",
       " 'h',\n",
       " 'i',\n",
       " 'j',\n",
       " 'k',\n",
       " 'l',\n",
       " 'm',\n",
       " 'n',\n",
       " 'o',\n",
       " 'p',\n",
       " 'q',\n",
       " 'r',\n",
       " 's',\n",
       " 't',\n",
       " 'u',\n",
       " 'v',\n",
       " 'w',\n",
       " 'x',\n",
       " 'y',\n",
       " 'z',\n",
       " 'ß',\n",
       " 'à',\n",
       " 'á',\n",
       " 'â',\n",
       " 'ã',\n",
       " 'ä',\n",
       " 'å',\n",
       " 'æ',\n",
       " 'ç',\n",
       " 'è',\n",
       " 'é',\n",
       " 'ê',\n",
       " 'ë',\n",
       " 'í',\n",
       " 'î',\n",
       " 'ï',\n",
       " 'ð',\n",
       " 'ñ',\n",
       " 'ò',\n",
       " 'ó',\n",
       " 'ô',\n",
       " 'õ',\n",
       " 'ö',\n",
       " 'ø',\n",
       " 'ú',\n",
       " 'ü',\n",
       " 'ý',\n",
       " 'þ']"
      ]
     },
     "execution_count": 12,
     "metadata": {},
     "output_type": "execute_result"
    }
   ],
   "source": [
    "temp = \"\"\n",
    "for name_list in names_dict.values():\n",
    "    for name in name_list:\n",
    "        temp += name.lower()\n",
    "charset = sorted(set(temp))\n",
    "charset"
   ]
  },
  {
   "cell_type": "markdown",
   "metadata": {
    "deletable": false,
    "editable": false,
    "nbgrader": {
     "cell_type": "markdown",
     "checksum": "aa26ef5d12faceb8d330856b41769a40",
     "grade": false,
     "grade_id": "cell-c28ba53b5126e2f5",
     "locked": true,
     "schema_version": 3,
     "solution": false
    }
   },
   "source": [
    "Now we can create a function that takes as input a name, and outputs a `(name length) x (charset length)` tensor."
   ]
  },
  {
   "cell_type": "code",
   "execution_count": 13,
   "metadata": {},
   "outputs": [
    {
     "data": {
      "text/plain": [
       "' '"
      ]
     },
     "execution_count": 13,
     "metadata": {},
     "output_type": "execute_result"
    }
   ],
   "source": [
    "charset[0]"
   ]
  },
  {
   "cell_type": "code",
   "execution_count": 14,
   "metadata": {
    "deletable": false,
    "editable": false,
    "nbgrader": {
     "cell_type": "code",
     "checksum": "14585ce3bdfe1f68870f92fa78e537ad",
     "grade": false,
     "grade_id": "cell-e078bcfbef92ef2d",
     "locked": true,
     "schema_version": 3,
     "solution": false
    }
   },
   "outputs": [],
   "source": [
    "import torch"
   ]
  },
  {
   "cell_type": "code",
   "execution_count": 15,
   "metadata": {
    "deletable": false,
    "editable": false,
    "nbgrader": {
     "cell_type": "code",
     "checksum": "1f3a2f737754dd7e7735d97ab0a7b1a8",
     "grade": false,
     "grade_id": "cell-28b1f4faf5fe75a3",
     "locked": true,
     "schema_version": 3,
     "solution": false
    }
   },
   "outputs": [],
   "source": [
    "def name2tensor(name):\n",
    "    name = name.lower()\n",
    "    \n",
    "    # Create tensor of correct size filled with zeros\n",
    "    tensor = torch.zeros(len(name), len(charset))\n",
    "    \n",
    "    # For each letter, fill in the tensor with a 1 in the position corresponding to the character index in the charset\n",
    "    for i, letter in enumerate(name):\n",
    "        char_index = charset.index(letter)\n",
    "        tensor[i][char_index] = 1\n",
    "        \n",
    "    return tensor"
   ]
  },
  {
   "cell_type": "code",
   "execution_count": 16,
   "metadata": {
    "deletable": false,
    "editable": false,
    "nbgrader": {
     "cell_type": "code",
     "checksum": "8a9bbbdc34b5d27a2f3187bda44fa59f",
     "grade": false,
     "grade_id": "cell-5d8cbbfaa7917f2c",
     "locked": true,
     "schema_version": 3,
     "solution": false
    }
   },
   "outputs": [
    {
     "data": {
      "text/plain": [
       "tensor([[0., 0., 0., 1., 0., 0., 0., 0., 0., 0., 0., 0., 0., 0., 0., 0., 0., 0.,\n",
       "         0., 0., 0., 0., 0., 0., 0., 0., 0., 0., 0., 0., 0., 0., 0., 0., 0., 0.,\n",
       "         0., 0., 0., 0., 0., 0., 0., 0., 0., 0., 0., 0., 0., 0., 0., 0., 0., 0.,\n",
       "         0., 0., 0.],\n",
       "        [0., 0., 0., 0., 0., 0., 0., 0., 0., 0., 0., 0., 0., 0., 1., 0., 0., 0.,\n",
       "         0., 0., 0., 0., 0., 0., 0., 0., 0., 0., 0., 0., 0., 0., 0., 0., 0., 0.,\n",
       "         0., 0., 0., 0., 0., 0., 0., 0., 0., 0., 0., 0., 0., 0., 0., 0., 0., 0.,\n",
       "         0., 0., 0.],\n",
       "        [0., 0., 0., 0., 0., 0., 0., 0., 0., 0., 0., 1., 0., 0., 0., 0., 0., 0.,\n",
       "         0., 0., 0., 0., 0., 0., 0., 0., 0., 0., 0., 0., 0., 0., 0., 0., 0., 0.,\n",
       "         0., 0., 0., 0., 0., 0., 0., 0., 0., 0., 0., 0., 0., 0., 0., 0., 0., 0.,\n",
       "         0., 0., 0.]])"
      ]
     },
     "execution_count": 16,
     "metadata": {},
     "output_type": "execute_result"
    }
   ],
   "source": [
    "name2tensor('Ali')"
   ]
  },
  {
   "cell_type": "code",
   "execution_count": 17,
   "metadata": {},
   "outputs": [
    {
     "data": {
      "text/plain": [
       "torch.Size([3, 57])"
      ]
     },
     "execution_count": 17,
     "metadata": {},
     "output_type": "execute_result"
    }
   ],
   "source": [
    "x = name2tensor('Ali')\n",
    "x.size()"
   ]
  },
  {
   "cell_type": "markdown",
   "metadata": {
    "deletable": false,
    "editable": false,
    "nbgrader": {
     "cell_type": "markdown",
     "checksum": "20d3d8b2de876fd7d1160298362838a2",
     "grade": false,
     "grade_id": "cell-21a59eb745d70bfd",
     "locked": true,
     "schema_version": 3,
     "solution": false,
     "task": false
    }
   },
   "source": [
    "Why does the above output tensor contain a 1 at position (0,3)?"
   ]
  },
  {
   "cell_type": "markdown",
   "metadata": {
    "deletable": false,
    "nbgrader": {
     "cell_type": "markdown",
     "checksum": "49c4292927f944a5edca1db964fcd7f3",
     "grade": true,
     "grade_id": "cell-39860df3e01f0204",
     "locked": false,
     "points": 0,
     "schema_version": 3,
     "solution": true,
     "task": false
    }
   },
   "source": [
    "**Your answer:** (fill in here)  Because the first dimension of this output tensor corresponds to the letter 'A' or 'a', which is located in the forth element of the charset we created previously."
   ]
  },
  {
   "cell_type": "markdown",
   "metadata": {
    "deletable": false,
    "editable": false,
    "nbgrader": {
     "cell_type": "markdown",
     "checksum": "c30bca60979c477df51fc0312000ec91",
     "grade": false,
     "grade_id": "cell-5beb6efb1f504ce2",
     "locked": true,
     "schema_version": 3,
     "solution": false
    }
   },
   "source": [
    "**(0.5 POE)**\n",
    "What happens if you try encoding the string `Lol@` using this function? Why?"
   ]
  },
  {
   "cell_type": "markdown",
   "metadata": {
    "deletable": false,
    "nbgrader": {
     "cell_type": "markdown",
     "checksum": "98035c11450ee7e36e86ef5f2c11b0f2",
     "grade": true,
     "grade_id": "cell-613a1d700434e11a",
     "locked": false,
     "points": 0.5,
     "schema_version": 3,
     "solution": true
    }
   },
   "source": [
    "**Your answer:** (fill in here) We will get an error, because our function used previously created charset, and @ is not in this charset, thus it can not be encoded into a one-hot representation."
   ]
  },
  {
   "cell_type": "markdown",
   "metadata": {
    "deletable": false,
    "editable": false,
    "nbgrader": {
     "cell_type": "markdown",
     "checksum": "ef09d5be7d022f669a1580dc75732134",
     "grade": false,
     "grade_id": "cell-fdfe2093caad0c9d",
     "locked": true,
     "schema_version": 3,
     "solution": false
    }
   },
   "source": [
    "It's definitely possible to use the tensors created with `name2tensor` to train our RNN, but in that case we would only be able to conveniently perform forward-propagation using one sample at a time.\n",
    "\n",
    "Instead, we want to batch samples together and parallelize the forward-propagation step. To do so, all samples must have the same dimensions (right now every sample has dimension `(name length) x (charset length)`, and the length of the names varies). Modify the function `name2padded_tensor` to achieve this by padding the start of the tensor with zeros, so that the output tensor always has length `target_len x (charset length)`.\n",
    "\n",
    "*Hint*:\n",
    "\n",
    "- To make it easier to catch bugs in the next parts of the assignment, make sure to raise an exception if the `target_len` is smaller than the length of the input word."
   ]
  },
  {
   "cell_type": "code",
   "execution_count": 18,
   "metadata": {
    "deletable": false,
    "nbgrader": {
     "cell_type": "code",
     "checksum": "00bfec2441b0ed4cce214efbd27292cb",
     "grade": true,
     "grade_id": "cell-fbe880f01de97439",
     "locked": false,
     "points": 0,
     "schema_version": 3,
     "solution": true
    }
   },
   "outputs": [],
   "source": [
    "def name2padded_tensor(name, target_len):\n",
    "\n",
    "    tensor = name2tensor(name) # this tensor will have (name length) x (charset length) dimension\n",
    "        \n",
    "    # YOUR CODE HERE\n",
    "    tensor2 = torch.zeros(target_len-len(tensor),len(charset))\n",
    "    \n",
    "    # For each letter, fill in the tensor with a 1 in the position corresponding to the character index in the charset\n",
    "\n",
    "    tensor = torch.cat((tensor2,tensor), 0)\n",
    "    return tensor\n",
    "    \n",
    " \n",
    "    return tensor"
   ]
  },
  {
   "cell_type": "code",
   "execution_count": 19,
   "metadata": {
    "deletable": false,
    "editable": false,
    "nbgrader": {
     "cell_type": "code",
     "checksum": "5de1745a961b0184d422af8c705cf392",
     "grade": false,
     "grade_id": "cell-22bb8ede1d7a7da2",
     "locked": true,
     "schema_version": 3,
     "solution": false
    }
   },
   "outputs": [
    {
     "name": "stdout",
     "output_type": "stream",
     "text": [
      "Test passed.\n"
     ]
    }
   ],
   "source": [
    "def test_name2padded_tensor():\n",
    "    test_case(case_id=\"1\", name=\"Ali\", target_len=5)\n",
    "    test_case(case_id=\"2\", name=\"Ali Baba\", target_len=10)\n",
    "    print(\"Test passed.\")\n",
    "    \n",
    "    \n",
    "def test_case(case_id, name, target_len):\n",
    "    padded_tensor = name2padded_tensor(\"Ali\", target_len)\n",
    "    new_target_len, new_charset_len = padded_tensor.shape\n",
    "    err_string = \"Case {} failed: {}\"\n",
    "    \n",
    "    assert new_target_len == target_len, err_string.format(case_id,\n",
    "        \"`target_len` not preserved, expected: {}, got: {}\".format(target_len, new_target_len))\n",
    "    \n",
    "    assert new_charset_len == 57, err_string.format(\n",
    "        \"`charset_len` not preserved, expected: 57, got: {}\".format(new_charset_len))\n",
    "    \n",
    "    assert padded_tensor[:2, :].sum() == 0, err_string.format(\n",
    "        \"The first two rows of the tensor should be all zeros.\")\n",
    "    \n",
    "    assert (padded_tensor.sum(1) <= torch.ones((target_len, 1))).all(), err_string.format(\n",
    "        \"Every row in the tensor should sum to at most 1.\")\n",
    "    \n",
    "    assert padded_tensor.sum() <= len(name), err_string.format(\n",
    "        \"The sum of all elements (i.e. the number of ones) should equal the number of characters in the name.\")\n",
    "    \n",
    "test_name2padded_tensor()"
   ]
  },
  {
   "cell_type": "markdown",
   "metadata": {
    "deletable": false,
    "editable": false,
    "nbgrader": {
     "cell_type": "markdown",
     "checksum": "867b73c2ba68fcc9c1798c49969dac8c",
     "grade": false,
     "grade_id": "cell-c9657b653aeb1c93",
     "locked": true,
     "schema_version": 3,
     "solution": false
    }
   },
   "source": [
    "What should be the target length for our case in this dataset? Compute it (i.e. don't hardcode it) in the cell below and save it in a variable named `target_len`, which will be used from here on."
   ]
  },
  {
   "cell_type": "code",
   "execution_count": 20,
   "metadata": {
    "deletable": false,
    "nbgrader": {
     "cell_type": "code",
     "checksum": "648616943150dba84fbf4c675deb0421",
     "grade": true,
     "grade_id": "cell-ceb412223ee3e6dd",
     "locked": false,
     "points": 0,
     "schema_version": 3,
     "solution": true
    }
   },
   "outputs": [],
   "source": [
    "# YOUR CODE HERE\n",
    "import numpy as np\n",
    "def longest(item_list):\n",
    "    len_list=map(len,item_list) # calculate the length of each element in list\n",
    "\n",
    "    li=list(len_list) \n",
    "    return item_list[np.argmax(li)] #return the longest element\n",
    "\n",
    "\n",
    "names = []\n",
    "for key, value in names_dict.items():\n",
    "#     print(key)       # we can print each country\n",
    "    x = longest(names_dict[key])    # we can get longest name for each country\n",
    "    names.append(x)   # put all longest names from each country to a new list\n",
    "\n",
    "\n",
    "Longest_name = longest(names)\n",
    "Longest_name\n",
    "target_len = len(Longest_name)\n",
    "target_len += 1"
   ]
  },
  {
   "cell_type": "markdown",
   "metadata": {
    "deletable": false,
    "editable": false,
    "nbgrader": {
     "cell_type": "markdown",
     "checksum": "901b6c3ed25c85d2cec741ad2e575ade",
     "grade": false,
     "grade_id": "cell-0bd908b10b33e7e2",
     "locked": true,
     "schema_version": 3,
     "solution": false
    }
   },
   "source": [
    "Now we can go through the entire dataset, encode each of the names, and save all of it in a tensor. We'll do the same with the ground-truth labels for the countries of each name."
   ]
  },
  {
   "cell_type": "code",
   "execution_count": 21,
   "metadata": {
    "deletable": false,
    "editable": false,
    "nbgrader": {
     "cell_type": "code",
     "checksum": "2b0c5193152b51305c0a1aef0900f7c9",
     "grade": false,
     "grade_id": "cell-c41ca1beab4900d1",
     "locked": true,
     "schema_version": 3,
     "solution": false
    }
   },
   "outputs": [],
   "source": [
    "# Create the tensors that will hold the names and labels \n",
    "# (note that the first dimension has 0 elements, this is a way to initialize an empty tensor for concatenating later)\n",
    "xs = torch.zeros(0, target_len, len(charset))\n",
    "ys = torch.zeros(0, dtype=torch.long)\n",
    "\n",
    "for i, country in enumerate(names_dict.keys()):\n",
    "    \n",
    "    # Apply the name2padded_tensor function to each name in this country\n",
    "    temp = map(\n",
    "        lambda n: name2padded_tensor(n, target_len), \n",
    "        names_dict[country])\n",
    "    \n",
    "    # Add a new dimension to the resulting tensors\n",
    "    temp = [name_tensor[None, :, :] for name_tensor in temp]\n",
    "    \n",
    "    # Concatenate all of them along this new dimension\n",
    "    names_tensor = torch.cat(temp, dim=0)\n",
    "    \n",
    "    # Add these tensors to `xs`\n",
    "    # Note that we have 44504 data pairs (x,y) where a single input x has the shape (target_len, 57),\n",
    "    # where 57 is the length of the one-hot-encoded vectors.\n",
    "    xs = torch.cat([xs, names_tensor], dim=0)\n",
    "    \n",
    "    # Create tensor filled with i`s and add that to the ground-truth tensor\n",
    "    ys_for_this_country = torch.zeros(names_tensor.shape[0], dtype=torch.long) + i\n",
    "    ys = torch.cat([ys, ys_for_this_country])    "
   ]
  },
  {
   "cell_type": "code",
   "execution_count": 22,
   "metadata": {
    "deletable": false,
    "editable": false,
    "nbgrader": {
     "cell_type": "code",
     "checksum": "59844c38d7efe88476c8c7299e4e0eb4",
     "grade": false,
     "grade_id": "cell-52dbbea6ddcef37d",
     "locked": true,
     "schema_version": 3,
     "solution": false
    }
   },
   "outputs": [
    {
     "data": {
      "text/plain": [
       "torch.Size([44504, 23, 57])"
      ]
     },
     "execution_count": 22,
     "metadata": {},
     "output_type": "execute_result"
    }
   ],
   "source": [
    "xs.shape"
   ]
  },
  {
   "cell_type": "code",
   "execution_count": 23,
   "metadata": {
    "deletable": false,
    "editable": false,
    "nbgrader": {
     "cell_type": "code",
     "checksum": "84f30aec4ebb491a7b47bc37f3c4428d",
     "grade": false,
     "grade_id": "cell-7e884148f06eed5d",
     "locked": true,
     "schema_version": 3,
     "solution": false
    }
   },
   "outputs": [
    {
     "data": {
      "text/plain": [
       "torch.Size([44504])"
      ]
     },
     "execution_count": 23,
     "metadata": {},
     "output_type": "execute_result"
    }
   ],
   "source": [
    "ys.shape"
   ]
  },
  {
   "cell_type": "markdown",
   "metadata": {
    "deletable": false,
    "editable": false,
    "nbgrader": {
     "cell_type": "markdown",
     "checksum": "d0ad8b82a67e3dae17a9dcf05d4886e3",
     "grade": false,
     "grade_id": "cell-0aa1483447535d5e",
     "locked": true,
     "schema_version": 3,
     "solution": false
    }
   },
   "source": [
    "Now we can create a dataset with these tensors."
   ]
  },
  {
   "cell_type": "code",
   "execution_count": 24,
   "metadata": {
    "deletable": false,
    "editable": false,
    "nbgrader": {
     "cell_type": "code",
     "checksum": "bfe3df0f9d0e144e99d070814a493a6f",
     "grade": false,
     "grade_id": "cell-6b352207c061f029",
     "locked": true,
     "schema_version": 3,
     "solution": false
    }
   },
   "outputs": [],
   "source": [
    "from torch.utils.data import TensorDataset\n",
    "\n",
    "device = torch.device(\"cuda\" if torch.cuda.is_available() else \"cpu\")\n",
    "dataset = TensorDataset(xs.to(device), ys.to(device))"
   ]
  },
  {
   "cell_type": "code",
   "execution_count": 25,
   "metadata": {},
   "outputs": [
    {
     "data": {
      "text/plain": [
       "device(type='cpu')"
      ]
     },
     "execution_count": 25,
     "metadata": {},
     "output_type": "execute_result"
    }
   ],
   "source": [
    "device"
   ]
  },
  {
   "cell_type": "markdown",
   "metadata": {
    "deletable": false,
    "editable": false,
    "nbgrader": {
     "cell_type": "markdown",
     "checksum": "86cdcef7c72b84485a13de4cf47e3dde",
     "grade": false,
     "grade_id": "cell-c20e8ae6ac70f92f",
     "locked": true,
     "schema_version": 3,
     "solution": false
    }
   },
   "source": [
    "And split it in training, validation, and test sets."
   ]
  },
  {
   "cell_type": "code",
   "execution_count": 26,
   "metadata": {
    "deletable": false,
    "editable": false,
    "nbgrader": {
     "cell_type": "code",
     "checksum": "db198d7a02c0fae8959ccb3ebcbb62f8",
     "grade": false,
     "grade_id": "cell-57448454a3d5dc19",
     "locked": true,
     "schema_version": 3,
     "solution": false
    }
   },
   "outputs": [],
   "source": [
    "from torch.utils.data import random_split\n",
    "\n",
    "val_ratio = 0.15\n",
    "test_ratio = 0.15\n",
    "\n",
    "n_samples = len(dataset)\n",
    "n_val_samples = int(n_samples*val_ratio)\n",
    "n_test_samples = int(n_samples*test_ratio)\n",
    "n_train_samples = n_samples-n_val_samples-n_test_samples\n",
    "\n",
    "train_dataset, val_dataset, test_dataset = random_split(dataset, [n_train_samples, n_val_samples, n_test_samples])"
   ]
  },
  {
   "cell_type": "markdown",
   "metadata": {
    "deletable": false,
    "editable": false,
    "nbgrader": {
     "cell_type": "markdown",
     "checksum": "da53c7a8fffae55f48861e3dd82bfb1f",
     "grade": false,
     "grade_id": "cell-485c36faf4913176",
     "locked": true,
     "schema_version": 3,
     "solution": false
    }
   },
   "source": [
    "### 1.3 Defining the optimization"
   ]
  },
  {
   "cell_type": "markdown",
   "metadata": {
    "deletable": false,
    "editable": false,
    "nbgrader": {
     "cell_type": "markdown",
     "checksum": "c01ec8621522587812922448fb267278",
     "grade": false,
     "grade_id": "cell-b2ed39f361f618c2",
     "locked": true,
     "schema_version": 3,
     "solution": false
    }
   },
   "source": [
    "Now we will define the model to be trained, that is, a single layer RNN. As usual, we will create a class for the model and inherit from `nn.Module`. Define in the next cell a class for an RNN that follows the equations:\n",
    "\n",
    "$$ h_t = \\text{tanh}(W_h x_t + U_h h_{t-1} + b_h) $$\n",
    "$$ y_t = \\log \\Big(\\text{Softmax}(W_y h_t + b_y)\\Big)~,$$\n",
    "\n",
    "where $h_t$ is the current hidden-state, $h_{t-1}$ is the previous hidden state, $x_t$ is the input, $y_t$ is the output, and $W_h, U_h, b_h, W_y, b_y$ are the trainable parts of the RNN. As explained before, we will use this RNN to classify names, inputting one character at each step and using the last output as the prediction for a distribution over probable countries for the name.\n",
    "\n",
    "*Hints:*\n",
    "\n",
    "- As you're probably aware by now, PyTorch [has a layer](https://pytorch.org/docs/stable/nn.html#logsoftmax) that already applies the log and the softmax in one pass.\n",
    "- If you get errors related to size mismatches when computing the forward-propagation in your model, try reading the documentation for the specific module where the problem is occurring (e.g. [`nn.Linear`](https://pytorch.org/docs/stable/nn.html#linear)), specially the part about the expected shape of inputs and outputs."
   ]
  },
  {
   "cell_type": "code",
   "execution_count": 27,
   "metadata": {
    "deletable": false,
    "nbgrader": {
     "cell_type": "code",
     "checksum": "779f945b274e152fdb2d16a0f0c59719",
     "grade": true,
     "grade_id": "cell-63759a1c550cd7e1",
     "locked": false,
     "points": 0,
     "schema_version": 3,
     "solution": true
    }
   },
   "outputs": [],
   "source": [
    "\n",
    "import torch\n",
    "import torch.nn as nn\n",
    "from torch.autograd import Variable\n",
    "     \n",
    "\n",
    "class RNN(nn.Module):\n",
    "    def __init__(self, input_size, hidden_size, output_size):\n",
    "        \"\"\"\n",
    "        Inputs:\n",
    "            input_size     - Dimensionality of the input of this RNN.\n",
    "            hidden_size    - Dimensionality of the hidden state.\n",
    "            output_size    - Dimensionality of the output of this RNN.\n",
    "        \"\"\"\n",
    "        \n",
    "        super(RNN, self).__init__()\n",
    "        \n",
    "        # YOUR CODE HERE        \n",
    "        \n",
    "        #self.Wx = torch.randn(hidden_size, input_size) # input weights\n",
    "        #self.Wh = torch.randn(hidden_size, hidden_size) # hidden weights\n",
    "        #self.Wy = torch.randn(output_size, hidden_size) # output weights\n",
    "        \n",
    "        #self.h = torch.zeros(hidden_size,1) # initial hidden state\n",
    "        #self.bh = torch.zeros(hidden_size,1) # hidden state bias\n",
    "        #self.by = torch.zeros(output_size,1) # output bias\n",
    "        \n",
    "        \n",
    "        #print('input_size',input_size)\n",
    "        #print('output_size',output_size)\n",
    "        #print('hidden_size',hidden_size)\n",
    "        \n",
    "        self.hidden_size = hidden_size\n",
    "        self.output_size = output_size\n",
    "        self.input_size = input_size\n",
    "        \n",
    "        self.h2h = nn.RNNCell(input_size + hidden_size, hidden_size, 'tanh')\n",
    "        self.h2y = nn.Linear(hidden_size, output_size)\n",
    "        \n",
    "    def forward(self, x, h):      \n",
    "        \"\"\"\n",
    "        Runs the RNN module for one time-step.\n",
    "        Inputs:\n",
    "            x              - Batch of one-hot encoded characters. \n",
    "                             Tensor of size (BATCH SIZE x CHARSET LENGTH).\n",
    "            h              - Batch of hidden states at previous time-step.\n",
    "                             Tensor of size (BATCH SIZE x `hidden_size`).       \n",
    "        Returns:\n",
    "            y              - Batch of outputs.\n",
    "                             Tensor of size (BATCH SIZE x NUMBER OF COUNTRIES).\n",
    "            new_h          - Batch of hidden states at current time-step.\n",
    "                             Tensor of size (BATCH SIZE x `hidden_size`).\n",
    "        \"\"\"\n",
    "        \n",
    "        # YOUR CODE HERE\n",
    "        \n",
    "        temp_h = torch.cat((x,h),1)\n",
    "        new_h = self.h2h(temp_h)\n",
    "        \n",
    "        soft = self.h2y(new_h)\n",
    "        m = nn.LogSoftmax(dim=1)\n",
    "        y= m(soft)\n",
    "   \n",
    "        \n",
    "        return y, new_h\n",
    "    \n",
    "    def init_h(self, b_size):\n",
    "        \n",
    "        return torch.zeros(b_size, self.hidden_size)\n"
   ]
  },
  {
   "cell_type": "markdown",
   "metadata": {
    "deletable": false,
    "editable": false,
    "nbgrader": {
     "cell_type": "markdown",
     "checksum": "ef6f13ee64c864145910c8c572c69619",
     "grade": false,
     "grade_id": "cell-41a6ab734e65e9e2",
     "locked": true,
     "schema_version": 3,
     "solution": false
    }
   },
   "source": [
    "Run the following cell to test whether the shape of your outputs are correct. Note that this *only* checks the shapes, not the content (one way you can check the actual computations of your network is to `print` the tensors as they pass through the layers, in order to check that the computations do what you expected)."
   ]
  },
  {
   "cell_type": "code",
   "execution_count": 28,
   "metadata": {
    "deletable": false,
    "editable": false,
    "nbgrader": {
     "cell_type": "code",
     "checksum": "4315757096090786eee6690c324ba75c",
     "grade": false,
     "grade_id": "cell-0895e453938dcd22",
     "locked": true,
     "schema_version": 3,
     "solution": false
    }
   },
   "outputs": [
    {
     "name": "stdout",
     "output_type": "stream",
     "text": [
      "Test passed.\n"
     ]
    }
   ],
   "source": [
    "# Create a test tensor of size (1 x CHARSET LENGTH)\n",
    "t = torch.ones((1,len(charset))).to(device)\n",
    "\n",
    "# Forward-prop through the RNN\n",
    "rnn = RNN(len(charset), 3, len(names_dict)).to(device)\n",
    "h = torch.ones((1, 3)).to(device)\n",
    "y, new_h = rnn(t, h)\n",
    "\n",
    "# Test dimensions of the outputs\n",
    "err_str = 'The {} has incorrect dimension. Dimension is {}, but should\\'ve been {}'\n",
    "assert list(y.shape) == [1, len(names_dict)], err_str.format('output', list(y.shape), [1, len(names_dict)])\n",
    "assert list(new_h.shape) == [1, 3], err_str.format('new hidden state', list(new_h.shape), [1, 3])\n",
    "\n",
    "print('Test passed.')"
   ]
  },
  {
   "cell_type": "markdown",
   "metadata": {
    "deletable": false,
    "editable": false,
    "nbgrader": {
     "cell_type": "markdown",
     "checksum": "3a95bb58240597c971bb9181a605563e",
     "grade": false,
     "grade_id": "cell-f879b658d2fe97d5",
     "locked": true,
     "schema_version": 3,
     "solution": false
    }
   },
   "source": [
    "**(2 POE)**\n",
    "Suppose we now create an RNN using the following call: `RNN(x, y, z)`. How many parameters would this model have in total?"
   ]
  },
  {
   "cell_type": "markdown",
   "metadata": {
    "deletable": false,
    "nbgrader": {
     "cell_type": "markdown",
     "checksum": "3a75752559679046eec4403fbd11df95",
     "grade": true,
     "grade_id": "cell-d359daf8f96289bc",
     "locked": false,
     "points": 2,
     "schema_version": 3,
     "solution": true
    }
   },
   "source": [
    "**Your answer:** (fill in here)The number of parameters we need to train is hiddensize^2+ inputsize*hiddensize+ outputsize*hiddensize, thus We will have  y^2+x*y+z*y parameters"
   ]
  },
  {
   "cell_type": "markdown",
   "metadata": {
    "deletable": false,
    "editable": false,
    "nbgrader": {
     "cell_type": "markdown",
     "checksum": "0d5dc81f8efd4a09172a3480777b3273",
     "grade": false,
     "grade_id": "cell-e3ae784b6fd462cb",
     "locked": true,
     "schema_version": 3,
     "solution": false
    }
   },
   "source": [
    "We will use the Adam optimizer:"
   ]
  },
  {
   "cell_type": "code",
   "execution_count": 29,
   "metadata": {
    "deletable": false,
    "editable": false,
    "nbgrader": {
     "cell_type": "code",
     "checksum": "32abb30aecff746e6f8450bd2585ccd9",
     "grade": false,
     "grade_id": "cell-c8087333699def0c",
     "locked": true,
     "schema_version": 3,
     "solution": false
    }
   },
   "outputs": [],
   "source": [
    "from torch.optim import Adam"
   ]
  },
  {
   "cell_type": "markdown",
   "metadata": {
    "deletable": false,
    "editable": false,
    "nbgrader": {
     "cell_type": "markdown",
     "checksum": "bce7d6662ece2790aea9b9559ba42655",
     "grade": false,
     "grade_id": "cell-6411a391a74a5e36",
     "locked": true,
     "schema_version": 3,
     "solution": false
    }
   },
   "source": [
    "and since this is a classification problem we will use the negative log-likelihood loss ([`NLLLoss`](https://pytorch.org/docs/stable/nn.html#nllloss)) to train the model. We should account for the fact that our dataset is imbalanced, and one way of dealing with this problem is to assign different weights to each class in our problem. "
   ]
  },
  {
   "cell_type": "code",
   "execution_count": 30,
   "metadata": {
    "deletable": false,
    "editable": false,
    "nbgrader": {
     "cell_type": "code",
     "checksum": "03b88a4c73ebe26c0dba9ef4e33de623",
     "grade": false,
     "grade_id": "cell-934166eac20acb50",
     "locked": true,
     "schema_version": 3,
     "solution": false
    }
   },
   "outputs": [],
   "source": [
    "# Compute weights for each class\n",
    "n_names_for_each_country = [len(v) for v in names_dict.values()]\n",
    "ns = torch.tensor(n_names_for_each_country, dtype=torch.float)\n",
    "w = 1.0 / ns\n",
    "w = w / w.sum()\n",
    "\n",
    "# Define loss\n",
    "criterion = nn.NLLLoss(weight=w.to(device))"
   ]
  },
  {
   "cell_type": "markdown",
   "metadata": {
    "deletable": false,
    "editable": false,
    "nbgrader": {
     "cell_type": "markdown",
     "checksum": "79c6e7c250cee58a49186aa590044e90",
     "grade": false,
     "grade_id": "cell-b333a7e050fbe007",
     "locked": true,
     "schema_version": 3,
     "solution": false
    }
   },
   "source": [
    "**(1 POE)**\n",
    "Why is it a problem that the dataset is imbalanced? What would be the consequence of not dealing with this problem?"
   ]
  },
  {
   "cell_type": "markdown",
   "metadata": {
    "deletable": false,
    "nbgrader": {
     "cell_type": "markdown",
     "checksum": "7e3b31f0c623204a864969abc9aa7041",
     "grade": true,
     "grade_id": "cell-a044d5b4e3bcf29b",
     "locked": false,
     "points": 1,
     "schema_version": 3,
     "solution": true
    }
   },
   "source": [
    "**Your answer:** Imbalanced dataset pose a challenge for predictive modeling where most of the ML algorithms used, thus results in poor predictive performance. This imbalanced dataset also leads to poor classification accuracy or sometimes even misclassification."
   ]
  },
  {
   "cell_type": "markdown",
   "metadata": {
    "deletable": false,
    "editable": false,
    "nbgrader": {
     "cell_type": "markdown",
     "checksum": "9b0d76d5afa72c2d445f090a5ecbf20e",
     "grade": false,
     "grade_id": "cell-0611001189dd369a",
     "locked": true,
     "schema_version": 3,
     "solution": false
    }
   },
   "source": [
    "**(2 POE)**\n",
    "Why does assigning different weights to each class solve this problem? How should the weights be chosen?"
   ]
  },
  {
   "cell_type": "markdown",
   "metadata": {
    "deletable": false,
    "nbgrader": {
     "cell_type": "markdown",
     "checksum": "1908cf73b523fb7c22c7b7b0bf2221c6",
     "grade": true,
     "grade_id": "cell-f19ff5370ea1e86d",
     "locked": false,
     "points": 2,
     "schema_version": 3,
     "solution": true
    }
   },
   "source": [
    "**Your answer:** Assigning different weights to each class will effectively increase the accuracy and place more emphasis on the minority classes. The weights should be more on minor class if they are more important so that they can learn easily from each class.\n",
    "\n"
   ]
  },
  {
   "cell_type": "markdown",
   "metadata": {
    "deletable": false,
    "editable": false,
    "nbgrader": {
     "cell_type": "markdown",
     "checksum": "bc3ac401b23e46dea5a68ad5f0a6123e",
     "grade": false,
     "grade_id": "cell-ced0796bf818f493",
     "locked": true,
     "schema_version": 3,
     "solution": false
    }
   },
   "source": [
    "**(2 POE)**\n",
    "Is there any situation where *we would want* class imbalances? How could we create such a class imbalance in a balanced dataset (without changing the dataset itself)? "
   ]
  },
  {
   "cell_type": "markdown",
   "metadata": {
    "deletable": false,
    "nbgrader": {
     "cell_type": "markdown",
     "checksum": "36c4aa6f2c2895828bda0b8e99b0d11a",
     "grade": true,
     "grade_id": "cell-821c6a2fb462d2f9",
     "locked": false,
     "points": 2,
     "schema_version": 3,
     "solution": true
    }
   },
   "source": [
    "**Your answer:** yeah there are some situation where we need class imbalance in order to **focus more on particular class**. For Eg, In a country we have both rich and poor people the poverty can be find by number of poor people so in this situation we need to focus more on poor peoples. This class imbalance can be created by **overfitting** the required class which is poor people by adding more weights on that class. "
   ]
  },
  {
   "cell_type": "markdown",
   "metadata": {
    "deletable": false,
    "editable": false,
    "nbgrader": {
     "cell_type": "markdown",
     "checksum": "cbc3cc703eb376f0ad0be049bef4e506",
     "grade": false,
     "grade_id": "cell-95508ad6a5c542b5",
     "locked": true,
     "schema_version": 3,
     "solution": false
    }
   },
   "source": [
    "### 1.4 Helper functions for training"
   ]
  },
  {
   "cell_type": "markdown",
   "metadata": {
    "deletable": false,
    "editable": false,
    "nbgrader": {
     "cell_type": "markdown",
     "checksum": "3872100fbac2567ded7728124e72bd8d",
     "grade": false,
     "grade_id": "cell-ccbb270d5fe1c30c",
     "locked": true,
     "schema_version": 3,
     "solution": false
    }
   },
   "source": [
    "**(1.5 POE)** Now that we defined the optimization problem, we can start creating the code to actually solve it. The first thing that we need is a function that, given a batch of samples, computes the output of the model for every sample and the average loss across all samples. \n",
    "\n",
    "Complete the function `batch_forward_prop` to produce this behavior.\n",
    "\n",
    "*Hints*:\n",
    "\n",
    "- Initialize the hidden state to a zero Tensor for the first forward-propagation.\n",
    "- If you get errors related to size mismatches when computing the forward-propagation in your model, try reading the documentation for the specific module where the problem is occurring (e.g. [`nn.Linear`](https://pytorch.org/docs/stable/nn.html#linear)), especially the part about the expected shape of inputs and outputs.\n",
    "- If you get errors related to size mismatches when computing the loss, try reading the [documentation for it](https://pytorch.org/docs/stable/nn.html#nllloss), especially the part about the expected shape of inputs and outputs."
   ]
  },
  {
   "cell_type": "code",
   "execution_count": 31,
   "metadata": {
    "deletable": false,
    "nbgrader": {
     "cell_type": "code",
     "checksum": "a43acc034ca0c7356e97f2f5bd1514cb",
     "grade": true,
     "grade_id": "cell-080aad948708672d",
     "locked": false,
     "points": 1.5,
     "schema_version": 3,
     "solution": true
    }
   },
   "outputs": [],
   "source": [
    "def batch_forward_prop(rnn, xs, ys):  \n",
    "    \"\"\"\n",
    "    Inputs:\n",
    "        rnn            - The RNN model, instance of the RNN class.\n",
    "        xs             - Batch of input words.\n",
    "                         Tensor of shape (BATCH SIZE x `target_len` x CHARSET LENGTH).\n",
    "        ys             - Batch of ground-truth labels.\n",
    "                         Tensor of  shape (BATCH_SIZE).\n",
    "    \n",
    "    Returns:\n",
    "        output         - Output computed at the last character position in the batch.\n",
    "                         Tensor of shape (BATCH_SIZE x NUMBER OF COUNTRIES).\n",
    "        loss           - Value of the average loss across the predictions for this batch, later used for back-propagation.\n",
    "                         Tensor with a single element inside.\n",
    "    \"\"\"\n",
    "    \n",
    "    # YOUR CODE HERE\n",
    "    \n",
    "    batchsize_xs, target_length_xs, charset_length_xs = xs.shape\n",
    "    \n",
    "    hs = rnn.init_h(batchsize_xs) \n",
    "    \n",
    "    for character in range(target_length_xs):\n",
    "        output, hs = rnn(xs[:,character,:], hs)\n",
    "    \n",
    "    loss = criterion(output,ys)\n",
    "    \n",
    "    return output, loss\n"
   ]
  },
  {
   "cell_type": "markdown",
   "metadata": {
    "deletable": false,
    "editable": false,
    "nbgrader": {
     "cell_type": "markdown",
     "checksum": "99ee062817c7b56e5180058437d2f26d",
     "grade": false,
     "grade_id": "cell-644f9d6aaa50e21c",
     "locked": true,
     "schema_version": 3,
     "solution": false
    }
   },
   "source": [
    "Run the following cell to test whether the shape of your outputs are correct. Note that this *only* checks the shapes, not the content."
   ]
  },
  {
   "cell_type": "code",
   "execution_count": 32,
   "metadata": {
    "deletable": false,
    "editable": false,
    "nbgrader": {
     "cell_type": "code",
     "checksum": "a3dbd376c434b09e3945c9d1ac43b803",
     "grade": false,
     "grade_id": "cell-02f7744a186b2ebe",
     "locked": true,
     "schema_version": 3,
     "solution": false
    },
    "scrolled": true
   },
   "outputs": [
    {
     "name": "stdout",
     "output_type": "stream",
     "text": [
      "Test passed.\n"
     ]
    }
   ],
   "source": [
    "def test_rnn():\n",
    "    # Create two tensors\n",
    "    t1 = name2tensor('Unit')\n",
    "    t2 = name2tensor('Test')\n",
    "\n",
    "    # Add the batch dimension to them and concatenate\n",
    "    t = torch.cat([t1[None, :], t2[None, :]], dim=0)\n",
    "\n",
    "    # Create label tensor\n",
    "    l = torch.ones((2), dtype=torch.long)\n",
    "\n",
    "    # Create RNN\n",
    "    rnn = RNN(len(charset), 10, len(names_dict))\n",
    "\n",
    "    # Put everything in the correct device\n",
    "    t = t.to(device)\n",
    "    l = l.to(device)\n",
    "    rnn.to(device)\n",
    "\n",
    "    # Perform the forward-prop\n",
    "    y, loss = batch_forward_prop(rnn, t, l)\n",
    "\n",
    "    # Test dimensions of the outputs\n",
    "    err_str = 'The {} has incorrect dimension. Dimension is {}, but should\\'ve been {}'\n",
    "    assert list(y.shape) == [2, len(names_dict)], err_str.format('output', list(y.shape), [2, len(names_dict)])\n",
    "    assert list(loss.shape) == [], err_str.format('loss', list(loss.shape), [])\n",
    "\n",
    "    print('Test passed.')\n",
    "    \n",
    "test_rnn()"
   ]
  },
  {
   "cell_type": "markdown",
   "metadata": {
    "deletable": false,
    "editable": false,
    "nbgrader": {
     "cell_type": "markdown",
     "checksum": "d0829fc6b5254f539a66a81a3024bdfc",
     "grade": false,
     "grade_id": "cell-4010f6bcbc1e6245",
     "locked": true,
     "schema_version": 3,
     "solution": false
    }
   },
   "source": [
    "Using this function, it's straightforward to train on a single batch of data:"
   ]
  },
  {
   "cell_type": "code",
   "execution_count": 33,
   "metadata": {
    "deletable": false,
    "editable": false,
    "nbgrader": {
     "cell_type": "code",
     "checksum": "d31d4ef7500c06aea4ecdcf27d399fa8",
     "grade": false,
     "grade_id": "cell-78972c6d342b4da9",
     "locked": true,
     "schema_version": 3,
     "solution": false
    }
   },
   "outputs": [],
   "source": [
    "from torch.nn.utils import clip_grad_norm\n",
    "\n",
    "def train_batch(rnn, xs, ys, optimizer):\n",
    "    \n",
    "    # Compute the output for all samples in the batch and the average loss\n",
    "    output, loss = batch_forward_prop(rnn, xs, ys)\n",
    "    \n",
    "    # Zero gradients before computing backward-propagation\n",
    "    optimizer.zero_grad()\n",
    "\n",
    "    # Backward-propagation\n",
    "    loss.backward()\n",
    "    \n",
    "    # Clip the gradient norm (optional, helps to stabilize training)\n",
    "    nn.utils.clip_grad_norm_(rnn.parameters(), 2)\n",
    "    \n",
    "    # Perform one step of optimization\n",
    "    optimizer.step()\n",
    "    \n",
    "    return output, loss"
   ]
  },
  {
   "cell_type": "markdown",
   "metadata": {
    "deletable": false,
    "editable": false,
    "nbgrader": {
     "cell_type": "markdown",
     "checksum": "576143bb6960f21f2b68bd6bb977a9f0",
     "grade": false,
     "grade_id": "cell-f2b194756febe3f1",
     "locked": true,
     "schema_version": 3,
     "solution": false
    }
   },
   "source": [
    "We will also need a function for computing metrics of interest in the validation set. In this case, we will plot both the loss and the F1-score in the validation set. The F1-score of a classifier is the [harmonic mean](https://en.wikipedia.org/wiki/Harmonic_mean) of its [precision and recall](https://en.wikipedia.org/wiki/Precision_and_recall), two metrics that are more useful than accuracy for imbalanced datasets. [This blog post](https://towardsdatascience.com/accuracy-precision-recall-or-f1-331fb37c5cb9) can help you to familiarize yourself with these new metrics."
   ]
  },
  {
   "cell_type": "code",
   "execution_count": 34,
   "metadata": {
    "deletable": false,
    "editable": false,
    "nbgrader": {
     "cell_type": "code",
     "checksum": "8e3455a07c3f54b5b32d0b11eae460d5",
     "grade": false,
     "grade_id": "cell-94021e46113ec8cb",
     "locked": true,
     "schema_version": 3,
     "solution": false
    }
   },
   "outputs": [],
   "source": [
    "from sklearn.metrics import precision_recall_fscore_support\n",
    "\n",
    "def compute_metrics_on_validation_set(rnn, val_dataset):\n",
    "    # Get all the input and labels in the training set.\n",
    "    x_val, y_val = val_dataset[:]\n",
    "    \n",
    "    # Perform forward-prop in the entire validation set, with autograd disabled\n",
    "    with torch.no_grad():\n",
    "        val_output, val_loss = batch_forward_prop(rnn, x_val, y_val)\n",
    "    \n",
    "    # Get numpy arrays for the true labels and the predictions\n",
    "    y_true = y_val.cpu().numpy()\n",
    "    y_pred = val_output.argmax(dim=1).cpu().numpy()\n",
    "    \n",
    "    # Compute precision, recall, and F-score\n",
    "    precision, recall, fscore, _ = precision_recall_fscore_support(y_true, y_pred, average='macro')\n",
    "    \n",
    "    return val_loss, precision, recall, fscore"
   ]
  },
  {
   "cell_type": "markdown",
   "metadata": {
    "deletable": false,
    "editable": false,
    "nbgrader": {
     "cell_type": "markdown",
     "checksum": "06672da367df025e50d1fc66d1a14015",
     "grade": false,
     "grade_id": "cell-2e37e571600c2220",
     "locked": true,
     "schema_version": 3,
     "solution": false
    }
   },
   "source": [
    "Lastly, we define a function for plotting the metrics in real-time."
   ]
  },
  {
   "cell_type": "code",
   "execution_count": 35,
   "metadata": {
    "deletable": false,
    "editable": false,
    "nbgrader": {
     "cell_type": "code",
     "checksum": "859fef7a4f5ff12b633c79a3fb2e3201",
     "grade": false,
     "grade_id": "cell-2807fe4cfa2d8b29",
     "locked": true,
     "schema_version": 3,
     "solution": false
    }
   },
   "outputs": [],
   "source": [
    "def plot_metrics(fig, ax, ns, train_losses, train_fscores, val_losses, val_fscores):\n",
    "\n",
    "    # Plot losses\n",
    "    ax[0].clear()\n",
    "    ax[0].plot(ns, train_losses)\n",
    "    ax[0].plot(ns, val_losses)\n",
    "    ax[0].set_title('Loss')\n",
    "    ax[0].legend(['Train','Validation'])\n",
    "    ax[0].set_xlabel('Number of trained batches')\n",
    "    ax[0].grid()\n",
    "\n",
    "    # Plot F1-scores\n",
    "    ax[1].clear()\n",
    "    ax[1].plot(ns, train_fscores)\n",
    "    ax[1].plot(ns, val_fscores)\n",
    "    ax[1].plot(ns, [0.3]*len(ns), 'k--')\n",
    "    ax[1].set_title('Macro F1-score')\n",
    "    ax[1].legend(['Train','Validation', 'F1-score threshold'])\n",
    "    ax[1].set_xlabel('Number of trained batches')\n",
    "    ax[1].grid()\n",
    "    \n",
    "    \n",
    "    fig.canvas.draw()"
   ]
  },
  {
   "cell_type": "markdown",
   "metadata": {
    "deletable": false,
    "editable": false,
    "nbgrader": {
     "cell_type": "markdown",
     "checksum": "520a4c1ba775bfc75e1ed71009bcf6b9",
     "grade": false,
     "grade_id": "cell-2a8edc5c0c4d13d6",
     "locked": true,
     "schema_version": 3,
     "solution": false
    }
   },
   "source": [
    "With these helper functions, the `train` function becomes:"
   ]
  },
  {
   "cell_type": "code",
   "execution_count": 36,
   "metadata": {
    "deletable": false,
    "editable": false,
    "nbgrader": {
     "cell_type": "code",
     "checksum": "813b06b76f53b705f6d47981651c673c",
     "grade": false,
     "grade_id": "cell-61029512380ba880",
     "locked": true,
     "schema_version": 3,
     "solution": false
    }
   },
   "outputs": [],
   "source": [
    "from torch.utils.data import DataLoader\n",
    "\n",
    "def train(rnn, n_epochs, learning_rate, batch_size, train_dataset, val_dataset):\n",
    "    \n",
    "    # Setup the figure for plotting progress during training\n",
    "    %matplotlib notebook\n",
    "    fig, ax = plt.subplots(ncols=2, figsize=(12,4))\n",
    "    plt.ion()\n",
    "    plot_interval = 100\n",
    "    \n",
    "    # Create arrays to average training metrics across batches\n",
    "    preds = []\n",
    "    labels = []\n",
    "    losses = []\n",
    "    \n",
    "    # Create dictionaries to hold the computed metrics in\n",
    "    train_data = {'losses': [], 'fscores': []}\n",
    "    val_data = {'losses': [], 'fscores': []}\n",
    "    \n",
    "    optimizer = Adam(rnn.parameters(), lr=learning_rate)\n",
    "    train_data_loader = DataLoader(train_dataset, batch_size=batch_size, shuffle=True, drop_last=True)\n",
    "    batch_idxs = []\n",
    "    \n",
    "    # Training loop\n",
    "    i_batch = 0\n",
    "    for n in range(n_epochs):\n",
    "        for i, (x_batch, y_batch) in enumerate(train_data_loader):\n",
    "            i_batch += 1\n",
    "            \n",
    "            # Compute loss and outputs\n",
    "            output, loss = train_batch(rnn, x_batch, y_batch, optimizer)\n",
    "            \n",
    "            # Aggregate for later averaging\n",
    "            preds += output.argmax(dim=1).cpu().tolist()\n",
    "            labels += y_batch.cpu().tolist()\n",
    "            losses.append(loss)\n",
    "            \n",
    "            # Compute metrics and plot after every `plot_interval` batches\n",
    "            if i % plot_interval == 0:\n",
    "              \n",
    "                val_loss, _, _, val_fscore = compute_metrics_on_validation_set(rnn, val_dataset)\n",
    "                train_fscore = precision_recall_fscore_support(labels, preds, average='macro')[2]\n",
    "                \n",
    "                val_data['losses'].append(val_loss)\n",
    "                val_data['fscores'].append(val_fscore)\n",
    "                train_data['losses'].append(sum(losses)/len(losses))\n",
    "                train_data['fscores'].append(train_fscore)\n",
    "                batch_idxs.append(i_batch)\n",
    "\n",
    "                preds = []\n",
    "                labels = []\n",
    "                losses = []\n",
    "\n",
    "                plot_metrics(fig, ax, batch_idxs, train_data['losses'], train_data['fscores'], val_data['losses'], val_data['fscores'])"
   ]
  },
  {
   "cell_type": "markdown",
   "metadata": {
    "deletable": false,
    "editable": false,
    "nbgrader": {
     "cell_type": "markdown",
     "checksum": "0f89bbf2c0e1f3ab9e64a937f8e24863",
     "grade": false,
     "grade_id": "cell-f92f1fd576a8a7cb",
     "locked": true,
     "schema_version": 3,
     "solution": false
    }
   },
   "source": [
    "Make sure that you completely understand the `train` function before proceeding (e.g. that we aggregate predictions from different batches and compute metrics only at a certain interval, etc)."
   ]
  },
  {
   "cell_type": "markdown",
   "metadata": {
    "deletable": false,
    "editable": false,
    "nbgrader": {
     "cell_type": "markdown",
     "checksum": "7a05af24ebd66b8c1d816a07e33bb730",
     "grade": false,
     "grade_id": "cell-18f5c7620b914ebd",
     "locked": true,
     "schema_version": 3,
     "solution": false
    }
   },
   "source": [
    "### 1.5 Training!\n",
    "\n",
    "Now we're ready to train the network! Create an RNN and use the `train` function to train it.\n",
    "\n",
    "*Hints*:\n",
    "\n",
    "- Tuning the hyper-parameters (number of hidden units, learning rate, batch size, etc) will take some trial-and-error. Try simple things first, and then once you manage to train them, start scaling up. Also, have in mind the bias-variance tradeoff mentioned in the lectures.\n",
    "- When tuning the learning rate, focus first on being able to decrease the training loss. Keep decreasing the learning rate until that starts happening."
   ]
  },
  {
   "cell_type": "code",
   "execution_count": 37,
   "metadata": {
    "deletable": false,
    "nbgrader": {
     "cell_type": "code",
     "checksum": "0e3d64e9c5c79168399628331405b8ed",
     "grade": true,
     "grade_id": "cell-937381af9dcaf490",
     "locked": false,
     "points": 0,
     "schema_version": 3,
     "solution": true
    },
    "scrolled": true
   },
   "outputs": [
    {
     "data": {
      "application/javascript": [
       "/* Put everything inside the global mpl namespace */\n",
       "/* global mpl */\n",
       "window.mpl = {};\n",
       "\n",
       "mpl.get_websocket_type = function () {\n",
       "    if (typeof WebSocket !== 'undefined') {\n",
       "        return WebSocket;\n",
       "    } else if (typeof MozWebSocket !== 'undefined') {\n",
       "        return MozWebSocket;\n",
       "    } else {\n",
       "        alert(\n",
       "            'Your browser does not have WebSocket support. ' +\n",
       "                'Please try Chrome, Safari or Firefox ≥ 6. ' +\n",
       "                'Firefox 4 and 5 are also supported but you ' +\n",
       "                'have to enable WebSockets in about:config.'\n",
       "        );\n",
       "    }\n",
       "};\n",
       "\n",
       "mpl.figure = function (figure_id, websocket, ondownload, parent_element) {\n",
       "    this.id = figure_id;\n",
       "\n",
       "    this.ws = websocket;\n",
       "\n",
       "    this.supports_binary = this.ws.binaryType !== undefined;\n",
       "\n",
       "    if (!this.supports_binary) {\n",
       "        var warnings = document.getElementById('mpl-warnings');\n",
       "        if (warnings) {\n",
       "            warnings.style.display = 'block';\n",
       "            warnings.textContent =\n",
       "                'This browser does not support binary websocket messages. ' +\n",
       "                'Performance may be slow.';\n",
       "        }\n",
       "    }\n",
       "\n",
       "    this.imageObj = new Image();\n",
       "\n",
       "    this.context = undefined;\n",
       "    this.message = undefined;\n",
       "    this.canvas = undefined;\n",
       "    this.rubberband_canvas = undefined;\n",
       "    this.rubberband_context = undefined;\n",
       "    this.format_dropdown = undefined;\n",
       "\n",
       "    this.image_mode = 'full';\n",
       "\n",
       "    this.root = document.createElement('div');\n",
       "    this.root.setAttribute('style', 'display: inline-block');\n",
       "    this._root_extra_style(this.root);\n",
       "\n",
       "    parent_element.appendChild(this.root);\n",
       "\n",
       "    this._init_header(this);\n",
       "    this._init_canvas(this);\n",
       "    this._init_toolbar(this);\n",
       "\n",
       "    var fig = this;\n",
       "\n",
       "    this.waiting = false;\n",
       "\n",
       "    this.ws.onopen = function () {\n",
       "        fig.send_message('supports_binary', { value: fig.supports_binary });\n",
       "        fig.send_message('send_image_mode', {});\n",
       "        if (mpl.ratio !== 1) {\n",
       "            fig.send_message('set_dpi_ratio', { dpi_ratio: mpl.ratio });\n",
       "        }\n",
       "        fig.send_message('refresh', {});\n",
       "    };\n",
       "\n",
       "    this.imageObj.onload = function () {\n",
       "        if (fig.image_mode === 'full') {\n",
       "            // Full images could contain transparency (where diff images\n",
       "            // almost always do), so we need to clear the canvas so that\n",
       "            // there is no ghosting.\n",
       "            fig.context.clearRect(0, 0, fig.canvas.width, fig.canvas.height);\n",
       "        }\n",
       "        fig.context.drawImage(fig.imageObj, 0, 0);\n",
       "    };\n",
       "\n",
       "    this.imageObj.onunload = function () {\n",
       "        fig.ws.close();\n",
       "    };\n",
       "\n",
       "    this.ws.onmessage = this._make_on_message_function(this);\n",
       "\n",
       "    this.ondownload = ondownload;\n",
       "};\n",
       "\n",
       "mpl.figure.prototype._init_header = function () {\n",
       "    var titlebar = document.createElement('div');\n",
       "    titlebar.classList =\n",
       "        'ui-dialog-titlebar ui-widget-header ui-corner-all ui-helper-clearfix';\n",
       "    var titletext = document.createElement('div');\n",
       "    titletext.classList = 'ui-dialog-title';\n",
       "    titletext.setAttribute(\n",
       "        'style',\n",
       "        'width: 100%; text-align: center; padding: 3px;'\n",
       "    );\n",
       "    titlebar.appendChild(titletext);\n",
       "    this.root.appendChild(titlebar);\n",
       "    this.header = titletext;\n",
       "};\n",
       "\n",
       "mpl.figure.prototype._canvas_extra_style = function (_canvas_div) {};\n",
       "\n",
       "mpl.figure.prototype._root_extra_style = function (_canvas_div) {};\n",
       "\n",
       "mpl.figure.prototype._init_canvas = function () {\n",
       "    var fig = this;\n",
       "\n",
       "    var canvas_div = (this.canvas_div = document.createElement('div'));\n",
       "    canvas_div.setAttribute(\n",
       "        'style',\n",
       "        'border: 1px solid #ddd;' +\n",
       "            'box-sizing: content-box;' +\n",
       "            'clear: both;' +\n",
       "            'min-height: 1px;' +\n",
       "            'min-width: 1px;' +\n",
       "            'outline: 0;' +\n",
       "            'overflow: hidden;' +\n",
       "            'position: relative;' +\n",
       "            'resize: both;'\n",
       "    );\n",
       "\n",
       "    function on_keyboard_event_closure(name) {\n",
       "        return function (event) {\n",
       "            return fig.key_event(event, name);\n",
       "        };\n",
       "    }\n",
       "\n",
       "    canvas_div.addEventListener(\n",
       "        'keydown',\n",
       "        on_keyboard_event_closure('key_press')\n",
       "    );\n",
       "    canvas_div.addEventListener(\n",
       "        'keyup',\n",
       "        on_keyboard_event_closure('key_release')\n",
       "    );\n",
       "\n",
       "    this._canvas_extra_style(canvas_div);\n",
       "    this.root.appendChild(canvas_div);\n",
       "\n",
       "    var canvas = (this.canvas = document.createElement('canvas'));\n",
       "    canvas.classList.add('mpl-canvas');\n",
       "    canvas.setAttribute('style', 'box-sizing: content-box;');\n",
       "\n",
       "    this.context = canvas.getContext('2d');\n",
       "\n",
       "    var backingStore =\n",
       "        this.context.backingStorePixelRatio ||\n",
       "        this.context.webkitBackingStorePixelRatio ||\n",
       "        this.context.mozBackingStorePixelRatio ||\n",
       "        this.context.msBackingStorePixelRatio ||\n",
       "        this.context.oBackingStorePixelRatio ||\n",
       "        this.context.backingStorePixelRatio ||\n",
       "        1;\n",
       "\n",
       "    mpl.ratio = (window.devicePixelRatio || 1) / backingStore;\n",
       "\n",
       "    var rubberband_canvas = (this.rubberband_canvas = document.createElement(\n",
       "        'canvas'\n",
       "    ));\n",
       "    rubberband_canvas.setAttribute(\n",
       "        'style',\n",
       "        'box-sizing: content-box; position: absolute; left: 0; top: 0; z-index: 1;'\n",
       "    );\n",
       "\n",
       "    var resizeObserver = new ResizeObserver(function (entries) {\n",
       "        var nentries = entries.length;\n",
       "        for (var i = 0; i < nentries; i++) {\n",
       "            var entry = entries[i];\n",
       "            var width, height;\n",
       "            if (entry.contentBoxSize) {\n",
       "                if (entry.contentBoxSize instanceof Array) {\n",
       "                    // Chrome 84 implements new version of spec.\n",
       "                    width = entry.contentBoxSize[0].inlineSize;\n",
       "                    height = entry.contentBoxSize[0].blockSize;\n",
       "                } else {\n",
       "                    // Firefox implements old version of spec.\n",
       "                    width = entry.contentBoxSize.inlineSize;\n",
       "                    height = entry.contentBoxSize.blockSize;\n",
       "                }\n",
       "            } else {\n",
       "                // Chrome <84 implements even older version of spec.\n",
       "                width = entry.contentRect.width;\n",
       "                height = entry.contentRect.height;\n",
       "            }\n",
       "\n",
       "            // Keep the size of the canvas and rubber band canvas in sync with\n",
       "            // the canvas container.\n",
       "            if (entry.devicePixelContentBoxSize) {\n",
       "                // Chrome 84 implements new version of spec.\n",
       "                canvas.setAttribute(\n",
       "                    'width',\n",
       "                    entry.devicePixelContentBoxSize[0].inlineSize\n",
       "                );\n",
       "                canvas.setAttribute(\n",
       "                    'height',\n",
       "                    entry.devicePixelContentBoxSize[0].blockSize\n",
       "                );\n",
       "            } else {\n",
       "                canvas.setAttribute('width', width * mpl.ratio);\n",
       "                canvas.setAttribute('height', height * mpl.ratio);\n",
       "            }\n",
       "            canvas.setAttribute(\n",
       "                'style',\n",
       "                'width: ' + width + 'px; height: ' + height + 'px;'\n",
       "            );\n",
       "\n",
       "            rubberband_canvas.setAttribute('width', width);\n",
       "            rubberband_canvas.setAttribute('height', height);\n",
       "\n",
       "            // And update the size in Python. We ignore the initial 0/0 size\n",
       "            // that occurs as the element is placed into the DOM, which should\n",
       "            // otherwise not happen due to the minimum size styling.\n",
       "            if (width != 0 && height != 0) {\n",
       "                fig.request_resize(width, height);\n",
       "            }\n",
       "        }\n",
       "    });\n",
       "    resizeObserver.observe(canvas_div);\n",
       "\n",
       "    function on_mouse_event_closure(name) {\n",
       "        return function (event) {\n",
       "            return fig.mouse_event(event, name);\n",
       "        };\n",
       "    }\n",
       "\n",
       "    rubberband_canvas.addEventListener(\n",
       "        'mousedown',\n",
       "        on_mouse_event_closure('button_press')\n",
       "    );\n",
       "    rubberband_canvas.addEventListener(\n",
       "        'mouseup',\n",
       "        on_mouse_event_closure('button_release')\n",
       "    );\n",
       "    // Throttle sequential mouse events to 1 every 20ms.\n",
       "    rubberband_canvas.addEventListener(\n",
       "        'mousemove',\n",
       "        on_mouse_event_closure('motion_notify')\n",
       "    );\n",
       "\n",
       "    rubberband_canvas.addEventListener(\n",
       "        'mouseenter',\n",
       "        on_mouse_event_closure('figure_enter')\n",
       "    );\n",
       "    rubberband_canvas.addEventListener(\n",
       "        'mouseleave',\n",
       "        on_mouse_event_closure('figure_leave')\n",
       "    );\n",
       "\n",
       "    canvas_div.addEventListener('wheel', function (event) {\n",
       "        if (event.deltaY < 0) {\n",
       "            event.step = 1;\n",
       "        } else {\n",
       "            event.step = -1;\n",
       "        }\n",
       "        on_mouse_event_closure('scroll')(event);\n",
       "    });\n",
       "\n",
       "    canvas_div.appendChild(canvas);\n",
       "    canvas_div.appendChild(rubberband_canvas);\n",
       "\n",
       "    this.rubberband_context = rubberband_canvas.getContext('2d');\n",
       "    this.rubberband_context.strokeStyle = '#000000';\n",
       "\n",
       "    this._resize_canvas = function (width, height, forward) {\n",
       "        if (forward) {\n",
       "            canvas_div.style.width = width + 'px';\n",
       "            canvas_div.style.height = height + 'px';\n",
       "        }\n",
       "    };\n",
       "\n",
       "    // Disable right mouse context menu.\n",
       "    this.rubberband_canvas.addEventListener('contextmenu', function (_e) {\n",
       "        event.preventDefault();\n",
       "        return false;\n",
       "    });\n",
       "\n",
       "    function set_focus() {\n",
       "        canvas.focus();\n",
       "        canvas_div.focus();\n",
       "    }\n",
       "\n",
       "    window.setTimeout(set_focus, 100);\n",
       "};\n",
       "\n",
       "mpl.figure.prototype._init_toolbar = function () {\n",
       "    var fig = this;\n",
       "\n",
       "    var toolbar = document.createElement('div');\n",
       "    toolbar.classList = 'mpl-toolbar';\n",
       "    this.root.appendChild(toolbar);\n",
       "\n",
       "    function on_click_closure(name) {\n",
       "        return function (_event) {\n",
       "            return fig.toolbar_button_onclick(name);\n",
       "        };\n",
       "    }\n",
       "\n",
       "    function on_mouseover_closure(tooltip) {\n",
       "        return function (event) {\n",
       "            if (!event.currentTarget.disabled) {\n",
       "                return fig.toolbar_button_onmouseover(tooltip);\n",
       "            }\n",
       "        };\n",
       "    }\n",
       "\n",
       "    fig.buttons = {};\n",
       "    var buttonGroup = document.createElement('div');\n",
       "    buttonGroup.classList = 'mpl-button-group';\n",
       "    for (var toolbar_ind in mpl.toolbar_items) {\n",
       "        var name = mpl.toolbar_items[toolbar_ind][0];\n",
       "        var tooltip = mpl.toolbar_items[toolbar_ind][1];\n",
       "        var image = mpl.toolbar_items[toolbar_ind][2];\n",
       "        var method_name = mpl.toolbar_items[toolbar_ind][3];\n",
       "\n",
       "        if (!name) {\n",
       "            /* Instead of a spacer, we start a new button group. */\n",
       "            if (buttonGroup.hasChildNodes()) {\n",
       "                toolbar.appendChild(buttonGroup);\n",
       "            }\n",
       "            buttonGroup = document.createElement('div');\n",
       "            buttonGroup.classList = 'mpl-button-group';\n",
       "            continue;\n",
       "        }\n",
       "\n",
       "        var button = (fig.buttons[name] = document.createElement('button'));\n",
       "        button.classList = 'mpl-widget';\n",
       "        button.setAttribute('role', 'button');\n",
       "        button.setAttribute('aria-disabled', 'false');\n",
       "        button.addEventListener('click', on_click_closure(method_name));\n",
       "        button.addEventListener('mouseover', on_mouseover_closure(tooltip));\n",
       "\n",
       "        var icon_img = document.createElement('img');\n",
       "        icon_img.src = '_images/' + image + '.png';\n",
       "        icon_img.srcset = '_images/' + image + '_large.png 2x';\n",
       "        icon_img.alt = tooltip;\n",
       "        button.appendChild(icon_img);\n",
       "\n",
       "        buttonGroup.appendChild(button);\n",
       "    }\n",
       "\n",
       "    if (buttonGroup.hasChildNodes()) {\n",
       "        toolbar.appendChild(buttonGroup);\n",
       "    }\n",
       "\n",
       "    var fmt_picker = document.createElement('select');\n",
       "    fmt_picker.classList = 'mpl-widget';\n",
       "    toolbar.appendChild(fmt_picker);\n",
       "    this.format_dropdown = fmt_picker;\n",
       "\n",
       "    for (var ind in mpl.extensions) {\n",
       "        var fmt = mpl.extensions[ind];\n",
       "        var option = document.createElement('option');\n",
       "        option.selected = fmt === mpl.default_extension;\n",
       "        option.innerHTML = fmt;\n",
       "        fmt_picker.appendChild(option);\n",
       "    }\n",
       "\n",
       "    var status_bar = document.createElement('span');\n",
       "    status_bar.classList = 'mpl-message';\n",
       "    toolbar.appendChild(status_bar);\n",
       "    this.message = status_bar;\n",
       "};\n",
       "\n",
       "mpl.figure.prototype.request_resize = function (x_pixels, y_pixels) {\n",
       "    // Request matplotlib to resize the figure. Matplotlib will then trigger a resize in the client,\n",
       "    // which will in turn request a refresh of the image.\n",
       "    this.send_message('resize', { width: x_pixels, height: y_pixels });\n",
       "};\n",
       "\n",
       "mpl.figure.prototype.send_message = function (type, properties) {\n",
       "    properties['type'] = type;\n",
       "    properties['figure_id'] = this.id;\n",
       "    this.ws.send(JSON.stringify(properties));\n",
       "};\n",
       "\n",
       "mpl.figure.prototype.send_draw_message = function () {\n",
       "    if (!this.waiting) {\n",
       "        this.waiting = true;\n",
       "        this.ws.send(JSON.stringify({ type: 'draw', figure_id: this.id }));\n",
       "    }\n",
       "};\n",
       "\n",
       "mpl.figure.prototype.handle_save = function (fig, _msg) {\n",
       "    var format_dropdown = fig.format_dropdown;\n",
       "    var format = format_dropdown.options[format_dropdown.selectedIndex].value;\n",
       "    fig.ondownload(fig, format);\n",
       "};\n",
       "\n",
       "mpl.figure.prototype.handle_resize = function (fig, msg) {\n",
       "    var size = msg['size'];\n",
       "    if (size[0] !== fig.canvas.width || size[1] !== fig.canvas.height) {\n",
       "        fig._resize_canvas(size[0], size[1], msg['forward']);\n",
       "        fig.send_message('refresh', {});\n",
       "    }\n",
       "};\n",
       "\n",
       "mpl.figure.prototype.handle_rubberband = function (fig, msg) {\n",
       "    var x0 = msg['x0'] / mpl.ratio;\n",
       "    var y0 = (fig.canvas.height - msg['y0']) / mpl.ratio;\n",
       "    var x1 = msg['x1'] / mpl.ratio;\n",
       "    var y1 = (fig.canvas.height - msg['y1']) / mpl.ratio;\n",
       "    x0 = Math.floor(x0) + 0.5;\n",
       "    y0 = Math.floor(y0) + 0.5;\n",
       "    x1 = Math.floor(x1) + 0.5;\n",
       "    y1 = Math.floor(y1) + 0.5;\n",
       "    var min_x = Math.min(x0, x1);\n",
       "    var min_y = Math.min(y0, y1);\n",
       "    var width = Math.abs(x1 - x0);\n",
       "    var height = Math.abs(y1 - y0);\n",
       "\n",
       "    fig.rubberband_context.clearRect(\n",
       "        0,\n",
       "        0,\n",
       "        fig.canvas.width / mpl.ratio,\n",
       "        fig.canvas.height / mpl.ratio\n",
       "    );\n",
       "\n",
       "    fig.rubberband_context.strokeRect(min_x, min_y, width, height);\n",
       "};\n",
       "\n",
       "mpl.figure.prototype.handle_figure_label = function (fig, msg) {\n",
       "    // Updates the figure title.\n",
       "    fig.header.textContent = msg['label'];\n",
       "};\n",
       "\n",
       "mpl.figure.prototype.handle_cursor = function (fig, msg) {\n",
       "    var cursor = msg['cursor'];\n",
       "    switch (cursor) {\n",
       "        case 0:\n",
       "            cursor = 'pointer';\n",
       "            break;\n",
       "        case 1:\n",
       "            cursor = 'default';\n",
       "            break;\n",
       "        case 2:\n",
       "            cursor = 'crosshair';\n",
       "            break;\n",
       "        case 3:\n",
       "            cursor = 'move';\n",
       "            break;\n",
       "    }\n",
       "    fig.rubberband_canvas.style.cursor = cursor;\n",
       "};\n",
       "\n",
       "mpl.figure.prototype.handle_message = function (fig, msg) {\n",
       "    fig.message.textContent = msg['message'];\n",
       "};\n",
       "\n",
       "mpl.figure.prototype.handle_draw = function (fig, _msg) {\n",
       "    // Request the server to send over a new figure.\n",
       "    fig.send_draw_message();\n",
       "};\n",
       "\n",
       "mpl.figure.prototype.handle_image_mode = function (fig, msg) {\n",
       "    fig.image_mode = msg['mode'];\n",
       "};\n",
       "\n",
       "mpl.figure.prototype.handle_history_buttons = function (fig, msg) {\n",
       "    for (var key in msg) {\n",
       "        if (!(key in fig.buttons)) {\n",
       "            continue;\n",
       "        }\n",
       "        fig.buttons[key].disabled = !msg[key];\n",
       "        fig.buttons[key].setAttribute('aria-disabled', !msg[key]);\n",
       "    }\n",
       "};\n",
       "\n",
       "mpl.figure.prototype.handle_navigate_mode = function (fig, msg) {\n",
       "    if (msg['mode'] === 'PAN') {\n",
       "        fig.buttons['Pan'].classList.add('active');\n",
       "        fig.buttons['Zoom'].classList.remove('active');\n",
       "    } else if (msg['mode'] === 'ZOOM') {\n",
       "        fig.buttons['Pan'].classList.remove('active');\n",
       "        fig.buttons['Zoom'].classList.add('active');\n",
       "    } else {\n",
       "        fig.buttons['Pan'].classList.remove('active');\n",
       "        fig.buttons['Zoom'].classList.remove('active');\n",
       "    }\n",
       "};\n",
       "\n",
       "mpl.figure.prototype.updated_canvas_event = function () {\n",
       "    // Called whenever the canvas gets updated.\n",
       "    this.send_message('ack', {});\n",
       "};\n",
       "\n",
       "// A function to construct a web socket function for onmessage handling.\n",
       "// Called in the figure constructor.\n",
       "mpl.figure.prototype._make_on_message_function = function (fig) {\n",
       "    return function socket_on_message(evt) {\n",
       "        if (evt.data instanceof Blob) {\n",
       "            /* FIXME: We get \"Resource interpreted as Image but\n",
       "             * transferred with MIME type text/plain:\" errors on\n",
       "             * Chrome.  But how to set the MIME type?  It doesn't seem\n",
       "             * to be part of the websocket stream */\n",
       "            evt.data.type = 'image/png';\n",
       "\n",
       "            /* Free the memory for the previous frames */\n",
       "            if (fig.imageObj.src) {\n",
       "                (window.URL || window.webkitURL).revokeObjectURL(\n",
       "                    fig.imageObj.src\n",
       "                );\n",
       "            }\n",
       "\n",
       "            fig.imageObj.src = (window.URL || window.webkitURL).createObjectURL(\n",
       "                evt.data\n",
       "            );\n",
       "            fig.updated_canvas_event();\n",
       "            fig.waiting = false;\n",
       "            return;\n",
       "        } else if (\n",
       "            typeof evt.data === 'string' &&\n",
       "            evt.data.slice(0, 21) === 'data:image/png;base64'\n",
       "        ) {\n",
       "            fig.imageObj.src = evt.data;\n",
       "            fig.updated_canvas_event();\n",
       "            fig.waiting = false;\n",
       "            return;\n",
       "        }\n",
       "\n",
       "        var msg = JSON.parse(evt.data);\n",
       "        var msg_type = msg['type'];\n",
       "\n",
       "        // Call the  \"handle_{type}\" callback, which takes\n",
       "        // the figure and JSON message as its only arguments.\n",
       "        try {\n",
       "            var callback = fig['handle_' + msg_type];\n",
       "        } catch (e) {\n",
       "            console.log(\n",
       "                \"No handler for the '\" + msg_type + \"' message type: \",\n",
       "                msg\n",
       "            );\n",
       "            return;\n",
       "        }\n",
       "\n",
       "        if (callback) {\n",
       "            try {\n",
       "                // console.log(\"Handling '\" + msg_type + \"' message: \", msg);\n",
       "                callback(fig, msg);\n",
       "            } catch (e) {\n",
       "                console.log(\n",
       "                    \"Exception inside the 'handler_\" + msg_type + \"' callback:\",\n",
       "                    e,\n",
       "                    e.stack,\n",
       "                    msg\n",
       "                );\n",
       "            }\n",
       "        }\n",
       "    };\n",
       "};\n",
       "\n",
       "// from http://stackoverflow.com/questions/1114465/getting-mouse-location-in-canvas\n",
       "mpl.findpos = function (e) {\n",
       "    //this section is from http://www.quirksmode.org/js/events_properties.html\n",
       "    var targ;\n",
       "    if (!e) {\n",
       "        e = window.event;\n",
       "    }\n",
       "    if (e.target) {\n",
       "        targ = e.target;\n",
       "    } else if (e.srcElement) {\n",
       "        targ = e.srcElement;\n",
       "    }\n",
       "    if (targ.nodeType === 3) {\n",
       "        // defeat Safari bug\n",
       "        targ = targ.parentNode;\n",
       "    }\n",
       "\n",
       "    // pageX,Y are the mouse positions relative to the document\n",
       "    var boundingRect = targ.getBoundingClientRect();\n",
       "    var x = e.pageX - (boundingRect.left + document.body.scrollLeft);\n",
       "    var y = e.pageY - (boundingRect.top + document.body.scrollTop);\n",
       "\n",
       "    return { x: x, y: y };\n",
       "};\n",
       "\n",
       "/*\n",
       " * return a copy of an object with only non-object keys\n",
       " * we need this to avoid circular references\n",
       " * http://stackoverflow.com/a/24161582/3208463\n",
       " */\n",
       "function simpleKeys(original) {\n",
       "    return Object.keys(original).reduce(function (obj, key) {\n",
       "        if (typeof original[key] !== 'object') {\n",
       "            obj[key] = original[key];\n",
       "        }\n",
       "        return obj;\n",
       "    }, {});\n",
       "}\n",
       "\n",
       "mpl.figure.prototype.mouse_event = function (event, name) {\n",
       "    var canvas_pos = mpl.findpos(event);\n",
       "\n",
       "    if (name === 'button_press') {\n",
       "        this.canvas.focus();\n",
       "        this.canvas_div.focus();\n",
       "    }\n",
       "\n",
       "    var x = canvas_pos.x * mpl.ratio;\n",
       "    var y = canvas_pos.y * mpl.ratio;\n",
       "\n",
       "    this.send_message(name, {\n",
       "        x: x,\n",
       "        y: y,\n",
       "        button: event.button,\n",
       "        step: event.step,\n",
       "        guiEvent: simpleKeys(event),\n",
       "    });\n",
       "\n",
       "    /* This prevents the web browser from automatically changing to\n",
       "     * the text insertion cursor when the button is pressed.  We want\n",
       "     * to control all of the cursor setting manually through the\n",
       "     * 'cursor' event from matplotlib */\n",
       "    event.preventDefault();\n",
       "    return false;\n",
       "};\n",
       "\n",
       "mpl.figure.prototype._key_event_extra = function (_event, _name) {\n",
       "    // Handle any extra behaviour associated with a key event\n",
       "};\n",
       "\n",
       "mpl.figure.prototype.key_event = function (event, name) {\n",
       "    // Prevent repeat events\n",
       "    if (name === 'key_press') {\n",
       "        if (event.which === this._key) {\n",
       "            return;\n",
       "        } else {\n",
       "            this._key = event.which;\n",
       "        }\n",
       "    }\n",
       "    if (name === 'key_release') {\n",
       "        this._key = null;\n",
       "    }\n",
       "\n",
       "    var value = '';\n",
       "    if (event.ctrlKey && event.which !== 17) {\n",
       "        value += 'ctrl+';\n",
       "    }\n",
       "    if (event.altKey && event.which !== 18) {\n",
       "        value += 'alt+';\n",
       "    }\n",
       "    if (event.shiftKey && event.which !== 16) {\n",
       "        value += 'shift+';\n",
       "    }\n",
       "\n",
       "    value += 'k';\n",
       "    value += event.which.toString();\n",
       "\n",
       "    this._key_event_extra(event, name);\n",
       "\n",
       "    this.send_message(name, { key: value, guiEvent: simpleKeys(event) });\n",
       "    return false;\n",
       "};\n",
       "\n",
       "mpl.figure.prototype.toolbar_button_onclick = function (name) {\n",
       "    if (name === 'download') {\n",
       "        this.handle_save(this, null);\n",
       "    } else {\n",
       "        this.send_message('toolbar_button', { name: name });\n",
       "    }\n",
       "};\n",
       "\n",
       "mpl.figure.prototype.toolbar_button_onmouseover = function (tooltip) {\n",
       "    this.message.textContent = tooltip;\n",
       "};\n",
       "mpl.toolbar_items = [[\"Home\", \"Reset original view\", \"fa fa-home icon-home\", \"home\"], [\"Back\", \"Back to previous view\", \"fa fa-arrow-left icon-arrow-left\", \"back\"], [\"Forward\", \"Forward to next view\", \"fa fa-arrow-right icon-arrow-right\", \"forward\"], [\"\", \"\", \"\", \"\"], [\"Pan\", \"Left button pans, Right button zooms\\nx/y fixes axis, CTRL fixes aspect\", \"fa fa-arrows icon-move\", \"pan\"], [\"Zoom\", \"Zoom to rectangle\\nx/y fixes axis, CTRL fixes aspect\", \"fa fa-square-o icon-check-empty\", \"zoom\"], [\"\", \"\", \"\", \"\"], [\"Download\", \"Download plot\", \"fa fa-floppy-o icon-save\", \"download\"]];\n",
       "\n",
       "mpl.extensions = [\"eps\", \"jpeg\", \"pdf\", \"png\", \"ps\", \"raw\", \"svg\", \"tif\"];\n",
       "\n",
       "mpl.default_extension = \"png\";/* global mpl */\n",
       "\n",
       "var comm_websocket_adapter = function (comm) {\n",
       "    // Create a \"websocket\"-like object which calls the given IPython comm\n",
       "    // object with the appropriate methods. Currently this is a non binary\n",
       "    // socket, so there is still some room for performance tuning.\n",
       "    var ws = {};\n",
       "\n",
       "    ws.close = function () {\n",
       "        comm.close();\n",
       "    };\n",
       "    ws.send = function (m) {\n",
       "        //console.log('sending', m);\n",
       "        comm.send(m);\n",
       "    };\n",
       "    // Register the callback with on_msg.\n",
       "    comm.on_msg(function (msg) {\n",
       "        //console.log('receiving', msg['content']['data'], msg);\n",
       "        // Pass the mpl event to the overridden (by mpl) onmessage function.\n",
       "        ws.onmessage(msg['content']['data']);\n",
       "    });\n",
       "    return ws;\n",
       "};\n",
       "\n",
       "mpl.mpl_figure_comm = function (comm, msg) {\n",
       "    // This is the function which gets called when the mpl process\n",
       "    // starts-up an IPython Comm through the \"matplotlib\" channel.\n",
       "\n",
       "    var id = msg.content.data.id;\n",
       "    // Get hold of the div created by the display call when the Comm\n",
       "    // socket was opened in Python.\n",
       "    var element = document.getElementById(id);\n",
       "    var ws_proxy = comm_websocket_adapter(comm);\n",
       "\n",
       "    function ondownload(figure, _format) {\n",
       "        window.open(figure.canvas.toDataURL());\n",
       "    }\n",
       "\n",
       "    var fig = new mpl.figure(id, ws_proxy, ondownload, element);\n",
       "\n",
       "    // Call onopen now - mpl needs it, as it is assuming we've passed it a real\n",
       "    // web socket which is closed, not our websocket->open comm proxy.\n",
       "    ws_proxy.onopen();\n",
       "\n",
       "    fig.parent_element = element;\n",
       "    fig.cell_info = mpl.find_output_cell(\"<div id='\" + id + \"'></div>\");\n",
       "    if (!fig.cell_info) {\n",
       "        console.error('Failed to find cell for figure', id, fig);\n",
       "        return;\n",
       "    }\n",
       "};\n",
       "\n",
       "mpl.figure.prototype.handle_close = function (fig, msg) {\n",
       "    var width = fig.canvas.width / mpl.ratio;\n",
       "    fig.root.removeEventListener('remove', this._remove_fig_handler);\n",
       "\n",
       "    // Update the output cell to use the data from the current canvas.\n",
       "    fig.push_to_output();\n",
       "    var dataURL = fig.canvas.toDataURL();\n",
       "    // Re-enable the keyboard manager in IPython - without this line, in FF,\n",
       "    // the notebook keyboard shortcuts fail.\n",
       "    IPython.keyboard_manager.enable();\n",
       "    fig.parent_element.innerHTML =\n",
       "        '<img src=\"' + dataURL + '\" width=\"' + width + '\">';\n",
       "    fig.close_ws(fig, msg);\n",
       "};\n",
       "\n",
       "mpl.figure.prototype.close_ws = function (fig, msg) {\n",
       "    fig.send_message('closing', msg);\n",
       "    // fig.ws.close()\n",
       "};\n",
       "\n",
       "mpl.figure.prototype.push_to_output = function (_remove_interactive) {\n",
       "    // Turn the data on the canvas into data in the output cell.\n",
       "    var width = this.canvas.width / mpl.ratio;\n",
       "    var dataURL = this.canvas.toDataURL();\n",
       "    this.cell_info[1]['text/html'] =\n",
       "        '<img src=\"' + dataURL + '\" width=\"' + width + '\">';\n",
       "};\n",
       "\n",
       "mpl.figure.prototype.updated_canvas_event = function () {\n",
       "    // Tell IPython that the notebook contents must change.\n",
       "    IPython.notebook.set_dirty(true);\n",
       "    this.send_message('ack', {});\n",
       "    var fig = this;\n",
       "    // Wait a second, then push the new image to the DOM so\n",
       "    // that it is saved nicely (might be nice to debounce this).\n",
       "    setTimeout(function () {\n",
       "        fig.push_to_output();\n",
       "    }, 1000);\n",
       "};\n",
       "\n",
       "mpl.figure.prototype._init_toolbar = function () {\n",
       "    var fig = this;\n",
       "\n",
       "    var toolbar = document.createElement('div');\n",
       "    toolbar.classList = 'btn-toolbar';\n",
       "    this.root.appendChild(toolbar);\n",
       "\n",
       "    function on_click_closure(name) {\n",
       "        return function (_event) {\n",
       "            return fig.toolbar_button_onclick(name);\n",
       "        };\n",
       "    }\n",
       "\n",
       "    function on_mouseover_closure(tooltip) {\n",
       "        return function (event) {\n",
       "            if (!event.currentTarget.disabled) {\n",
       "                return fig.toolbar_button_onmouseover(tooltip);\n",
       "            }\n",
       "        };\n",
       "    }\n",
       "\n",
       "    fig.buttons = {};\n",
       "    var buttonGroup = document.createElement('div');\n",
       "    buttonGroup.classList = 'btn-group';\n",
       "    var button;\n",
       "    for (var toolbar_ind in mpl.toolbar_items) {\n",
       "        var name = mpl.toolbar_items[toolbar_ind][0];\n",
       "        var tooltip = mpl.toolbar_items[toolbar_ind][1];\n",
       "        var image = mpl.toolbar_items[toolbar_ind][2];\n",
       "        var method_name = mpl.toolbar_items[toolbar_ind][3];\n",
       "\n",
       "        if (!name) {\n",
       "            /* Instead of a spacer, we start a new button group. */\n",
       "            if (buttonGroup.hasChildNodes()) {\n",
       "                toolbar.appendChild(buttonGroup);\n",
       "            }\n",
       "            buttonGroup = document.createElement('div');\n",
       "            buttonGroup.classList = 'btn-group';\n",
       "            continue;\n",
       "        }\n",
       "\n",
       "        button = fig.buttons[name] = document.createElement('button');\n",
       "        button.classList = 'btn btn-default';\n",
       "        button.href = '#';\n",
       "        button.title = name;\n",
       "        button.innerHTML = '<i class=\"fa ' + image + ' fa-lg\"></i>';\n",
       "        button.addEventListener('click', on_click_closure(method_name));\n",
       "        button.addEventListener('mouseover', on_mouseover_closure(tooltip));\n",
       "        buttonGroup.appendChild(button);\n",
       "    }\n",
       "\n",
       "    if (buttonGroup.hasChildNodes()) {\n",
       "        toolbar.appendChild(buttonGroup);\n",
       "    }\n",
       "\n",
       "    // Add the status bar.\n",
       "    var status_bar = document.createElement('span');\n",
       "    status_bar.classList = 'mpl-message pull-right';\n",
       "    toolbar.appendChild(status_bar);\n",
       "    this.message = status_bar;\n",
       "\n",
       "    // Add the close button to the window.\n",
       "    var buttongrp = document.createElement('div');\n",
       "    buttongrp.classList = 'btn-group inline pull-right';\n",
       "    button = document.createElement('button');\n",
       "    button.classList = 'btn btn-mini btn-primary';\n",
       "    button.href = '#';\n",
       "    button.title = 'Stop Interaction';\n",
       "    button.innerHTML = '<i class=\"fa fa-power-off icon-remove icon-large\"></i>';\n",
       "    button.addEventListener('click', function (_evt) {\n",
       "        fig.handle_close(fig, {});\n",
       "    });\n",
       "    button.addEventListener(\n",
       "        'mouseover',\n",
       "        on_mouseover_closure('Stop Interaction')\n",
       "    );\n",
       "    buttongrp.appendChild(button);\n",
       "    var titlebar = this.root.querySelector('.ui-dialog-titlebar');\n",
       "    titlebar.insertBefore(buttongrp, titlebar.firstChild);\n",
       "};\n",
       "\n",
       "mpl.figure.prototype._remove_fig_handler = function () {\n",
       "    this.close_ws(this, {});\n",
       "};\n",
       "\n",
       "mpl.figure.prototype._root_extra_style = function (el) {\n",
       "    el.style.boxSizing = 'content-box'; // override notebook setting of border-box.\n",
       "    el.addEventListener('remove', this._remove_fig_handler);\n",
       "};\n",
       "\n",
       "mpl.figure.prototype._canvas_extra_style = function (el) {\n",
       "    // this is important to make the div 'focusable\n",
       "    el.setAttribute('tabindex', 0);\n",
       "    // reach out to IPython and tell the keyboard manager to turn it's self\n",
       "    // off when our div gets focus\n",
       "\n",
       "    // location in version 3\n",
       "    if (IPython.notebook.keyboard_manager) {\n",
       "        IPython.notebook.keyboard_manager.register_events(el);\n",
       "    } else {\n",
       "        // location in version 2\n",
       "        IPython.keyboard_manager.register_events(el);\n",
       "    }\n",
       "};\n",
       "\n",
       "mpl.figure.prototype._key_event_extra = function (event, _name) {\n",
       "    var manager = IPython.notebook.keyboard_manager;\n",
       "    if (!manager) {\n",
       "        manager = IPython.keyboard_manager;\n",
       "    }\n",
       "\n",
       "    // Check for shift+enter\n",
       "    if (event.shiftKey && event.which === 13) {\n",
       "        this.canvas_div.blur();\n",
       "        // select the cell after this one\n",
       "        var index = IPython.notebook.find_cell_index(this.cell_info[0]);\n",
       "        IPython.notebook.select(index + 1);\n",
       "    }\n",
       "};\n",
       "\n",
       "mpl.figure.prototype.handle_save = function (fig, _msg) {\n",
       "    fig.ondownload(fig, null);\n",
       "};\n",
       "\n",
       "mpl.find_output_cell = function (html_output) {\n",
       "    // Return the cell and output element which can be found *uniquely* in the notebook.\n",
       "    // Note - this is a bit hacky, but it is done because the \"notebook_saving.Notebook\"\n",
       "    // IPython event is triggered only after the cells have been serialised, which for\n",
       "    // our purposes (turning an active figure into a static one), is too late.\n",
       "    var cells = IPython.notebook.get_cells();\n",
       "    var ncells = cells.length;\n",
       "    for (var i = 0; i < ncells; i++) {\n",
       "        var cell = cells[i];\n",
       "        if (cell.cell_type === 'code') {\n",
       "            for (var j = 0; j < cell.output_area.outputs.length; j++) {\n",
       "                var data = cell.output_area.outputs[j];\n",
       "                if (data.data) {\n",
       "                    // IPython >= 3 moved mimebundle to data attribute of output\n",
       "                    data = data.data;\n",
       "                }\n",
       "                if (data['text/html'] === html_output) {\n",
       "                    return [cell, data, j];\n",
       "                }\n",
       "            }\n",
       "        }\n",
       "    }\n",
       "};\n",
       "\n",
       "// Register the function which deals with the matplotlib target/channel.\n",
       "// The kernel may be null if the page has been refreshed.\n",
       "if (IPython.notebook.kernel !== null) {\n",
       "    IPython.notebook.kernel.comm_manager.register_target(\n",
       "        'matplotlib',\n",
       "        mpl.mpl_figure_comm\n",
       "    );\n",
       "}\n"
      ],
      "text/plain": [
       "<IPython.core.display.Javascript object>"
      ]
     },
     "metadata": {},
     "output_type": "display_data"
    },
    {
     "data": {
      "text/html": [
       "<img src=\"data:image/png;base64,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\" width=\"993.5\">"
      ],
      "text/plain": [
       "<IPython.core.display.HTML object>"
      ]
     },
     "metadata": {},
     "output_type": "display_data"
    },
    {
     "name": "stderr",
     "output_type": "stream",
     "text": [
      "/Users/arshad/opt/anaconda3/envs/DML/lib/python3.7/site-packages/sklearn/metrics/_classification.py:1221: UndefinedMetricWarning: Precision and F-score are ill-defined and being set to 0.0 in labels with no predicted samples. Use `zero_division` parameter to control this behavior.\n",
      "  _warn_prf(average, modifier, msg_start, len(result))\n",
      "/Users/arshad/opt/anaconda3/envs/DML/lib/python3.7/site-packages/sklearn/metrics/_classification.py:1221: UndefinedMetricWarning: Recall and F-score are ill-defined and being set to 0.0 in labels with no true samples. Use `zero_division` parameter to control this behavior.\n",
      "  _warn_prf(average, modifier, msg_start, len(result))\n"
     ]
    },
    {
     "data": {
      "application/javascript": [
       "/* Put everything inside the global mpl namespace */\n",
       "/* global mpl */\n",
       "window.mpl = {};\n",
       "\n",
       "mpl.get_websocket_type = function () {\n",
       "    if (typeof WebSocket !== 'undefined') {\n",
       "        return WebSocket;\n",
       "    } else if (typeof MozWebSocket !== 'undefined') {\n",
       "        return MozWebSocket;\n",
       "    } else {\n",
       "        alert(\n",
       "            'Your browser does not have WebSocket support. ' +\n",
       "                'Please try Chrome, Safari or Firefox ≥ 6. ' +\n",
       "                'Firefox 4 and 5 are also supported but you ' +\n",
       "                'have to enable WebSockets in about:config.'\n",
       "        );\n",
       "    }\n",
       "};\n",
       "\n",
       "mpl.figure = function (figure_id, websocket, ondownload, parent_element) {\n",
       "    this.id = figure_id;\n",
       "\n",
       "    this.ws = websocket;\n",
       "\n",
       "    this.supports_binary = this.ws.binaryType !== undefined;\n",
       "\n",
       "    if (!this.supports_binary) {\n",
       "        var warnings = document.getElementById('mpl-warnings');\n",
       "        if (warnings) {\n",
       "            warnings.style.display = 'block';\n",
       "            warnings.textContent =\n",
       "                'This browser does not support binary websocket messages. ' +\n",
       "                'Performance may be slow.';\n",
       "        }\n",
       "    }\n",
       "\n",
       "    this.imageObj = new Image();\n",
       "\n",
       "    this.context = undefined;\n",
       "    this.message = undefined;\n",
       "    this.canvas = undefined;\n",
       "    this.rubberband_canvas = undefined;\n",
       "    this.rubberband_context = undefined;\n",
       "    this.format_dropdown = undefined;\n",
       "\n",
       "    this.image_mode = 'full';\n",
       "\n",
       "    this.root = document.createElement('div');\n",
       "    this.root.setAttribute('style', 'display: inline-block');\n",
       "    this._root_extra_style(this.root);\n",
       "\n",
       "    parent_element.appendChild(this.root);\n",
       "\n",
       "    this._init_header(this);\n",
       "    this._init_canvas(this);\n",
       "    this._init_toolbar(this);\n",
       "\n",
       "    var fig = this;\n",
       "\n",
       "    this.waiting = false;\n",
       "\n",
       "    this.ws.onopen = function () {\n",
       "        fig.send_message('supports_binary', { value: fig.supports_binary });\n",
       "        fig.send_message('send_image_mode', {});\n",
       "        if (mpl.ratio !== 1) {\n",
       "            fig.send_message('set_dpi_ratio', { dpi_ratio: mpl.ratio });\n",
       "        }\n",
       "        fig.send_message('refresh', {});\n",
       "    };\n",
       "\n",
       "    this.imageObj.onload = function () {\n",
       "        if (fig.image_mode === 'full') {\n",
       "            // Full images could contain transparency (where diff images\n",
       "            // almost always do), so we need to clear the canvas so that\n",
       "            // there is no ghosting.\n",
       "            fig.context.clearRect(0, 0, fig.canvas.width, fig.canvas.height);\n",
       "        }\n",
       "        fig.context.drawImage(fig.imageObj, 0, 0);\n",
       "    };\n",
       "\n",
       "    this.imageObj.onunload = function () {\n",
       "        fig.ws.close();\n",
       "    };\n",
       "\n",
       "    this.ws.onmessage = this._make_on_message_function(this);\n",
       "\n",
       "    this.ondownload = ondownload;\n",
       "};\n",
       "\n",
       "mpl.figure.prototype._init_header = function () {\n",
       "    var titlebar = document.createElement('div');\n",
       "    titlebar.classList =\n",
       "        'ui-dialog-titlebar ui-widget-header ui-corner-all ui-helper-clearfix';\n",
       "    var titletext = document.createElement('div');\n",
       "    titletext.classList = 'ui-dialog-title';\n",
       "    titletext.setAttribute(\n",
       "        'style',\n",
       "        'width: 100%; text-align: center; padding: 3px;'\n",
       "    );\n",
       "    titlebar.appendChild(titletext);\n",
       "    this.root.appendChild(titlebar);\n",
       "    this.header = titletext;\n",
       "};\n",
       "\n",
       "mpl.figure.prototype._canvas_extra_style = function (_canvas_div) {};\n",
       "\n",
       "mpl.figure.prototype._root_extra_style = function (_canvas_div) {};\n",
       "\n",
       "mpl.figure.prototype._init_canvas = function () {\n",
       "    var fig = this;\n",
       "\n",
       "    var canvas_div = (this.canvas_div = document.createElement('div'));\n",
       "    canvas_div.setAttribute(\n",
       "        'style',\n",
       "        'border: 1px solid #ddd;' +\n",
       "            'box-sizing: content-box;' +\n",
       "            'clear: both;' +\n",
       "            'min-height: 1px;' +\n",
       "            'min-width: 1px;' +\n",
       "            'outline: 0;' +\n",
       "            'overflow: hidden;' +\n",
       "            'position: relative;' +\n",
       "            'resize: both;'\n",
       "    );\n",
       "\n",
       "    function on_keyboard_event_closure(name) {\n",
       "        return function (event) {\n",
       "            return fig.key_event(event, name);\n",
       "        };\n",
       "    }\n",
       "\n",
       "    canvas_div.addEventListener(\n",
       "        'keydown',\n",
       "        on_keyboard_event_closure('key_press')\n",
       "    );\n",
       "    canvas_div.addEventListener(\n",
       "        'keyup',\n",
       "        on_keyboard_event_closure('key_release')\n",
       "    );\n",
       "\n",
       "    this._canvas_extra_style(canvas_div);\n",
       "    this.root.appendChild(canvas_div);\n",
       "\n",
       "    var canvas = (this.canvas = document.createElement('canvas'));\n",
       "    canvas.classList.add('mpl-canvas');\n",
       "    canvas.setAttribute('style', 'box-sizing: content-box;');\n",
       "\n",
       "    this.context = canvas.getContext('2d');\n",
       "\n",
       "    var backingStore =\n",
       "        this.context.backingStorePixelRatio ||\n",
       "        this.context.webkitBackingStorePixelRatio ||\n",
       "        this.context.mozBackingStorePixelRatio ||\n",
       "        this.context.msBackingStorePixelRatio ||\n",
       "        this.context.oBackingStorePixelRatio ||\n",
       "        this.context.backingStorePixelRatio ||\n",
       "        1;\n",
       "\n",
       "    mpl.ratio = (window.devicePixelRatio || 1) / backingStore;\n",
       "\n",
       "    var rubberband_canvas = (this.rubberband_canvas = document.createElement(\n",
       "        'canvas'\n",
       "    ));\n",
       "    rubberband_canvas.setAttribute(\n",
       "        'style',\n",
       "        'box-sizing: content-box; position: absolute; left: 0; top: 0; z-index: 1;'\n",
       "    );\n",
       "\n",
       "    var resizeObserver = new ResizeObserver(function (entries) {\n",
       "        var nentries = entries.length;\n",
       "        for (var i = 0; i < nentries; i++) {\n",
       "            var entry = entries[i];\n",
       "            var width, height;\n",
       "            if (entry.contentBoxSize) {\n",
       "                if (entry.contentBoxSize instanceof Array) {\n",
       "                    // Chrome 84 implements new version of spec.\n",
       "                    width = entry.contentBoxSize[0].inlineSize;\n",
       "                    height = entry.contentBoxSize[0].blockSize;\n",
       "                } else {\n",
       "                    // Firefox implements old version of spec.\n",
       "                    width = entry.contentBoxSize.inlineSize;\n",
       "                    height = entry.contentBoxSize.blockSize;\n",
       "                }\n",
       "            } else {\n",
       "                // Chrome <84 implements even older version of spec.\n",
       "                width = entry.contentRect.width;\n",
       "                height = entry.contentRect.height;\n",
       "            }\n",
       "\n",
       "            // Keep the size of the canvas and rubber band canvas in sync with\n",
       "            // the canvas container.\n",
       "            if (entry.devicePixelContentBoxSize) {\n",
       "                // Chrome 84 implements new version of spec.\n",
       "                canvas.setAttribute(\n",
       "                    'width',\n",
       "                    entry.devicePixelContentBoxSize[0].inlineSize\n",
       "                );\n",
       "                canvas.setAttribute(\n",
       "                    'height',\n",
       "                    entry.devicePixelContentBoxSize[0].blockSize\n",
       "                );\n",
       "            } else {\n",
       "                canvas.setAttribute('width', width * mpl.ratio);\n",
       "                canvas.setAttribute('height', height * mpl.ratio);\n",
       "            }\n",
       "            canvas.setAttribute(\n",
       "                'style',\n",
       "                'width: ' + width + 'px; height: ' + height + 'px;'\n",
       "            );\n",
       "\n",
       "            rubberband_canvas.setAttribute('width', width);\n",
       "            rubberband_canvas.setAttribute('height', height);\n",
       "\n",
       "            // And update the size in Python. We ignore the initial 0/0 size\n",
       "            // that occurs as the element is placed into the DOM, which should\n",
       "            // otherwise not happen due to the minimum size styling.\n",
       "            if (width != 0 && height != 0) {\n",
       "                fig.request_resize(width, height);\n",
       "            }\n",
       "        }\n",
       "    });\n",
       "    resizeObserver.observe(canvas_div);\n",
       "\n",
       "    function on_mouse_event_closure(name) {\n",
       "        return function (event) {\n",
       "            return fig.mouse_event(event, name);\n",
       "        };\n",
       "    }\n",
       "\n",
       "    rubberband_canvas.addEventListener(\n",
       "        'mousedown',\n",
       "        on_mouse_event_closure('button_press')\n",
       "    );\n",
       "    rubberband_canvas.addEventListener(\n",
       "        'mouseup',\n",
       "        on_mouse_event_closure('button_release')\n",
       "    );\n",
       "    // Throttle sequential mouse events to 1 every 20ms.\n",
       "    rubberband_canvas.addEventListener(\n",
       "        'mousemove',\n",
       "        on_mouse_event_closure('motion_notify')\n",
       "    );\n",
       "\n",
       "    rubberband_canvas.addEventListener(\n",
       "        'mouseenter',\n",
       "        on_mouse_event_closure('figure_enter')\n",
       "    );\n",
       "    rubberband_canvas.addEventListener(\n",
       "        'mouseleave',\n",
       "        on_mouse_event_closure('figure_leave')\n",
       "    );\n",
       "\n",
       "    canvas_div.addEventListener('wheel', function (event) {\n",
       "        if (event.deltaY < 0) {\n",
       "            event.step = 1;\n",
       "        } else {\n",
       "            event.step = -1;\n",
       "        }\n",
       "        on_mouse_event_closure('scroll')(event);\n",
       "    });\n",
       "\n",
       "    canvas_div.appendChild(canvas);\n",
       "    canvas_div.appendChild(rubberband_canvas);\n",
       "\n",
       "    this.rubberband_context = rubberband_canvas.getContext('2d');\n",
       "    this.rubberband_context.strokeStyle = '#000000';\n",
       "\n",
       "    this._resize_canvas = function (width, height, forward) {\n",
       "        if (forward) {\n",
       "            canvas_div.style.width = width + 'px';\n",
       "            canvas_div.style.height = height + 'px';\n",
       "        }\n",
       "    };\n",
       "\n",
       "    // Disable right mouse context menu.\n",
       "    this.rubberband_canvas.addEventListener('contextmenu', function (_e) {\n",
       "        event.preventDefault();\n",
       "        return false;\n",
       "    });\n",
       "\n",
       "    function set_focus() {\n",
       "        canvas.focus();\n",
       "        canvas_div.focus();\n",
       "    }\n",
       "\n",
       "    window.setTimeout(set_focus, 100);\n",
       "};\n",
       "\n",
       "mpl.figure.prototype._init_toolbar = function () {\n",
       "    var fig = this;\n",
       "\n",
       "    var toolbar = document.createElement('div');\n",
       "    toolbar.classList = 'mpl-toolbar';\n",
       "    this.root.appendChild(toolbar);\n",
       "\n",
       "    function on_click_closure(name) {\n",
       "        return function (_event) {\n",
       "            return fig.toolbar_button_onclick(name);\n",
       "        };\n",
       "    }\n",
       "\n",
       "    function on_mouseover_closure(tooltip) {\n",
       "        return function (event) {\n",
       "            if (!event.currentTarget.disabled) {\n",
       "                return fig.toolbar_button_onmouseover(tooltip);\n",
       "            }\n",
       "        };\n",
       "    }\n",
       "\n",
       "    fig.buttons = {};\n",
       "    var buttonGroup = document.createElement('div');\n",
       "    buttonGroup.classList = 'mpl-button-group';\n",
       "    for (var toolbar_ind in mpl.toolbar_items) {\n",
       "        var name = mpl.toolbar_items[toolbar_ind][0];\n",
       "        var tooltip = mpl.toolbar_items[toolbar_ind][1];\n",
       "        var image = mpl.toolbar_items[toolbar_ind][2];\n",
       "        var method_name = mpl.toolbar_items[toolbar_ind][3];\n",
       "\n",
       "        if (!name) {\n",
       "            /* Instead of a spacer, we start a new button group. */\n",
       "            if (buttonGroup.hasChildNodes()) {\n",
       "                toolbar.appendChild(buttonGroup);\n",
       "            }\n",
       "            buttonGroup = document.createElement('div');\n",
       "            buttonGroup.classList = 'mpl-button-group';\n",
       "            continue;\n",
       "        }\n",
       "\n",
       "        var button = (fig.buttons[name] = document.createElement('button'));\n",
       "        button.classList = 'mpl-widget';\n",
       "        button.setAttribute('role', 'button');\n",
       "        button.setAttribute('aria-disabled', 'false');\n",
       "        button.addEventListener('click', on_click_closure(method_name));\n",
       "        button.addEventListener('mouseover', on_mouseover_closure(tooltip));\n",
       "\n",
       "        var icon_img = document.createElement('img');\n",
       "        icon_img.src = '_images/' + image + '.png';\n",
       "        icon_img.srcset = '_images/' + image + '_large.png 2x';\n",
       "        icon_img.alt = tooltip;\n",
       "        button.appendChild(icon_img);\n",
       "\n",
       "        buttonGroup.appendChild(button);\n",
       "    }\n",
       "\n",
       "    if (buttonGroup.hasChildNodes()) {\n",
       "        toolbar.appendChild(buttonGroup);\n",
       "    }\n",
       "\n",
       "    var fmt_picker = document.createElement('select');\n",
       "    fmt_picker.classList = 'mpl-widget';\n",
       "    toolbar.appendChild(fmt_picker);\n",
       "    this.format_dropdown = fmt_picker;\n",
       "\n",
       "    for (var ind in mpl.extensions) {\n",
       "        var fmt = mpl.extensions[ind];\n",
       "        var option = document.createElement('option');\n",
       "        option.selected = fmt === mpl.default_extension;\n",
       "        option.innerHTML = fmt;\n",
       "        fmt_picker.appendChild(option);\n",
       "    }\n",
       "\n",
       "    var status_bar = document.createElement('span');\n",
       "    status_bar.classList = 'mpl-message';\n",
       "    toolbar.appendChild(status_bar);\n",
       "    this.message = status_bar;\n",
       "};\n",
       "\n",
       "mpl.figure.prototype.request_resize = function (x_pixels, y_pixels) {\n",
       "    // Request matplotlib to resize the figure. Matplotlib will then trigger a resize in the client,\n",
       "    // which will in turn request a refresh of the image.\n",
       "    this.send_message('resize', { width: x_pixels, height: y_pixels });\n",
       "};\n",
       "\n",
       "mpl.figure.prototype.send_message = function (type, properties) {\n",
       "    properties['type'] = type;\n",
       "    properties['figure_id'] = this.id;\n",
       "    this.ws.send(JSON.stringify(properties));\n",
       "};\n",
       "\n",
       "mpl.figure.prototype.send_draw_message = function () {\n",
       "    if (!this.waiting) {\n",
       "        this.waiting = true;\n",
       "        this.ws.send(JSON.stringify({ type: 'draw', figure_id: this.id }));\n",
       "    }\n",
       "};\n",
       "\n",
       "mpl.figure.prototype.handle_save = function (fig, _msg) {\n",
       "    var format_dropdown = fig.format_dropdown;\n",
       "    var format = format_dropdown.options[format_dropdown.selectedIndex].value;\n",
       "    fig.ondownload(fig, format);\n",
       "};\n",
       "\n",
       "mpl.figure.prototype.handle_resize = function (fig, msg) {\n",
       "    var size = msg['size'];\n",
       "    if (size[0] !== fig.canvas.width || size[1] !== fig.canvas.height) {\n",
       "        fig._resize_canvas(size[0], size[1], msg['forward']);\n",
       "        fig.send_message('refresh', {});\n",
       "    }\n",
       "};\n",
       "\n",
       "mpl.figure.prototype.handle_rubberband = function (fig, msg) {\n",
       "    var x0 = msg['x0'] / mpl.ratio;\n",
       "    var y0 = (fig.canvas.height - msg['y0']) / mpl.ratio;\n",
       "    var x1 = msg['x1'] / mpl.ratio;\n",
       "    var y1 = (fig.canvas.height - msg['y1']) / mpl.ratio;\n",
       "    x0 = Math.floor(x0) + 0.5;\n",
       "    y0 = Math.floor(y0) + 0.5;\n",
       "    x1 = Math.floor(x1) + 0.5;\n",
       "    y1 = Math.floor(y1) + 0.5;\n",
       "    var min_x = Math.min(x0, x1);\n",
       "    var min_y = Math.min(y0, y1);\n",
       "    var width = Math.abs(x1 - x0);\n",
       "    var height = Math.abs(y1 - y0);\n",
       "\n",
       "    fig.rubberband_context.clearRect(\n",
       "        0,\n",
       "        0,\n",
       "        fig.canvas.width / mpl.ratio,\n",
       "        fig.canvas.height / mpl.ratio\n",
       "    );\n",
       "\n",
       "    fig.rubberband_context.strokeRect(min_x, min_y, width, height);\n",
       "};\n",
       "\n",
       "mpl.figure.prototype.handle_figure_label = function (fig, msg) {\n",
       "    // Updates the figure title.\n",
       "    fig.header.textContent = msg['label'];\n",
       "};\n",
       "\n",
       "mpl.figure.prototype.handle_cursor = function (fig, msg) {\n",
       "    var cursor = msg['cursor'];\n",
       "    switch (cursor) {\n",
       "        case 0:\n",
       "            cursor = 'pointer';\n",
       "            break;\n",
       "        case 1:\n",
       "            cursor = 'default';\n",
       "            break;\n",
       "        case 2:\n",
       "            cursor = 'crosshair';\n",
       "            break;\n",
       "        case 3:\n",
       "            cursor = 'move';\n",
       "            break;\n",
       "    }\n",
       "    fig.rubberband_canvas.style.cursor = cursor;\n",
       "};\n",
       "\n",
       "mpl.figure.prototype.handle_message = function (fig, msg) {\n",
       "    fig.message.textContent = msg['message'];\n",
       "};\n",
       "\n",
       "mpl.figure.prototype.handle_draw = function (fig, _msg) {\n",
       "    // Request the server to send over a new figure.\n",
       "    fig.send_draw_message();\n",
       "};\n",
       "\n",
       "mpl.figure.prototype.handle_image_mode = function (fig, msg) {\n",
       "    fig.image_mode = msg['mode'];\n",
       "};\n",
       "\n",
       "mpl.figure.prototype.handle_history_buttons = function (fig, msg) {\n",
       "    for (var key in msg) {\n",
       "        if (!(key in fig.buttons)) {\n",
       "            continue;\n",
       "        }\n",
       "        fig.buttons[key].disabled = !msg[key];\n",
       "        fig.buttons[key].setAttribute('aria-disabled', !msg[key]);\n",
       "    }\n",
       "};\n",
       "\n",
       "mpl.figure.prototype.handle_navigate_mode = function (fig, msg) {\n",
       "    if (msg['mode'] === 'PAN') {\n",
       "        fig.buttons['Pan'].classList.add('active');\n",
       "        fig.buttons['Zoom'].classList.remove('active');\n",
       "    } else if (msg['mode'] === 'ZOOM') {\n",
       "        fig.buttons['Pan'].classList.remove('active');\n",
       "        fig.buttons['Zoom'].classList.add('active');\n",
       "    } else {\n",
       "        fig.buttons['Pan'].classList.remove('active');\n",
       "        fig.buttons['Zoom'].classList.remove('active');\n",
       "    }\n",
       "};\n",
       "\n",
       "mpl.figure.prototype.updated_canvas_event = function () {\n",
       "    // Called whenever the canvas gets updated.\n",
       "    this.send_message('ack', {});\n",
       "};\n",
       "\n",
       "// A function to construct a web socket function for onmessage handling.\n",
       "// Called in the figure constructor.\n",
       "mpl.figure.prototype._make_on_message_function = function (fig) {\n",
       "    return function socket_on_message(evt) {\n",
       "        if (evt.data instanceof Blob) {\n",
       "            /* FIXME: We get \"Resource interpreted as Image but\n",
       "             * transferred with MIME type text/plain:\" errors on\n",
       "             * Chrome.  But how to set the MIME type?  It doesn't seem\n",
       "             * to be part of the websocket stream */\n",
       "            evt.data.type = 'image/png';\n",
       "\n",
       "            /* Free the memory for the previous frames */\n",
       "            if (fig.imageObj.src) {\n",
       "                (window.URL || window.webkitURL).revokeObjectURL(\n",
       "                    fig.imageObj.src\n",
       "                );\n",
       "            }\n",
       "\n",
       "            fig.imageObj.src = (window.URL || window.webkitURL).createObjectURL(\n",
       "                evt.data\n",
       "            );\n",
       "            fig.updated_canvas_event();\n",
       "            fig.waiting = false;\n",
       "            return;\n",
       "        } else if (\n",
       "            typeof evt.data === 'string' &&\n",
       "            evt.data.slice(0, 21) === 'data:image/png;base64'\n",
       "        ) {\n",
       "            fig.imageObj.src = evt.data;\n",
       "            fig.updated_canvas_event();\n",
       "            fig.waiting = false;\n",
       "            return;\n",
       "        }\n",
       "\n",
       "        var msg = JSON.parse(evt.data);\n",
       "        var msg_type = msg['type'];\n",
       "\n",
       "        // Call the  \"handle_{type}\" callback, which takes\n",
       "        // the figure and JSON message as its only arguments.\n",
       "        try {\n",
       "            var callback = fig['handle_' + msg_type];\n",
       "        } catch (e) {\n",
       "            console.log(\n",
       "                \"No handler for the '\" + msg_type + \"' message type: \",\n",
       "                msg\n",
       "            );\n",
       "            return;\n",
       "        }\n",
       "\n",
       "        if (callback) {\n",
       "            try {\n",
       "                // console.log(\"Handling '\" + msg_type + \"' message: \", msg);\n",
       "                callback(fig, msg);\n",
       "            } catch (e) {\n",
       "                console.log(\n",
       "                    \"Exception inside the 'handler_\" + msg_type + \"' callback:\",\n",
       "                    e,\n",
       "                    e.stack,\n",
       "                    msg\n",
       "                );\n",
       "            }\n",
       "        }\n",
       "    };\n",
       "};\n",
       "\n",
       "// from http://stackoverflow.com/questions/1114465/getting-mouse-location-in-canvas\n",
       "mpl.findpos = function (e) {\n",
       "    //this section is from http://www.quirksmode.org/js/events_properties.html\n",
       "    var targ;\n",
       "    if (!e) {\n",
       "        e = window.event;\n",
       "    }\n",
       "    if (e.target) {\n",
       "        targ = e.target;\n",
       "    } else if (e.srcElement) {\n",
       "        targ = e.srcElement;\n",
       "    }\n",
       "    if (targ.nodeType === 3) {\n",
       "        // defeat Safari bug\n",
       "        targ = targ.parentNode;\n",
       "    }\n",
       "\n",
       "    // pageX,Y are the mouse positions relative to the document\n",
       "    var boundingRect = targ.getBoundingClientRect();\n",
       "    var x = e.pageX - (boundingRect.left + document.body.scrollLeft);\n",
       "    var y = e.pageY - (boundingRect.top + document.body.scrollTop);\n",
       "\n",
       "    return { x: x, y: y };\n",
       "};\n",
       "\n",
       "/*\n",
       " * return a copy of an object with only non-object keys\n",
       " * we need this to avoid circular references\n",
       " * http://stackoverflow.com/a/24161582/3208463\n",
       " */\n",
       "function simpleKeys(original) {\n",
       "    return Object.keys(original).reduce(function (obj, key) {\n",
       "        if (typeof original[key] !== 'object') {\n",
       "            obj[key] = original[key];\n",
       "        }\n",
       "        return obj;\n",
       "    }, {});\n",
       "}\n",
       "\n",
       "mpl.figure.prototype.mouse_event = function (event, name) {\n",
       "    var canvas_pos = mpl.findpos(event);\n",
       "\n",
       "    if (name === 'button_press') {\n",
       "        this.canvas.focus();\n",
       "        this.canvas_div.focus();\n",
       "    }\n",
       "\n",
       "    var x = canvas_pos.x * mpl.ratio;\n",
       "    var y = canvas_pos.y * mpl.ratio;\n",
       "\n",
       "    this.send_message(name, {\n",
       "        x: x,\n",
       "        y: y,\n",
       "        button: event.button,\n",
       "        step: event.step,\n",
       "        guiEvent: simpleKeys(event),\n",
       "    });\n",
       "\n",
       "    /* This prevents the web browser from automatically changing to\n",
       "     * the text insertion cursor when the button is pressed.  We want\n",
       "     * to control all of the cursor setting manually through the\n",
       "     * 'cursor' event from matplotlib */\n",
       "    event.preventDefault();\n",
       "    return false;\n",
       "};\n",
       "\n",
       "mpl.figure.prototype._key_event_extra = function (_event, _name) {\n",
       "    // Handle any extra behaviour associated with a key event\n",
       "};\n",
       "\n",
       "mpl.figure.prototype.key_event = function (event, name) {\n",
       "    // Prevent repeat events\n",
       "    if (name === 'key_press') {\n",
       "        if (event.which === this._key) {\n",
       "            return;\n",
       "        } else {\n",
       "            this._key = event.which;\n",
       "        }\n",
       "    }\n",
       "    if (name === 'key_release') {\n",
       "        this._key = null;\n",
       "    }\n",
       "\n",
       "    var value = '';\n",
       "    if (event.ctrlKey && event.which !== 17) {\n",
       "        value += 'ctrl+';\n",
       "    }\n",
       "    if (event.altKey && event.which !== 18) {\n",
       "        value += 'alt+';\n",
       "    }\n",
       "    if (event.shiftKey && event.which !== 16) {\n",
       "        value += 'shift+';\n",
       "    }\n",
       "\n",
       "    value += 'k';\n",
       "    value += event.which.toString();\n",
       "\n",
       "    this._key_event_extra(event, name);\n",
       "\n",
       "    this.send_message(name, { key: value, guiEvent: simpleKeys(event) });\n",
       "    return false;\n",
       "};\n",
       "\n",
       "mpl.figure.prototype.toolbar_button_onclick = function (name) {\n",
       "    if (name === 'download') {\n",
       "        this.handle_save(this, null);\n",
       "    } else {\n",
       "        this.send_message('toolbar_button', { name: name });\n",
       "    }\n",
       "};\n",
       "\n",
       "mpl.figure.prototype.toolbar_button_onmouseover = function (tooltip) {\n",
       "    this.message.textContent = tooltip;\n",
       "};\n",
       "mpl.toolbar_items = [[\"Home\", \"Reset original view\", \"fa fa-home icon-home\", \"home\"], [\"Back\", \"Back to previous view\", \"fa fa-arrow-left icon-arrow-left\", \"back\"], [\"Forward\", \"Forward to next view\", \"fa fa-arrow-right icon-arrow-right\", \"forward\"], [\"\", \"\", \"\", \"\"], [\"Pan\", \"Left button pans, Right button zooms\\nx/y fixes axis, CTRL fixes aspect\", \"fa fa-arrows icon-move\", \"pan\"], [\"Zoom\", \"Zoom to rectangle\\nx/y fixes axis, CTRL fixes aspect\", \"fa fa-square-o icon-check-empty\", \"zoom\"], [\"\", \"\", \"\", \"\"], [\"Download\", \"Download plot\", \"fa fa-floppy-o icon-save\", \"download\"]];\n",
       "\n",
       "mpl.extensions = [\"eps\", \"jpeg\", \"pdf\", \"png\", \"ps\", \"raw\", \"svg\", \"tif\"];\n",
       "\n",
       "mpl.default_extension = \"png\";/* global mpl */\n",
       "\n",
       "var comm_websocket_adapter = function (comm) {\n",
       "    // Create a \"websocket\"-like object which calls the given IPython comm\n",
       "    // object with the appropriate methods. Currently this is a non binary\n",
       "    // socket, so there is still some room for performance tuning.\n",
       "    var ws = {};\n",
       "\n",
       "    ws.close = function () {\n",
       "        comm.close();\n",
       "    };\n",
       "    ws.send = function (m) {\n",
       "        //console.log('sending', m);\n",
       "        comm.send(m);\n",
       "    };\n",
       "    // Register the callback with on_msg.\n",
       "    comm.on_msg(function (msg) {\n",
       "        //console.log('receiving', msg['content']['data'], msg);\n",
       "        // Pass the mpl event to the overridden (by mpl) onmessage function.\n",
       "        ws.onmessage(msg['content']['data']);\n",
       "    });\n",
       "    return ws;\n",
       "};\n",
       "\n",
       "mpl.mpl_figure_comm = function (comm, msg) {\n",
       "    // This is the function which gets called when the mpl process\n",
       "    // starts-up an IPython Comm through the \"matplotlib\" channel.\n",
       "\n",
       "    var id = msg.content.data.id;\n",
       "    // Get hold of the div created by the display call when the Comm\n",
       "    // socket was opened in Python.\n",
       "    var element = document.getElementById(id);\n",
       "    var ws_proxy = comm_websocket_adapter(comm);\n",
       "\n",
       "    function ondownload(figure, _format) {\n",
       "        window.open(figure.canvas.toDataURL());\n",
       "    }\n",
       "\n",
       "    var fig = new mpl.figure(id, ws_proxy, ondownload, element);\n",
       "\n",
       "    // Call onopen now - mpl needs it, as it is assuming we've passed it a real\n",
       "    // web socket which is closed, not our websocket->open comm proxy.\n",
       "    ws_proxy.onopen();\n",
       "\n",
       "    fig.parent_element = element;\n",
       "    fig.cell_info = mpl.find_output_cell(\"<div id='\" + id + \"'></div>\");\n",
       "    if (!fig.cell_info) {\n",
       "        console.error('Failed to find cell for figure', id, fig);\n",
       "        return;\n",
       "    }\n",
       "};\n",
       "\n",
       "mpl.figure.prototype.handle_close = function (fig, msg) {\n",
       "    var width = fig.canvas.width / mpl.ratio;\n",
       "    fig.root.removeEventListener('remove', this._remove_fig_handler);\n",
       "\n",
       "    // Update the output cell to use the data from the current canvas.\n",
       "    fig.push_to_output();\n",
       "    var dataURL = fig.canvas.toDataURL();\n",
       "    // Re-enable the keyboard manager in IPython - without this line, in FF,\n",
       "    // the notebook keyboard shortcuts fail.\n",
       "    IPython.keyboard_manager.enable();\n",
       "    fig.parent_element.innerHTML =\n",
       "        '<img src=\"' + dataURL + '\" width=\"' + width + '\">';\n",
       "    fig.close_ws(fig, msg);\n",
       "};\n",
       "\n",
       "mpl.figure.prototype.close_ws = function (fig, msg) {\n",
       "    fig.send_message('closing', msg);\n",
       "    // fig.ws.close()\n",
       "};\n",
       "\n",
       "mpl.figure.prototype.push_to_output = function (_remove_interactive) {\n",
       "    // Turn the data on the canvas into data in the output cell.\n",
       "    var width = this.canvas.width / mpl.ratio;\n",
       "    var dataURL = this.canvas.toDataURL();\n",
       "    this.cell_info[1]['text/html'] =\n",
       "        '<img src=\"' + dataURL + '\" width=\"' + width + '\">';\n",
       "};\n",
       "\n",
       "mpl.figure.prototype.updated_canvas_event = function () {\n",
       "    // Tell IPython that the notebook contents must change.\n",
       "    IPython.notebook.set_dirty(true);\n",
       "    this.send_message('ack', {});\n",
       "    var fig = this;\n",
       "    // Wait a second, then push the new image to the DOM so\n",
       "    // that it is saved nicely (might be nice to debounce this).\n",
       "    setTimeout(function () {\n",
       "        fig.push_to_output();\n",
       "    }, 1000);\n",
       "};\n",
       "\n",
       "mpl.figure.prototype._init_toolbar = function () {\n",
       "    var fig = this;\n",
       "\n",
       "    var toolbar = document.createElement('div');\n",
       "    toolbar.classList = 'btn-toolbar';\n",
       "    this.root.appendChild(toolbar);\n",
       "\n",
       "    function on_click_closure(name) {\n",
       "        return function (_event) {\n",
       "            return fig.toolbar_button_onclick(name);\n",
       "        };\n",
       "    }\n",
       "\n",
       "    function on_mouseover_closure(tooltip) {\n",
       "        return function (event) {\n",
       "            if (!event.currentTarget.disabled) {\n",
       "                return fig.toolbar_button_onmouseover(tooltip);\n",
       "            }\n",
       "        };\n",
       "    }\n",
       "\n",
       "    fig.buttons = {};\n",
       "    var buttonGroup = document.createElement('div');\n",
       "    buttonGroup.classList = 'btn-group';\n",
       "    var button;\n",
       "    for (var toolbar_ind in mpl.toolbar_items) {\n",
       "        var name = mpl.toolbar_items[toolbar_ind][0];\n",
       "        var tooltip = mpl.toolbar_items[toolbar_ind][1];\n",
       "        var image = mpl.toolbar_items[toolbar_ind][2];\n",
       "        var method_name = mpl.toolbar_items[toolbar_ind][3];\n",
       "\n",
       "        if (!name) {\n",
       "            /* Instead of a spacer, we start a new button group. */\n",
       "            if (buttonGroup.hasChildNodes()) {\n",
       "                toolbar.appendChild(buttonGroup);\n",
       "            }\n",
       "            buttonGroup = document.createElement('div');\n",
       "            buttonGroup.classList = 'btn-group';\n",
       "            continue;\n",
       "        }\n",
       "\n",
       "        button = fig.buttons[name] = document.createElement('button');\n",
       "        button.classList = 'btn btn-default';\n",
       "        button.href = '#';\n",
       "        button.title = name;\n",
       "        button.innerHTML = '<i class=\"fa ' + image + ' fa-lg\"></i>';\n",
       "        button.addEventListener('click', on_click_closure(method_name));\n",
       "        button.addEventListener('mouseover', on_mouseover_closure(tooltip));\n",
       "        buttonGroup.appendChild(button);\n",
       "    }\n",
       "\n",
       "    if (buttonGroup.hasChildNodes()) {\n",
       "        toolbar.appendChild(buttonGroup);\n",
       "    }\n",
       "\n",
       "    // Add the status bar.\n",
       "    var status_bar = document.createElement('span');\n",
       "    status_bar.classList = 'mpl-message pull-right';\n",
       "    toolbar.appendChild(status_bar);\n",
       "    this.message = status_bar;\n",
       "\n",
       "    // Add the close button to the window.\n",
       "    var buttongrp = document.createElement('div');\n",
       "    buttongrp.classList = 'btn-group inline pull-right';\n",
       "    button = document.createElement('button');\n",
       "    button.classList = 'btn btn-mini btn-primary';\n",
       "    button.href = '#';\n",
       "    button.title = 'Stop Interaction';\n",
       "    button.innerHTML = '<i class=\"fa fa-power-off icon-remove icon-large\"></i>';\n",
       "    button.addEventListener('click', function (_evt) {\n",
       "        fig.handle_close(fig, {});\n",
       "    });\n",
       "    button.addEventListener(\n",
       "        'mouseover',\n",
       "        on_mouseover_closure('Stop Interaction')\n",
       "    );\n",
       "    buttongrp.appendChild(button);\n",
       "    var titlebar = this.root.querySelector('.ui-dialog-titlebar');\n",
       "    titlebar.insertBefore(buttongrp, titlebar.firstChild);\n",
       "};\n",
       "\n",
       "mpl.figure.prototype._remove_fig_handler = function () {\n",
       "    this.close_ws(this, {});\n",
       "};\n",
       "\n",
       "mpl.figure.prototype._root_extra_style = function (el) {\n",
       "    el.style.boxSizing = 'content-box'; // override notebook setting of border-box.\n",
       "    el.addEventListener('remove', this._remove_fig_handler);\n",
       "};\n",
       "\n",
       "mpl.figure.prototype._canvas_extra_style = function (el) {\n",
       "    // this is important to make the div 'focusable\n",
       "    el.setAttribute('tabindex', 0);\n",
       "    // reach out to IPython and tell the keyboard manager to turn it's self\n",
       "    // off when our div gets focus\n",
       "\n",
       "    // location in version 3\n",
       "    if (IPython.notebook.keyboard_manager) {\n",
       "        IPython.notebook.keyboard_manager.register_events(el);\n",
       "    } else {\n",
       "        // location in version 2\n",
       "        IPython.keyboard_manager.register_events(el);\n",
       "    }\n",
       "};\n",
       "\n",
       "mpl.figure.prototype._key_event_extra = function (event, _name) {\n",
       "    var manager = IPython.notebook.keyboard_manager;\n",
       "    if (!manager) {\n",
       "        manager = IPython.keyboard_manager;\n",
       "    }\n",
       "\n",
       "    // Check for shift+enter\n",
       "    if (event.shiftKey && event.which === 13) {\n",
       "        this.canvas_div.blur();\n",
       "        // select the cell after this one\n",
       "        var index = IPython.notebook.find_cell_index(this.cell_info[0]);\n",
       "        IPython.notebook.select(index + 1);\n",
       "    }\n",
       "};\n",
       "\n",
       "mpl.figure.prototype.handle_save = function (fig, _msg) {\n",
       "    fig.ondownload(fig, null);\n",
       "};\n",
       "\n",
       "mpl.find_output_cell = function (html_output) {\n",
       "    // Return the cell and output element which can be found *uniquely* in the notebook.\n",
       "    // Note - this is a bit hacky, but it is done because the \"notebook_saving.Notebook\"\n",
       "    // IPython event is triggered only after the cells have been serialised, which for\n",
       "    // our purposes (turning an active figure into a static one), is too late.\n",
       "    var cells = IPython.notebook.get_cells();\n",
       "    var ncells = cells.length;\n",
       "    for (var i = 0; i < ncells; i++) {\n",
       "        var cell = cells[i];\n",
       "        if (cell.cell_type === 'code') {\n",
       "            for (var j = 0; j < cell.output_area.outputs.length; j++) {\n",
       "                var data = cell.output_area.outputs[j];\n",
       "                if (data.data) {\n",
       "                    // IPython >= 3 moved mimebundle to data attribute of output\n",
       "                    data = data.data;\n",
       "                }\n",
       "                if (data['text/html'] === html_output) {\n",
       "                    return [cell, data, j];\n",
       "                }\n",
       "            }\n",
       "        }\n",
       "    }\n",
       "};\n",
       "\n",
       "// Register the function which deals with the matplotlib target/channel.\n",
       "// The kernel may be null if the page has been refreshed.\n",
       "if (IPython.notebook.kernel !== null) {\n",
       "    IPython.notebook.kernel.comm_manager.register_target(\n",
       "        'matplotlib',\n",
       "        mpl.mpl_figure_comm\n",
       "    );\n",
       "}\n"
      ],
      "text/plain": [
       "<IPython.core.display.Javascript object>"
      ]
     },
     "metadata": {},
     "output_type": "display_data"
    },
    {
     "data": {
      "text/html": [
       "<div id='651db1b3-6d76-450d-9f68-576d32bd314d'></div>"
      ],
      "text/plain": [
       "<IPython.core.display.HTML object>"
      ]
     },
     "metadata": {},
     "output_type": "display_data"
    }
   ],
   "source": [
    "# YOUR CODE HERE\n",
    "\n",
    "input_dim, hidden_dim, output_dim = 57, 64, 41\n",
    "batch_dim = 16\n",
    "total_epochs = 10\n",
    "learning_rate = 0.0008\n",
    "\n",
    "initial_rnn = RNN(input_dim, hidden_dim, output_dim)\n",
    "trained_rnn = train(initial_rnn, total_epochs, learning_rate, batch_dim, train_dataset, val_dataset)\n",
    "\n"
   ]
  },
  {
   "cell_type": "markdown",
   "metadata": {
    "deletable": false,
    "editable": false,
    "nbgrader": {
     "cell_type": "markdown",
     "checksum": "ec7510ce50876d9072ff172b5a6bed05",
     "grade": false,
     "grade_id": "cell-b59e32abfa0bf9ef",
     "locked": true,
     "schema_version": 3,
     "solution": false
    }
   },
   "source": [
    "Make sure you obtain at least 0.3 F1-score in the validation set before proceeding."
   ]
  },
  {
   "cell_type": "markdown",
   "metadata": {
    "deletable": false,
    "editable": false,
    "nbgrader": {
     "cell_type": "markdown",
     "checksum": "0c90c4448ae9e3cfffa5e8dc30b21411",
     "grade": false,
     "grade_id": "cell-09fe0d5786ed0073",
     "locked": true,
     "schema_version": 3,
     "solution": false
    }
   },
   "source": [
    "### 1.6 Evaluation"
   ]
  },
  {
   "cell_type": "markdown",
   "metadata": {
    "deletable": false,
    "editable": false,
    "nbgrader": {
     "cell_type": "markdown",
     "checksum": "32ba20bdba94d72537d559f5d7fed869",
     "grade": false,
     "grade_id": "cell-098308391c682cd8",
     "locked": true,
     "schema_version": 3,
     "solution": false
    }
   },
   "source": [
    "Now that our model is trained, we can evaluate its predictions on the test set. "
   ]
  },
  {
   "cell_type": "code",
   "execution_count": 38,
   "metadata": {
    "deletable": false,
    "editable": false,
    "nbgrader": {
     "cell_type": "code",
     "checksum": "d028367fa4f2b8e07b9f412bc0dc82cc",
     "grade": false,
     "grade_id": "cell-ee9fecbd4fc5e6cd",
     "locked": true,
     "schema_version": 3,
     "solution": false
    }
   },
   "outputs": [],
   "source": [
    "# Get all samples from the test set\n",
    "x_test, y_test = test_dataset[:]\n",
    "\n",
    "# Compute predictions\n",
    "with torch.no_grad():\n",
    "    test_out, _ = batch_forward_prop(rnn, x_test, y_test)\n",
    "\n",
    "# Transform them into hard predictions\n",
    "preds = test_out.argmax(dim=1)\n",
    "\n",
    "# Get `preds` as a numpy array\n",
    "preds = preds.cpu().numpy()"
   ]
  },
  {
   "cell_type": "markdown",
   "metadata": {
    "deletable": false,
    "editable": false,
    "nbgrader": {
     "cell_type": "markdown",
     "checksum": "5fdeb2d6a4e4a5402f0feb9554634e15",
     "grade": false,
     "grade_id": "cell-6968066e3b5b4085",
     "locked": true,
     "schema_version": 3,
     "solution": false
    }
   },
   "source": [
    "Using these predictions, we can compute the confusion matrix on the test set as follows."
   ]
  },
  {
   "cell_type": "code",
   "execution_count": 39,
   "metadata": {
    "deletable": false,
    "editable": false,
    "nbgrader": {
     "cell_type": "code",
     "checksum": "2ca8a97e26fea408fe09e4eed8350526",
     "grade": false,
     "grade_id": "cell-003dfbe728ab93f4",
     "locked": true,
     "schema_version": 3,
     "solution": false
    }
   },
   "outputs": [
    {
     "data": {
      "text/plain": [
       "array([[0., 0., 0., ..., 0., 0., 0.],\n",
       "       [0., 0., 0., ..., 0., 0., 0.],\n",
       "       [0., 0., 0., ..., 0., 0., 0.],\n",
       "       ...,\n",
       "       [0., 0., 0., ..., 0., 0., 0.],\n",
       "       [0., 0., 0., ..., 0., 0., 0.],\n",
       "       [0., 0., 0., ..., 0., 0., 0.]])"
      ]
     },
     "execution_count": 39,
     "metadata": {},
     "output_type": "execute_result"
    }
   ],
   "source": [
    "from sklearn.metrics import confusion_matrix\n",
    "\n",
    "# Compute the confusion matrix\n",
    "y_true = y_test.cpu().numpy()\n",
    "cm = confusion_matrix(y_true, preds)\n",
    "cm = cm.astype('float64')\n",
    "\n",
    "# Normalize each row\n",
    "for i in range(cm.shape[0]):\n",
    "    cm[i, :] = cm[i, :] / sum(cm[i, :])\n",
    "    \n",
    "cm"
   ]
  },
  {
   "cell_type": "code",
   "execution_count": 40,
   "metadata": {},
   "outputs": [
    {
     "data": {
      "text/plain": [
       "array([0.        , 0.        , 0.        , 0.        , 0.08888889,\n",
       "       0.        , 0.        , 0.        , 0.        , 0.55555556,\n",
       "       0.        , 0.        , 0.        , 0.        , 0.        ,\n",
       "       0.        , 0.        , 0.        , 0.        , 0.        ,\n",
       "       0.        , 0.        , 0.        , 0.        , 0.06666667,\n",
       "       0.        , 0.28888889, 0.        , 0.        , 0.        ,\n",
       "       0.        , 0.        , 0.        , 0.        , 0.        ,\n",
       "       0.        , 0.        , 0.        , 0.        , 0.        ,\n",
       "       0.        ])"
      ]
     },
     "execution_count": 40,
     "metadata": {},
     "output_type": "execute_result"
    }
   ],
   "source": [
    "cm[30]"
   ]
  },
  {
   "cell_type": "markdown",
   "metadata": {
    "deletable": false,
    "editable": false,
    "nbgrader": {
     "cell_type": "markdown",
     "checksum": "498ae92e6253b9951570fd782bb67f28",
     "grade": false,
     "grade_id": "cell-d0a5d53862716ff5",
     "locked": true,
     "schema_version": 3,
     "solution": false
    }
   },
   "source": [
    "In order to make this easier to visualize, let's plot it as a heat map:"
   ]
  },
  {
   "cell_type": "code",
   "execution_count": 41,
   "metadata": {
    "deletable": false,
    "editable": false,
    "nbgrader": {
     "cell_type": "code",
     "checksum": "5eed47cfe9145966604d70f8a0ae1ab5",
     "grade": false,
     "grade_id": "cell-0ac30bac8eee0481",
     "locked": true,
     "schema_version": 3,
     "solution": false
    }
   },
   "outputs": [
    {
     "data": {
      "image/png": "[encoded data removed]",
      "text/plain": [
       "<Figure size 720x720 with 1 Axes>"
      ]
     },
     "metadata": {
      "needs_background": "light"
     },
     "output_type": "display_data"
    }
   ],
   "source": [
    "%matplotlib inline\n",
    "plt.figure(figsize=(10, 10))\n",
    "plt.imshow(cm)\n",
    "plt.xticks(range(len(names_dict)), names_dict.keys(), rotation='vertical')\n",
    "plt.yticks(range(len(names_dict)), names_dict.keys())\n",
    "plt.xlabel('Predicted label')\n",
    "plt.ylabel('True label')\n",
    "plt.show()"
   ]
  },
  {
   "cell_type": "markdown",
   "metadata": {
    "deletable": false,
    "editable": false,
    "nbgrader": {
     "cell_type": "markdown",
     "checksum": "852b7b1df9a5fa5dbf9ab50a5f6ec601",
     "grade": false,
     "grade_id": "cell-baa17f34d2c98af3",
     "locked": true,
     "schema_version": 3,
     "solution": false
    }
   },
   "source": [
    "Why did we normalize the rows of the confusion matrix? "
   ]
  },
  {
   "cell_type": "markdown",
   "metadata": {
    "deletable": false,
    "nbgrader": {
     "cell_type": "markdown",
     "checksum": "02945e3740619fdfadc8beb6c4036561",
     "grade": true,
     "grade_id": "cell-5e952f1af1335cd1",
     "locked": false,
     "points": 0,
     "schema_version": 3,
     "solution": true
    }
   },
   "source": [
    "**Your answer:** We normalize the rows of the confusion matrix in order to display the number of correctly and incorrectly classified observations for each true or actual class as percentages of the number of observations of the corresponding true class / actual class."
   ]
  },
  {
   "cell_type": "markdown",
   "metadata": {
    "deletable": false,
    "editable": false,
    "nbgrader": {
     "cell_type": "markdown",
     "checksum": "1f95d015632e2b32bbe24a4bcf37b34e",
     "grade": false,
     "grade_id": "cell-b56067b9a8f982ed",
     "locked": true,
     "schema_version": 3,
     "solution": false
    }
   },
   "source": [
    "**(1 POE)**\n",
    "What can you conclude from this confusion matrix? Which classes are easy/hard to classify? Which classes are being confused?"
   ]
  },
  {
   "cell_type": "markdown",
   "metadata": {
    "deletable": false,
    "nbgrader": {
     "cell_type": "markdown",
     "checksum": "feed9dd64f470ce4a3a867d6c6a1276e",
     "grade": true,
     "grade_id": "cell-e3597dc61426d8a3",
     "locked": false,
     "points": 1,
     "schema_version": 3,
     "solution": true
    }
   },
   "source": [
    "**Your answer:** We can find that the predictions of samples are very likely to be china, this might be due to the fact that we have highest number of samples of china, the class with higher number of samples can be identified easier, while the class with smaller number of samples is difficult to be identified."
   ]
  },
  {
   "cell_type": "markdown",
   "metadata": {
    "deletable": false,
    "editable": false,
    "nbgrader": {
     "cell_type": "markdown",
     "checksum": "9ff548903b15da02335b1f0111ac9c4a",
     "grade": false,
     "grade_id": "cell-a1cd31c6856025a5",
     "locked": true,
     "schema_version": 3,
     "solution": false
    }
   },
   "source": [
    "To end this task, we can now define a function to perform predictions on any input name we provide (as long as the name contains only characters in our character set)."
   ]
  },
  {
   "cell_type": "code",
   "execution_count": 42,
   "metadata": {
    "deletable": false,
    "editable": false,
    "nbgrader": {
     "cell_type": "code",
     "checksum": "16ff9962bca7277a96de8620d03b1264",
     "grade": false,
     "grade_id": "cell-07f9089a7c996db0",
     "locked": true,
     "schema_version": 3,
     "solution": false
    }
   },
   "outputs": [],
   "source": [
    "def evaluate(name_tensor):\n",
    "    with torch.no_grad():\n",
    "        hidden = torch.zeros(1, rnn.hidden_size).to(device)\n",
    "        for i in range(name_tensor.shape[1]):\n",
    "            output, hidden = rnn(name_tensor[:, i, :], hidden)\n",
    "    return output.exp()\n",
    "\n",
    "def predict(input_line, n_predictions=5):\n",
    "    tensor = name2tensor(input_line).to(device)[None, :]\n",
    "    output = evaluate(tensor)\n",
    "\n",
    "    # Get top N categories\n",
    "    topv, topi = output.topk(n_predictions, 1, True)\n",
    "    topv, topi = topv[0], topi[0]\n",
    "        \n",
    "    cats = [list(names_dict.keys())[i] for i in topi.cpu().numpy()]\n",
    "    vs = topv.cpu().numpy()\n",
    "\n",
    "    plt.figure(figsize=(10,3))\n",
    "    plt.bar(range(len(vs)), vs)\n",
    "    plt.xticks(range(len(vs)), cats)"
   ]
  },
  {
   "cell_type": "code",
   "execution_count": 43,
   "metadata": {
    "deletable": false,
    "editable": false,
    "nbgrader": {
     "cell_type": "code",
     "checksum": "663d002913d786ae06797435cabb49b3",
     "grade": false,
     "grade_id": "cell-ee607ec26d687e7a",
     "locked": true,
     "schema_version": 3,
     "solution": false
    }
   },
   "outputs": [
    {
     "data": {
      "image/png": "[encoded data removed]",
      "text/plain": [
       "<Figure size 720x216 with 1 Axes>"
      ]
     },
     "metadata": {
      "needs_background": "light"
     },
     "output_type": "display_data"
    }
   ],
   "source": [
    "predict('Åsakvi')"
   ]
  },
  {
   "cell_type": "code",
   "execution_count": 44,
   "metadata": {
    "deletable": false,
    "editable": false,
    "nbgrader": {
     "cell_type": "code",
     "checksum": "de6ea4fca69dcdfafe0989d3c5a18f2b",
     "grade": false,
     "grade_id": "cell-fcc84c5b71d65216",
     "locked": true,
     "schema_version": 3,
     "solution": false
    }
   },
   "outputs": [
    {
     "data": {
      "image/png": "[encoded data removed]",
      "text/plain": [
       "<Figure size 720x216 with 1 Axes>"
      ]
     },
     "metadata": {
      "needs_background": "light"
     },
     "output_type": "display_data"
    }
   ],
   "source": [
    "predict('Harakabim')"
   ]
  },
  {
   "cell_type": "code",
   "execution_count": 45,
   "metadata": {
    "deletable": false,
    "editable": false,
    "nbgrader": {
     "cell_type": "code",
     "checksum": "8677e866517c65d978435ec0bd2c7213",
     "grade": false,
     "grade_id": "cell-d8af5b38ed527dc0",
     "locked": true,
     "schema_version": 3,
     "solution": false
    }
   },
   "outputs": [
    {
     "data": {
      "image/png": "[encoded data removed]",
      "text/plain": [
       "<Figure size 720x216 with 1 Axes>"
      ]
     },
     "metadata": {
      "needs_background": "light"
     },
     "output_type": "display_data"
    }
   ],
   "source": [
    "predict('Alakazam')"
   ]
  },
  {
   "cell_type": "code",
   "execution_count": 46,
   "metadata": {
    "deletable": false,
    "editable": false,
    "nbgrader": {
     "cell_type": "code",
     "checksum": "8aeaf021219a2f4697067d2fd4a41506",
     "grade": false,
     "grade_id": "cell-608a1a0a87fdcfbc",
     "locked": true,
     "schema_version": 3,
     "solution": false
    }
   },
   "outputs": [
    {
     "data": {
      "image/png": "[encoded data removed]",
      "text/plain": [
       "<Figure size 720x216 with 1 Axes>"
      ]
     },
     "metadata": {
      "needs_background": "light"
     },
     "output_type": "display_data"
    }
   ],
   "source": [
    "predict('Jin Quaio')"
   ]
  },
  {
   "cell_type": "code",
   "execution_count": 47,
   "metadata": {
    "deletable": false,
    "editable": false,
    "nbgrader": {
     "cell_type": "code",
     "checksum": "82b217f4a574a2cc23ad6233505d1d3e",
     "grade": false,
     "grade_id": "cell-9e46296a62c4ad3b",
     "locked": true,
     "schema_version": 3,
     "solution": false
    }
   },
   "outputs": [
    {
     "data": {
      "image/png": "[encoded data removed]",
      "text/plain": [
       "<Figure size 720x216 with 1 Axes>"
      ]
     },
     "metadata": {
      "needs_background": "light"
     },
     "output_type": "display_data"
    }
   ],
   "source": [
    "predict('Leonardino')"
   ]
  },
  {
   "cell_type": "code",
   "execution_count": 48,
   "metadata": {
    "deletable": false,
    "editable": false,
    "nbgrader": {
     "cell_type": "code",
     "checksum": "e2cbe7f4dcf0f10d6f011dca38976ec9",
     "grade": false,
     "grade_id": "cell-7107524e76e71c41",
     "locked": true,
     "schema_version": 3,
     "solution": false
    }
   },
   "outputs": [
    {
     "data": {
      "image/png": "[encoded data removed]",
      "text/plain": [
       "<Figure size 720x216 with 1 Axes>"
      ]
     },
     "metadata": {
      "needs_background": "light"
     },
     "output_type": "display_data"
    }
   ],
   "source": [
    "predict('Kim Sung')"
   ]
  },
  {
   "cell_type": "code",
   "execution_count": 49,
   "metadata": {
    "deletable": false,
    "editable": false,
    "nbgrader": {
     "cell_type": "code",
     "checksum": "aafceedc4f3f9ddbacf4b76548e8aa95",
     "grade": false,
     "grade_id": "cell-e5c047f1d1960750",
     "locked": true,
     "schema_version": 3,
     "solution": false
    }
   },
   "outputs": [
    {
     "data": {
      "image/png": "[encoded data removed]",
      "text/plain": [
       "<Figure size 720x216 with 1 Axes>"
      ]
     },
     "metadata": {
      "needs_background": "light"
     },
     "output_type": "display_data"
    }
   ],
   "source": [
    "predict('Thanos')"
   ]
  },
  {
   "cell_type": "code",
   "execution_count": 50,
   "metadata": {
    "deletable": false,
    "editable": false,
    "nbgrader": {
     "cell_type": "code",
     "checksum": "7c82ec8b8c895b208611f139201ac560",
     "grade": false,
     "grade_id": "cell-fc41f7e0ab00a192",
     "locked": true,
     "schema_version": 3,
     "solution": false
    }
   },
   "outputs": [
    {
     "data": {
      "image/png": "[encoded data removed]",
      "text/plain": [
       "<Figure size 720x216 with 1 Axes>"
      ]
     },
     "metadata": {
      "needs_background": "light"
     },
     "output_type": "display_data"
    }
   ],
   "source": [
    "predict('Viiviika')"
   ]
  },
  {
   "cell_type": "markdown",
   "metadata": {
    "deletable": false,
    "editable": false,
    "nbgrader": {
     "cell_type": "markdown",
     "checksum": "bdf82da73d54b9f9e00cb0f323dcf206",
     "grade": false,
     "grade_id": "cell-5b8cdb44355a89df",
     "locked": true,
     "schema_version": 3,
     "solution": false
    }
   },
   "source": [
    "Experiment on new names using the next cell:"
   ]
  },
  {
   "cell_type": "code",
   "execution_count": 51,
   "metadata": {},
   "outputs": [
    {
     "data": {
      "image/png": "[encoded data removed]",
      "text/plain": [
       "<Figure size 720x216 with 1 Axes>"
      ]
     },
     "metadata": {
      "needs_background": "light"
     },
     "output_type": "display_data"
    }
   ],
   "source": [
    "predict('Fangze xu')"
   ]
  },
  {
   "cell_type": "code",
   "execution_count": null,
   "metadata": {},
   "outputs": [],
   "source": []
  }
 ],
 "metadata": {
  "kernelspec": {
   "display_name": "Python 3",
   "language": "python",
   "name": "python3"
  },
  "language_info": {
   "codemirror_mode": {
    "name": "ipython",
    "version": 3
   },
   "file_extension": ".py",
   "mimetype": "text/x-python",
   "name": "python",
   "nbconvert_exporter": "python",
   "pygments_lexer": "ipython3",
   "version": "3.7.9"
  }
 },
 "nbformat": 4,
 "nbformat_minor": 2
}
